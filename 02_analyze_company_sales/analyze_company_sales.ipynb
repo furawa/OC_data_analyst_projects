{
 "cells": [
  {
   "cell_type": "markdown",
   "metadata": {},
   "source": [
    "# ANALYZE COMPANY'S SALES"
   ]
  },
  {
   "cell_type": "code",
   "execution_count": 111,
   "metadata": {},
   "outputs": [],
   "source": [
    "# Load all the needed packages\n",
    "import pandas as pd\n",
    "import numpy as np\n",
    "import matplotlib.pyplot as plt\n",
    "import seaborn as sb\n",
    "import re\n",
    "import datetime\n",
    "import scipy.stats as sci\n",
    "%matplotlib inline"
   ]
  },
  {
   "cell_type": "code",
   "execution_count": 2,
   "metadata": {},
   "outputs": [],
   "source": [
    "transactions = pd.read_csv(\"datasets/transactions.csv\")\n",
    "customers = pd.read_csv(\"datasets/customers.csv\")\n",
    "products = pd.read_csv(\"datasets/products.csv\")"
   ]
  },
  {
   "cell_type": "code",
   "execution_count": 3,
   "metadata": {},
   "outputs": [
    {
     "data": {
      "text/html": [
       "<div>\n",
       "<style scoped>\n",
       "    .dataframe tbody tr th:only-of-type {\n",
       "        vertical-align: middle;\n",
       "    }\n",
       "\n",
       "    .dataframe tbody tr th {\n",
       "        vertical-align: top;\n",
       "    }\n",
       "\n",
       "    .dataframe thead th {\n",
       "        text-align: right;\n",
       "    }\n",
       "</style>\n",
       "<table border=\"1\" class=\"dataframe\">\n",
       "  <thead>\n",
       "    <tr style=\"text-align: right;\">\n",
       "      <th></th>\n",
       "      <th>id_prod</th>\n",
       "      <th>date</th>\n",
       "      <th>session_id</th>\n",
       "      <th>client_id</th>\n",
       "    </tr>\n",
       "  </thead>\n",
       "  <tbody>\n",
       "    <tr>\n",
       "      <th>0</th>\n",
       "      <td>0_1483</td>\n",
       "      <td>2021-04-10 18:37:28.723910</td>\n",
       "      <td>s_18746</td>\n",
       "      <td>c_4450</td>\n",
       "    </tr>\n",
       "    <tr>\n",
       "      <th>1</th>\n",
       "      <td>2_226</td>\n",
       "      <td>2022-02-03 01:55:53.276402</td>\n",
       "      <td>s_159142</td>\n",
       "      <td>c_277</td>\n",
       "    </tr>\n",
       "    <tr>\n",
       "      <th>2</th>\n",
       "      <td>1_374</td>\n",
       "      <td>2021-09-23 15:13:46.938559</td>\n",
       "      <td>s_94290</td>\n",
       "      <td>c_4270</td>\n",
       "    </tr>\n",
       "    <tr>\n",
       "      <th>3</th>\n",
       "      <td>0_2186</td>\n",
       "      <td>2021-10-17 03:27:18.783634</td>\n",
       "      <td>s_105936</td>\n",
       "      <td>c_4597</td>\n",
       "    </tr>\n",
       "    <tr>\n",
       "      <th>4</th>\n",
       "      <td>0_1351</td>\n",
       "      <td>2021-07-17 20:34:25.800563</td>\n",
       "      <td>s_63642</td>\n",
       "      <td>c_1242</td>\n",
       "    </tr>\n",
       "  </tbody>\n",
       "</table>\n",
       "</div>"
      ],
      "text/plain": [
       "  id_prod                        date session_id client_id\n",
       "0  0_1483  2021-04-10 18:37:28.723910    s_18746    c_4450\n",
       "1   2_226  2022-02-03 01:55:53.276402   s_159142     c_277\n",
       "2   1_374  2021-09-23 15:13:46.938559    s_94290    c_4270\n",
       "3  0_2186  2021-10-17 03:27:18.783634   s_105936    c_4597\n",
       "4  0_1351  2021-07-17 20:34:25.800563    s_63642    c_1242"
      ]
     },
     "execution_count": 3,
     "metadata": {},
     "output_type": "execute_result"
    }
   ],
   "source": [
    "transactions.head()"
   ]
  },
  {
   "cell_type": "code",
   "execution_count": 4,
   "metadata": {},
   "outputs": [
    {
     "name": "stdout",
     "output_type": "stream",
     "text": [
      "<class 'pandas.core.frame.DataFrame'>\n",
      "RangeIndex: 337016 entries, 0 to 337015\n",
      "Data columns (total 4 columns):\n",
      " #   Column      Non-Null Count   Dtype \n",
      "---  ------      --------------   ----- \n",
      " 0   id_prod     337016 non-null  object\n",
      " 1   date        337016 non-null  object\n",
      " 2   session_id  337016 non-null  object\n",
      " 3   client_id   337016 non-null  object\n",
      "dtypes: object(4)\n",
      "memory usage: 10.3+ MB\n"
     ]
    }
   ],
   "source": [
    "transactions.info()"
   ]
  },
  {
   "cell_type": "code",
   "execution_count": 5,
   "metadata": {},
   "outputs": [
    {
     "name": "stdout",
     "output_type": "stream",
     "text": [
      "<class 'pandas.core.frame.DataFrame'>\n",
      "RangeIndex: 8623 entries, 0 to 8622\n",
      "Data columns (total 3 columns):\n",
      " #   Column     Non-Null Count  Dtype \n",
      "---  ------     --------------  ----- \n",
      " 0   client_id  8623 non-null   object\n",
      " 1   sex        8623 non-null   object\n",
      " 2   birth      8623 non-null   int64 \n",
      "dtypes: int64(1), object(2)\n",
      "memory usage: 202.2+ KB\n"
     ]
    }
   ],
   "source": [
    "customers.info()"
   ]
  },
  {
   "cell_type": "code",
   "execution_count": 6,
   "metadata": {},
   "outputs": [
    {
     "data": {
      "text/html": [
       "<div>\n",
       "<style scoped>\n",
       "    .dataframe tbody tr th:only-of-type {\n",
       "        vertical-align: middle;\n",
       "    }\n",
       "\n",
       "    .dataframe tbody tr th {\n",
       "        vertical-align: top;\n",
       "    }\n",
       "\n",
       "    .dataframe thead th {\n",
       "        text-align: right;\n",
       "    }\n",
       "</style>\n",
       "<table border=\"1\" class=\"dataframe\">\n",
       "  <thead>\n",
       "    <tr style=\"text-align: right;\">\n",
       "      <th></th>\n",
       "      <th>client_id</th>\n",
       "      <th>sex</th>\n",
       "      <th>birth</th>\n",
       "    </tr>\n",
       "  </thead>\n",
       "  <tbody>\n",
       "    <tr>\n",
       "      <th>0</th>\n",
       "      <td>c_4410</td>\n",
       "      <td>f</td>\n",
       "      <td>1967</td>\n",
       "    </tr>\n",
       "    <tr>\n",
       "      <th>1</th>\n",
       "      <td>c_7839</td>\n",
       "      <td>f</td>\n",
       "      <td>1975</td>\n",
       "    </tr>\n",
       "    <tr>\n",
       "      <th>2</th>\n",
       "      <td>c_1699</td>\n",
       "      <td>f</td>\n",
       "      <td>1984</td>\n",
       "    </tr>\n",
       "    <tr>\n",
       "      <th>3</th>\n",
       "      <td>c_5961</td>\n",
       "      <td>f</td>\n",
       "      <td>1962</td>\n",
       "    </tr>\n",
       "    <tr>\n",
       "      <th>4</th>\n",
       "      <td>c_5320</td>\n",
       "      <td>m</td>\n",
       "      <td>1943</td>\n",
       "    </tr>\n",
       "  </tbody>\n",
       "</table>\n",
       "</div>"
      ],
      "text/plain": [
       "  client_id sex  birth\n",
       "0    c_4410   f   1967\n",
       "1    c_7839   f   1975\n",
       "2    c_1699   f   1984\n",
       "3    c_5961   f   1962\n",
       "4    c_5320   m   1943"
      ]
     },
     "execution_count": 6,
     "metadata": {},
     "output_type": "execute_result"
    }
   ],
   "source": [
    "customers.head()"
   ]
  },
  {
   "cell_type": "code",
   "execution_count": 7,
   "metadata": {},
   "outputs": [
    {
     "data": {
      "text/html": [
       "<div>\n",
       "<style scoped>\n",
       "    .dataframe tbody tr th:only-of-type {\n",
       "        vertical-align: middle;\n",
       "    }\n",
       "\n",
       "    .dataframe tbody tr th {\n",
       "        vertical-align: top;\n",
       "    }\n",
       "\n",
       "    .dataframe thead th {\n",
       "        text-align: right;\n",
       "    }\n",
       "</style>\n",
       "<table border=\"1\" class=\"dataframe\">\n",
       "  <thead>\n",
       "    <tr style=\"text-align: right;\">\n",
       "      <th></th>\n",
       "      <th>id_prod</th>\n",
       "      <th>price</th>\n",
       "      <th>categ</th>\n",
       "    </tr>\n",
       "  </thead>\n",
       "  <tbody>\n",
       "    <tr>\n",
       "      <th>0</th>\n",
       "      <td>0_1421</td>\n",
       "      <td>19.99</td>\n",
       "      <td>0</td>\n",
       "    </tr>\n",
       "    <tr>\n",
       "      <th>1</th>\n",
       "      <td>0_1368</td>\n",
       "      <td>5.13</td>\n",
       "      <td>0</td>\n",
       "    </tr>\n",
       "    <tr>\n",
       "      <th>2</th>\n",
       "      <td>0_731</td>\n",
       "      <td>17.99</td>\n",
       "      <td>0</td>\n",
       "    </tr>\n",
       "    <tr>\n",
       "      <th>3</th>\n",
       "      <td>1_587</td>\n",
       "      <td>4.99</td>\n",
       "      <td>1</td>\n",
       "    </tr>\n",
       "    <tr>\n",
       "      <th>4</th>\n",
       "      <td>0_1507</td>\n",
       "      <td>3.99</td>\n",
       "      <td>0</td>\n",
       "    </tr>\n",
       "  </tbody>\n",
       "</table>\n",
       "</div>"
      ],
      "text/plain": [
       "  id_prod  price  categ\n",
       "0  0_1421  19.99      0\n",
       "1  0_1368   5.13      0\n",
       "2   0_731  17.99      0\n",
       "3   1_587   4.99      1\n",
       "4  0_1507   3.99      0"
      ]
     },
     "execution_count": 7,
     "metadata": {},
     "output_type": "execute_result"
    }
   ],
   "source": [
    "products.head()"
   ]
  },
  {
   "cell_type": "code",
   "execution_count": 8,
   "metadata": {},
   "outputs": [
    {
     "name": "stdout",
     "output_type": "stream",
     "text": [
      "<class 'pandas.core.frame.DataFrame'>\n",
      "RangeIndex: 3287 entries, 0 to 3286\n",
      "Data columns (total 3 columns):\n",
      " #   Column   Non-Null Count  Dtype  \n",
      "---  ------   --------------  -----  \n",
      " 0   id_prod  3287 non-null   object \n",
      " 1   price    3287 non-null   float64\n",
      " 2   categ    3287 non-null   int64  \n",
      "dtypes: float64(1), int64(1), object(1)\n",
      "memory usage: 77.2+ KB\n"
     ]
    }
   ],
   "source": [
    "products.info()"
   ]
  },
  {
   "cell_type": "code",
   "execution_count": 9,
   "metadata": {},
   "outputs": [
    {
     "data": {
      "text/html": [
       "<div>\n",
       "<style scoped>\n",
       "    .dataframe tbody tr th:only-of-type {\n",
       "        vertical-align: middle;\n",
       "    }\n",
       "\n",
       "    .dataframe tbody tr th {\n",
       "        vertical-align: top;\n",
       "    }\n",
       "\n",
       "    .dataframe thead th {\n",
       "        text-align: right;\n",
       "    }\n",
       "</style>\n",
       "<table border=\"1\" class=\"dataframe\">\n",
       "  <thead>\n",
       "    <tr style=\"text-align: right;\">\n",
       "      <th></th>\n",
       "      <th>price</th>\n",
       "      <th>categ</th>\n",
       "    </tr>\n",
       "  </thead>\n",
       "  <tbody>\n",
       "    <tr>\n",
       "      <th>count</th>\n",
       "      <td>3287.000000</td>\n",
       "      <td>3287.000000</td>\n",
       "    </tr>\n",
       "    <tr>\n",
       "      <th>mean</th>\n",
       "      <td>21.856641</td>\n",
       "      <td>0.370246</td>\n",
       "    </tr>\n",
       "    <tr>\n",
       "      <th>std</th>\n",
       "      <td>29.847908</td>\n",
       "      <td>0.615387</td>\n",
       "    </tr>\n",
       "    <tr>\n",
       "      <th>min</th>\n",
       "      <td>-1.000000</td>\n",
       "      <td>0.000000</td>\n",
       "    </tr>\n",
       "    <tr>\n",
       "      <th>25%</th>\n",
       "      <td>6.990000</td>\n",
       "      <td>0.000000</td>\n",
       "    </tr>\n",
       "    <tr>\n",
       "      <th>50%</th>\n",
       "      <td>13.060000</td>\n",
       "      <td>0.000000</td>\n",
       "    </tr>\n",
       "    <tr>\n",
       "      <th>75%</th>\n",
       "      <td>22.990000</td>\n",
       "      <td>1.000000</td>\n",
       "    </tr>\n",
       "    <tr>\n",
       "      <th>max</th>\n",
       "      <td>300.000000</td>\n",
       "      <td>2.000000</td>\n",
       "    </tr>\n",
       "  </tbody>\n",
       "</table>\n",
       "</div>"
      ],
      "text/plain": [
       "             price        categ\n",
       "count  3287.000000  3287.000000\n",
       "mean     21.856641     0.370246\n",
       "std      29.847908     0.615387\n",
       "min      -1.000000     0.000000\n",
       "25%       6.990000     0.000000\n",
       "50%      13.060000     0.000000\n",
       "75%      22.990000     1.000000\n",
       "max     300.000000     2.000000"
      ]
     },
     "execution_count": 9,
     "metadata": {},
     "output_type": "execute_result"
    }
   ],
   "source": [
    "products.describe()"
   ]
  },
  {
   "cell_type": "markdown",
   "metadata": {},
   "source": [
    "## Cleaning all datasets"
   ]
  },
  {
   "cell_type": "markdown",
   "metadata": {},
   "source": [
    "### Cleaning transactions dataset  \n",
    "#### Define"
   ]
  },
  {
   "cell_type": "markdown",
   "metadata": {},
   "source": [
    "- **Some date starting with test must be split**\n",
    "- **Date variable must be a *datetime* not a string**  \n",
    "- **We must split id_prod in category and id_prod**\n",
    "- **We must split session_id in session id and session_category**\n",
    "- **We must split client_id in client_id and client_category**\n",
    "- **Turn all the categories variable into a category data type**\n",
    "\n",
    "#### Code"
   ]
  },
  {
   "cell_type": "code",
   "execution_count": 10,
   "metadata": {},
   "outputs": [],
   "source": [
    "# Write  a function to split a column\n",
    "def split_columns(dataset, col):\n",
    "    ### This function take a dataset and a column of the dataset split the column and return the 2 new columns\n",
    "    new_col_1 = dataset[col].map(lambda x : x.split(\"_\")[1])\n",
    "    new_col_2 = dataset[col].map(lambda x : x.split(\"_\")[0].upper())\n",
    "    return new_col_1, new_col_2"
   ]
  },
  {
   "cell_type": "code",
   "execution_count": 11,
   "metadata": {},
   "outputs": [],
   "source": [
    "# Create a copy of transactions dataset\n",
    "transactions_clean = transactions.copy()"
   ]
  },
  {
   "cell_type": "code",
   "execution_count": 12,
   "metadata": {},
   "outputs": [],
   "source": [
    "# Split id_prod in 2 columns,id_prod and category\n",
    "transactions_clean[\"id_prod\"], transactions_clean[\"category\"] = split_columns(transactions_clean, \"id_prod\")"
   ]
  },
  {
   "cell_type": "code",
   "execution_count": 13,
   "metadata": {},
   "outputs": [],
   "source": [
    "# Split client_id columns into 2 columns, client_id and client_category\n",
    "transactions_clean[\"client_id\"], transactions_clean[\"client_category\"] = split_columns(transactions_clean, \"client_id\")"
   ]
  },
  {
   "cell_type": "code",
   "execution_count": 14,
   "metadata": {},
   "outputs": [],
   "source": [
    "# Split session_id in 2 columns, session_id and sesseion_category\n",
    "transactions_clean[\"session_id\"], transactions_clean[\"session_category\"] = split_columns(transactions_clean, \"session_id\")"
   ]
  },
  {
   "cell_type": "code",
   "execution_count": 15,
   "metadata": {},
   "outputs": [
    {
     "data": {
      "text/html": [
       "<div>\n",
       "<style scoped>\n",
       "    .dataframe tbody tr th:only-of-type {\n",
       "        vertical-align: middle;\n",
       "    }\n",
       "\n",
       "    .dataframe tbody tr th {\n",
       "        vertical-align: top;\n",
       "    }\n",
       "\n",
       "    .dataframe thead th {\n",
       "        text-align: right;\n",
       "    }\n",
       "</style>\n",
       "<table border=\"1\" class=\"dataframe\">\n",
       "  <thead>\n",
       "    <tr style=\"text-align: right;\">\n",
       "      <th></th>\n",
       "      <th>id_prod</th>\n",
       "      <th>date</th>\n",
       "      <th>session_id</th>\n",
       "      <th>client_id</th>\n",
       "      <th>category</th>\n",
       "      <th>client_category</th>\n",
       "      <th>session_category</th>\n",
       "    </tr>\n",
       "  </thead>\n",
       "  <tbody>\n",
       "    <tr>\n",
       "      <th>0</th>\n",
       "      <td>1483</td>\n",
       "      <td>2021-04-10 18:37:28.723910</td>\n",
       "      <td>18746</td>\n",
       "      <td>4450</td>\n",
       "      <td>0</td>\n",
       "      <td>C</td>\n",
       "      <td>S</td>\n",
       "    </tr>\n",
       "    <tr>\n",
       "      <th>1</th>\n",
       "      <td>226</td>\n",
       "      <td>2022-02-03 01:55:53.276402</td>\n",
       "      <td>159142</td>\n",
       "      <td>277</td>\n",
       "      <td>2</td>\n",
       "      <td>C</td>\n",
       "      <td>S</td>\n",
       "    </tr>\n",
       "    <tr>\n",
       "      <th>2</th>\n",
       "      <td>374</td>\n",
       "      <td>2021-09-23 15:13:46.938559</td>\n",
       "      <td>94290</td>\n",
       "      <td>4270</td>\n",
       "      <td>1</td>\n",
       "      <td>C</td>\n",
       "      <td>S</td>\n",
       "    </tr>\n",
       "    <tr>\n",
       "      <th>3</th>\n",
       "      <td>2186</td>\n",
       "      <td>2021-10-17 03:27:18.783634</td>\n",
       "      <td>105936</td>\n",
       "      <td>4597</td>\n",
       "      <td>0</td>\n",
       "      <td>C</td>\n",
       "      <td>S</td>\n",
       "    </tr>\n",
       "    <tr>\n",
       "      <th>4</th>\n",
       "      <td>1351</td>\n",
       "      <td>2021-07-17 20:34:25.800563</td>\n",
       "      <td>63642</td>\n",
       "      <td>1242</td>\n",
       "      <td>0</td>\n",
       "      <td>C</td>\n",
       "      <td>S</td>\n",
       "    </tr>\n",
       "  </tbody>\n",
       "</table>\n",
       "</div>"
      ],
      "text/plain": [
       "  id_prod                        date session_id client_id category  \\\n",
       "0    1483  2021-04-10 18:37:28.723910      18746      4450        0   \n",
       "1     226  2022-02-03 01:55:53.276402     159142       277        2   \n",
       "2     374  2021-09-23 15:13:46.938559      94290      4270        1   \n",
       "3    2186  2021-10-17 03:27:18.783634     105936      4597        0   \n",
       "4    1351  2021-07-17 20:34:25.800563      63642      1242        0   \n",
       "\n",
       "  client_category session_category  \n",
       "0               C                S  \n",
       "1               C                S  \n",
       "2               C                S  \n",
       "3               C                S  \n",
       "4               C                S  "
      ]
     },
     "execution_count": 15,
     "metadata": {},
     "output_type": "execute_result"
    }
   ],
   "source": [
    "# Check if everything is ok\n",
    "transactions_clean.head()"
   ]
  },
  {
   "cell_type": "code",
   "execution_count": 16,
   "metadata": {},
   "outputs": [
    {
     "data": {
      "text/html": [
       "<div>\n",
       "<style scoped>\n",
       "    .dataframe tbody tr th:only-of-type {\n",
       "        vertical-align: middle;\n",
       "    }\n",
       "\n",
       "    .dataframe tbody tr th {\n",
       "        vertical-align: top;\n",
       "    }\n",
       "\n",
       "    .dataframe thead th {\n",
       "        text-align: right;\n",
       "    }\n",
       "</style>\n",
       "<table border=\"1\" class=\"dataframe\">\n",
       "  <thead>\n",
       "    <tr style=\"text-align: right;\">\n",
       "      <th></th>\n",
       "      <th>id_prod</th>\n",
       "      <th>date</th>\n",
       "      <th>session_id</th>\n",
       "      <th>client_id</th>\n",
       "      <th>category</th>\n",
       "      <th>client_category</th>\n",
       "      <th>session_category</th>\n",
       "    </tr>\n",
       "  </thead>\n",
       "  <tbody>\n",
       "    <tr>\n",
       "      <th>1431</th>\n",
       "      <td>0</td>\n",
       "      <td>test_2021-03-01 02:30:02.237420</td>\n",
       "      <td>0</td>\n",
       "      <td>1</td>\n",
       "      <td>T</td>\n",
       "      <td>CT</td>\n",
       "      <td>S</td>\n",
       "    </tr>\n",
       "    <tr>\n",
       "      <th>2365</th>\n",
       "      <td>0</td>\n",
       "      <td>test_2021-03-01 02:30:02.237446</td>\n",
       "      <td>0</td>\n",
       "      <td>1</td>\n",
       "      <td>T</td>\n",
       "      <td>CT</td>\n",
       "      <td>S</td>\n",
       "    </tr>\n",
       "    <tr>\n",
       "      <th>2895</th>\n",
       "      <td>0</td>\n",
       "      <td>test_2021-03-01 02:30:02.237414</td>\n",
       "      <td>0</td>\n",
       "      <td>1</td>\n",
       "      <td>T</td>\n",
       "      <td>CT</td>\n",
       "      <td>S</td>\n",
       "    </tr>\n",
       "    <tr>\n",
       "      <th>5955</th>\n",
       "      <td>0</td>\n",
       "      <td>test_2021-03-01 02:30:02.237441</td>\n",
       "      <td>0</td>\n",
       "      <td>0</td>\n",
       "      <td>T</td>\n",
       "      <td>CT</td>\n",
       "      <td>S</td>\n",
       "    </tr>\n",
       "    <tr>\n",
       "      <th>7283</th>\n",
       "      <td>0</td>\n",
       "      <td>test_2021-03-01 02:30:02.237434</td>\n",
       "      <td>0</td>\n",
       "      <td>1</td>\n",
       "      <td>T</td>\n",
       "      <td>CT</td>\n",
       "      <td>S</td>\n",
       "    </tr>\n",
       "    <tr>\n",
       "      <th>...</th>\n",
       "      <td>...</td>\n",
       "      <td>...</td>\n",
       "      <td>...</td>\n",
       "      <td>...</td>\n",
       "      <td>...</td>\n",
       "      <td>...</td>\n",
       "      <td>...</td>\n",
       "    </tr>\n",
       "    <tr>\n",
       "      <th>332594</th>\n",
       "      <td>0</td>\n",
       "      <td>test_2021-03-01 02:30:02.237445</td>\n",
       "      <td>0</td>\n",
       "      <td>0</td>\n",
       "      <td>T</td>\n",
       "      <td>CT</td>\n",
       "      <td>S</td>\n",
       "    </tr>\n",
       "    <tr>\n",
       "      <th>332705</th>\n",
       "      <td>0</td>\n",
       "      <td>test_2021-03-01 02:30:02.237423</td>\n",
       "      <td>0</td>\n",
       "      <td>1</td>\n",
       "      <td>T</td>\n",
       "      <td>CT</td>\n",
       "      <td>S</td>\n",
       "    </tr>\n",
       "    <tr>\n",
       "      <th>332730</th>\n",
       "      <td>0</td>\n",
       "      <td>test_2021-03-01 02:30:02.237421</td>\n",
       "      <td>0</td>\n",
       "      <td>1</td>\n",
       "      <td>T</td>\n",
       "      <td>CT</td>\n",
       "      <td>S</td>\n",
       "    </tr>\n",
       "    <tr>\n",
       "      <th>333442</th>\n",
       "      <td>0</td>\n",
       "      <td>test_2021-03-01 02:30:02.237431</td>\n",
       "      <td>0</td>\n",
       "      <td>1</td>\n",
       "      <td>T</td>\n",
       "      <td>CT</td>\n",
       "      <td>S</td>\n",
       "    </tr>\n",
       "    <tr>\n",
       "      <th>335279</th>\n",
       "      <td>0</td>\n",
       "      <td>test_2021-03-01 02:30:02.237430</td>\n",
       "      <td>0</td>\n",
       "      <td>0</td>\n",
       "      <td>T</td>\n",
       "      <td>CT</td>\n",
       "      <td>S</td>\n",
       "    </tr>\n",
       "  </tbody>\n",
       "</table>\n",
       "<p>200 rows × 7 columns</p>\n",
       "</div>"
      ],
      "text/plain": [
       "       id_prod                             date session_id client_id category  \\\n",
       "1431         0  test_2021-03-01 02:30:02.237420          0         1        T   \n",
       "2365         0  test_2021-03-01 02:30:02.237446          0         1        T   \n",
       "2895         0  test_2021-03-01 02:30:02.237414          0         1        T   \n",
       "5955         0  test_2021-03-01 02:30:02.237441          0         0        T   \n",
       "7283         0  test_2021-03-01 02:30:02.237434          0         1        T   \n",
       "...        ...                              ...        ...       ...      ...   \n",
       "332594       0  test_2021-03-01 02:30:02.237445          0         0        T   \n",
       "332705       0  test_2021-03-01 02:30:02.237423          0         1        T   \n",
       "332730       0  test_2021-03-01 02:30:02.237421          0         1        T   \n",
       "333442       0  test_2021-03-01 02:30:02.237431          0         1        T   \n",
       "335279       0  test_2021-03-01 02:30:02.237430          0         0        T   \n",
       "\n",
       "       client_category session_category  \n",
       "1431                CT                S  \n",
       "2365                CT                S  \n",
       "2895                CT                S  \n",
       "5955                CT                S  \n",
       "7283                CT                S  \n",
       "...                ...              ...  \n",
       "332594              CT                S  \n",
       "332705              CT                S  \n",
       "332730              CT                S  \n",
       "333442              CT                S  \n",
       "335279              CT                S  \n",
       "\n",
       "[200 rows x 7 columns]"
      ]
     },
     "execution_count": 16,
     "metadata": {},
     "output_type": "execute_result"
    }
   ],
   "source": [
    "# Check the different categories\n",
    "transactions_clean.query(\"category == 'T'\")"
   ]
  },
  {
   "cell_type": "markdown",
   "metadata": {},
   "source": [
    "There are 200 rows which date starts with test. We can guess that it was just to *test* if the system is working or not. These rows are not useful for our analysis. We will remove them.\n",
    "We can therefore notice that the test day was on 2021-03-01 at 02:30:02 am."
   ]
  },
  {
   "cell_type": "code",
   "execution_count": 17,
   "metadata": {},
   "outputs": [],
   "source": [
    "# Remove all the test dates\n",
    "transactions_clean = transactions_clean.query(\"category != 'T'\")"
   ]
  },
  {
   "cell_type": "code",
   "execution_count": 18,
   "metadata": {},
   "outputs": [],
   "source": [
    "# Check if there are still test date, no output means there is no test date anymore\n",
    "assert transactions_clean.category.all() != \"T\""
   ]
  },
  {
   "cell_type": "code",
   "execution_count": 19,
   "metadata": {},
   "outputs": [],
   "source": [
    "transactions_clean.date = transactions_clean.date.astype(\"datetime64\")"
   ]
  },
  {
   "cell_type": "code",
   "execution_count": 20,
   "metadata": {},
   "outputs": [
    {
     "data": {
      "text/plain": [
       "0   2021-04-10 18:37:28.723910\n",
       "1   2022-02-03 01:55:53.276402\n",
       "2   2021-09-23 15:13:46.938559\n",
       "3   2021-10-17 03:27:18.783634\n",
       "4   2021-07-17 20:34:25.800563\n",
       "Name: date, dtype: datetime64[ns]"
      ]
     },
     "execution_count": 20,
     "metadata": {},
     "output_type": "execute_result"
    }
   ],
   "source": [
    "# Assert that the date is in the correct type\n",
    "transactions_clean.date.head()"
   ]
  },
  {
   "cell_type": "code",
   "execution_count": 21,
   "metadata": {},
   "outputs": [],
   "source": [
    "# turn all the categories variable into a category data type\n",
    "transactions_clean.iloc[:, 4:] = transactions_clean.iloc[:, 4:].astype(\"category\")"
   ]
  },
  {
   "cell_type": "code",
   "execution_count": 22,
   "metadata": {},
   "outputs": [
    {
     "name": "stdout",
     "output_type": "stream",
     "text": [
      "<class 'pandas.core.frame.DataFrame'>\n",
      "Int64Index: 336816 entries, 0 to 337015\n",
      "Data columns (total 7 columns):\n",
      " #   Column            Non-Null Count   Dtype         \n",
      "---  ------            --------------   -----         \n",
      " 0   id_prod           336816 non-null  object        \n",
      " 1   date              336816 non-null  datetime64[ns]\n",
      " 2   session_id        336816 non-null  object        \n",
      " 3   client_id         336816 non-null  object        \n",
      " 4   category          336816 non-null  category      \n",
      " 5   client_category   336816 non-null  category      \n",
      " 6   session_category  336816 non-null  category      \n",
      "dtypes: category(3), datetime64[ns](1), object(3)\n",
      "memory usage: 13.8+ MB\n"
     ]
    }
   ],
   "source": [
    "# Check if the variables are categories\n",
    "transactions_clean.info()"
   ]
  },
  {
   "cell_type": "markdown",
   "metadata": {},
   "source": [
    "### Cleaning customers dataset  \n",
    "#### Define  \n",
    "- **Split client_id variable into 2 variables**\n",
    "- **Turn sex variabble in uppercase**\n",
    "- **Turn sex variable into category data type**"
   ]
  },
  {
   "cell_type": "code",
   "execution_count": 23,
   "metadata": {},
   "outputs": [],
   "source": [
    "# Make a copy of customers dataset\n",
    "customers_clean = customers.copy()"
   ]
  },
  {
   "cell_type": "code",
   "execution_count": 24,
   "metadata": {},
   "outputs": [],
   "source": [
    "# Spllit client_id\n",
    "customers_clean[\"client_id\"], customers_clean[\"client_category\"] = split_columns(customers_clean, \"client_id\")"
   ]
  },
  {
   "cell_type": "code",
   "execution_count": 25,
   "metadata": {},
   "outputs": [],
   "source": [
    "# Turn sex in uppercase\n",
    "customers_clean.sex = customers_clean.sex.map(lambda x : x.upper())"
   ]
  },
  {
   "cell_type": "code",
   "execution_count": 26,
   "metadata": {},
   "outputs": [],
   "source": [
    "# Turn sex into category\n",
    "customers_clean.sex = customers_clean.sex.astype(\"category\")"
   ]
  },
  {
   "cell_type": "code",
   "execution_count": 27,
   "metadata": {},
   "outputs": [
    {
     "name": "stdout",
     "output_type": "stream",
     "text": [
      "  client_id sex  birth client_category\n",
      "0      4410   F   1967               C\n",
      "1      7839   F   1975               C\n",
      "2      1699   F   1984               C\n",
      "3      5961   F   1962               C\n",
      "4      5320   M   1943               C\n",
      "=========================================\n",
      "<class 'pandas.core.frame.DataFrame'>\n",
      "RangeIndex: 8623 entries, 0 to 8622\n",
      "Data columns (total 4 columns):\n",
      " #   Column           Non-Null Count  Dtype   \n",
      "---  ------           --------------  -----   \n",
      " 0   client_id        8623 non-null   object  \n",
      " 1   sex              8623 non-null   category\n",
      " 2   birth            8623 non-null   int64   \n",
      " 3   client_category  8623 non-null   object  \n",
      "dtypes: category(1), int64(1), object(2)\n",
      "memory usage: 210.7+ KB\n"
     ]
    }
   ],
   "source": [
    "# Check the final dataset\n",
    "print(customers_clean.head())\n",
    "print(\"=========================================\")\n",
    "customers_clean.info()"
   ]
  },
  {
   "cell_type": "markdown",
   "metadata": {},
   "source": [
    "### Cleaning products dataset  \n",
    "#### Define  \n",
    "- **Categ variable must be category type not an int**\n",
    "- **Change the categ name to category**  \n",
    "- **Split the id_prod and keep just the id products**  \n",
    "- **There is a price of -1, we will remove it**"
   ]
  },
  {
   "cell_type": "code",
   "execution_count": 28,
   "metadata": {},
   "outputs": [],
   "source": [
    "# Make a copy of the products dataset\n",
    "products_clean = products.copy()"
   ]
  },
  {
   "cell_type": "code",
   "execution_count": 29,
   "metadata": {},
   "outputs": [],
   "source": [
    "# Change the categ name to category\n",
    "products_clean = products_clean.rename(columns={\"categ\":\"category\"})"
   ]
  },
  {
   "cell_type": "code",
   "execution_count": 30,
   "metadata": {},
   "outputs": [],
   "source": [
    "# Split id_prod and keep just the id products using the split_columns function\n",
    "products_clean[\"id_prod\"], products_clean[\"category\"] = split_columns(products_clean, \"id_prod\")"
   ]
  },
  {
   "cell_type": "code",
   "execution_count": 31,
   "metadata": {},
   "outputs": [],
   "source": [
    "# Turn the category into a category type\n",
    "products_clean.category = products_clean.category.astype(\"category\")"
   ]
  },
  {
   "cell_type": "code",
   "execution_count": 32,
   "metadata": {},
   "outputs": [
    {
     "data": {
      "text/html": [
       "<div>\n",
       "<style scoped>\n",
       "    .dataframe tbody tr th:only-of-type {\n",
       "        vertical-align: middle;\n",
       "    }\n",
       "\n",
       "    .dataframe tbody tr th {\n",
       "        vertical-align: top;\n",
       "    }\n",
       "\n",
       "    .dataframe thead th {\n",
       "        text-align: right;\n",
       "    }\n",
       "</style>\n",
       "<table border=\"1\" class=\"dataframe\">\n",
       "  <thead>\n",
       "    <tr style=\"text-align: right;\">\n",
       "      <th></th>\n",
       "      <th>id_prod</th>\n",
       "      <th>price</th>\n",
       "      <th>category</th>\n",
       "    </tr>\n",
       "  </thead>\n",
       "  <tbody>\n",
       "    <tr>\n",
       "      <th>0</th>\n",
       "      <td>1421</td>\n",
       "      <td>19.99</td>\n",
       "      <td>0</td>\n",
       "    </tr>\n",
       "    <tr>\n",
       "      <th>1</th>\n",
       "      <td>1368</td>\n",
       "      <td>5.13</td>\n",
       "      <td>0</td>\n",
       "    </tr>\n",
       "  </tbody>\n",
       "</table>\n",
       "</div>"
      ],
      "text/plain": [
       "  id_prod  price category\n",
       "0    1421  19.99        0\n",
       "1    1368   5.13        0"
      ]
     },
     "execution_count": 32,
     "metadata": {},
     "output_type": "execute_result"
    }
   ],
   "source": [
    "# Check if everything is correct\n",
    "products_clean.head(2)"
   ]
  },
  {
   "cell_type": "code",
   "execution_count": 33,
   "metadata": {},
   "outputs": [
    {
     "name": "stdout",
     "output_type": "stream",
     "text": [
      "<class 'pandas.core.frame.DataFrame'>\n",
      "RangeIndex: 3287 entries, 0 to 3286\n",
      "Data columns (total 3 columns):\n",
      " #   Column    Non-Null Count  Dtype   \n",
      "---  ------    --------------  -----   \n",
      " 0   id_prod   3287 non-null   object  \n",
      " 1   price     3287 non-null   float64 \n",
      " 2   category  3287 non-null   category\n",
      "dtypes: category(1), float64(1), object(1)\n",
      "memory usage: 54.9+ KB\n"
     ]
    }
   ],
   "source": [
    "products_clean.info()"
   ]
  },
  {
   "cell_type": "code",
   "execution_count": 34,
   "metadata": {},
   "outputs": [
    {
     "data": {
      "text/html": [
       "<div>\n",
       "<style scoped>\n",
       "    .dataframe tbody tr th:only-of-type {\n",
       "        vertical-align: middle;\n",
       "    }\n",
       "\n",
       "    .dataframe tbody tr th {\n",
       "        vertical-align: top;\n",
       "    }\n",
       "\n",
       "    .dataframe thead th {\n",
       "        text-align: right;\n",
       "    }\n",
       "</style>\n",
       "<table border=\"1\" class=\"dataframe\">\n",
       "  <thead>\n",
       "    <tr style=\"text-align: right;\">\n",
       "      <th></th>\n",
       "      <th>id_prod</th>\n",
       "      <th>price</th>\n",
       "      <th>category</th>\n",
       "    </tr>\n",
       "  </thead>\n",
       "  <tbody>\n",
       "    <tr>\n",
       "      <th>731</th>\n",
       "      <td>0</td>\n",
       "      <td>-1.0</td>\n",
       "      <td>T</td>\n",
       "    </tr>\n",
       "  </tbody>\n",
       "</table>\n",
       "</div>"
      ],
      "text/plain": [
       "    id_prod  price category\n",
       "731       0   -1.0        T"
      ]
     },
     "execution_count": 34,
     "metadata": {},
     "output_type": "execute_result"
    }
   ],
   "source": [
    "# Check the -1 price row\n",
    "products_clean.query(\"price == -1\")"
   ]
  },
  {
   "cell_type": "markdown",
   "metadata": {},
   "source": [
    "This is probably another test, we will remove it for a better analysis."
   ]
  },
  {
   "cell_type": "code",
   "execution_count": 35,
   "metadata": {},
   "outputs": [],
   "source": [
    "products_clean = products_clean.query(\"price != -1\")"
   ]
  },
  {
   "cell_type": "code",
   "execution_count": 36,
   "metadata": {},
   "outputs": [
    {
     "data": {
      "text/html": [
       "<div>\n",
       "<style scoped>\n",
       "    .dataframe tbody tr th:only-of-type {\n",
       "        vertical-align: middle;\n",
       "    }\n",
       "\n",
       "    .dataframe tbody tr th {\n",
       "        vertical-align: top;\n",
       "    }\n",
       "\n",
       "    .dataframe thead th {\n",
       "        text-align: right;\n",
       "    }\n",
       "</style>\n",
       "<table border=\"1\" class=\"dataframe\">\n",
       "  <thead>\n",
       "    <tr style=\"text-align: right;\">\n",
       "      <th></th>\n",
       "      <th>price</th>\n",
       "    </tr>\n",
       "  </thead>\n",
       "  <tbody>\n",
       "    <tr>\n",
       "      <th>count</th>\n",
       "      <td>3286.000000</td>\n",
       "    </tr>\n",
       "    <tr>\n",
       "      <th>mean</th>\n",
       "      <td>21.863597</td>\n",
       "    </tr>\n",
       "    <tr>\n",
       "      <th>std</th>\n",
       "      <td>29.849786</td>\n",
       "    </tr>\n",
       "    <tr>\n",
       "      <th>min</th>\n",
       "      <td>0.620000</td>\n",
       "    </tr>\n",
       "    <tr>\n",
       "      <th>25%</th>\n",
       "      <td>6.990000</td>\n",
       "    </tr>\n",
       "    <tr>\n",
       "      <th>50%</th>\n",
       "      <td>13.075000</td>\n",
       "    </tr>\n",
       "    <tr>\n",
       "      <th>75%</th>\n",
       "      <td>22.990000</td>\n",
       "    </tr>\n",
       "    <tr>\n",
       "      <th>max</th>\n",
       "      <td>300.000000</td>\n",
       "    </tr>\n",
       "  </tbody>\n",
       "</table>\n",
       "</div>"
      ],
      "text/plain": [
       "             price\n",
       "count  3286.000000\n",
       "mean     21.863597\n",
       "std      29.849786\n",
       "min       0.620000\n",
       "25%       6.990000\n",
       "50%      13.075000\n",
       "75%      22.990000\n",
       "max     300.000000"
      ]
     },
     "execution_count": 36,
     "metadata": {},
     "output_type": "execute_result"
    }
   ],
   "source": [
    "# Check the description to see if it is ok\n",
    "products_clean.describe()"
   ]
  },
  {
   "cell_type": "markdown",
   "metadata": {},
   "source": [
    "Now that all the datasets are clean we can join them all together in a unique dataset for anaylysis."
   ]
  },
  {
   "cell_type": "code",
   "execution_count": 37,
   "metadata": {},
   "outputs": [],
   "source": [
    "# Join all the datasets together\n",
    "sales_merge = transactions_clean.merge(products_clean, on = [\"category\", \"id_prod\"], how = \"left\")"
   ]
  },
  {
   "cell_type": "code",
   "execution_count": 38,
   "metadata": {},
   "outputs": [],
   "source": [
    "sales_df = sales_merge.merge(customers_clean, on = [\"client_id\", \"client_category\"], how = \"left\")"
   ]
  },
  {
   "cell_type": "code",
   "execution_count": 39,
   "metadata": {},
   "outputs": [
    {
     "name": "stdout",
     "output_type": "stream",
     "text": [
      "<class 'pandas.core.frame.DataFrame'>\n",
      "Int64Index: 336816 entries, 0 to 336815\n",
      "Data columns (total 10 columns):\n",
      " #   Column            Non-Null Count   Dtype         \n",
      "---  ------            --------------   -----         \n",
      " 0   id_prod           336816 non-null  object        \n",
      " 1   date              336816 non-null  datetime64[ns]\n",
      " 2   session_id        336816 non-null  object        \n",
      " 3   client_id         336816 non-null  object        \n",
      " 4   category          336816 non-null  category      \n",
      " 5   client_category   336816 non-null  category      \n",
      " 6   session_category  336816 non-null  category      \n",
      " 7   price             336713 non-null  float64       \n",
      " 8   sex               336816 non-null  category      \n",
      " 9   birth             336816 non-null  int64         \n",
      "dtypes: category(4), datetime64[ns](1), float64(1), int64(1), object(3)\n",
      "memory usage: 19.3+ MB\n"
     ]
    }
   ],
   "source": [
    "# Turn category and client category into categorical variable\n",
    "sales_df.iloc[:, 4:6] = sales_df.iloc[:, 4:6].astype(\"category\")\n",
    "# Check if it is ok\n",
    "sales_df.info()"
   ]
  },
  {
   "cell_type": "code",
   "execution_count": 40,
   "metadata": {},
   "outputs": [
    {
     "data": {
      "text/html": [
       "<div>\n",
       "<style scoped>\n",
       "    .dataframe tbody tr th:only-of-type {\n",
       "        vertical-align: middle;\n",
       "    }\n",
       "\n",
       "    .dataframe tbody tr th {\n",
       "        vertical-align: top;\n",
       "    }\n",
       "\n",
       "    .dataframe thead th {\n",
       "        text-align: right;\n",
       "    }\n",
       "</style>\n",
       "<table border=\"1\" class=\"dataframe\">\n",
       "  <thead>\n",
       "    <tr style=\"text-align: right;\">\n",
       "      <th></th>\n",
       "      <th>id_prod</th>\n",
       "      <th>date</th>\n",
       "      <th>session_id</th>\n",
       "      <th>client_id</th>\n",
       "      <th>category</th>\n",
       "      <th>client_category</th>\n",
       "      <th>session_category</th>\n",
       "      <th>price</th>\n",
       "      <th>sex</th>\n",
       "      <th>birth</th>\n",
       "      <th>age</th>\n",
       "    </tr>\n",
       "  </thead>\n",
       "  <tbody>\n",
       "    <tr>\n",
       "      <th>0</th>\n",
       "      <td>1483</td>\n",
       "      <td>2021-04-10 18:37:28.723910</td>\n",
       "      <td>18746</td>\n",
       "      <td>4450</td>\n",
       "      <td>0</td>\n",
       "      <td>C</td>\n",
       "      <td>S</td>\n",
       "      <td>4.99</td>\n",
       "      <td>F</td>\n",
       "      <td>1977</td>\n",
       "      <td>43</td>\n",
       "    </tr>\n",
       "    <tr>\n",
       "      <th>1</th>\n",
       "      <td>226</td>\n",
       "      <td>2022-02-03 01:55:53.276402</td>\n",
       "      <td>159142</td>\n",
       "      <td>277</td>\n",
       "      <td>2</td>\n",
       "      <td>C</td>\n",
       "      <td>S</td>\n",
       "      <td>65.75</td>\n",
       "      <td>F</td>\n",
       "      <td>2000</td>\n",
       "      <td>20</td>\n",
       "    </tr>\n",
       "  </tbody>\n",
       "</table>\n",
       "</div>"
      ],
      "text/plain": [
       "  id_prod                       date session_id client_id category  \\\n",
       "0    1483 2021-04-10 18:37:28.723910      18746      4450        0   \n",
       "1     226 2022-02-03 01:55:53.276402     159142       277        2   \n",
       "\n",
       "  client_category session_category  price sex  birth  age  \n",
       "0               C                S   4.99   F   1977   43  \n",
       "1               C                S  65.75   F   2000   20  "
      ]
     },
     "execution_count": 40,
     "metadata": {},
     "output_type": "execute_result"
    }
   ],
   "source": [
    "# Create the variable age, today date - birth date\n",
    "sales_df[\"age\"] = datetime.datetime.now().year - sales_df.birth # Can lead to error if data is not updated over time\n",
    "sales_df.head(2)"
   ]
  },
  {
   "cell_type": "code",
   "execution_count": 41,
   "metadata": {},
   "outputs": [
    {
     "data": {
      "text/html": [
       "<div>\n",
       "<style scoped>\n",
       "    .dataframe tbody tr th:only-of-type {\n",
       "        vertical-align: middle;\n",
       "    }\n",
       "\n",
       "    .dataframe tbody tr th {\n",
       "        vertical-align: top;\n",
       "    }\n",
       "\n",
       "    .dataframe thead th {\n",
       "        text-align: right;\n",
       "    }\n",
       "</style>\n",
       "<table border=\"1\" class=\"dataframe\">\n",
       "  <thead>\n",
       "    <tr style=\"text-align: right;\">\n",
       "      <th></th>\n",
       "      <th>id_prod</th>\n",
       "      <th>date</th>\n",
       "      <th>session_id</th>\n",
       "      <th>client_id</th>\n",
       "      <th>category</th>\n",
       "      <th>client_category</th>\n",
       "      <th>session_category</th>\n",
       "      <th>price</th>\n",
       "      <th>sex</th>\n",
       "      <th>age</th>\n",
       "    </tr>\n",
       "  </thead>\n",
       "  <tbody>\n",
       "    <tr>\n",
       "      <th>0</th>\n",
       "      <td>1483</td>\n",
       "      <td>2021-04-10 18:37:28.723910</td>\n",
       "      <td>18746</td>\n",
       "      <td>4450</td>\n",
       "      <td>0</td>\n",
       "      <td>C</td>\n",
       "      <td>S</td>\n",
       "      <td>4.99</td>\n",
       "      <td>F</td>\n",
       "      <td>43</td>\n",
       "    </tr>\n",
       "    <tr>\n",
       "      <th>1</th>\n",
       "      <td>226</td>\n",
       "      <td>2022-02-03 01:55:53.276402</td>\n",
       "      <td>159142</td>\n",
       "      <td>277</td>\n",
       "      <td>2</td>\n",
       "      <td>C</td>\n",
       "      <td>S</td>\n",
       "      <td>65.75</td>\n",
       "      <td>F</td>\n",
       "      <td>20</td>\n",
       "    </tr>\n",
       "  </tbody>\n",
       "</table>\n",
       "</div>"
      ],
      "text/plain": [
       "  id_prod                       date session_id client_id category  \\\n",
       "0    1483 2021-04-10 18:37:28.723910      18746      4450        0   \n",
       "1     226 2022-02-03 01:55:53.276402     159142       277        2   \n",
       "\n",
       "  client_category session_category  price sex  age  \n",
       "0               C                S   4.99   F   43  \n",
       "1               C                S  65.75   F   20  "
      ]
     },
     "execution_count": 41,
     "metadata": {},
     "output_type": "execute_result"
    }
   ],
   "source": [
    "# Remove the useless column birth\n",
    "clean_df = sales_df.drop(\"birth\", axis = 1)\n",
    "clean_df.head(2)"
   ]
  },
  {
   "cell_type": "markdown",
   "metadata": {},
   "source": [
    "## ANALYZE THE DATA  \n",
    "\n",
    "Now that all the datasets are cleaned we can make some analysis. \n",
    "\n",
    "\n",
    "**What is the average price of the sales?**"
   ]
  },
  {
   "cell_type": "code",
   "execution_count": 42,
   "metadata": {},
   "outputs": [
    {
     "data": {
      "text/html": [
       "<div>\n",
       "<style scoped>\n",
       "    .dataframe tbody tr th:only-of-type {\n",
       "        vertical-align: middle;\n",
       "    }\n",
       "\n",
       "    .dataframe tbody tr th {\n",
       "        vertical-align: top;\n",
       "    }\n",
       "\n",
       "    .dataframe thead th {\n",
       "        text-align: right;\n",
       "    }\n",
       "</style>\n",
       "<table border=\"1\" class=\"dataframe\">\n",
       "  <thead>\n",
       "    <tr style=\"text-align: right;\">\n",
       "      <th></th>\n",
       "      <th>price</th>\n",
       "      <th>age</th>\n",
       "    </tr>\n",
       "  </thead>\n",
       "  <tbody>\n",
       "    <tr>\n",
       "      <th>count</th>\n",
       "      <td>336713.000000</td>\n",
       "      <td>336816.000000</td>\n",
       "    </tr>\n",
       "    <tr>\n",
       "      <th>mean</th>\n",
       "      <td>17.215189</td>\n",
       "      <td>42.176604</td>\n",
       "    </tr>\n",
       "    <tr>\n",
       "      <th>std</th>\n",
       "      <td>17.855445</td>\n",
       "      <td>13.523923</td>\n",
       "    </tr>\n",
       "    <tr>\n",
       "      <th>min</th>\n",
       "      <td>0.620000</td>\n",
       "      <td>16.000000</td>\n",
       "    </tr>\n",
       "    <tr>\n",
       "      <th>25%</th>\n",
       "      <td>8.610000</td>\n",
       "      <td>33.000000</td>\n",
       "    </tr>\n",
       "    <tr>\n",
       "      <th>50%</th>\n",
       "      <td>13.900000</td>\n",
       "      <td>40.000000</td>\n",
       "    </tr>\n",
       "    <tr>\n",
       "      <th>75%</th>\n",
       "      <td>18.990000</td>\n",
       "      <td>49.000000</td>\n",
       "    </tr>\n",
       "    <tr>\n",
       "      <th>max</th>\n",
       "      <td>300.000000</td>\n",
       "      <td>91.000000</td>\n",
       "    </tr>\n",
       "  </tbody>\n",
       "</table>\n",
       "</div>"
      ],
      "text/plain": [
       "               price            age\n",
       "count  336713.000000  336816.000000\n",
       "mean       17.215189      42.176604\n",
       "std        17.855445      13.523923\n",
       "min         0.620000      16.000000\n",
       "25%         8.610000      33.000000\n",
       "50%        13.900000      40.000000\n",
       "75%        18.990000      49.000000\n",
       "max       300.000000      91.000000"
      ]
     },
     "execution_count": 42,
     "metadata": {},
     "output_type": "execute_result"
    }
   ],
   "source": [
    "clean_df.describe()"
   ]
  },
  {
   "cell_type": "markdown",
   "metadata": {},
   "source": [
    "We have an average price of **17.22** but with a standard deviation of **17.85** which means that there are too much variability between the prices. Let's go deep with some plots.  "
   ]
  },
  {
   "cell_type": "code",
   "execution_count": 43,
   "metadata": {},
   "outputs": [
    {
     "data": {
      "image/png": "[encoded data removed]",
      "text/plain": [
       "<Figure size 432x288 with 1 Axes>"
      ]
     },
     "metadata": {
      "needs_background": "light"
     },
     "output_type": "display_data"
    }
   ],
   "source": [
    "# Boxplot to see the variability\n",
    "sb.boxplot(clean_df.price);"
   ]
  },
  {
   "cell_type": "code",
   "execution_count": 44,
   "metadata": {},
   "outputs": [
    {
     "data": {
      "image/png": "[encoded data removed]",
      "text/plain": [
       "<Figure size 432x288 with 1 Axes>"
      ]
     },
     "metadata": {
      "needs_background": "light"
     },
     "output_type": "display_data"
    }
   ],
   "source": [
    "clean_df_30 = clean_df.price[clean_df.price > 100]\n",
    "sb.boxplot(clean_df_30);"
   ]
  },
  {
   "cell_type": "code",
   "execution_count": 45,
   "metadata": {},
   "outputs": [
    {
     "data": {
      "text/plain": [
       "139.99"
      ]
     },
     "execution_count": 45,
     "metadata": {},
     "output_type": "execute_result"
    }
   ],
   "source": [
    "clean_df_30.median()"
   ]
  },
  {
   "cell_type": "markdown",
   "metadata": {},
   "source": [
    "Most of the sales are between 0 and 20 and there are very few sales between 50 and 300. \n",
    "The average price value of 17.22 is just due to the fact that there are few high sales. Let's confirm that with some calculations.  "
   ]
  },
  {
   "cell_type": "code",
   "execution_count": 46,
   "metadata": {},
   "outputs": [
    {
     "name": "stdout",
     "output_type": "stream",
     "text": [
      "mean :  17.215188513733644\n",
      "median :  13.9\n",
      "mode :  15.99\n"
     ]
    }
   ],
   "source": [
    "print(\"mean : \",clean_df.price.mean())\n",
    "print(\"median : \",clean_df.price.median())\n",
    "print(\"mode : \",clean_df.price.mode()[0])"
   ]
  },
  {
   "cell_type": "markdown",
   "metadata": {},
   "source": [
    "We confirm here that most of the sales are between **0 and 16**, with highest sales at **13.9**"
   ]
  },
  {
   "cell_type": "markdown",
   "metadata": {},
   "source": [
    "**Which are the categories with more sales?**"
   ]
  },
  {
   "cell_type": "code",
   "execution_count": 47,
   "metadata": {},
   "outputs": [
    {
     "data": {
      "image/png": "[encoded data removed]",
      "text/plain": [
       "<Figure size 576x432 with 1 Axes>"
      ]
     },
     "metadata": {
      "needs_background": "light"
     },
     "output_type": "display_data"
    }
   ],
   "source": [
    "plt.figure(figsize = [8,6])\n",
    "# Choose a standard color for the plot\n",
    "base_color = sb.color_palette()[0]\n",
    "# Barplot of the categories\n",
    "sb.countplot(data = clean_df, x = \"category\", color = base_color)\n",
    "plt.title(\"Number of Sales per Products Category\", fontsize = 15)\n",
    "plt.xlabel(xlabel = \"Category\", fontsize = 12)\n",
    "plt.ylabel(ylabel = \"Number of Sales\", fontsize = 12)\n",
    "# Add some annotations\n",
    "number_points = clean_df.shape[0]        # number of points in the dataset\n",
    "category_counts = clean_df.category.value_counts() # all Values of the categories\n",
    "locs, labels = plt.xticks()   # Current tick locations and labels\n",
    "# Loop through each pair of locations and labels  \n",
    "for loc, label in zip(locs, labels):\n",
    "    # Text property for the label to get the current count\n",
    "    count = category_counts[label.get_text()]\n",
    "    percentage = '{:0.1f}%'.format(100*count/number_points) # Percentage of each category\n",
    "    # Put the annotations inside the bar on the top\n",
    "    plt.text(x = loc, y = count-10000, s = percentage, ha = 'center', color = 'orange')"
   ]
  },
  {
   "cell_type": "markdown",
   "metadata": {},
   "source": [
    "**62%** of the sales are in category 0, **33%** in category 1 and just **5.2%** in category 2. "
   ]
  },
  {
   "cell_type": "markdown",
   "metadata": {},
   "source": [
    "**What is the Average sale in each category?**"
   ]
  },
  {
   "cell_type": "code",
   "execution_count": 48,
   "metadata": {},
   "outputs": [
    {
     "data": {
      "image/png": "[encoded data removed]",
      "text/plain": [
       "<Figure size 864x1008 with 3 Axes>"
      ]
     },
     "metadata": {
      "needs_background": "light"
     },
     "output_type": "display_data"
    }
   ],
   "source": [
    "plt.figure(figsize = [12,14])\n",
    "plt.subplot(3,1,1)\n",
    "sb.boxplot(data = clean_df[clean_df.category == \"0\"], x = \"price\")\n",
    "plt.title(\"Category 0\", fontsize = 14, fontweight = \"bold\")\n",
    "plt.xlabel(\"\")\n",
    "\n",
    "plt.subplot(3,1,2)\n",
    "sb.boxplot(data = clean_df[clean_df.category == \"1\"], x = \"price\")\n",
    "plt.title(\"Category 1\", fontsize = 14, fontweight = \"bold\")\n",
    "plt.xlabel(\"\")\n",
    "\n",
    "plt.subplot(3,1,3)\n",
    "sb.boxplot(data = clean_df[clean_df.category == \"2\"], x = \"price\")\n",
    "plt.title(\"Category 2\", fontsize = 14, fontweight = \"bold\")\n",
    "plt.xlabel(\"Price\", fontsize = 12, fontweight = \"bold\");"
   ]
  },
  {
   "cell_type": "code",
   "execution_count": 49,
   "metadata": {},
   "outputs": [
    {
     "name": "stdout",
     "output_type": "stream",
     "text": [
      "Mean Category 0:  10.646828235274288\n",
      "Median Category 0:  9.99\n",
      "Mode Category 0:  4.99\n",
      "Standard Deviation Category 0: 4.930029770963229 \n",
      "\n",
      "Mean Category 1:  20.4801058003428\n",
      "Median Category 1:  19.08\n",
      "Mode Category 1:  15.99\n",
      "Standard Deviation Category 1: 7.568956079961025 \n",
      "\n",
      "Mean Category 2:  75.17494929352519\n",
      "Median Category 2:  62.83\n",
      "Mode Category 2:  68.99\n",
      "Standard Deviation Category 2: 39.0799988187327 \n",
      "\n"
     ]
    }
   ],
   "source": [
    "for i in range(3):\n",
    "    print(\"Mean Category \" + str(i) + \": \", clean_df.price[clean_df.category == str(i)].mean())\n",
    "    print(\"Median Category \" + str(i) + \": \", clean_df.price[clean_df.category == str(i)].median())\n",
    "    print(\"Mode Category \" + str(i) + \": \", clean_df.price[clean_df.category == str(i)].mode()[0])\n",
    "    print(\"Standard Deviation Category \" + str(i) + \":\", clean_df.price[sales_merge.category == str(i)].std(),\"\\n\")    "
   ]
  },
  {
   "cell_type": "markdown",
   "metadata": {},
   "source": [
    "**Distribution of sales by birth**"
   ]
  },
  {
   "cell_type": "code",
   "execution_count": 50,
   "metadata": {},
   "outputs": [
    {
     "data": {
      "image/png": "[encoded data removed]",
      "text/plain": [
       "<Figure size 432x288 with 1 Axes>"
      ]
     },
     "metadata": {
      "needs_background": "light"
     },
     "output_type": "display_data"
    }
   ],
   "source": [
    "bin_num = int(1 + np.log2(clean_df.shape[0]))\n",
    "plt.hist(clean_df.age, bins = bin_num);"
   ]
  },
  {
   "cell_type": "markdown",
   "metadata": {},
   "source": [
    "Most of the sales come from people aged between 30 and 55 with a peak at 40 years old."
   ]
  },
  {
   "cell_type": "code",
   "execution_count": 51,
   "metadata": {},
   "outputs": [
    {
     "data": {
      "image/png": "[encoded data removed]",
      "text/plain": [
       "<Figure size 576x432 with 1 Axes>"
      ]
     },
     "metadata": {
      "needs_background": "light"
     },
     "output_type": "display_data"
    }
   ],
   "source": [
    "plt.figure(figsize = [8,6])\n",
    "# Choose a standard color for the plot\n",
    "base_color = sb.color_palette()[0]\n",
    "# Barplot of the categories\n",
    "sb.countplot(data = clean_df, x = \"sex\", color = base_color)\n",
    "plt.title(\"Number of Sales per Gender\", fontsize = 15)\n",
    "plt.xlabel(xlabel = \"Gender\", fontsize = 12)\n",
    "plt.ylabel(ylabel = \"Number of Sales\", fontsize = 12)\n",
    "# Add some annotations\n",
    "number_points = clean_df.shape[0]        # number of points in the dataset\n",
    "category_counts = clean_df.sex.value_counts() # all Values of the categories\n",
    "locs, labels = plt.xticks()   # Current tick locations and labels\n",
    "# Loop through each pair of locations and labels  \n",
    "for loc, label in zip(locs, labels):\n",
    "    # Text property for the label to get the current count\n",
    "    count = category_counts[label.get_text()]\n",
    "    percentage = '{:0.1f}%'.format(100*count/number_points) # Percentage of each category\n",
    "    # Put the annotations inside the bar on the top\n",
    "    plt.text(x = loc, y = count-10000, s = percentage, ha = 'center', color = 'orange')"
   ]
  },
  {
   "cell_type": "markdown",
   "metadata": {},
   "source": [
    "There is no big difference in sales between gender"
   ]
  },
  {
   "cell_type": "markdown",
   "metadata": {},
   "source": [
    "**Correlations**"
   ]
  },
  {
   "cell_type": "code",
   "execution_count": 58,
   "metadata": {},
   "outputs": [
    {
     "data": {
      "image/png": "[encoded data removed]",
      "text/plain": [
       "<Figure size 1080x360 with 3 Axes>"
      ]
     },
     "metadata": {
      "needs_background": "light"
     },
     "output_type": "display_data"
    }
   ],
   "source": [
    "# Correlation between gender and categories of products purchased\n",
    "sb.catplot(x = \"sex\", y = \"price\", col = \"category\", kind = \"violin\" ,split = True, data = clean_df);"
   ]
  },
  {
   "cell_type": "code",
   "execution_count": 128,
   "metadata": {},
   "outputs": [
    {
     "data": {
      "text/html": [
       "<div>\n",
       "<style scoped>\n",
       "    .dataframe tbody tr th:only-of-type {\n",
       "        vertical-align: middle;\n",
       "    }\n",
       "\n",
       "    .dataframe tbody tr th {\n",
       "        vertical-align: top;\n",
       "    }\n",
       "\n",
       "    .dataframe thead th {\n",
       "        text-align: right;\n",
       "    }\n",
       "</style>\n",
       "<table border=\"1\" class=\"dataframe\">\n",
       "  <thead>\n",
       "    <tr style=\"text-align: right;\">\n",
       "      <th>sex</th>\n",
       "      <th>F</th>\n",
       "      <th>M</th>\n",
       "    </tr>\n",
       "    <tr>\n",
       "      <th>category</th>\n",
       "      <th></th>\n",
       "      <th></th>\n",
       "    </tr>\n",
       "  </thead>\n",
       "  <tbody>\n",
       "    <tr>\n",
       "      <th>0</th>\n",
       "      <td>103846</td>\n",
       "      <td>105683</td>\n",
       "    </tr>\n",
       "    <tr>\n",
       "      <th>1</th>\n",
       "      <td>55469</td>\n",
       "      <td>54266</td>\n",
       "    </tr>\n",
       "    <tr>\n",
       "      <th>2</th>\n",
       "      <td>8260</td>\n",
       "      <td>9292</td>\n",
       "    </tr>\n",
       "  </tbody>\n",
       "</table>\n",
       "</div>"
      ],
      "text/plain": [
       "sex            F       M\n",
       "category                \n",
       "0         103846  105683\n",
       "1          55469   54266\n",
       "2           8260    9292"
      ]
     },
     "execution_count": 128,
     "metadata": {},
     "output_type": "execute_result"
    }
   ],
   "source": [
    "# Contigency table\n",
    "gender_category_table = pd.crosstab(index = clean_df.category, columns = clean_df.sex)\n",
    "gender_category_table"
   ]
  },
  {
   "cell_type": "code",
   "execution_count": 132,
   "metadata": {},
   "outputs": [
    {
     "data": {
      "image/png": "[encoded data removed]",
      "text/plain": [
       "<Figure size 432x288 with 1 Axes>"
      ]
     },
     "metadata": {
      "needs_background": "light"
     },
     "output_type": "display_data"
    }
   ],
   "source": [
    "gender_category_table.plot(kind=\"bar\");"
   ]
  },
  {
   "cell_type": "code",
   "execution_count": 138,
   "metadata": {},
   "outputs": [
    {
     "name": "stdout",
     "output_type": "stream",
     "text": [
      "Gender and Category are probably dependent\n"
     ]
    }
   ],
   "source": [
    "stat, p, dof, expected = sci.chi2_contingency(gender_category_table)\n",
    "if p > 0.05:\n",
    "    print(\"Gender and Category are probably independent\")\n",
    "else:\n",
    "    print(\"Gender and Category are probably dependent\")"
   ]
  },
  {
   "cell_type": "markdown",
   "metadata": {},
   "source": [
    "**Correlation between age and total amount of purchases**"
   ]
  },
  {
   "cell_type": "code",
   "execution_count": 120,
   "metadata": {},
   "outputs": [
    {
     "data": {
      "image/png": "[encoded data removed]",
      "text/plain": [
       "<Figure size 432x288 with 1 Axes>"
      ]
     },
     "metadata": {
      "needs_background": "light"
     },
     "output_type": "display_data"
    }
   ],
   "source": [
    "# Create a dataframe with age and the total amount purchases\n",
    "corr_age_price = clean_df.groupby(\"age\").sum().reset_index()\n",
    "# Plot using regplot\n",
    "sb.regplot(x = \"age\", y = \"price\", data = corr_age_price, fit_reg = True);"
   ]
  },
  {
   "cell_type": "markdown",
   "metadata": {},
   "source": [
    "There is correlation between the age and the amount of purchases, as the age increases the amount of purchases decreases."
   ]
  },
  {
   "cell_type": "markdown",
   "metadata": {},
   "source": [
    "**Correlation between age and the purchase frequency(Number of purchases per month)**"
   ]
  },
  {
   "cell_type": "code",
   "execution_count": 92,
   "metadata": {},
   "outputs": [
    {
     "data": {
      "text/html": [
       "<div>\n",
       "<style scoped>\n",
       "    .dataframe tbody tr th:only-of-type {\n",
       "        vertical-align: middle;\n",
       "    }\n",
       "\n",
       "    .dataframe tbody tr th {\n",
       "        vertical-align: top;\n",
       "    }\n",
       "\n",
       "    .dataframe thead th {\n",
       "        text-align: right;\n",
       "    }\n",
       "</style>\n",
       "<table border=\"1\" class=\"dataframe\">\n",
       "  <thead>\n",
       "    <tr style=\"text-align: right;\">\n",
       "      <th></th>\n",
       "      <th>id_prod</th>\n",
       "      <th>date</th>\n",
       "      <th>session_id</th>\n",
       "      <th>client_id</th>\n",
       "      <th>category</th>\n",
       "      <th>client_category</th>\n",
       "      <th>session_category</th>\n",
       "      <th>price</th>\n",
       "      <th>sex</th>\n",
       "      <th>age</th>\n",
       "      <th>month</th>\n",
       "    </tr>\n",
       "  </thead>\n",
       "  <tbody>\n",
       "    <tr>\n",
       "      <th>0</th>\n",
       "      <td>1483</td>\n",
       "      <td>2021-04-10 18:37:28.723910</td>\n",
       "      <td>18746</td>\n",
       "      <td>4450</td>\n",
       "      <td>0</td>\n",
       "      <td>C</td>\n",
       "      <td>S</td>\n",
       "      <td>4.99</td>\n",
       "      <td>F</td>\n",
       "      <td>43</td>\n",
       "      <td>4</td>\n",
       "    </tr>\n",
       "    <tr>\n",
       "      <th>1</th>\n",
       "      <td>226</td>\n",
       "      <td>2022-02-03 01:55:53.276402</td>\n",
       "      <td>159142</td>\n",
       "      <td>277</td>\n",
       "      <td>2</td>\n",
       "      <td>C</td>\n",
       "      <td>S</td>\n",
       "      <td>65.75</td>\n",
       "      <td>F</td>\n",
       "      <td>20</td>\n",
       "      <td>2</td>\n",
       "    </tr>\n",
       "    <tr>\n",
       "      <th>2</th>\n",
       "      <td>374</td>\n",
       "      <td>2021-09-23 15:13:46.938559</td>\n",
       "      <td>94290</td>\n",
       "      <td>4270</td>\n",
       "      <td>1</td>\n",
       "      <td>C</td>\n",
       "      <td>S</td>\n",
       "      <td>10.71</td>\n",
       "      <td>F</td>\n",
       "      <td>41</td>\n",
       "      <td>9</td>\n",
       "    </tr>\n",
       "    <tr>\n",
       "      <th>3</th>\n",
       "      <td>2186</td>\n",
       "      <td>2021-10-17 03:27:18.783634</td>\n",
       "      <td>105936</td>\n",
       "      <td>4597</td>\n",
       "      <td>0</td>\n",
       "      <td>C</td>\n",
       "      <td>S</td>\n",
       "      <td>4.20</td>\n",
       "      <td>M</td>\n",
       "      <td>57</td>\n",
       "      <td>10</td>\n",
       "    </tr>\n",
       "    <tr>\n",
       "      <th>4</th>\n",
       "      <td>1351</td>\n",
       "      <td>2021-07-17 20:34:25.800563</td>\n",
       "      <td>63642</td>\n",
       "      <td>1242</td>\n",
       "      <td>0</td>\n",
       "      <td>C</td>\n",
       "      <td>S</td>\n",
       "      <td>8.99</td>\n",
       "      <td>F</td>\n",
       "      <td>40</td>\n",
       "      <td>7</td>\n",
       "    </tr>\n",
       "  </tbody>\n",
       "</table>\n",
       "</div>"
      ],
      "text/plain": [
       "  id_prod                       date session_id client_id category  \\\n",
       "0    1483 2021-04-10 18:37:28.723910      18746      4450        0   \n",
       "1     226 2022-02-03 01:55:53.276402     159142       277        2   \n",
       "2     374 2021-09-23 15:13:46.938559      94290      4270        1   \n",
       "3    2186 2021-10-17 03:27:18.783634     105936      4597        0   \n",
       "4    1351 2021-07-17 20:34:25.800563      63642      1242        0   \n",
       "\n",
       "  client_category session_category  price sex  age  month  \n",
       "0               C                S   4.99   F   43      4  \n",
       "1               C                S  65.75   F   20      2  \n",
       "2               C                S  10.71   F   41      9  \n",
       "3               C                S   4.20   M   57     10  \n",
       "4               C                S   8.99   F   40      7  "
      ]
     },
     "execution_count": 92,
     "metadata": {},
     "output_type": "execute_result"
    }
   ],
   "source": [
    "clean_df.head()"
   ]
  }
 ],
 "metadata": {
  "kernelspec": {
   "display_name": "Python 3",
   "language": "python",
   "name": "python3"
  },
  "language_info": {
   "codemirror_mode": {
    "name": "ipython",
    "version": 3
   },
   "file_extension": ".py",
   "mimetype": "text/x-python",
   "name": "python",
   "nbconvert_exporter": "python",
   "pygments_lexer": "ipython3",
   "version": "3.7.7"
  }
 },
 "nbformat": 4,
 "nbformat_minor": 2
}
