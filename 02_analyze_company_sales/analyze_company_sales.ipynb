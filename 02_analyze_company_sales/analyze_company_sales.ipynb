{
 "cells": [
  {
   "cell_type": "markdown",
   "metadata": {},
   "source": [
    "# ANALYZE COMPANY'S SALES"
   ]
  },
  {
   "cell_type": "code",
   "execution_count": 91,
   "metadata": {},
   "outputs": [],
   "source": [
    "# Load all the needed packages\n",
    "import pandas as pd\n",
    "import numpy as np\n",
    "import matplotlib.pyplot as plt\n",
    "import seaborn as sns\n",
    "import re\n",
    "import datetime\n",
    "import scipy.stats as sci\n",
    "%matplotlib inline\n",
    "sns.set_palette(\"colorblind\")\n",
    "sns.set_context(\"talk\")"
   ]
  },
  {
   "cell_type": "markdown",
   "metadata": {},
   "source": [
    "## Reading All Files"
   ]
  },
  {
   "cell_type": "code",
   "execution_count": 2,
   "metadata": {},
   "outputs": [],
   "source": [
    "transactions = pd.read_csv(\"datasets/transactions.csv\")\n",
    "customers = pd.read_csv(\"datasets/customers.csv\")\n",
    "products = pd.read_csv(\"datasets/products.csv\")"
   ]
  },
  {
   "cell_type": "code",
   "execution_count": 3,
   "metadata": {},
   "outputs": [
    {
     "data": {
      "text/html": [
       "<div>\n",
       "<style scoped>\n",
       "    .dataframe tbody tr th:only-of-type {\n",
       "        vertical-align: middle;\n",
       "    }\n",
       "\n",
       "    .dataframe tbody tr th {\n",
       "        vertical-align: top;\n",
       "    }\n",
       "\n",
       "    .dataframe thead th {\n",
       "        text-align: right;\n",
       "    }\n",
       "</style>\n",
       "<table border=\"1\" class=\"dataframe\">\n",
       "  <thead>\n",
       "    <tr style=\"text-align: right;\">\n",
       "      <th></th>\n",
       "      <th>id_prod</th>\n",
       "      <th>date</th>\n",
       "      <th>session_id</th>\n",
       "      <th>client_id</th>\n",
       "    </tr>\n",
       "  </thead>\n",
       "  <tbody>\n",
       "    <tr>\n",
       "      <th>0</th>\n",
       "      <td>0_1483</td>\n",
       "      <td>2021-04-10 18:37:28.723910</td>\n",
       "      <td>s_18746</td>\n",
       "      <td>c_4450</td>\n",
       "    </tr>\n",
       "    <tr>\n",
       "      <th>1</th>\n",
       "      <td>2_226</td>\n",
       "      <td>2022-02-03 01:55:53.276402</td>\n",
       "      <td>s_159142</td>\n",
       "      <td>c_277</td>\n",
       "    </tr>\n",
       "  </tbody>\n",
       "</table>\n",
       "</div>"
      ],
      "text/plain": [
       "  id_prod                        date session_id client_id\n",
       "0  0_1483  2021-04-10 18:37:28.723910    s_18746    c_4450\n",
       "1   2_226  2022-02-03 01:55:53.276402   s_159142     c_277"
      ]
     },
     "execution_count": 3,
     "metadata": {},
     "output_type": "execute_result"
    }
   ],
   "source": [
    "transactions.head(2)"
   ]
  },
  {
   "cell_type": "code",
   "execution_count": 4,
   "metadata": {},
   "outputs": [
    {
     "name": "stdout",
     "output_type": "stream",
     "text": [
      "<class 'pandas.core.frame.DataFrame'>\n",
      "RangeIndex: 337016 entries, 0 to 337015\n",
      "Data columns (total 4 columns):\n",
      " #   Column      Non-Null Count   Dtype \n",
      "---  ------      --------------   ----- \n",
      " 0   id_prod     337016 non-null  object\n",
      " 1   date        337016 non-null  object\n",
      " 2   session_id  337016 non-null  object\n",
      " 3   client_id   337016 non-null  object\n",
      "dtypes: object(4)\n",
      "memory usage: 10.3+ MB\n"
     ]
    }
   ],
   "source": [
    "transactions.info(2)"
   ]
  },
  {
   "cell_type": "code",
   "execution_count": 5,
   "metadata": {},
   "outputs": [
    {
     "name": "stdout",
     "output_type": "stream",
     "text": [
      "<class 'pandas.core.frame.DataFrame'>\n",
      "RangeIndex: 8623 entries, 0 to 8622\n",
      "Data columns (total 3 columns):\n",
      " #   Column     Non-Null Count  Dtype \n",
      "---  ------     --------------  ----- \n",
      " 0   client_id  8623 non-null   object\n",
      " 1   sex        8623 non-null   object\n",
      " 2   birth      8623 non-null   int64 \n",
      "dtypes: int64(1), object(2)\n",
      "memory usage: 202.2+ KB\n"
     ]
    }
   ],
   "source": [
    "customers.info()"
   ]
  },
  {
   "cell_type": "code",
   "execution_count": 6,
   "metadata": {},
   "outputs": [
    {
     "data": {
      "text/html": [
       "<div>\n",
       "<style scoped>\n",
       "    .dataframe tbody tr th:only-of-type {\n",
       "        vertical-align: middle;\n",
       "    }\n",
       "\n",
       "    .dataframe tbody tr th {\n",
       "        vertical-align: top;\n",
       "    }\n",
       "\n",
       "    .dataframe thead th {\n",
       "        text-align: right;\n",
       "    }\n",
       "</style>\n",
       "<table border=\"1\" class=\"dataframe\">\n",
       "  <thead>\n",
       "    <tr style=\"text-align: right;\">\n",
       "      <th></th>\n",
       "      <th>client_id</th>\n",
       "      <th>sex</th>\n",
       "      <th>birth</th>\n",
       "    </tr>\n",
       "  </thead>\n",
       "  <tbody>\n",
       "    <tr>\n",
       "      <th>0</th>\n",
       "      <td>c_4410</td>\n",
       "      <td>f</td>\n",
       "      <td>1967</td>\n",
       "    </tr>\n",
       "    <tr>\n",
       "      <th>1</th>\n",
       "      <td>c_7839</td>\n",
       "      <td>f</td>\n",
       "      <td>1975</td>\n",
       "    </tr>\n",
       "  </tbody>\n",
       "</table>\n",
       "</div>"
      ],
      "text/plain": [
       "  client_id sex  birth\n",
       "0    c_4410   f   1967\n",
       "1    c_7839   f   1975"
      ]
     },
     "execution_count": 6,
     "metadata": {},
     "output_type": "execute_result"
    }
   ],
   "source": [
    "customers.head(2)"
   ]
  },
  {
   "cell_type": "code",
   "execution_count": 7,
   "metadata": {},
   "outputs": [
    {
     "data": {
      "text/html": [
       "<div>\n",
       "<style scoped>\n",
       "    .dataframe tbody tr th:only-of-type {\n",
       "        vertical-align: middle;\n",
       "    }\n",
       "\n",
       "    .dataframe tbody tr th {\n",
       "        vertical-align: top;\n",
       "    }\n",
       "\n",
       "    .dataframe thead th {\n",
       "        text-align: right;\n",
       "    }\n",
       "</style>\n",
       "<table border=\"1\" class=\"dataframe\">\n",
       "  <thead>\n",
       "    <tr style=\"text-align: right;\">\n",
       "      <th></th>\n",
       "      <th>id_prod</th>\n",
       "      <th>price</th>\n",
       "      <th>categ</th>\n",
       "    </tr>\n",
       "  </thead>\n",
       "  <tbody>\n",
       "    <tr>\n",
       "      <th>0</th>\n",
       "      <td>0_1421</td>\n",
       "      <td>19.99</td>\n",
       "      <td>0</td>\n",
       "    </tr>\n",
       "    <tr>\n",
       "      <th>1</th>\n",
       "      <td>0_1368</td>\n",
       "      <td>5.13</td>\n",
       "      <td>0</td>\n",
       "    </tr>\n",
       "  </tbody>\n",
       "</table>\n",
       "</div>"
      ],
      "text/plain": [
       "  id_prod  price  categ\n",
       "0  0_1421  19.99      0\n",
       "1  0_1368   5.13      0"
      ]
     },
     "execution_count": 7,
     "metadata": {},
     "output_type": "execute_result"
    }
   ],
   "source": [
    "products.head(2)"
   ]
  },
  {
   "cell_type": "code",
   "execution_count": 8,
   "metadata": {},
   "outputs": [
    {
     "name": "stdout",
     "output_type": "stream",
     "text": [
      "<class 'pandas.core.frame.DataFrame'>\n",
      "RangeIndex: 3287 entries, 0 to 3286\n",
      "Data columns (total 3 columns):\n",
      " #   Column   Non-Null Count  Dtype  \n",
      "---  ------   --------------  -----  \n",
      " 0   id_prod  3287 non-null   object \n",
      " 1   price    3287 non-null   float64\n",
      " 2   categ    3287 non-null   int64  \n",
      "dtypes: float64(1), int64(1), object(1)\n",
      "memory usage: 77.2+ KB\n"
     ]
    }
   ],
   "source": [
    "products.info()"
   ]
  },
  {
   "cell_type": "code",
   "execution_count": 9,
   "metadata": {},
   "outputs": [
    {
     "data": {
      "text/html": [
       "<div>\n",
       "<style scoped>\n",
       "    .dataframe tbody tr th:only-of-type {\n",
       "        vertical-align: middle;\n",
       "    }\n",
       "\n",
       "    .dataframe tbody tr th {\n",
       "        vertical-align: top;\n",
       "    }\n",
       "\n",
       "    .dataframe thead th {\n",
       "        text-align: right;\n",
       "    }\n",
       "</style>\n",
       "<table border=\"1\" class=\"dataframe\">\n",
       "  <thead>\n",
       "    <tr style=\"text-align: right;\">\n",
       "      <th></th>\n",
       "      <th>price</th>\n",
       "      <th>categ</th>\n",
       "    </tr>\n",
       "  </thead>\n",
       "  <tbody>\n",
       "    <tr>\n",
       "      <th>count</th>\n",
       "      <td>3287.000000</td>\n",
       "      <td>3287.000000</td>\n",
       "    </tr>\n",
       "    <tr>\n",
       "      <th>mean</th>\n",
       "      <td>21.856641</td>\n",
       "      <td>0.370246</td>\n",
       "    </tr>\n",
       "    <tr>\n",
       "      <th>std</th>\n",
       "      <td>29.847908</td>\n",
       "      <td>0.615387</td>\n",
       "    </tr>\n",
       "    <tr>\n",
       "      <th>min</th>\n",
       "      <td>-1.000000</td>\n",
       "      <td>0.000000</td>\n",
       "    </tr>\n",
       "    <tr>\n",
       "      <th>25%</th>\n",
       "      <td>6.990000</td>\n",
       "      <td>0.000000</td>\n",
       "    </tr>\n",
       "    <tr>\n",
       "      <th>50%</th>\n",
       "      <td>13.060000</td>\n",
       "      <td>0.000000</td>\n",
       "    </tr>\n",
       "    <tr>\n",
       "      <th>75%</th>\n",
       "      <td>22.990000</td>\n",
       "      <td>1.000000</td>\n",
       "    </tr>\n",
       "    <tr>\n",
       "      <th>max</th>\n",
       "      <td>300.000000</td>\n",
       "      <td>2.000000</td>\n",
       "    </tr>\n",
       "  </tbody>\n",
       "</table>\n",
       "</div>"
      ],
      "text/plain": [
       "             price        categ\n",
       "count  3287.000000  3287.000000\n",
       "mean     21.856641     0.370246\n",
       "std      29.847908     0.615387\n",
       "min      -1.000000     0.000000\n",
       "25%       6.990000     0.000000\n",
       "50%      13.060000     0.000000\n",
       "75%      22.990000     1.000000\n",
       "max     300.000000     2.000000"
      ]
     },
     "execution_count": 9,
     "metadata": {},
     "output_type": "execute_result"
    }
   ],
   "source": [
    "products.describe()"
   ]
  },
  {
   "cell_type": "markdown",
   "metadata": {},
   "source": [
    "## Cleaning All Datasets"
   ]
  },
  {
   "cell_type": "markdown",
   "metadata": {},
   "source": [
    "### Cleaning transactions dataset  \n",
    "#### Define"
   ]
  },
  {
   "cell_type": "markdown",
   "metadata": {},
   "source": [
    "- **Some date starting with test must be split**\n",
    "- **Date variable must be a *datetime* not a string**  \n",
    "- **We must split id_prod in category and id_prod**\n",
    "- **We must split session_id in session id and session_category**\n",
    "- **We must split client_id in client_id and client_category**\n",
    "- **Turn all the categories variable into a category data type**\n",
    "\n",
    "#### Code"
   ]
  },
  {
   "cell_type": "code",
   "execution_count": 10,
   "metadata": {},
   "outputs": [],
   "source": [
    "# Write  a function to split a column\n",
    "def split_columns(dataset, col):\n",
    "    ### This function take a dataset and a column of the dataset split the column and return the 2 new columns\n",
    "    new_col_1 = dataset[col].apply(lambda x : x.split(\"_\")[1])\n",
    "    new_col_2 = dataset[col].apply(lambda x : x.split(\"_\")[0].upper())\n",
    "    return new_col_1, new_col_2"
   ]
  },
  {
   "cell_type": "code",
   "execution_count": 11,
   "metadata": {},
   "outputs": [],
   "source": [
    "# Create a copy of transactions dataset\n",
    "transactions_df = transactions.copy()"
   ]
  },
  {
   "cell_type": "code",
   "execution_count": 12,
   "metadata": {},
   "outputs": [],
   "source": [
    "# Split id_prod in 2 columns,id_prod and category\n",
    "transactions_df[\"id_prod\"], transactions_df[\"category\"] = split_columns(transactions_df, \"id_prod\")"
   ]
  },
  {
   "cell_type": "code",
   "execution_count": 13,
   "metadata": {},
   "outputs": [],
   "source": [
    "# Split client_id columns into 2 columns, client_id and client_category\n",
    "transactions_df[\"client_id\"], transactions_df[\"client_category\"] = split_columns(transactions_df, \"client_id\")"
   ]
  },
  {
   "cell_type": "code",
   "execution_count": 14,
   "metadata": {},
   "outputs": [],
   "source": [
    "# Split session_id in 2 columns, session_id and sesseion_category\n",
    "transactions_df[\"session_id\"], transactions_df[\"session_category\"] = split_columns(transactions_df, \"session_id\")"
   ]
  },
  {
   "cell_type": "code",
   "execution_count": 15,
   "metadata": {},
   "outputs": [
    {
     "data": {
      "text/html": [
       "<div>\n",
       "<style scoped>\n",
       "    .dataframe tbody tr th:only-of-type {\n",
       "        vertical-align: middle;\n",
       "    }\n",
       "\n",
       "    .dataframe tbody tr th {\n",
       "        vertical-align: top;\n",
       "    }\n",
       "\n",
       "    .dataframe thead th {\n",
       "        text-align: right;\n",
       "    }\n",
       "</style>\n",
       "<table border=\"1\" class=\"dataframe\">\n",
       "  <thead>\n",
       "    <tr style=\"text-align: right;\">\n",
       "      <th></th>\n",
       "      <th>id_prod</th>\n",
       "      <th>date</th>\n",
       "      <th>session_id</th>\n",
       "      <th>client_id</th>\n",
       "      <th>category</th>\n",
       "      <th>client_category</th>\n",
       "      <th>session_category</th>\n",
       "    </tr>\n",
       "  </thead>\n",
       "  <tbody>\n",
       "    <tr>\n",
       "      <th>0</th>\n",
       "      <td>1483</td>\n",
       "      <td>2021-04-10 18:37:28.723910</td>\n",
       "      <td>18746</td>\n",
       "      <td>4450</td>\n",
       "      <td>0</td>\n",
       "      <td>C</td>\n",
       "      <td>S</td>\n",
       "    </tr>\n",
       "    <tr>\n",
       "      <th>1</th>\n",
       "      <td>226</td>\n",
       "      <td>2022-02-03 01:55:53.276402</td>\n",
       "      <td>159142</td>\n",
       "      <td>277</td>\n",
       "      <td>2</td>\n",
       "      <td>C</td>\n",
       "      <td>S</td>\n",
       "    </tr>\n",
       "  </tbody>\n",
       "</table>\n",
       "</div>"
      ],
      "text/plain": [
       "  id_prod                        date session_id client_id category  \\\n",
       "0    1483  2021-04-10 18:37:28.723910      18746      4450        0   \n",
       "1     226  2022-02-03 01:55:53.276402     159142       277        2   \n",
       "\n",
       "  client_category session_category  \n",
       "0               C                S  \n",
       "1               C                S  "
      ]
     },
     "execution_count": 15,
     "metadata": {},
     "output_type": "execute_result"
    }
   ],
   "source": [
    "# Check if everything is ok\n",
    "transactions_df.head(2)"
   ]
  },
  {
   "cell_type": "code",
   "execution_count": 16,
   "metadata": {},
   "outputs": [
    {
     "data": {
      "text/html": [
       "<div>\n",
       "<style scoped>\n",
       "    .dataframe tbody tr th:only-of-type {\n",
       "        vertical-align: middle;\n",
       "    }\n",
       "\n",
       "    .dataframe tbody tr th {\n",
       "        vertical-align: top;\n",
       "    }\n",
       "\n",
       "    .dataframe thead th {\n",
       "        text-align: right;\n",
       "    }\n",
       "</style>\n",
       "<table border=\"1\" class=\"dataframe\">\n",
       "  <thead>\n",
       "    <tr style=\"text-align: right;\">\n",
       "      <th></th>\n",
       "      <th>id_prod</th>\n",
       "      <th>date</th>\n",
       "      <th>session_id</th>\n",
       "      <th>client_id</th>\n",
       "      <th>category</th>\n",
       "      <th>client_category</th>\n",
       "      <th>session_category</th>\n",
       "    </tr>\n",
       "  </thead>\n",
       "  <tbody>\n",
       "    <tr>\n",
       "      <th>1431</th>\n",
       "      <td>0</td>\n",
       "      <td>test_2021-03-01 02:30:02.237420</td>\n",
       "      <td>0</td>\n",
       "      <td>1</td>\n",
       "      <td>T</td>\n",
       "      <td>CT</td>\n",
       "      <td>S</td>\n",
       "    </tr>\n",
       "    <tr>\n",
       "      <th>2365</th>\n",
       "      <td>0</td>\n",
       "      <td>test_2021-03-01 02:30:02.237446</td>\n",
       "      <td>0</td>\n",
       "      <td>1</td>\n",
       "      <td>T</td>\n",
       "      <td>CT</td>\n",
       "      <td>S</td>\n",
       "    </tr>\n",
       "    <tr>\n",
       "      <th>2895</th>\n",
       "      <td>0</td>\n",
       "      <td>test_2021-03-01 02:30:02.237414</td>\n",
       "      <td>0</td>\n",
       "      <td>1</td>\n",
       "      <td>T</td>\n",
       "      <td>CT</td>\n",
       "      <td>S</td>\n",
       "    </tr>\n",
       "    <tr>\n",
       "      <th>5955</th>\n",
       "      <td>0</td>\n",
       "      <td>test_2021-03-01 02:30:02.237441</td>\n",
       "      <td>0</td>\n",
       "      <td>0</td>\n",
       "      <td>T</td>\n",
       "      <td>CT</td>\n",
       "      <td>S</td>\n",
       "    </tr>\n",
       "    <tr>\n",
       "      <th>7283</th>\n",
       "      <td>0</td>\n",
       "      <td>test_2021-03-01 02:30:02.237434</td>\n",
       "      <td>0</td>\n",
       "      <td>1</td>\n",
       "      <td>T</td>\n",
       "      <td>CT</td>\n",
       "      <td>S</td>\n",
       "    </tr>\n",
       "    <tr>\n",
       "      <th>...</th>\n",
       "      <td>...</td>\n",
       "      <td>...</td>\n",
       "      <td>...</td>\n",
       "      <td>...</td>\n",
       "      <td>...</td>\n",
       "      <td>...</td>\n",
       "      <td>...</td>\n",
       "    </tr>\n",
       "    <tr>\n",
       "      <th>332594</th>\n",
       "      <td>0</td>\n",
       "      <td>test_2021-03-01 02:30:02.237445</td>\n",
       "      <td>0</td>\n",
       "      <td>0</td>\n",
       "      <td>T</td>\n",
       "      <td>CT</td>\n",
       "      <td>S</td>\n",
       "    </tr>\n",
       "    <tr>\n",
       "      <th>332705</th>\n",
       "      <td>0</td>\n",
       "      <td>test_2021-03-01 02:30:02.237423</td>\n",
       "      <td>0</td>\n",
       "      <td>1</td>\n",
       "      <td>T</td>\n",
       "      <td>CT</td>\n",
       "      <td>S</td>\n",
       "    </tr>\n",
       "    <tr>\n",
       "      <th>332730</th>\n",
       "      <td>0</td>\n",
       "      <td>test_2021-03-01 02:30:02.237421</td>\n",
       "      <td>0</td>\n",
       "      <td>1</td>\n",
       "      <td>T</td>\n",
       "      <td>CT</td>\n",
       "      <td>S</td>\n",
       "    </tr>\n",
       "    <tr>\n",
       "      <th>333442</th>\n",
       "      <td>0</td>\n",
       "      <td>test_2021-03-01 02:30:02.237431</td>\n",
       "      <td>0</td>\n",
       "      <td>1</td>\n",
       "      <td>T</td>\n",
       "      <td>CT</td>\n",
       "      <td>S</td>\n",
       "    </tr>\n",
       "    <tr>\n",
       "      <th>335279</th>\n",
       "      <td>0</td>\n",
       "      <td>test_2021-03-01 02:30:02.237430</td>\n",
       "      <td>0</td>\n",
       "      <td>0</td>\n",
       "      <td>T</td>\n",
       "      <td>CT</td>\n",
       "      <td>S</td>\n",
       "    </tr>\n",
       "  </tbody>\n",
       "</table>\n",
       "<p>200 rows × 7 columns</p>\n",
       "</div>"
      ],
      "text/plain": [
       "       id_prod                             date session_id client_id category  \\\n",
       "1431         0  test_2021-03-01 02:30:02.237420          0         1        T   \n",
       "2365         0  test_2021-03-01 02:30:02.237446          0         1        T   \n",
       "2895         0  test_2021-03-01 02:30:02.237414          0         1        T   \n",
       "5955         0  test_2021-03-01 02:30:02.237441          0         0        T   \n",
       "7283         0  test_2021-03-01 02:30:02.237434          0         1        T   \n",
       "...        ...                              ...        ...       ...      ...   \n",
       "332594       0  test_2021-03-01 02:30:02.237445          0         0        T   \n",
       "332705       0  test_2021-03-01 02:30:02.237423          0         1        T   \n",
       "332730       0  test_2021-03-01 02:30:02.237421          0         1        T   \n",
       "333442       0  test_2021-03-01 02:30:02.237431          0         1        T   \n",
       "335279       0  test_2021-03-01 02:30:02.237430          0         0        T   \n",
       "\n",
       "       client_category session_category  \n",
       "1431                CT                S  \n",
       "2365                CT                S  \n",
       "2895                CT                S  \n",
       "5955                CT                S  \n",
       "7283                CT                S  \n",
       "...                ...              ...  \n",
       "332594              CT                S  \n",
       "332705              CT                S  \n",
       "332730              CT                S  \n",
       "333442              CT                S  \n",
       "335279              CT                S  \n",
       "\n",
       "[200 rows x 7 columns]"
      ]
     },
     "execution_count": 16,
     "metadata": {},
     "output_type": "execute_result"
    }
   ],
   "source": [
    "# Check the different categories\n",
    "transactions_df.query(\"category == 'T'\")"
   ]
  },
  {
   "cell_type": "markdown",
   "metadata": {},
   "source": [
    "There are 200 rows which date starts with test. We can guess that it was just to *test* if the system is working or not. These rows are not useful for our analysis. We will remove them.\n",
    "We can therefore notice that the test day was on 2021-03-01 at 02:30:02 am."
   ]
  },
  {
   "cell_type": "code",
   "execution_count": 17,
   "metadata": {},
   "outputs": [],
   "source": [
    "# Remove all the test dates\n",
    "transactions_df = transactions_df.query(\"category != 'T'\") # Select all the rows where the category is not T\n",
    "transactions_clean = transactions_df.copy() # Create a new dataframe from transactions_df to avoid warnings"
   ]
  },
  {
   "cell_type": "code",
   "execution_count": 18,
   "metadata": {},
   "outputs": [],
   "source": [
    "# Check if there are still test date, no output means there is no test date anymore\n",
    "assert transactions_clean.category.all() != \"T\""
   ]
  },
  {
   "cell_type": "code",
   "execution_count": 19,
   "metadata": {},
   "outputs": [],
   "source": [
    "transactions_clean.date = transactions_clean.date.astype(\"datetime64\")"
   ]
  },
  {
   "cell_type": "code",
   "execution_count": 20,
   "metadata": {},
   "outputs": [
    {
     "data": {
      "text/plain": [
       "0   2021-04-10 18:37:28.723910\n",
       "1   2022-02-03 01:55:53.276402\n",
       "2   2021-09-23 15:13:46.938559\n",
       "3   2021-10-17 03:27:18.783634\n",
       "4   2021-07-17 20:34:25.800563\n",
       "Name: date, dtype: datetime64[ns]"
      ]
     },
     "execution_count": 20,
     "metadata": {},
     "output_type": "execute_result"
    }
   ],
   "source": [
    "# Assert that the date is in the correct type\n",
    "transactions_clean.date.head()"
   ]
  },
  {
   "cell_type": "code",
   "execution_count": 21,
   "metadata": {},
   "outputs": [],
   "source": [
    "# turn all the categories variable into a category data type\n",
    "transactions_clean.iloc[:, 4:] = transactions_clean.iloc[:, 4:].astype(\"category\")"
   ]
  },
  {
   "cell_type": "code",
   "execution_count": 22,
   "metadata": {},
   "outputs": [
    {
     "name": "stdout",
     "output_type": "stream",
     "text": [
      "<class 'pandas.core.frame.DataFrame'>\n",
      "Int64Index: 336816 entries, 0 to 337015\n",
      "Data columns (total 7 columns):\n",
      " #   Column            Non-Null Count   Dtype         \n",
      "---  ------            --------------   -----         \n",
      " 0   id_prod           336816 non-null  object        \n",
      " 1   date              336816 non-null  datetime64[ns]\n",
      " 2   session_id        336816 non-null  object        \n",
      " 3   client_id         336816 non-null  object        \n",
      " 4   category          336816 non-null  category      \n",
      " 5   client_category   336816 non-null  category      \n",
      " 6   session_category  336816 non-null  category      \n",
      "dtypes: category(3), datetime64[ns](1), object(3)\n",
      "memory usage: 13.8+ MB\n"
     ]
    }
   ],
   "source": [
    "# Check if the variables are categories\n",
    "transactions_clean.info()"
   ]
  },
  {
   "cell_type": "markdown",
   "metadata": {},
   "source": [
    "### Cleaning customers dataset  \n",
    "#### Define  \n",
    "- **Split client_id variable into 2 variables**\n",
    "- **Turn sex variabble in uppercase**\n",
    "- **Turn sex variable into category data type**\n",
    "\n",
    "#### Code"
   ]
  },
  {
   "cell_type": "code",
   "execution_count": 23,
   "metadata": {},
   "outputs": [],
   "source": [
    "# Make a copy of customers dataset\n",
    "customers_clean = customers.copy()"
   ]
  },
  {
   "cell_type": "code",
   "execution_count": 24,
   "metadata": {},
   "outputs": [],
   "source": [
    "# Spllit client_id\n",
    "customers_clean[\"client_id\"], customers_clean[\"client_category\"] = split_columns(customers_clean, \"client_id\")"
   ]
  },
  {
   "cell_type": "code",
   "execution_count": 25,
   "metadata": {},
   "outputs": [],
   "source": [
    "# Turn sex in uppercase\n",
    "customers_clean.sex = customers_clean.sex.map(lambda x : x.upper())"
   ]
  },
  {
   "cell_type": "code",
   "execution_count": 26,
   "metadata": {},
   "outputs": [],
   "source": [
    "# Turn sex into category\n",
    "customers_clean.sex = customers_clean.sex.astype(\"category\")"
   ]
  },
  {
   "cell_type": "code",
   "execution_count": 27,
   "metadata": {},
   "outputs": [
    {
     "name": "stdout",
     "output_type": "stream",
     "text": [
      "  client_id sex  birth client_category\n",
      "0      4410   F   1967               C\n",
      "1      7839   F   1975               C\n",
      "2      1699   F   1984               C\n",
      "3      5961   F   1962               C\n",
      "4      5320   M   1943               C\n",
      "=========================================\n",
      "<class 'pandas.core.frame.DataFrame'>\n",
      "RangeIndex: 8623 entries, 0 to 8622\n",
      "Data columns (total 4 columns):\n",
      " #   Column           Non-Null Count  Dtype   \n",
      "---  ------           --------------  -----   \n",
      " 0   client_id        8623 non-null   object  \n",
      " 1   sex              8623 non-null   category\n",
      " 2   birth            8623 non-null   int64   \n",
      " 3   client_category  8623 non-null   object  \n",
      "dtypes: category(1), int64(1), object(2)\n",
      "memory usage: 210.7+ KB\n"
     ]
    }
   ],
   "source": [
    "# Check the final dataset\n",
    "print(customers_clean.head())\n",
    "print(\"=========================================\")\n",
    "customers_clean.info()"
   ]
  },
  {
   "cell_type": "markdown",
   "metadata": {},
   "source": [
    "### Cleaning products dataset  \n",
    "#### Define  \n",
    "- **Categ variable must be category type not an int**\n",
    "- **Change the categ name to category**  \n",
    "- **Split the id_prod and keep just the id products**  \n",
    "- **There is a price of -1, we will remove it**  \n",
    "\n",
    "#### Code"
   ]
  },
  {
   "cell_type": "code",
   "execution_count": 28,
   "metadata": {},
   "outputs": [],
   "source": [
    "# Make a copy of the products dataset\n",
    "products_df = products.copy()"
   ]
  },
  {
   "cell_type": "code",
   "execution_count": 29,
   "metadata": {},
   "outputs": [],
   "source": [
    "# Change the categ name to category\n",
    "products_df = products_df.rename(columns={\"categ\":\"category\"})"
   ]
  },
  {
   "cell_type": "code",
   "execution_count": 30,
   "metadata": {},
   "outputs": [],
   "source": [
    "# Split id_prod and keep just the id products using the split_columns function\n",
    "products_df[\"id_prod\"], products_df[\"category\"] = split_columns(products_df, \"id_prod\")"
   ]
  },
  {
   "cell_type": "code",
   "execution_count": 31,
   "metadata": {},
   "outputs": [],
   "source": [
    "# Turn the category into a category type\n",
    "products_df.category = products_df.category.astype(\"category\")"
   ]
  },
  {
   "cell_type": "code",
   "execution_count": 32,
   "metadata": {},
   "outputs": [
    {
     "data": {
      "text/html": [
       "<div>\n",
       "<style scoped>\n",
       "    .dataframe tbody tr th:only-of-type {\n",
       "        vertical-align: middle;\n",
       "    }\n",
       "\n",
       "    .dataframe tbody tr th {\n",
       "        vertical-align: top;\n",
       "    }\n",
       "\n",
       "    .dataframe thead th {\n",
       "        text-align: right;\n",
       "    }\n",
       "</style>\n",
       "<table border=\"1\" class=\"dataframe\">\n",
       "  <thead>\n",
       "    <tr style=\"text-align: right;\">\n",
       "      <th></th>\n",
       "      <th>id_prod</th>\n",
       "      <th>price</th>\n",
       "      <th>category</th>\n",
       "    </tr>\n",
       "  </thead>\n",
       "  <tbody>\n",
       "    <tr>\n",
       "      <th>0</th>\n",
       "      <td>1421</td>\n",
       "      <td>19.99</td>\n",
       "      <td>0</td>\n",
       "    </tr>\n",
       "    <tr>\n",
       "      <th>1</th>\n",
       "      <td>1368</td>\n",
       "      <td>5.13</td>\n",
       "      <td>0</td>\n",
       "    </tr>\n",
       "  </tbody>\n",
       "</table>\n",
       "</div>"
      ],
      "text/plain": [
       "  id_prod  price category\n",
       "0    1421  19.99        0\n",
       "1    1368   5.13        0"
      ]
     },
     "execution_count": 32,
     "metadata": {},
     "output_type": "execute_result"
    }
   ],
   "source": [
    "# Check if everything is correct\n",
    "products_df.head(2)"
   ]
  },
  {
   "cell_type": "code",
   "execution_count": 33,
   "metadata": {},
   "outputs": [
    {
     "name": "stdout",
     "output_type": "stream",
     "text": [
      "<class 'pandas.core.frame.DataFrame'>\n",
      "RangeIndex: 3287 entries, 0 to 3286\n",
      "Data columns (total 3 columns):\n",
      " #   Column    Non-Null Count  Dtype   \n",
      "---  ------    --------------  -----   \n",
      " 0   id_prod   3287 non-null   object  \n",
      " 1   price     3287 non-null   float64 \n",
      " 2   category  3287 non-null   category\n",
      "dtypes: category(1), float64(1), object(1)\n",
      "memory usage: 54.9+ KB\n"
     ]
    }
   ],
   "source": [
    "products_df.info()"
   ]
  },
  {
   "cell_type": "code",
   "execution_count": 34,
   "metadata": {},
   "outputs": [
    {
     "data": {
      "text/html": [
       "<div>\n",
       "<style scoped>\n",
       "    .dataframe tbody tr th:only-of-type {\n",
       "        vertical-align: middle;\n",
       "    }\n",
       "\n",
       "    .dataframe tbody tr th {\n",
       "        vertical-align: top;\n",
       "    }\n",
       "\n",
       "    .dataframe thead th {\n",
       "        text-align: right;\n",
       "    }\n",
       "</style>\n",
       "<table border=\"1\" class=\"dataframe\">\n",
       "  <thead>\n",
       "    <tr style=\"text-align: right;\">\n",
       "      <th></th>\n",
       "      <th>id_prod</th>\n",
       "      <th>price</th>\n",
       "      <th>category</th>\n",
       "    </tr>\n",
       "  </thead>\n",
       "  <tbody>\n",
       "    <tr>\n",
       "      <th>731</th>\n",
       "      <td>0</td>\n",
       "      <td>-1.0</td>\n",
       "      <td>T</td>\n",
       "    </tr>\n",
       "  </tbody>\n",
       "</table>\n",
       "</div>"
      ],
      "text/plain": [
       "    id_prod  price category\n",
       "731       0   -1.0        T"
      ]
     },
     "execution_count": 34,
     "metadata": {},
     "output_type": "execute_result"
    }
   ],
   "source": [
    "# Check the -1 price row\n",
    "products_df.query(\"price == -1\")"
   ]
  },
  {
   "cell_type": "markdown",
   "metadata": {},
   "source": [
    "This is probably another test, we will remove it for a better analysis."
   ]
  },
  {
   "cell_type": "code",
   "execution_count": 37,
   "metadata": {},
   "outputs": [],
   "source": [
    "products_clean = products_df.copy()\n",
    "products_clean = products_clean.query(\"price != -1\")"
   ]
  },
  {
   "cell_type": "code",
   "execution_count": 38,
   "metadata": {},
   "outputs": [
    {
     "data": {
      "text/html": [
       "<div>\n",
       "<style scoped>\n",
       "    .dataframe tbody tr th:only-of-type {\n",
       "        vertical-align: middle;\n",
       "    }\n",
       "\n",
       "    .dataframe tbody tr th {\n",
       "        vertical-align: top;\n",
       "    }\n",
       "\n",
       "    .dataframe thead th {\n",
       "        text-align: right;\n",
       "    }\n",
       "</style>\n",
       "<table border=\"1\" class=\"dataframe\">\n",
       "  <thead>\n",
       "    <tr style=\"text-align: right;\">\n",
       "      <th></th>\n",
       "      <th>price</th>\n",
       "    </tr>\n",
       "  </thead>\n",
       "  <tbody>\n",
       "    <tr>\n",
       "      <th>count</th>\n",
       "      <td>3286.000000</td>\n",
       "    </tr>\n",
       "    <tr>\n",
       "      <th>mean</th>\n",
       "      <td>21.863597</td>\n",
       "    </tr>\n",
       "    <tr>\n",
       "      <th>std</th>\n",
       "      <td>29.849786</td>\n",
       "    </tr>\n",
       "    <tr>\n",
       "      <th>min</th>\n",
       "      <td>0.620000</td>\n",
       "    </tr>\n",
       "    <tr>\n",
       "      <th>25%</th>\n",
       "      <td>6.990000</td>\n",
       "    </tr>\n",
       "    <tr>\n",
       "      <th>50%</th>\n",
       "      <td>13.075000</td>\n",
       "    </tr>\n",
       "    <tr>\n",
       "      <th>75%</th>\n",
       "      <td>22.990000</td>\n",
       "    </tr>\n",
       "    <tr>\n",
       "      <th>max</th>\n",
       "      <td>300.000000</td>\n",
       "    </tr>\n",
       "  </tbody>\n",
       "</table>\n",
       "</div>"
      ],
      "text/plain": [
       "             price\n",
       "count  3286.000000\n",
       "mean     21.863597\n",
       "std      29.849786\n",
       "min       0.620000\n",
       "25%       6.990000\n",
       "50%      13.075000\n",
       "75%      22.990000\n",
       "max     300.000000"
      ]
     },
     "execution_count": 38,
     "metadata": {},
     "output_type": "execute_result"
    }
   ],
   "source": [
    "# Check the description to see if it is ok\n",
    "products_clean.describe()"
   ]
  },
  {
   "cell_type": "markdown",
   "metadata": {},
   "source": [
    "Now that all the datasets are clean we can join them all together in a unique dataset for anaylysis."
   ]
  },
  {
   "cell_type": "code",
   "execution_count": 39,
   "metadata": {},
   "outputs": [],
   "source": [
    "# Join all the datasets together\n",
    "sales_merge = transactions_clean.merge(products_clean, on = [\"category\", \"id_prod\"], how = \"left\")"
   ]
  },
  {
   "cell_type": "code",
   "execution_count": 40,
   "metadata": {},
   "outputs": [],
   "source": [
    "sales_df = sales_merge.merge(customers_clean, on = [\"client_id\", \"client_category\"], how = \"left\")"
   ]
  },
  {
   "cell_type": "code",
   "execution_count": 41,
   "metadata": {},
   "outputs": [
    {
     "name": "stdout",
     "output_type": "stream",
     "text": [
      "<class 'pandas.core.frame.DataFrame'>\n",
      "Int64Index: 336816 entries, 0 to 336815\n",
      "Data columns (total 10 columns):\n",
      " #   Column            Non-Null Count   Dtype         \n",
      "---  ------            --------------   -----         \n",
      " 0   id_prod           336816 non-null  object        \n",
      " 1   date              336816 non-null  datetime64[ns]\n",
      " 2   session_id        336816 non-null  object        \n",
      " 3   client_id         336816 non-null  object        \n",
      " 4   category          336816 non-null  category      \n",
      " 5   client_category   336816 non-null  category      \n",
      " 6   session_category  336816 non-null  category      \n",
      " 7   price             336713 non-null  float64       \n",
      " 8   sex               336816 non-null  category      \n",
      " 9   birth             336816 non-null  int64         \n",
      "dtypes: category(4), datetime64[ns](1), float64(1), int64(1), object(3)\n",
      "memory usage: 19.3+ MB\n"
     ]
    }
   ],
   "source": [
    "# Turn category and client category into categorical variable\n",
    "sales_df.iloc[:, 4:6] = sales_df.iloc[:, 4:6].astype(\"category\")\n",
    "# Check if it is ok\n",
    "sales_df.info()"
   ]
  },
  {
   "cell_type": "markdown",
   "metadata": {},
   "source": [
    "We can see that price has less values than the other columns, probably due to missing values. Let us confirm that."
   ]
  },
  {
   "cell_type": "code",
   "execution_count": 42,
   "metadata": {},
   "outputs": [
    {
     "data": {
      "text/plain": [
       "id_prod             False\n",
       "date                False\n",
       "session_id          False\n",
       "client_id           False\n",
       "category            False\n",
       "client_category     False\n",
       "session_category    False\n",
       "price                True\n",
       "sex                 False\n",
       "birth               False\n",
       "dtype: bool"
      ]
     },
     "execution_count": 42,
     "metadata": {},
     "output_type": "execute_result"
    }
   ],
   "source": [
    "# Check the columns with missing values\n",
    "sales_df.isna().any()"
   ]
  },
  {
   "cell_type": "code",
   "execution_count": 43,
   "metadata": {},
   "outputs": [
    {
     "data": {
      "image/png": "[encoded data removed]",
      "text/plain": [
       "<Figure size 432x288 with 1 Axes>"
      ]
     },
     "metadata": {
      "needs_background": "light"
     },
     "output_type": "display_data"
    }
   ],
   "source": [
    "# Plot the missing values\n",
    "sales_df.isna().sum().plot(kind = \"bar\");"
   ]
  },
  {
   "cell_type": "code",
   "execution_count": 49,
   "metadata": {},
   "outputs": [
    {
     "data": {
      "text/plain": [
       "array(['2245'], dtype=object)"
      ]
     },
     "execution_count": 49,
     "metadata": {},
     "output_type": "execute_result"
    }
   ],
   "source": [
    "# Check the id product with missing values\n",
    "sales_df[sales_df.price.isna()][\"id_prod\"].unique()"
   ]
  },
  {
   "cell_type": "markdown",
   "metadata": {},
   "source": [
    "There is just one product, It means that the information about this product **(id = 2245)** was not available in the product dataframe."
   ]
  },
  {
   "cell_type": "code",
   "execution_count": 52,
   "metadata": {},
   "outputs": [],
   "source": [
    "# Replace the NaN values with the median price\n",
    "sales_df.price.fillna(sales_df.price.median(), inplace = True)"
   ]
  },
  {
   "cell_type": "code",
   "execution_count": 53,
   "metadata": {},
   "outputs": [],
   "source": [
    "# Assert that there are no missing values anymore in the dataframe\n",
    "assert sales_df.isna().all().all() == False"
   ]
  },
  {
   "cell_type": "code",
   "execution_count": 54,
   "metadata": {},
   "outputs": [
    {
     "data": {
      "text/html": [
       "<div>\n",
       "<style scoped>\n",
       "    .dataframe tbody tr th:only-of-type {\n",
       "        vertical-align: middle;\n",
       "    }\n",
       "\n",
       "    .dataframe tbody tr th {\n",
       "        vertical-align: top;\n",
       "    }\n",
       "\n",
       "    .dataframe thead th {\n",
       "        text-align: right;\n",
       "    }\n",
       "</style>\n",
       "<table border=\"1\" class=\"dataframe\">\n",
       "  <thead>\n",
       "    <tr style=\"text-align: right;\">\n",
       "      <th></th>\n",
       "      <th>id_prod</th>\n",
       "      <th>date</th>\n",
       "      <th>session_id</th>\n",
       "      <th>client_id</th>\n",
       "      <th>category</th>\n",
       "      <th>client_category</th>\n",
       "      <th>session_category</th>\n",
       "      <th>price</th>\n",
       "      <th>sex</th>\n",
       "      <th>birth</th>\n",
       "      <th>age</th>\n",
       "    </tr>\n",
       "  </thead>\n",
       "  <tbody>\n",
       "    <tr>\n",
       "      <th>0</th>\n",
       "      <td>1483</td>\n",
       "      <td>2021-04-10 18:37:28.723910</td>\n",
       "      <td>18746</td>\n",
       "      <td>4450</td>\n",
       "      <td>0</td>\n",
       "      <td>C</td>\n",
       "      <td>S</td>\n",
       "      <td>4.99</td>\n",
       "      <td>F</td>\n",
       "      <td>1977</td>\n",
       "      <td>45</td>\n",
       "    </tr>\n",
       "    <tr>\n",
       "      <th>1</th>\n",
       "      <td>226</td>\n",
       "      <td>2022-02-03 01:55:53.276402</td>\n",
       "      <td>159142</td>\n",
       "      <td>277</td>\n",
       "      <td>2</td>\n",
       "      <td>C</td>\n",
       "      <td>S</td>\n",
       "      <td>65.75</td>\n",
       "      <td>F</td>\n",
       "      <td>2000</td>\n",
       "      <td>22</td>\n",
       "    </tr>\n",
       "  </tbody>\n",
       "</table>\n",
       "</div>"
      ],
      "text/plain": [
       "  id_prod                       date session_id client_id category  \\\n",
       "0    1483 2021-04-10 18:37:28.723910      18746      4450        0   \n",
       "1     226 2022-02-03 01:55:53.276402     159142       277        2   \n",
       "\n",
       "  client_category session_category  price sex  birth  age  \n",
       "0               C                S   4.99   F   1977   45  \n",
       "1               C                S  65.75   F   2000   22  "
      ]
     },
     "execution_count": 54,
     "metadata": {},
     "output_type": "execute_result"
    }
   ],
   "source": [
    "# Create the variable age, max date - birth date\n",
    "actual_year = sales_df.date.max().year # Find the max year in the dataframe to use as actual year\n",
    "sales_df[\"age\"] = actual_year - sales_df.birth # Can lead to error if data is not updated over time\n",
    "sales_df.head(2)"
   ]
  },
  {
   "cell_type": "code",
   "execution_count": 68,
   "metadata": {},
   "outputs": [
    {
     "data": {
      "text/html": [
       "<div>\n",
       "<style scoped>\n",
       "    .dataframe tbody tr th:only-of-type {\n",
       "        vertical-align: middle;\n",
       "    }\n",
       "\n",
       "    .dataframe tbody tr th {\n",
       "        vertical-align: top;\n",
       "    }\n",
       "\n",
       "    .dataframe thead th {\n",
       "        text-align: right;\n",
       "    }\n",
       "</style>\n",
       "<table border=\"1\" class=\"dataframe\">\n",
       "  <thead>\n",
       "    <tr style=\"text-align: right;\">\n",
       "      <th></th>\n",
       "      <th>id_prod</th>\n",
       "      <th>date</th>\n",
       "      <th>session_id</th>\n",
       "      <th>client_id</th>\n",
       "      <th>category</th>\n",
       "      <th>client_category</th>\n",
       "      <th>session_category</th>\n",
       "      <th>price</th>\n",
       "      <th>sex</th>\n",
       "      <th>age</th>\n",
       "    </tr>\n",
       "  </thead>\n",
       "  <tbody>\n",
       "    <tr>\n",
       "      <th>0</th>\n",
       "      <td>1483</td>\n",
       "      <td>2021-04-10 18:37:28.723910</td>\n",
       "      <td>18746</td>\n",
       "      <td>4450</td>\n",
       "      <td>0</td>\n",
       "      <td>C</td>\n",
       "      <td>S</td>\n",
       "      <td>4.99</td>\n",
       "      <td>F</td>\n",
       "      <td>45</td>\n",
       "    </tr>\n",
       "    <tr>\n",
       "      <th>1</th>\n",
       "      <td>226</td>\n",
       "      <td>2022-02-03 01:55:53.276402</td>\n",
       "      <td>159142</td>\n",
       "      <td>277</td>\n",
       "      <td>2</td>\n",
       "      <td>C</td>\n",
       "      <td>S</td>\n",
       "      <td>65.75</td>\n",
       "      <td>F</td>\n",
       "      <td>22</td>\n",
       "    </tr>\n",
       "  </tbody>\n",
       "</table>\n",
       "</div>"
      ],
      "text/plain": [
       "  id_prod                       date session_id client_id category  \\\n",
       "0    1483 2021-04-10 18:37:28.723910      18746      4450        0   \n",
       "1     226 2022-02-03 01:55:53.276402     159142       277        2   \n",
       "\n",
       "  client_category session_category  price sex  age  \n",
       "0               C                S   4.99   F   45  \n",
       "1               C                S  65.75   F   22  "
      ]
     },
     "execution_count": 68,
     "metadata": {},
     "output_type": "execute_result"
    }
   ],
   "source": [
    "# Remove the useless column birth\n",
    "sales_df = sales_df.drop(\"birth\", axis = 1)\n",
    "sales_df.head(2)"
   ]
  },
  {
   "cell_type": "code",
   "execution_count": 70,
   "metadata": {},
   "outputs": [
    {
     "name": "stdout",
     "output_type": "stream",
     "text": [
      "[S]\n",
      "Categories (1, object): [S]\n",
      "[C]\n",
      "Categories (1, object): [C]\n"
     ]
    }
   ],
   "source": [
    "print(sales_df.session_category.unique())\n",
    "print(sales_df.client_category.unique())"
   ]
  },
  {
   "cell_type": "markdown",
   "metadata": {},
   "source": [
    "client category and session category have just 1 category, those variables are not usefull for the analysis. We will remove them.\n"
   ]
  },
  {
   "cell_type": "code",
   "execution_count": 76,
   "metadata": {},
   "outputs": [
    {
     "data": {
      "text/html": [
       "<div>\n",
       "<style scoped>\n",
       "    .dataframe tbody tr th:only-of-type {\n",
       "        vertical-align: middle;\n",
       "    }\n",
       "\n",
       "    .dataframe tbody tr th {\n",
       "        vertical-align: top;\n",
       "    }\n",
       "\n",
       "    .dataframe thead th {\n",
       "        text-align: right;\n",
       "    }\n",
       "</style>\n",
       "<table border=\"1\" class=\"dataframe\">\n",
       "  <thead>\n",
       "    <tr style=\"text-align: right;\">\n",
       "      <th></th>\n",
       "      <th>id_prod</th>\n",
       "      <th>date</th>\n",
       "      <th>session_id</th>\n",
       "      <th>client_id</th>\n",
       "      <th>category</th>\n",
       "      <th>price</th>\n",
       "      <th>sex</th>\n",
       "      <th>age</th>\n",
       "    </tr>\n",
       "  </thead>\n",
       "  <tbody>\n",
       "    <tr>\n",
       "      <th>0</th>\n",
       "      <td>1483</td>\n",
       "      <td>2021-04-10 18:37:28.723910</td>\n",
       "      <td>18746</td>\n",
       "      <td>4450</td>\n",
       "      <td>0</td>\n",
       "      <td>4.99</td>\n",
       "      <td>F</td>\n",
       "      <td>45</td>\n",
       "    </tr>\n",
       "    <tr>\n",
       "      <th>1</th>\n",
       "      <td>226</td>\n",
       "      <td>2022-02-03 01:55:53.276402</td>\n",
       "      <td>159142</td>\n",
       "      <td>277</td>\n",
       "      <td>2</td>\n",
       "      <td>65.75</td>\n",
       "      <td>F</td>\n",
       "      <td>22</td>\n",
       "    </tr>\n",
       "  </tbody>\n",
       "</table>\n",
       "</div>"
      ],
      "text/plain": [
       "  id_prod                       date session_id client_id category  price sex  \\\n",
       "0    1483 2021-04-10 18:37:28.723910      18746      4450        0   4.99   F   \n",
       "1     226 2022-02-03 01:55:53.276402     159142       277        2  65.75   F   \n",
       "\n",
       "   age  \n",
       "0   45  \n",
       "1   22  "
      ]
     },
     "execution_count": 76,
     "metadata": {},
     "output_type": "execute_result"
    }
   ],
   "source": [
    "sales_clean = sales_df.drop([\"client_category\", \"session_category\"], axis = 1)\n",
    "sales_clean.head(2)"
   ]
  },
  {
   "cell_type": "markdown",
   "metadata": {},
   "source": [
    "Let us rename the **sex** variable to **gender**, and **F to female**, **M to male**, for better comprehension."
   ]
  },
  {
   "cell_type": "code",
   "execution_count": 98,
   "metadata": {},
   "outputs": [
    {
     "data": {
      "text/html": [
       "<div>\n",
       "<style scoped>\n",
       "    .dataframe tbody tr th:only-of-type {\n",
       "        vertical-align: middle;\n",
       "    }\n",
       "\n",
       "    .dataframe tbody tr th {\n",
       "        vertical-align: top;\n",
       "    }\n",
       "\n",
       "    .dataframe thead th {\n",
       "        text-align: right;\n",
       "    }\n",
       "</style>\n",
       "<table border=\"1\" class=\"dataframe\">\n",
       "  <thead>\n",
       "    <tr style=\"text-align: right;\">\n",
       "      <th></th>\n",
       "      <th>id_prod</th>\n",
       "      <th>date</th>\n",
       "      <th>session_id</th>\n",
       "      <th>client_id</th>\n",
       "      <th>category</th>\n",
       "      <th>price</th>\n",
       "      <th>gender</th>\n",
       "      <th>age</th>\n",
       "    </tr>\n",
       "  </thead>\n",
       "  <tbody>\n",
       "    <tr>\n",
       "      <th>0</th>\n",
       "      <td>1483</td>\n",
       "      <td>2021-04-10 18:37:28.723910</td>\n",
       "      <td>18746</td>\n",
       "      <td>4450</td>\n",
       "      <td>0</td>\n",
       "      <td>4.99</td>\n",
       "      <td>female</td>\n",
       "      <td>45</td>\n",
       "    </tr>\n",
       "    <tr>\n",
       "      <th>1</th>\n",
       "      <td>226</td>\n",
       "      <td>2022-02-03 01:55:53.276402</td>\n",
       "      <td>159142</td>\n",
       "      <td>277</td>\n",
       "      <td>2</td>\n",
       "      <td>65.75</td>\n",
       "      <td>female</td>\n",
       "      <td>22</td>\n",
       "    </tr>\n",
       "    <tr>\n",
       "      <th>2</th>\n",
       "      <td>374</td>\n",
       "      <td>2021-09-23 15:13:46.938559</td>\n",
       "      <td>94290</td>\n",
       "      <td>4270</td>\n",
       "      <td>1</td>\n",
       "      <td>10.71</td>\n",
       "      <td>female</td>\n",
       "      <td>43</td>\n",
       "    </tr>\n",
       "    <tr>\n",
       "      <th>3</th>\n",
       "      <td>2186</td>\n",
       "      <td>2021-10-17 03:27:18.783634</td>\n",
       "      <td>105936</td>\n",
       "      <td>4597</td>\n",
       "      <td>0</td>\n",
       "      <td>4.20</td>\n",
       "      <td>male</td>\n",
       "      <td>59</td>\n",
       "    </tr>\n",
       "    <tr>\n",
       "      <th>4</th>\n",
       "      <td>1351</td>\n",
       "      <td>2021-07-17 20:34:25.800563</td>\n",
       "      <td>63642</td>\n",
       "      <td>1242</td>\n",
       "      <td>0</td>\n",
       "      <td>8.99</td>\n",
       "      <td>female</td>\n",
       "      <td>42</td>\n",
       "    </tr>\n",
       "  </tbody>\n",
       "</table>\n",
       "</div>"
      ],
      "text/plain": [
       "  id_prod                       date session_id client_id category  price  \\\n",
       "0    1483 2021-04-10 18:37:28.723910      18746      4450        0   4.99   \n",
       "1     226 2022-02-03 01:55:53.276402     159142       277        2  65.75   \n",
       "2     374 2021-09-23 15:13:46.938559      94290      4270        1  10.71   \n",
       "3    2186 2021-10-17 03:27:18.783634     105936      4597        0   4.20   \n",
       "4    1351 2021-07-17 20:34:25.800563      63642      1242        0   8.99   \n",
       "\n",
       "   gender  age  \n",
       "0  female   45  \n",
       "1  female   22  \n",
       "2  female   43  \n",
       "3    male   59  \n",
       "4  female   42  "
      ]
     },
     "execution_count": 98,
     "metadata": {},
     "output_type": "execute_result"
    }
   ],
   "source": [
    "# Rename sex variable to gender\n",
    "sales_clean.rename(columns = {\"sex\":\"gender\"}, inplace = True)\n",
    "# Replace F by female and M by male\n",
    "sales_clean.gender.replace(\"F\", \"female\", inplace = True)\n",
    "sales_clean.gender.replace(\"M\", \"male\", inplace = True)\n",
    "sales_clean.head()"
   ]
  },
  {
   "cell_type": "markdown",
   "metadata": {},
   "source": [
    "## ANALYZE THE DATA  \n",
    "\n",
    "Now that all the datasets are cleaned we can make some analysis. \n",
    "\n",
    "\n",
    "**What is the average price of the sales?**"
   ]
  },
  {
   "cell_type": "code",
   "execution_count": 99,
   "metadata": {},
   "outputs": [
    {
     "data": {
      "text/plain": [
       "count    336816.000000\n",
       "mean         17.214175\n",
       "std          17.852809\n",
       "min           0.620000\n",
       "25%           8.610000\n",
       "50%          13.900000\n",
       "75%          18.990000\n",
       "max         300.000000\n",
       "Name: price, dtype: float64"
      ]
     },
     "execution_count": 99,
     "metadata": {},
     "output_type": "execute_result"
    }
   ],
   "source": [
    "sales_clean.price.describe()"
   ]
  },
  {
   "cell_type": "markdown",
   "metadata": {},
   "source": [
    "We have an average price of **17.22** but with a standard deviation of **17.85** which means that there are too much variability between the prices, there are probably outliers. Let's check for the IQR.  "
   ]
  },
  {
   "cell_type": "code",
   "execution_count": 100,
   "metadata": {},
   "outputs": [
    {
     "data": {
      "text/plain": [
       "10.379999999999999"
      ]
     },
     "execution_count": 100,
     "metadata": {},
     "output_type": "execute_result"
    }
   ],
   "source": [
    "# IQR of the price\n",
    "def iqr(column) -> float:\n",
    "    \"\"\"return the iqr of a given column\"\"\"\n",
    "    return column.quantile(.75) - column.quantile(.25)\n",
    "# IQR of the price\n",
    "iqr(sales_clean.price)"
   ]
  },
  {
   "cell_type": "markdown",
   "metadata": {},
   "source": [
    "We have an IQR of around **10**, the variability is high. Let's make a plot."
   ]
  },
  {
   "cell_type": "code",
   "execution_count": 105,
   "metadata": {},
   "outputs": [
    {
     "data": {
      "image/png": "[encoded data removed]",
      "text/plain": [
       "<Figure size 432x288 with 1 Axes>"
      ]
     },
     "metadata": {
      "needs_background": "light"
     },
     "output_type": "display_data"
    }
   ],
   "source": [
    "# Boxplot to see the variability\n",
    "sns.boxplot(sales_clean.price);"
   ]
  },
  {
   "cell_type": "markdown",
   "metadata": {},
   "source": [
    "As we can see there are many outliers. Let's try to find them all. "
   ]
  },
  {
   "cell_type": "code",
   "execution_count": null,
   "metadata": {},
   "outputs": [],
   "source": [
    "# Find all the positive outliers\n",
    "outliers = sales_clean.price.quantile(0.75)+1.5*iqr(sales_clean.price)\n",
    "sales_clean.price[sales_clean.price > outliers].sort_values()"
   ]
  },
  {
   "cell_type": "markdown",
   "metadata": {},
   "source": [
    "All the price between **34.77** to **300** are outliers. "
   ]
  },
  {
   "cell_type": "code",
   "execution_count": null,
   "metadata": {},
   "outputs": [],
   "source": [
    "# Boxplot of the outliers values\n",
    "sales_clean_no_outliers = sales_clean[sales_clean.price < outliers]\n",
    "plt.hist(sales_clean_no_outliers.price);"
   ]
  },
  {
   "cell_type": "code",
   "execution_count": null,
   "metadata": {},
   "outputs": [],
   "source": [
    "sales_clean_no_outliers.price.agg([np.mean, np.median])"
   ]
  },
  {
   "cell_type": "markdown",
   "metadata": {},
   "source": [
    "If we remove all the outliers the mean and median are almost the same and are around $13. "
   ]
  },
  {
   "cell_type": "code",
   "execution_count": null,
   "metadata": {},
   "outputs": [],
   "source": [
    "# check the proportion of outliers in the dataframe\n",
    "sales_clean_outliers = sales_clean.price[sales_clean.price > outliers]\n",
    "prop_outliers = len(sales_clean_outliers) / len(sales_clean) * 100\n",
    "prop_outliers"
   ]
  },
  {
   "cell_type": "markdown",
   "metadata": {},
   "source": [
    "The outliers represent about **6%** of the number of sales. Let see what it represent as value"
   ]
  },
  {
   "cell_type": "code",
   "execution_count": null,
   "metadata": {},
   "outputs": [],
   "source": [
    "# total sales for the outliers\n",
    "outliers_total_sales = sales_clean_outliers.sum() / sales_clean.price.sum() * 100\n",
    "outliers_total_sales"
   ]
  },
  {
   "cell_type": "markdown",
   "metadata": {},
   "source": [
    "Even if the outliers represent just **6%** of the sales, they represent **25%** of the total purchases amount."
   ]
  },
  {
   "cell_type": "code",
   "execution_count": null,
   "metadata": {},
   "outputs": [],
   "source": [
    "# mean, median and mode of the price in the dataframe\n",
    "print(\"mean : \",sales_clean.price.mean())\n",
    "print(\"median : \",sales_clean.price.median())\n",
    "print(\"mode : \",sales_clean.price.mode()[0])"
   ]
  },
  {
   "cell_type": "markdown",
   "metadata": {},
   "source": [
    "We confirm here that most of the sales are between **0 and 16**, with highest sales at **13.9**"
   ]
  },
  {
   "cell_type": "markdown",
   "metadata": {},
   "source": [
    "**Which are the categories with more sales?**"
   ]
  },
  {
   "cell_type": "code",
   "execution_count": null,
   "metadata": {},
   "outputs": [],
   "source": [
    "plt.figure(figsize = [8,6])\n",
    "# Choose a standard color for the plot\n",
    "base_color = sns.color_palette()[0]\n",
    "# Barplot of the categories\n",
    "sns.countplot(data = sales_clean, x = \"category\", color = base_color)\n",
    "plt.title(\"Number of Sales per Products Category\", fontsize = 15)\n",
    "plt.xlabel(xlabel = \"Category\", fontsize = 12)\n",
    "plt.ylabel(ylabel = \"Number of Sales\", fontsize = 12)\n",
    "# Add some annotations\n",
    "number_points = sales_clean.shape[0]        # number of points in the dataset\n",
    "category_counts = sales_clean.category.value_counts() # all Values of the categories\n",
    "locs, labels = plt.xticks()   # Current tick locations and labels\n",
    "# Loop through each pair of locations and labels  \n",
    "for loc, label in zip(locs, labels):\n",
    "    # Text property for the label to get the current count\n",
    "    count = category_counts[label.get_text()]\n",
    "    percentage = '{:0.1f}%'.format(100*count/number_points) # Percentage of each category\n",
    "    # Put the annotations inside the bar on the top\n",
    "    plt.text(x = loc, y = count-10000, s = percentage, ha = 'center', color = 'orange')"
   ]
  },
  {
   "cell_type": "markdown",
   "metadata": {},
   "source": [
    "**62%** of the sales are in category 0, **33%** in category 1 and just **5.2%** in category 2. "
   ]
  },
  {
   "cell_type": "markdown",
   "metadata": {},
   "source": [
    "**What is the Average sale in each category?**"
   ]
  },
  {
   "cell_type": "code",
   "execution_count": null,
   "metadata": {},
   "outputs": [],
   "source": [
    "# Considering all the dataframe\n",
    "plt.figure(figsize = [12,14])\n",
    "plt.subplot(3,1,1)\n",
    "sns.boxplot(data = sales_clean[sales_clean.category == \"0\"], x = \"price\")\n",
    "plt.title(\"Category 0\", fontsize = 14, fontweight = \"bold\")\n",
    "plt.xlabel(\"\")\n",
    "\n",
    "plt.subplot(3,1,2)\n",
    "sns.boxplot(data = sales_clean[sales_clean.category == \"1\"], x = \"price\")\n",
    "plt.title(\"Category 1\", fontsize = 14, fontweight = \"bold\")\n",
    "plt.xlabel(\"\")\n",
    "\n",
    "plt.subplot(3,1,3)\n",
    "sns.boxplot(data = sales_clean[sales_clean.category == \"2\"], x = \"price\")\n",
    "plt.title(\"Category 2\", fontsize = 14, fontweight = \"bold\")\n",
    "plt.xlabel(\"Price\", fontsize = 12, fontweight = \"bold\");"
   ]
  },
  {
   "cell_type": "code",
   "execution_count": null,
   "metadata": {},
   "outputs": [],
   "source": [
    "for i in range(3):\n",
    "    print(\"Mean Category \" + str(i) + \": \", sales_clean.price[sales_clean.category == str(i)].mean())\n",
    "    print(\"Median Category \" + str(i) + \": \", sales_clean.price[sales_clean.category == str(i)].median())\n",
    "    print(\"Mode Category \" + str(i) + \": \", sales_clean.price[sales_clean.category == str(i)].mode()[0])\n",
    "    print(\"Standard Deviation Category \" + str(i) + \":\", sales_clean.price[sales_merge.category == str(i)].std(),\"\\n\")    "
   ]
  },
  {
   "cell_type": "code",
   "execution_count": null,
   "metadata": {},
   "outputs": [],
   "source": [
    "# Average sales in each category removing outliers\n",
    "plt.figure(figsize = [12,14])\n",
    "plt.subplot(3,1,1)\n",
    "sns.boxplot(data = sales_clean_no_outliers[sales_clean_no_outliers.category == \"0\"], x = \"price\")\n",
    "plt.title(\"Category 0\", fontsize = 14, fontweight = \"bold\")\n",
    "plt.xlabel(\"\")\n",
    "\n",
    "plt.subplot(3,1,2)\n",
    "sns.boxplot(data = sales_clean_no_outliers[sales_clean_no_outliers.category == \"1\"], x = \"price\")\n",
    "plt.title(\"Category 1\", fontsize = 14, fontweight = \"bold\")\n",
    "plt.xlabel(\"\")\n",
    "\n",
    "plt.subplot(3,1,3)\n",
    "sns.boxplot(data = sales_clean_no_outliers[sales_clean_no_outliers.category == \"2\"], x = \"price\")\n",
    "plt.title(\"Category 2\", fontsize = 14, fontweight = \"bold\")\n",
    "plt.xlabel(\"Price\", fontsize = 12, fontweight = \"bold\");"
   ]
  },
  {
   "cell_type": "code",
   "execution_count": null,
   "metadata": {},
   "outputs": [],
   "source": [
    "# measures of center df without outliers\n",
    "for i in range(3):\n",
    "    print(\"Mean Category \" + str(i) + \": \", sales_clean_no_outliers.price[sales_clean_no_outliers.category == str(i)].mean())\n",
    "    print(\"Median Category \" + str(i) + \": \", sales_clean_no_outliers.price[sales_clean_no_outliers.category == str(i)].median())\n",
    "    print(\"Mode Category \" + str(i) + \": \", sales_clean_no_outliers.price[sales_clean_no_outliers.category == str(i)].mode()[0])\n",
    "    print(\"Standard Deviation Category \" + str(i) + \":\", sales_clean_no_outliers.price[sales_merge.category == str(i)].std(),\"\\n\")"
   ]
  },
  {
   "cell_type": "markdown",
   "metadata": {},
   "source": [
    "It seems that all the outiers values are from product of category 2. Product of category 2 are the most expensives."
   ]
  },
  {
   "cell_type": "markdown",
   "metadata": {},
   "source": [
    "**Distribution of sales by Age**"
   ]
  },
  {
   "cell_type": "code",
   "execution_count": null,
   "metadata": {},
   "outputs": [],
   "source": [
    "bin_num = int(1 + np.log2(sales_clean.shape[0]))\n",
    "plt.hist(sales_clean.age, bins = bin_num)\n",
    "plt.xlabel(\"Age\")\n",
    "plt.title(\"Distribution of Sales by Age\");"
   ]
  },
  {
   "cell_type": "markdown",
   "metadata": {},
   "source": [
    "Most of the sales come from people aged between 30 and 55 with a peak at 42 years old.\n",
    "\n",
    "### Sales per Gender"
   ]
  },
  {
   "cell_type": "code",
   "execution_count": null,
   "metadata": {},
   "outputs": [],
   "source": [
    "plt.figure(figsize = [8,6])\n",
    "# Choose a standard color for the plot\n",
    "base_color = sns.color_palette()[0]\n",
    "# Barplot of the categories\n",
    "sns.countplot(data = sales_clean, x = \"sex\", color = base_color)\n",
    "plt.title(\"Number of Sales per Gender\", fontsize = 15)\n",
    "plt.xlabel(xlabel = \"Gender\", fontsize = 12)\n",
    "plt.ylabel(ylabel = \"Number of Sales\", fontsize = 12)\n",
    "# Add some annotations\n",
    "number_points = sales_clean.shape[0]        # number of points in the dataset\n",
    "category_counts = sales_clean.sex.value_counts() # all Values of each category\n",
    "locs, labels = plt.xticks()   # Current tick locations and labels\n",
    "# Loop through each pair of locations and labels  \n",
    "for loc, label in zip(locs, labels):\n",
    "    # Text property for the label to get the current count\n",
    "    count = category_counts[label.get_text()]\n",
    "    percentage = '{:0.1f}%'.format(100*count/number_points) # Percentage of each category\n",
    "    # Put the annotations inside the bar on the top\n",
    "    plt.text(x = loc, y = count-10000, s = percentage, ha = 'center', color = 'orange')"
   ]
  },
  {
   "cell_type": "markdown",
   "metadata": {},
   "source": [
    "The number of sales is almost the same for each gender."
   ]
  },
  {
   "cell_type": "markdown",
   "metadata": {},
   "source": [
    "**Sales over time**"
   ]
  },
  {
   "cell_type": "markdown",
   "metadata": {},
   "source": [
    "Check all the date availaible."
   ]
  },
  {
   "cell_type": "code",
   "execution_count": null,
   "metadata": {},
   "outputs": [],
   "source": [
    "# Check the years \n",
    "sales_clean.date.dt.year.unique()"
   ]
  },
  {
   "cell_type": "code",
   "execution_count": null,
   "metadata": {},
   "outputs": [],
   "source": [
    "# Check the last date of 2022\n",
    "sales_clean.date.max()"
   ]
  },
  {
   "cell_type": "markdown",
   "metadata": {},
   "source": [
    "We have data for 2021 and 2022. For 2022 we have just January and February."
   ]
  },
  {
   "cell_type": "code",
   "execution_count": null,
   "metadata": {},
   "outputs": [],
   "source": [
    "# Time series of the price each month just for 2021\n",
    "sales_clean_21 = sales_clean[sales_clean.date.dt.year == 2021]\n",
    "sales_clean_22 = sales_clean[sales_clean.date.dt.year == 2022]\n",
    "g = sales_clean_21.groupby(sales_clean_21.date.dt.strftime(\"%b\")).sum().reset_index() # We group by months of 2022\n",
    "g1 = sales_clean_22.groupby(sales_clean_22.date.dt.strftime(\"%b\")).sum().reset_index() # We group by months of 2022\n",
    "fig, ax = plt.subplots()\n",
    "ax.plot(g.date, g.price)\n",
    "ax.plot(g1.date, g1.price);"
   ]
  },
  {
   "cell_type": "markdown",
   "metadata": {},
   "source": [
    "In 2021 December is the month with the most sales, while October is the worse. Overall february is the month with the most sales."
   ]
  },
  {
   "cell_type": "markdown",
   "metadata": {},
   "source": [
    "**Concentration of prices**"
   ]
  },
  {
   "cell_type": "code",
   "execution_count": null,
   "metadata": {},
   "outputs": [],
   "source": [
    "# Plot the lorenz curve\n",
    "n = len(sales_clean.price) #size of the sample\n",
    "lorenz = np.cumsum(np.sort(sales_clean.price) / sales_clean.price.sum()) #result will be an array\n",
    "lorenz = np.append([0], lorenz) #values of the y axis on the curve, the curve will begin at 0\n",
    "\n",
    "# plt.axes().axis(\"equal\") #x and y axis will have the same length\n",
    "xaxis = np.linspace(0-1/n, 1+1/n, n+1) #values of the x axis on the curve\n",
    "plt.plot(xaxis, lorenz, drawstyle = \"steps-post\")\n",
    "plt.plot(xaxis, xaxis, linestyle=\"--\") #Plot the 1st bissector\n",
    "plt.show()"
   ]
  },
  {
   "cell_type": "code",
   "execution_count": null,
   "metadata": {},
   "outputs": [],
   "source": [
    "# Gini coefficient\n",
    "AUC = (lorenz.sum() - lorenz[-1]/2 - lorenz[0]/2)/n # Area under the curve\n",
    "S = 0.5 - AUC\n",
    "gini = round(2*S,1)*100\n",
    "gini"
   ]
  },
  {
   "cell_type": "markdown",
   "metadata": {},
   "source": [
    "We have a gini coefficient of around 40%, which means that the level of inequality is not that high."
   ]
  },
  {
   "cell_type": "markdown",
   "metadata": {},
   "source": [
    "**Correlations**"
   ]
  },
  {
   "cell_type": "code",
   "execution_count": null,
   "metadata": {},
   "outputs": [],
   "source": [
    "# Correlation between gender and categories of products purchased\n",
    "sns.catplot(x = \"sex\", y = \"price\", col = \"category\", kind = \"violin\" , data = sales_clean);"
   ]
  },
  {
   "cell_type": "markdown",
   "metadata": {},
   "source": [
    "We can see that in each category gender are almost simmetrical, this means that there is no difference of purchase between gender in each category."
   ]
  },
  {
   "cell_type": "code",
   "execution_count": null,
   "metadata": {},
   "outputs": [],
   "source": [
    "# Contigency table\n",
    "gender_category_table = pd.crosstab(index = sales_clean.category, columns = sales_clean.sex)\n",
    "gender_category_table"
   ]
  },
  {
   "cell_type": "code",
   "execution_count": null,
   "metadata": {},
   "outputs": [],
   "source": [
    "gender_category_table.plot(kind=\"bar\", rot= 0);"
   ]
  },
  {
   "cell_type": "code",
   "execution_count": null,
   "metadata": {},
   "outputs": [],
   "source": [
    "stat, p, dof, expected = sci.chi2_contingency(gender_category_table)\n",
    "if p > 0.01:\n",
    "    print(\"Gender and Category are probably independent\")\n",
    "else:\n",
    "    print(\"Gender and Category are probably dependent\")"
   ]
  },
  {
   "cell_type": "markdown",
   "metadata": {},
   "source": [
    "There are more sales in category 0 and very less in category 2, even if category sales has higher prices.   \n",
    "In category **0** *Male* have more sales than *Female*.  \n",
    "In category **1** *Female* have more sales than *Male*.  \n",
    "In category **2** *Male* have more sales than *Female*. "
   ]
  },
  {
   "cell_type": "markdown",
   "metadata": {},
   "source": [
    "**Correlation between age and total amount of purchases**"
   ]
  },
  {
   "cell_type": "code",
   "execution_count": null,
   "metadata": {},
   "outputs": [],
   "source": [
    "# Create a dataframe with age and the total amount purchases\n",
    "corr_age_price = sales_clean.groupby(\"age\").sum().reset_index()\n",
    "# Plot using regplot\n",
    "sns.regplot(x = \"age\", y = \"price\", data = corr_age_price, fit_reg = True);\n",
    "sci.pearsonr(sales_clean.price, sales_clean.age)"
   ]
  },
  {
   "cell_type": "markdown",
   "metadata": {},
   "source": [
    "There is a weak correlation between the age and the amount of purchases, as the age increases the amount of purchases decreases.  \n",
    "Young people buy more than old people. "
   ]
  },
  {
   "cell_type": "markdown",
   "metadata": {},
   "source": [
    "**Correlation between age and the purchase frequency(Number of purchases per month)**"
   ]
  },
  {
   "cell_type": "code",
   "execution_count": null,
   "metadata": {},
   "outputs": [],
   "source": [
    "sales_clean_freq = sales_clean.copy()\n",
    "sales_clean_freq[\"day\"] = sales_clean_freq.date.dt.month\n",
    "g = sales_clean_freq.groupby([\"day\", \"age\"]).id_prod.count().reset_index()\n",
    "sns.relplot(\"age\", \"id_prod\", data = g, kind = \"scatter\", col = \"day\")"
   ]
  },
  {
   "cell_type": "markdown",
   "metadata": {},
   "source": [
    "**Correlation between age and the categories of purchases products**"
   ]
  },
  {
   "cell_type": "markdown",
   "metadata": {},
   "source": [
    "**Correlation between age and the average basket size (in number of items)**"
   ]
  }
 ],
 "metadata": {
  "kernelspec": {
   "display_name": "Python 3",
   "language": "python",
   "name": "python3"
  },
  "language_info": {
   "codemirror_mode": {
    "name": "ipython",
    "version": 3
   },
   "file_extension": ".py",
   "mimetype": "text/x-python",
   "name": "python",
   "nbconvert_exporter": "python",
   "pygments_lexer": "ipython3",
   "version": "3.7.6"
  }
 },
 "nbformat": 4,
 "nbformat_minor": 2
}
