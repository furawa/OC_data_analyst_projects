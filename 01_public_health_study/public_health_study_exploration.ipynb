{
 "cells": [
  {
   "cell_type": "markdown",
   "metadata": {},
   "source": [
    "# GLOBAL UNDERNUTRITION STUDY - EXPLORATION  \n",
    "\n",
    "*BY FURAWA*  \n",
    "\n",
    "**Table of Contents**  \n",
    "\n",
    "1. [Data collection](#data_collection)  \n",
    "2. [Data discovery](#data_discovery)  \n",
    "3. [Data cleaning](#data_cleaning)  \n",
    "4. [Computing new variables to lead the analysis](#new_variables)  \n",
    "5. [Identify major trends](#major_trends)  "
   ]
  },
  {
   "cell_type": "code",
   "execution_count": 1,
   "metadata": {},
   "outputs": [],
   "source": [
    "# Import all the needed libraries for the project\n",
    "import numpy as np\n",
    "import pandas as pd\n",
    "import matplotlib.pyplot as plt\n",
    "import seaborn as sns\n",
    "from glob import glob\n",
    "import re\n",
    "from pandas.api.types import CategoricalDtype\n",
    "\n",
    "%matplotlib inline\n",
    "pd.set_option('max_rows', 20)"
   ]
  },
  {
   "cell_type": "markdown",
   "metadata": {},
   "source": [
    "<a id='data_collection'></a>\n",
    "## 1. Data collection  \n",
    "All the data has been downloaded from the [FAO](http://www.fao.org/faostat/en/#data) website.  \n",
    "Let us check the files."
   ]
  },
  {
   "cell_type": "code",
   "execution_count": 2,
   "metadata": {},
   "outputs": [
    {
     "data": {
      "text/plain": [
       "['files/food_balance_cereals.csv',\n",
       " 'files/food_security_indicators.csv',\n",
       " 'files/food_balance_vegetal.csv',\n",
       " 'files/food_balance_animal.csv',\n",
       " 'files/population.csv']"
      ]
     },
     "execution_count": 2,
     "metadata": {},
     "output_type": "execute_result"
    }
   ],
   "source": [
    "# Store the file names in the file_names variable\n",
    "file_names = glob('files/*.csv')\n",
    "# Check the file_names list\n",
    "file_names"
   ]
  },
  {
   "cell_type": "code",
   "execution_count": 3,
   "metadata": {},
   "outputs": [],
   "source": [
    "# Loop into the file_names list\n",
    "for file in file_names:\n",
    "    # Read each file in the file_names list and assign it to a variable retrieved from the file name\n",
    "     exec(re.split('\\. |\\W', file)[1] + \"=  pd.read_csv(file)\")"
   ]
  },
  {
   "cell_type": "code",
   "execution_count": 4,
   "metadata": {},
   "outputs": [
    {
     "data": {
      "text/html": [
       "<div>\n",
       "<style scoped>\n",
       "    .dataframe tbody tr th:only-of-type {\n",
       "        vertical-align: middle;\n",
       "    }\n",
       "\n",
       "    .dataframe tbody tr th {\n",
       "        vertical-align: top;\n",
       "    }\n",
       "\n",
       "    .dataframe thead th {\n",
       "        text-align: right;\n",
       "    }\n",
       "</style>\n",
       "<table border=\"1\" class=\"dataframe\">\n",
       "  <thead>\n",
       "    <tr style=\"text-align: right;\">\n",
       "      <th></th>\n",
       "      <th>Domain Code</th>\n",
       "      <th>Domain</th>\n",
       "      <th>Area Code</th>\n",
       "      <th>Area</th>\n",
       "      <th>Element Code</th>\n",
       "      <th>Element</th>\n",
       "      <th>Item Code</th>\n",
       "      <th>Item</th>\n",
       "      <th>Year Code</th>\n",
       "      <th>Year</th>\n",
       "      <th>Unit</th>\n",
       "      <th>Value</th>\n",
       "      <th>Flag</th>\n",
       "      <th>Flag Description</th>\n",
       "      <th>Note</th>\n",
       "    </tr>\n",
       "  </thead>\n",
       "  <tbody>\n",
       "    <tr>\n",
       "      <th>0</th>\n",
       "      <td>FS</td>\n",
       "      <td>Suite of Food Security Indicators</td>\n",
       "      <td>2</td>\n",
       "      <td>Afghanistan</td>\n",
       "      <td>6132</td>\n",
       "      <td>Value</td>\n",
       "      <td>210011</td>\n",
       "      <td>Number of people undernourished (million) (3-y...</td>\n",
       "      <td>20122014</td>\n",
       "      <td>2012-2014</td>\n",
       "      <td>millions</td>\n",
       "      <td>7.9</td>\n",
       "      <td>F</td>\n",
       "      <td>FAO estimate</td>\n",
       "      <td>NaN</td>\n",
       "    </tr>\n",
       "    <tr>\n",
       "      <th>1</th>\n",
       "      <td>FS</td>\n",
       "      <td>Suite of Food Security Indicators</td>\n",
       "      <td>2</td>\n",
       "      <td>Afghanistan</td>\n",
       "      <td>6132</td>\n",
       "      <td>Value</td>\n",
       "      <td>210011</td>\n",
       "      <td>Number of people undernourished (million) (3-y...</td>\n",
       "      <td>20132015</td>\n",
       "      <td>2013-2015</td>\n",
       "      <td>millions</td>\n",
       "      <td>8.8</td>\n",
       "      <td>F</td>\n",
       "      <td>FAO estimate</td>\n",
       "      <td>NaN</td>\n",
       "    </tr>\n",
       "  </tbody>\n",
       "</table>\n",
       "</div>"
      ],
      "text/plain": [
       "  Domain Code                             Domain  Area Code         Area  \\\n",
       "0          FS  Suite of Food Security Indicators          2  Afghanistan   \n",
       "1          FS  Suite of Food Security Indicators          2  Afghanistan   \n",
       "\n",
       "   Element Code Element  Item Code  \\\n",
       "0          6132   Value     210011   \n",
       "1          6132   Value     210011   \n",
       "\n",
       "                                                Item  Year Code       Year  \\\n",
       "0  Number of people undernourished (million) (3-y...   20122014  2012-2014   \n",
       "1  Number of people undernourished (million) (3-y...   20132015  2013-2015   \n",
       "\n",
       "       Unit Value Flag Flag Description  Note  \n",
       "0  millions   7.9    F     FAO estimate   NaN  \n",
       "1  millions   8.8    F     FAO estimate   NaN  "
      ]
     },
     "execution_count": 4,
     "metadata": {},
     "output_type": "execute_result"
    }
   ],
   "source": [
    "# Check the dataframe info\n",
    "food_security_indicators.head(2)"
   ]
  },
  {
   "cell_type": "code",
   "execution_count": 5,
   "metadata": {},
   "outputs": [
    {
     "data": {
      "text/html": [
       "<div>\n",
       "<style scoped>\n",
       "    .dataframe tbody tr th:only-of-type {\n",
       "        vertical-align: middle;\n",
       "    }\n",
       "\n",
       "    .dataframe tbody tr th {\n",
       "        vertical-align: top;\n",
       "    }\n",
       "\n",
       "    .dataframe thead th {\n",
       "        text-align: right;\n",
       "    }\n",
       "</style>\n",
       "<table border=\"1\" class=\"dataframe\">\n",
       "  <thead>\n",
       "    <tr style=\"text-align: right;\">\n",
       "      <th></th>\n",
       "      <th>Domain Code</th>\n",
       "      <th>Domain</th>\n",
       "      <th>Country Code</th>\n",
       "      <th>Country</th>\n",
       "      <th>Element Code</th>\n",
       "      <th>Element</th>\n",
       "      <th>Item Code</th>\n",
       "      <th>Item</th>\n",
       "      <th>Year Code</th>\n",
       "      <th>Year</th>\n",
       "      <th>Unit</th>\n",
       "      <th>Value</th>\n",
       "      <th>Flag</th>\n",
       "      <th>Flag Description</th>\n",
       "    </tr>\n",
       "  </thead>\n",
       "  <tbody>\n",
       "    <tr>\n",
       "      <th>0</th>\n",
       "      <td>FBS</td>\n",
       "      <td>Food Balance Sheets</td>\n",
       "      <td>2</td>\n",
       "      <td>Afghanistan</td>\n",
       "      <td>5511</td>\n",
       "      <td>Production</td>\n",
       "      <td>2511</td>\n",
       "      <td>Wheat and products</td>\n",
       "      <td>2013</td>\n",
       "      <td>2013</td>\n",
       "      <td>1000 tonnes</td>\n",
       "      <td>5169.0</td>\n",
       "      <td>S</td>\n",
       "      <td>Standardized data</td>\n",
       "    </tr>\n",
       "    <tr>\n",
       "      <th>1</th>\n",
       "      <td>FBS</td>\n",
       "      <td>Food Balance Sheets</td>\n",
       "      <td>2</td>\n",
       "      <td>Afghanistan</td>\n",
       "      <td>5611</td>\n",
       "      <td>Import Quantity</td>\n",
       "      <td>2511</td>\n",
       "      <td>Wheat and products</td>\n",
       "      <td>2013</td>\n",
       "      <td>2013</td>\n",
       "      <td>1000 tonnes</td>\n",
       "      <td>1173.0</td>\n",
       "      <td>S</td>\n",
       "      <td>Standardized data</td>\n",
       "    </tr>\n",
       "  </tbody>\n",
       "</table>\n",
       "</div>"
      ],
      "text/plain": [
       "  Domain Code               Domain  Country Code      Country  Element Code  \\\n",
       "0         FBS  Food Balance Sheets             2  Afghanistan          5511   \n",
       "1         FBS  Food Balance Sheets             2  Afghanistan          5611   \n",
       "\n",
       "           Element  Item Code                Item  Year Code  Year  \\\n",
       "0       Production       2511  Wheat and products       2013  2013   \n",
       "1  Import Quantity       2511  Wheat and products       2013  2013   \n",
       "\n",
       "          Unit   Value Flag   Flag Description  \n",
       "0  1000 tonnes  5169.0    S  Standardized data  \n",
       "1  1000 tonnes  1173.0    S  Standardized data  "
      ]
     },
     "execution_count": 5,
     "metadata": {},
     "output_type": "execute_result"
    }
   ],
   "source": [
    "# Check the dataframe info\n",
    "food_balance_vegetal.head(2)"
   ]
  },
  {
   "cell_type": "code",
   "execution_count": 6,
   "metadata": {},
   "outputs": [
    {
     "data": {
      "text/html": [
       "<div>\n",
       "<style scoped>\n",
       "    .dataframe tbody tr th:only-of-type {\n",
       "        vertical-align: middle;\n",
       "    }\n",
       "\n",
       "    .dataframe tbody tr th {\n",
       "        vertical-align: top;\n",
       "    }\n",
       "\n",
       "    .dataframe thead th {\n",
       "        text-align: right;\n",
       "    }\n",
       "</style>\n",
       "<table border=\"1\" class=\"dataframe\">\n",
       "  <thead>\n",
       "    <tr style=\"text-align: right;\">\n",
       "      <th></th>\n",
       "      <th>Domain Code</th>\n",
       "      <th>Domain</th>\n",
       "      <th>Country Code</th>\n",
       "      <th>Country</th>\n",
       "      <th>Element Code</th>\n",
       "      <th>Element</th>\n",
       "      <th>Item Code</th>\n",
       "      <th>Item</th>\n",
       "      <th>Year Code</th>\n",
       "      <th>Year</th>\n",
       "      <th>Unit</th>\n",
       "      <th>Value</th>\n",
       "      <th>Flag</th>\n",
       "      <th>Flag Description</th>\n",
       "    </tr>\n",
       "  </thead>\n",
       "  <tbody>\n",
       "    <tr>\n",
       "      <th>0</th>\n",
       "      <td>FBS</td>\n",
       "      <td>Food Balance Sheets</td>\n",
       "      <td>2</td>\n",
       "      <td>Afghanistan</td>\n",
       "      <td>5511</td>\n",
       "      <td>Production</td>\n",
       "      <td>2731</td>\n",
       "      <td>Bovine Meat</td>\n",
       "      <td>2013</td>\n",
       "      <td>2013</td>\n",
       "      <td>1000 tonnes</td>\n",
       "      <td>134.0</td>\n",
       "      <td>S</td>\n",
       "      <td>Standardized data</td>\n",
       "    </tr>\n",
       "    <tr>\n",
       "      <th>1</th>\n",
       "      <td>FBS</td>\n",
       "      <td>Food Balance Sheets</td>\n",
       "      <td>2</td>\n",
       "      <td>Afghanistan</td>\n",
       "      <td>5611</td>\n",
       "      <td>Import Quantity</td>\n",
       "      <td>2731</td>\n",
       "      <td>Bovine Meat</td>\n",
       "      <td>2013</td>\n",
       "      <td>2013</td>\n",
       "      <td>1000 tonnes</td>\n",
       "      <td>6.0</td>\n",
       "      <td>S</td>\n",
       "      <td>Standardized data</td>\n",
       "    </tr>\n",
       "  </tbody>\n",
       "</table>\n",
       "</div>"
      ],
      "text/plain": [
       "  Domain Code               Domain  Country Code      Country  Element Code  \\\n",
       "0         FBS  Food Balance Sheets             2  Afghanistan          5511   \n",
       "1         FBS  Food Balance Sheets             2  Afghanistan          5611   \n",
       "\n",
       "           Element  Item Code         Item  Year Code  Year         Unit  \\\n",
       "0       Production       2731  Bovine Meat       2013  2013  1000 tonnes   \n",
       "1  Import Quantity       2731  Bovine Meat       2013  2013  1000 tonnes   \n",
       "\n",
       "   Value Flag   Flag Description  \n",
       "0  134.0    S  Standardized data  \n",
       "1    6.0    S  Standardized data  "
      ]
     },
     "execution_count": 6,
     "metadata": {},
     "output_type": "execute_result"
    }
   ],
   "source": [
    "# Check the dataframe info\n",
    "food_balance_animal.head(2)"
   ]
  },
  {
   "cell_type": "code",
   "execution_count": 7,
   "metadata": {},
   "outputs": [
    {
     "data": {
      "text/html": [
       "<div>\n",
       "<style scoped>\n",
       "    .dataframe tbody tr th:only-of-type {\n",
       "        vertical-align: middle;\n",
       "    }\n",
       "\n",
       "    .dataframe tbody tr th {\n",
       "        vertical-align: top;\n",
       "    }\n",
       "\n",
       "    .dataframe thead th {\n",
       "        text-align: right;\n",
       "    }\n",
       "</style>\n",
       "<table border=\"1\" class=\"dataframe\">\n",
       "  <thead>\n",
       "    <tr style=\"text-align: right;\">\n",
       "      <th></th>\n",
       "      <th>Domain Code</th>\n",
       "      <th>Domain</th>\n",
       "      <th>Country Code</th>\n",
       "      <th>Country</th>\n",
       "      <th>Element Code</th>\n",
       "      <th>Element</th>\n",
       "      <th>Item Code</th>\n",
       "      <th>Item</th>\n",
       "      <th>Year Code</th>\n",
       "      <th>Year</th>\n",
       "      <th>Unit</th>\n",
       "      <th>Value</th>\n",
       "      <th>Flag</th>\n",
       "      <th>Flag Description</th>\n",
       "    </tr>\n",
       "  </thead>\n",
       "  <tbody>\n",
       "    <tr>\n",
       "      <th>0</th>\n",
       "      <td>FBS</td>\n",
       "      <td>Food Balance Sheets</td>\n",
       "      <td>2</td>\n",
       "      <td>Afghanistan</td>\n",
       "      <td>5511</td>\n",
       "      <td>Production</td>\n",
       "      <td>2511</td>\n",
       "      <td>Wheat and products</td>\n",
       "      <td>2013</td>\n",
       "      <td>2013</td>\n",
       "      <td>1000 tonnes</td>\n",
       "      <td>5169.0</td>\n",
       "      <td>S</td>\n",
       "      <td>Standardized data</td>\n",
       "    </tr>\n",
       "    <tr>\n",
       "      <th>1</th>\n",
       "      <td>FBS</td>\n",
       "      <td>Food Balance Sheets</td>\n",
       "      <td>2</td>\n",
       "      <td>Afghanistan</td>\n",
       "      <td>5611</td>\n",
       "      <td>Import Quantity</td>\n",
       "      <td>2511</td>\n",
       "      <td>Wheat and products</td>\n",
       "      <td>2013</td>\n",
       "      <td>2013</td>\n",
       "      <td>1000 tonnes</td>\n",
       "      <td>1173.0</td>\n",
       "      <td>S</td>\n",
       "      <td>Standardized data</td>\n",
       "    </tr>\n",
       "  </tbody>\n",
       "</table>\n",
       "</div>"
      ],
      "text/plain": [
       "  Domain Code               Domain  Country Code      Country  Element Code  \\\n",
       "0         FBS  Food Balance Sheets             2  Afghanistan          5511   \n",
       "1         FBS  Food Balance Sheets             2  Afghanistan          5611   \n",
       "\n",
       "           Element  Item Code                Item  Year Code  Year  \\\n",
       "0       Production       2511  Wheat and products       2013  2013   \n",
       "1  Import Quantity       2511  Wheat and products       2013  2013   \n",
       "\n",
       "          Unit   Value Flag   Flag Description  \n",
       "0  1000 tonnes  5169.0    S  Standardized data  \n",
       "1  1000 tonnes  1173.0    S  Standardized data  "
      ]
     },
     "execution_count": 7,
     "metadata": {},
     "output_type": "execute_result"
    }
   ],
   "source": [
    "# Check the dataframe info\n",
    "food_balance_cereals.head(2)"
   ]
  },
  {
   "cell_type": "code",
   "execution_count": 8,
   "metadata": {},
   "outputs": [
    {
     "data": {
      "text/html": [
       "<div>\n",
       "<style scoped>\n",
       "    .dataframe tbody tr th:only-of-type {\n",
       "        vertical-align: middle;\n",
       "    }\n",
       "\n",
       "    .dataframe tbody tr th {\n",
       "        vertical-align: top;\n",
       "    }\n",
       "\n",
       "    .dataframe thead th {\n",
       "        text-align: right;\n",
       "    }\n",
       "</style>\n",
       "<table border=\"1\" class=\"dataframe\">\n",
       "  <thead>\n",
       "    <tr style=\"text-align: right;\">\n",
       "      <th></th>\n",
       "      <th>Domain Code</th>\n",
       "      <th>Domain</th>\n",
       "      <th>Country Code</th>\n",
       "      <th>Country</th>\n",
       "      <th>Element Code</th>\n",
       "      <th>Element</th>\n",
       "      <th>Item Code</th>\n",
       "      <th>Item</th>\n",
       "      <th>Year Code</th>\n",
       "      <th>Year</th>\n",
       "      <th>Unit</th>\n",
       "      <th>Value</th>\n",
       "      <th>Flag</th>\n",
       "      <th>Flag Description</th>\n",
       "    </tr>\n",
       "  </thead>\n",
       "  <tbody>\n",
       "    <tr>\n",
       "      <th>0</th>\n",
       "      <td>FBS</td>\n",
       "      <td>Food Balance Sheets</td>\n",
       "      <td>2</td>\n",
       "      <td>Afghanistan</td>\n",
       "      <td>511</td>\n",
       "      <td>Total Population - Both sexes</td>\n",
       "      <td>2501</td>\n",
       "      <td>Population</td>\n",
       "      <td>1961</td>\n",
       "      <td>1961</td>\n",
       "      <td>1000 persons</td>\n",
       "      <td>8954.0</td>\n",
       "      <td>NaN</td>\n",
       "      <td>Official data</td>\n",
       "    </tr>\n",
       "    <tr>\n",
       "      <th>1</th>\n",
       "      <td>FBS</td>\n",
       "      <td>Food Balance Sheets</td>\n",
       "      <td>2</td>\n",
       "      <td>Afghanistan</td>\n",
       "      <td>511</td>\n",
       "      <td>Total Population - Both sexes</td>\n",
       "      <td>2501</td>\n",
       "      <td>Population</td>\n",
       "      <td>1962</td>\n",
       "      <td>1962</td>\n",
       "      <td>1000 persons</td>\n",
       "      <td>9142.0</td>\n",
       "      <td>NaN</td>\n",
       "      <td>Official data</td>\n",
       "    </tr>\n",
       "  </tbody>\n",
       "</table>\n",
       "</div>"
      ],
      "text/plain": [
       "  Domain Code               Domain  Country Code      Country  Element Code  \\\n",
       "0         FBS  Food Balance Sheets             2  Afghanistan           511   \n",
       "1         FBS  Food Balance Sheets             2  Afghanistan           511   \n",
       "\n",
       "                         Element  Item Code        Item  Year Code  Year  \\\n",
       "0  Total Population - Both sexes       2501  Population       1961  1961   \n",
       "1  Total Population - Both sexes       2501  Population       1962  1962   \n",
       "\n",
       "           Unit   Value Flag Flag Description  \n",
       "0  1000 persons  8954.0  NaN    Official data  \n",
       "1  1000 persons  9142.0  NaN    Official data  "
      ]
     },
     "execution_count": 8,
     "metadata": {},
     "output_type": "execute_result"
    }
   ],
   "source": [
    "population.head(2)"
   ]
  },
  {
   "cell_type": "markdown",
   "metadata": {},
   "source": [
    "Except from the food_security_indicators dataframe all the other dataframes have the same 14 columns.  "
   ]
  },
  {
   "cell_type": "markdown",
   "metadata": {},
   "source": [
    "<a id='data_discovery'></a>\n",
    "## 2. Data Discovery"
   ]
  },
  {
   "cell_type": "markdown",
   "metadata": {},
   "source": [
    "Let us check the primary key of each table and test them.  \n",
    "We will create a function to find the primary key.  "
   ]
  },
  {
   "cell_type": "code",
   "execution_count": 9,
   "metadata": {},
   "outputs": [],
   "source": [
    "# Function to find the potential primary keys\n",
    "def check_potential_primary_key(df) -> str:\n",
    "    # Loop in the column list of the specific dataframe\n",
    "    for column_pk in df.keys():\n",
    "        # Remove the duplicated values from each column and check if the size is the same as the df\n",
    "        if len(df) != len(df[column_pk].drop_duplicates()):\n",
    "            # No output if the column is not a primary key\n",
    "           None\n",
    "        else:\n",
    "            # Print all the potential primary keys\n",
    "            print(\"{} could be a primary key!\".format(column_pk))"
   ]
  },
  {
   "cell_type": "markdown",
   "metadata": {},
   "source": [
    "Now we can use the function to find the potential primary keys of each dataframe. "
   ]
  },
  {
   "cell_type": "code",
   "execution_count": 10,
   "metadata": {},
   "outputs": [],
   "source": [
    "# Check the primary key of population dataframe\n",
    "check_potential_primary_key(population)"
   ]
  },
  {
   "cell_type": "markdown",
   "metadata": {},
   "source": [
    "There are no potential primary key in the dataframe, due to the fact that we have the same countries and countries code repeating for each year."
   ]
  },
  {
   "cell_type": "code",
   "execution_count": 11,
   "metadata": {},
   "outputs": [],
   "source": [
    "# Check the primary key of food balance vegetal\n",
    "check_potential_primary_key(food_balance_vegetal)"
   ]
  },
  {
   "cell_type": "markdown",
   "metadata": {},
   "source": [
    "We have no output, which means there are no potential primary key in this dataframe."
   ]
  },
  {
   "cell_type": "code",
   "execution_count": 12,
   "metadata": {},
   "outputs": [],
   "source": [
    "# Check the primary key of food balance livestock\n",
    "check_potential_primary_key(food_balance_animal)"
   ]
  },
  {
   "cell_type": "markdown",
   "metadata": {},
   "source": [
    "Same here, there are no primary keys in the food balance livestock"
   ]
  },
  {
   "cell_type": "code",
   "execution_count": 13,
   "metadata": {},
   "outputs": [],
   "source": [
    "# Check the primary key of food balance cereals\n",
    "check_potential_primary_key(food_balance_cereals)"
   ]
  },
  {
   "cell_type": "code",
   "execution_count": 14,
   "metadata": {},
   "outputs": [],
   "source": [
    "# Check the primary key of food security indicators\n",
    "check_potential_primary_key(food_security_indicators)"
   ]
  },
  {
   "cell_type": "markdown",
   "metadata": {},
   "source": [
    "Even for the food balance cereals and food security indicators dataframes we have no potential primary keys"
   ]
  },
  {
   "cell_type": "markdown",
   "metadata": {},
   "source": [
    "Let us create column with the total population and remove some useless columns from the population dataframe."
   ]
  },
  {
   "cell_type": "code",
   "execution_count": 15,
   "metadata": {},
   "outputs": [
    {
     "data": {
      "text/html": [
       "<div>\n",
       "<style scoped>\n",
       "    .dataframe tbody tr th:only-of-type {\n",
       "        vertical-align: middle;\n",
       "    }\n",
       "\n",
       "    .dataframe tbody tr th {\n",
       "        vertical-align: top;\n",
       "    }\n",
       "\n",
       "    .dataframe thead th {\n",
       "        text-align: right;\n",
       "    }\n",
       "</style>\n",
       "<table border=\"1\" class=\"dataframe\">\n",
       "  <thead>\n",
       "    <tr style=\"text-align: right;\">\n",
       "      <th></th>\n",
       "      <th>Country Code</th>\n",
       "      <th>Country</th>\n",
       "      <th>Year</th>\n",
       "      <th>population</th>\n",
       "    </tr>\n",
       "  </thead>\n",
       "  <tbody>\n",
       "    <tr>\n",
       "      <th>0</th>\n",
       "      <td>2</td>\n",
       "      <td>Afghanistan</td>\n",
       "      <td>1961</td>\n",
       "      <td>8954000.0</td>\n",
       "    </tr>\n",
       "    <tr>\n",
       "      <th>1</th>\n",
       "      <td>2</td>\n",
       "      <td>Afghanistan</td>\n",
       "      <td>1962</td>\n",
       "      <td>9142000.0</td>\n",
       "    </tr>\n",
       "    <tr>\n",
       "      <th>2</th>\n",
       "      <td>2</td>\n",
       "      <td>Afghanistan</td>\n",
       "      <td>1963</td>\n",
       "      <td>9340000.0</td>\n",
       "    </tr>\n",
       "    <tr>\n",
       "      <th>3</th>\n",
       "      <td>2</td>\n",
       "      <td>Afghanistan</td>\n",
       "      <td>1964</td>\n",
       "      <td>9547000.0</td>\n",
       "    </tr>\n",
       "    <tr>\n",
       "      <th>4</th>\n",
       "      <td>2</td>\n",
       "      <td>Afghanistan</td>\n",
       "      <td>1965</td>\n",
       "      <td>9765000.0</td>\n",
       "    </tr>\n",
       "  </tbody>\n",
       "</table>\n",
       "</div>"
      ],
      "text/plain": [
       "   Country Code      Country  Year  population\n",
       "0             2  Afghanistan  1961   8954000.0\n",
       "1             2  Afghanistan  1962   9142000.0\n",
       "2             2  Afghanistan  1963   9340000.0\n",
       "3             2  Afghanistan  1964   9547000.0\n",
       "4             2  Afghanistan  1965   9765000.0"
      ]
     },
     "execution_count": 15,
     "metadata": {},
     "output_type": "execute_result"
    }
   ],
   "source": [
    "# Create the population column, we retrieve the 1000 in the Unit column and multiply it by the Value column\n",
    "population[\"population\"] = int(population.Unit.str.split(\" \")[0][0]) * population.Value\n",
    "# Remove some useless columns\n",
    "population_df = population.drop(population.columns.difference([\"Year\", \"Country Code\", \"Country\", \"population\"]),\n",
    "                                axis =1)\n",
    "# Check the dataframe\n",
    "population_df.head()"
   ]
  },
  {
   "cell_type": "markdown",
   "metadata": {},
   "source": [
    "Now we can calculate the total numbers of human involved."
   ]
  },
  {
   "cell_type": "code",
   "execution_count": 16,
   "metadata": {},
   "outputs": [
    {
     "name": "stdout",
     "output_type": "stream",
     "text": [
      "The total number of humans on the planet is : 8,413,993,000.0\n"
     ]
    }
   ],
   "source": [
    "# Calcalute the total number of humans in 2013\n",
    "total_population = population_df.query(\"Year == 2013\").population.sum()\n",
    "print(\"The total number of humans on the planet is : {:,}\".format(total_population))"
   ]
  },
  {
   "cell_type": "markdown",
   "metadata": {},
   "source": [
    "This result cannot be correct, mostly if we talk about the 2013 world population. actually in 2019 the world population is around 7.7 billion. There must be an error, we will go deep to check the issue.  "
   ]
  },
  {
   "cell_type": "markdown",
   "metadata": {},
   "source": [
    "<a id='data_cleaning'></a>\n",
    "## 3. Data Cleaning  \n",
    "\n",
    "The dataframes are downloaded and loaded but dirty. There are useless rows and columns, anomalies in the population data must be corrected, the columns names must be changed. Let's do some cleaning.  \n",
    "We start putting all the food balance dataframes in one unique dataframe.  \n",
    "- **Food balance**"
   ]
  },
  {
   "cell_type": "code",
   "execution_count": 17,
   "metadata": {},
   "outputs": [],
   "source": [
    "# Create the origin variable in each balance food dataframe to store the food origin\n",
    "food_balance_animal[\"origin\"] = \"animal\"\n",
    "food_balance_cereals[\"origin\"] = \"cereal\"\n",
    "food_balance_vegetal[\"origin\"] = \"vegetal\""
   ]
  },
  {
   "cell_type": "code",
   "execution_count": 18,
   "metadata": {},
   "outputs": [
    {
     "data": {
      "text/plain": [
       "(142037, 15)"
      ]
     },
     "execution_count": 18,
     "metadata": {},
     "output_type": "execute_result"
    }
   ],
   "source": [
    "# Append the 3 dataframes in one unique dataframe\n",
    "food_balance_df = food_balance_animal.append(food_balance_vegetal)\n",
    "# Check the first rows\n",
    "food_balance_df.shape"
   ]
  },
  {
   "cell_type": "code",
   "execution_count": 19,
   "metadata": {},
   "outputs": [],
   "source": [
    "# Select the rows where Unit equal 1000 tonnes and convert the respectives values\n",
    "food_balance_df.loc[food_balance_df.Unit == \"1000 tonnes\", \"Value\"] *= 1000000"
   ]
  },
  {
   "cell_type": "code",
   "execution_count": 20,
   "metadata": {},
   "outputs": [
    {
     "data": {
      "text/html": [
       "<div>\n",
       "<style scoped>\n",
       "    .dataframe tbody tr th:only-of-type {\n",
       "        vertical-align: middle;\n",
       "    }\n",
       "\n",
       "    .dataframe tbody tr th {\n",
       "        vertical-align: top;\n",
       "    }\n",
       "\n",
       "    .dataframe thead th {\n",
       "        text-align: right;\n",
       "    }\n",
       "</style>\n",
       "<table border=\"1\" class=\"dataframe\">\n",
       "  <thead>\n",
       "    <tr style=\"text-align: right;\">\n",
       "      <th></th>\n",
       "      <th>Domain Code</th>\n",
       "      <th>Domain</th>\n",
       "      <th>Country Code</th>\n",
       "      <th>Country</th>\n",
       "      <th>Element Code</th>\n",
       "      <th>Element</th>\n",
       "      <th>Item Code</th>\n",
       "      <th>Item</th>\n",
       "      <th>Year Code</th>\n",
       "      <th>Year</th>\n",
       "      <th>Unit</th>\n",
       "      <th>Value</th>\n",
       "      <th>Flag</th>\n",
       "      <th>Flag Description</th>\n",
       "      <th>origin</th>\n",
       "    </tr>\n",
       "  </thead>\n",
       "  <tbody>\n",
       "    <tr>\n",
       "      <th>0</th>\n",
       "      <td>FBS</td>\n",
       "      <td>Food Balance Sheets</td>\n",
       "      <td>2</td>\n",
       "      <td>Afghanistan</td>\n",
       "      <td>5511</td>\n",
       "      <td>Production</td>\n",
       "      <td>2731</td>\n",
       "      <td>Bovine Meat</td>\n",
       "      <td>2013</td>\n",
       "      <td>2013</td>\n",
       "      <td>1000 tonnes</td>\n",
       "      <td>1.340000e+08</td>\n",
       "      <td>S</td>\n",
       "      <td>Standardized data</td>\n",
       "      <td>animal</td>\n",
       "    </tr>\n",
       "    <tr>\n",
       "      <th>1</th>\n",
       "      <td>FBS</td>\n",
       "      <td>Food Balance Sheets</td>\n",
       "      <td>2</td>\n",
       "      <td>Afghanistan</td>\n",
       "      <td>5611</td>\n",
       "      <td>Import Quantity</td>\n",
       "      <td>2731</td>\n",
       "      <td>Bovine Meat</td>\n",
       "      <td>2013</td>\n",
       "      <td>2013</td>\n",
       "      <td>1000 tonnes</td>\n",
       "      <td>6.000000e+06</td>\n",
       "      <td>S</td>\n",
       "      <td>Standardized data</td>\n",
       "      <td>animal</td>\n",
       "    </tr>\n",
       "    <tr>\n",
       "      <th>2</th>\n",
       "      <td>FBS</td>\n",
       "      <td>Food Balance Sheets</td>\n",
       "      <td>2</td>\n",
       "      <td>Afghanistan</td>\n",
       "      <td>5301</td>\n",
       "      <td>Domestic supply quantity</td>\n",
       "      <td>2731</td>\n",
       "      <td>Bovine Meat</td>\n",
       "      <td>2013</td>\n",
       "      <td>2013</td>\n",
       "      <td>1000 tonnes</td>\n",
       "      <td>1.400000e+08</td>\n",
       "      <td>S</td>\n",
       "      <td>Standardized data</td>\n",
       "      <td>animal</td>\n",
       "    </tr>\n",
       "    <tr>\n",
       "      <th>3</th>\n",
       "      <td>FBS</td>\n",
       "      <td>Food Balance Sheets</td>\n",
       "      <td>2</td>\n",
       "      <td>Afghanistan</td>\n",
       "      <td>5142</td>\n",
       "      <td>Food</td>\n",
       "      <td>2731</td>\n",
       "      <td>Bovine Meat</td>\n",
       "      <td>2013</td>\n",
       "      <td>2013</td>\n",
       "      <td>1000 tonnes</td>\n",
       "      <td>1.400000e+08</td>\n",
       "      <td>S</td>\n",
       "      <td>Standardized data</td>\n",
       "      <td>animal</td>\n",
       "    </tr>\n",
       "    <tr>\n",
       "      <th>4</th>\n",
       "      <td>FBS</td>\n",
       "      <td>Food Balance Sheets</td>\n",
       "      <td>2</td>\n",
       "      <td>Afghanistan</td>\n",
       "      <td>645</td>\n",
       "      <td>Food supply quantity (kg/capita/yr)</td>\n",
       "      <td>2731</td>\n",
       "      <td>Bovine Meat</td>\n",
       "      <td>2013</td>\n",
       "      <td>2013</td>\n",
       "      <td>kg</td>\n",
       "      <td>4.590000e+00</td>\n",
       "      <td>Fc</td>\n",
       "      <td>Calculated data</td>\n",
       "      <td>animal</td>\n",
       "    </tr>\n",
       "    <tr>\n",
       "      <th>5</th>\n",
       "      <td>FBS</td>\n",
       "      <td>Food Balance Sheets</td>\n",
       "      <td>2</td>\n",
       "      <td>Afghanistan</td>\n",
       "      <td>664</td>\n",
       "      <td>Food supply (kcal/capita/day)</td>\n",
       "      <td>2731</td>\n",
       "      <td>Bovine Meat</td>\n",
       "      <td>2013</td>\n",
       "      <td>2013</td>\n",
       "      <td>kcal/capita/day</td>\n",
       "      <td>2.700000e+01</td>\n",
       "      <td>Fc</td>\n",
       "      <td>Calculated data</td>\n",
       "      <td>animal</td>\n",
       "    </tr>\n",
       "    <tr>\n",
       "      <th>6</th>\n",
       "      <td>FBS</td>\n",
       "      <td>Food Balance Sheets</td>\n",
       "      <td>2</td>\n",
       "      <td>Afghanistan</td>\n",
       "      <td>674</td>\n",
       "      <td>Protein supply quantity (g/capita/day)</td>\n",
       "      <td>2731</td>\n",
       "      <td>Bovine Meat</td>\n",
       "      <td>2013</td>\n",
       "      <td>2013</td>\n",
       "      <td>g/capita/day</td>\n",
       "      <td>1.890000e+00</td>\n",
       "      <td>Fc</td>\n",
       "      <td>Calculated data</td>\n",
       "      <td>animal</td>\n",
       "    </tr>\n",
       "    <tr>\n",
       "      <th>7</th>\n",
       "      <td>FBS</td>\n",
       "      <td>Food Balance Sheets</td>\n",
       "      <td>2</td>\n",
       "      <td>Afghanistan</td>\n",
       "      <td>684</td>\n",
       "      <td>Fat supply quantity (g/capita/day)</td>\n",
       "      <td>2731</td>\n",
       "      <td>Bovine Meat</td>\n",
       "      <td>2013</td>\n",
       "      <td>2013</td>\n",
       "      <td>g/capita/day</td>\n",
       "      <td>2.100000e+00</td>\n",
       "      <td>Fc</td>\n",
       "      <td>Calculated data</td>\n",
       "      <td>animal</td>\n",
       "    </tr>\n",
       "    <tr>\n",
       "      <th>8</th>\n",
       "      <td>FBS</td>\n",
       "      <td>Food Balance Sheets</td>\n",
       "      <td>2</td>\n",
       "      <td>Afghanistan</td>\n",
       "      <td>5511</td>\n",
       "      <td>Production</td>\n",
       "      <td>2732</td>\n",
       "      <td>Mutton &amp; Goat Meat</td>\n",
       "      <td>2013</td>\n",
       "      <td>2013</td>\n",
       "      <td>1000 tonnes</td>\n",
       "      <td>1.500000e+08</td>\n",
       "      <td>S</td>\n",
       "      <td>Standardized data</td>\n",
       "      <td>animal</td>\n",
       "    </tr>\n",
       "    <tr>\n",
       "      <th>9</th>\n",
       "      <td>FBS</td>\n",
       "      <td>Food Balance Sheets</td>\n",
       "      <td>2</td>\n",
       "      <td>Afghanistan</td>\n",
       "      <td>5301</td>\n",
       "      <td>Domestic supply quantity</td>\n",
       "      <td>2732</td>\n",
       "      <td>Mutton &amp; Goat Meat</td>\n",
       "      <td>2013</td>\n",
       "      <td>2013</td>\n",
       "      <td>1000 tonnes</td>\n",
       "      <td>1.500000e+08</td>\n",
       "      <td>S</td>\n",
       "      <td>Standardized data</td>\n",
       "      <td>animal</td>\n",
       "    </tr>\n",
       "    <tr>\n",
       "      <th>...</th>\n",
       "      <td>...</td>\n",
       "      <td>...</td>\n",
       "      <td>...</td>\n",
       "      <td>...</td>\n",
       "      <td>...</td>\n",
       "      <td>...</td>\n",
       "      <td>...</td>\n",
       "      <td>...</td>\n",
       "      <td>...</td>\n",
       "      <td>...</td>\n",
       "      <td>...</td>\n",
       "      <td>...</td>\n",
       "      <td>...</td>\n",
       "      <td>...</td>\n",
       "      <td>...</td>\n",
       "    </tr>\n",
       "    <tr>\n",
       "      <th>104861</th>\n",
       "      <td>FBS</td>\n",
       "      <td>Food Balance Sheets</td>\n",
       "      <td>351</td>\n",
       "      <td>China</td>\n",
       "      <td>5301</td>\n",
       "      <td>Domestic supply quantity</td>\n",
       "      <td>2680</td>\n",
       "      <td>Infant food</td>\n",
       "      <td>2013</td>\n",
       "      <td>2013</td>\n",
       "      <td>1000 tonnes</td>\n",
       "      <td>1.330000e+08</td>\n",
       "      <td>A</td>\n",
       "      <td>Aggregate, may include official, semi-official...</td>\n",
       "      <td>vegetal</td>\n",
       "    </tr>\n",
       "    <tr>\n",
       "      <th>104862</th>\n",
       "      <td>FBS</td>\n",
       "      <td>Food Balance Sheets</td>\n",
       "      <td>351</td>\n",
       "      <td>China</td>\n",
       "      <td>5123</td>\n",
       "      <td>Losses</td>\n",
       "      <td>2680</td>\n",
       "      <td>Infant food</td>\n",
       "      <td>2013</td>\n",
       "      <td>2013</td>\n",
       "      <td>1000 tonnes</td>\n",
       "      <td>0.000000e+00</td>\n",
       "      <td>A</td>\n",
       "      <td>Aggregate, may include official, semi-official...</td>\n",
       "      <td>vegetal</td>\n",
       "    </tr>\n",
       "    <tr>\n",
       "      <th>104863</th>\n",
       "      <td>FBS</td>\n",
       "      <td>Food Balance Sheets</td>\n",
       "      <td>351</td>\n",
       "      <td>China</td>\n",
       "      <td>5142</td>\n",
       "      <td>Food</td>\n",
       "      <td>2680</td>\n",
       "      <td>Infant food</td>\n",
       "      <td>2013</td>\n",
       "      <td>2013</td>\n",
       "      <td>1000 tonnes</td>\n",
       "      <td>1.320000e+08</td>\n",
       "      <td>A</td>\n",
       "      <td>Aggregate, may include official, semi-official...</td>\n",
       "      <td>vegetal</td>\n",
       "    </tr>\n",
       "    <tr>\n",
       "      <th>104864</th>\n",
       "      <td>FBS</td>\n",
       "      <td>Food Balance Sheets</td>\n",
       "      <td>351</td>\n",
       "      <td>China</td>\n",
       "      <td>645</td>\n",
       "      <td>Food supply quantity (kg/capita/yr)</td>\n",
       "      <td>2680</td>\n",
       "      <td>Infant food</td>\n",
       "      <td>2013</td>\n",
       "      <td>2013</td>\n",
       "      <td>kg</td>\n",
       "      <td>9.000000e-02</td>\n",
       "      <td>Fc</td>\n",
       "      <td>Calculated data</td>\n",
       "      <td>vegetal</td>\n",
       "    </tr>\n",
       "    <tr>\n",
       "      <th>104865</th>\n",
       "      <td>FBS</td>\n",
       "      <td>Food Balance Sheets</td>\n",
       "      <td>351</td>\n",
       "      <td>China</td>\n",
       "      <td>664</td>\n",
       "      <td>Food supply (kcal/capita/day)</td>\n",
       "      <td>2680</td>\n",
       "      <td>Infant food</td>\n",
       "      <td>2013</td>\n",
       "      <td>2013</td>\n",
       "      <td>kcal/capita/day</td>\n",
       "      <td>1.000000e+00</td>\n",
       "      <td>Fc</td>\n",
       "      <td>Calculated data</td>\n",
       "      <td>vegetal</td>\n",
       "    </tr>\n",
       "    <tr>\n",
       "      <th>104866</th>\n",
       "      <td>FBS</td>\n",
       "      <td>Food Balance Sheets</td>\n",
       "      <td>351</td>\n",
       "      <td>China</td>\n",
       "      <td>674</td>\n",
       "      <td>Protein supply quantity (g/capita/day)</td>\n",
       "      <td>2680</td>\n",
       "      <td>Infant food</td>\n",
       "      <td>2013</td>\n",
       "      <td>2013</td>\n",
       "      <td>g/capita/day</td>\n",
       "      <td>4.000000e-02</td>\n",
       "      <td>Fc</td>\n",
       "      <td>Calculated data</td>\n",
       "      <td>vegetal</td>\n",
       "    </tr>\n",
       "    <tr>\n",
       "      <th>104867</th>\n",
       "      <td>FBS</td>\n",
       "      <td>Food Balance Sheets</td>\n",
       "      <td>351</td>\n",
       "      <td>China</td>\n",
       "      <td>684</td>\n",
       "      <td>Fat supply quantity (g/capita/day)</td>\n",
       "      <td>2680</td>\n",
       "      <td>Infant food</td>\n",
       "      <td>2013</td>\n",
       "      <td>2013</td>\n",
       "      <td>g/capita/day</td>\n",
       "      <td>1.000000e-02</td>\n",
       "      <td>Fc</td>\n",
       "      <td>Calculated data</td>\n",
       "      <td>vegetal</td>\n",
       "    </tr>\n",
       "    <tr>\n",
       "      <th>104868</th>\n",
       "      <td>FBS</td>\n",
       "      <td>Food Balance Sheets</td>\n",
       "      <td>351</td>\n",
       "      <td>China</td>\n",
       "      <td>664</td>\n",
       "      <td>Food supply (kcal/capita/day)</td>\n",
       "      <td>2899</td>\n",
       "      <td>Miscellaneous</td>\n",
       "      <td>2013</td>\n",
       "      <td>2013</td>\n",
       "      <td>kcal/capita/day</td>\n",
       "      <td>0.000000e+00</td>\n",
       "      <td>Fc</td>\n",
       "      <td>Calculated data</td>\n",
       "      <td>vegetal</td>\n",
       "    </tr>\n",
       "    <tr>\n",
       "      <th>104869</th>\n",
       "      <td>FBS</td>\n",
       "      <td>Food Balance Sheets</td>\n",
       "      <td>351</td>\n",
       "      <td>China</td>\n",
       "      <td>674</td>\n",
       "      <td>Protein supply quantity (g/capita/day)</td>\n",
       "      <td>2899</td>\n",
       "      <td>Miscellaneous</td>\n",
       "      <td>2013</td>\n",
       "      <td>2013</td>\n",
       "      <td>g/capita/day</td>\n",
       "      <td>1.000000e-02</td>\n",
       "      <td>Fc</td>\n",
       "      <td>Calculated data</td>\n",
       "      <td>vegetal</td>\n",
       "    </tr>\n",
       "    <tr>\n",
       "      <th>104870</th>\n",
       "      <td>FBS</td>\n",
       "      <td>Food Balance Sheets</td>\n",
       "      <td>351</td>\n",
       "      <td>China</td>\n",
       "      <td>684</td>\n",
       "      <td>Fat supply quantity (g/capita/day)</td>\n",
       "      <td>2899</td>\n",
       "      <td>Miscellaneous</td>\n",
       "      <td>2013</td>\n",
       "      <td>2013</td>\n",
       "      <td>g/capita/day</td>\n",
       "      <td>0.000000e+00</td>\n",
       "      <td>Fc</td>\n",
       "      <td>Calculated data</td>\n",
       "      <td>vegetal</td>\n",
       "    </tr>\n",
       "  </tbody>\n",
       "</table>\n",
       "<p>142037 rows × 15 columns</p>\n",
       "</div>"
      ],
      "text/plain": [
       "       Domain Code               Domain  Country Code      Country  \\\n",
       "0              FBS  Food Balance Sheets             2  Afghanistan   \n",
       "1              FBS  Food Balance Sheets             2  Afghanistan   \n",
       "2              FBS  Food Balance Sheets             2  Afghanistan   \n",
       "3              FBS  Food Balance Sheets             2  Afghanistan   \n",
       "4              FBS  Food Balance Sheets             2  Afghanistan   \n",
       "...            ...                  ...           ...          ...   \n",
       "104866         FBS  Food Balance Sheets           351        China   \n",
       "104867         FBS  Food Balance Sheets           351        China   \n",
       "104868         FBS  Food Balance Sheets           351        China   \n",
       "104869         FBS  Food Balance Sheets           351        China   \n",
       "104870         FBS  Food Balance Sheets           351        China   \n",
       "\n",
       "        Element Code                                 Element  Item Code  \\\n",
       "0               5511                              Production       2731   \n",
       "1               5611                         Import Quantity       2731   \n",
       "2               5301                Domestic supply quantity       2731   \n",
       "3               5142                                    Food       2731   \n",
       "4                645     Food supply quantity (kg/capita/yr)       2731   \n",
       "...              ...                                     ...        ...   \n",
       "104866           674  Protein supply quantity (g/capita/day)       2680   \n",
       "104867           684      Fat supply quantity (g/capita/day)       2680   \n",
       "104868           664           Food supply (kcal/capita/day)       2899   \n",
       "104869           674  Protein supply quantity (g/capita/day)       2899   \n",
       "104870           684      Fat supply quantity (g/capita/day)       2899   \n",
       "\n",
       "                 Item  Year Code  Year             Unit         Value Flag  \\\n",
       "0         Bovine Meat       2013  2013      1000 tonnes  1.340000e+08    S   \n",
       "1         Bovine Meat       2013  2013      1000 tonnes  6.000000e+06    S   \n",
       "2         Bovine Meat       2013  2013      1000 tonnes  1.400000e+08    S   \n",
       "3         Bovine Meat       2013  2013      1000 tonnes  1.400000e+08    S   \n",
       "4         Bovine Meat       2013  2013               kg  4.590000e+00   Fc   \n",
       "...               ...        ...   ...              ...           ...  ...   \n",
       "104866    Infant food       2013  2013     g/capita/day  4.000000e-02   Fc   \n",
       "104867    Infant food       2013  2013     g/capita/day  1.000000e-02   Fc   \n",
       "104868  Miscellaneous       2013  2013  kcal/capita/day  0.000000e+00   Fc   \n",
       "104869  Miscellaneous       2013  2013     g/capita/day  1.000000e-02   Fc   \n",
       "104870  Miscellaneous       2013  2013     g/capita/day  0.000000e+00   Fc   \n",
       "\n",
       "         Flag Description   origin  \n",
       "0       Standardized data   animal  \n",
       "1       Standardized data   animal  \n",
       "2       Standardized data   animal  \n",
       "3       Standardized data   animal  \n",
       "4         Calculated data   animal  \n",
       "...                   ...      ...  \n",
       "104866    Calculated data  vegetal  \n",
       "104867    Calculated data  vegetal  \n",
       "104868    Calculated data  vegetal  \n",
       "104869    Calculated data  vegetal  \n",
       "104870    Calculated data  vegetal  \n",
       "\n",
       "[142037 rows x 15 columns]"
      ]
     },
     "execution_count": 20,
     "metadata": {},
     "output_type": "execute_result"
    }
   ],
   "source": [
    "food_balance_df"
   ]
  },
  {
   "cell_type": "code",
   "execution_count": 21,
   "metadata": {},
   "outputs": [],
   "source": [
    "# Delete the 3 useless balance food dataframe\n",
    "del food_balance_animal, food_balance_vegetal"
   ]
  },
  {
   "cell_type": "code",
   "execution_count": 22,
   "metadata": {},
   "outputs": [],
   "source": [
    "# Rename the columns\n",
    "food_balance_df.rename(columns = {\"Country Code\":\"country_code\", \"Country\":\"country\", \"Element\":\"element\",\n",
    "                                  \"Item Code\":\"item_code\", \"Item\":\"item\", \"Year\":\"year\",\n",
    "                                  \"Value\":\"value\"}, inplace = True)"
   ]
  },
  {
   "cell_type": "code",
   "execution_count": 23,
   "metadata": {},
   "outputs": [],
   "source": [
    "# Transform the dataframe from long to wide with pivot_table\n",
    "food_balance_wide = food_balance_df.pivot_table(\n",
    "    # Put as index the Columns that we want to keep in the dataframe\n",
    "    index = [\"country_code\", \"country\", \"item_code\", \"item\", \"year\", \"origin\"],\n",
    "    # Select the columns that we want to transform from long to wide and the values that we sum \n",
    "    columns = [\"element\"], values = [\"value\"], aggfunc = sum)\n",
    "# Renaming the columns \n",
    "food_balance_wide.columns = [\"domestic_supply_quantity\", \"export_quantity\", \"fat_supply_quantity_gcapitaday\",\n",
    "                             \"feed\", \"food\", \"food_supply_kcalcapitaday\", \"food_supply_quantity_kgcapitayr\", \n",
    "                            \"import_quantity\", \"losses\", \"other_uses\", \"processing\", \"production\", \n",
    "                            \"protein_supply_quantity_gcapitaday\", \"seed\", \"stock_variation\"]"
   ]
  },
  {
   "cell_type": "code",
   "execution_count": 24,
   "metadata": {},
   "outputs": [
    {
     "data": {
      "text/html": [
       "<div>\n",
       "<style scoped>\n",
       "    .dataframe tbody tr th:only-of-type {\n",
       "        vertical-align: middle;\n",
       "    }\n",
       "\n",
       "    .dataframe tbody tr th {\n",
       "        vertical-align: top;\n",
       "    }\n",
       "\n",
       "    .dataframe thead th {\n",
       "        text-align: right;\n",
       "    }\n",
       "</style>\n",
       "<table border=\"1\" class=\"dataframe\">\n",
       "  <thead>\n",
       "    <tr style=\"text-align: right;\">\n",
       "      <th></th>\n",
       "      <th>country_code</th>\n",
       "      <th>country</th>\n",
       "      <th>item_code</th>\n",
       "      <th>item</th>\n",
       "      <th>year</th>\n",
       "      <th>origin</th>\n",
       "      <th>domestic_supply_quantity</th>\n",
       "      <th>export_quantity</th>\n",
       "      <th>fat_supply_quantity_gcapitaday</th>\n",
       "      <th>feed</th>\n",
       "      <th>...</th>\n",
       "      <th>food_supply_kcalcapitaday</th>\n",
       "      <th>food_supply_quantity_kgcapitayr</th>\n",
       "      <th>import_quantity</th>\n",
       "      <th>losses</th>\n",
       "      <th>other_uses</th>\n",
       "      <th>processing</th>\n",
       "      <th>production</th>\n",
       "      <th>protein_supply_quantity_gcapitaday</th>\n",
       "      <th>seed</th>\n",
       "      <th>stock_variation</th>\n",
       "    </tr>\n",
       "  </thead>\n",
       "  <tbody>\n",
       "    <tr>\n",
       "      <th>0</th>\n",
       "      <td>1</td>\n",
       "      <td>Armenia</td>\n",
       "      <td>2511</td>\n",
       "      <td>Wheat and products</td>\n",
       "      <td>2013</td>\n",
       "      <td>vegetal</td>\n",
       "      <td>554000000.0</td>\n",
       "      <td>1000000.0</td>\n",
       "      <td>3.60</td>\n",
       "      <td>93000000.0</td>\n",
       "      <td>...</td>\n",
       "      <td>1024.0</td>\n",
       "      <td>130.60</td>\n",
       "      <td>361000000.0</td>\n",
       "      <td>32000000.0</td>\n",
       "      <td>0.0</td>\n",
       "      <td>10000000.0</td>\n",
       "      <td>312000000.0</td>\n",
       "      <td>30.52</td>\n",
       "      <td>30000000.0</td>\n",
       "      <td>-118000000.0</td>\n",
       "    </tr>\n",
       "    <tr>\n",
       "      <th>1</th>\n",
       "      <td>1</td>\n",
       "      <td>Armenia</td>\n",
       "      <td>2513</td>\n",
       "      <td>Barley and products</td>\n",
       "      <td>2013</td>\n",
       "      <td>vegetal</td>\n",
       "      <td>198000000.0</td>\n",
       "      <td>0.0</td>\n",
       "      <td>0.00</td>\n",
       "      <td>137000000.0</td>\n",
       "      <td>...</td>\n",
       "      <td>0.0</td>\n",
       "      <td>0.00</td>\n",
       "      <td>9000000.0</td>\n",
       "      <td>15000000.0</td>\n",
       "      <td>26000000.0</td>\n",
       "      <td>7000000.0</td>\n",
       "      <td>189000000.0</td>\n",
       "      <td>0.00</td>\n",
       "      <td>14000000.0</td>\n",
       "      <td>0.0</td>\n",
       "    </tr>\n",
       "    <tr>\n",
       "      <th>2</th>\n",
       "      <td>1</td>\n",
       "      <td>Armenia</td>\n",
       "      <td>2514</td>\n",
       "      <td>Maize and products</td>\n",
       "      <td>2013</td>\n",
       "      <td>vegetal</td>\n",
       "      <td>102000000.0</td>\n",
       "      <td>NaN</td>\n",
       "      <td>NaN</td>\n",
       "      <td>96000000.0</td>\n",
       "      <td>...</td>\n",
       "      <td>0.0</td>\n",
       "      <td>0.03</td>\n",
       "      <td>82000000.0</td>\n",
       "      <td>7000000.0</td>\n",
       "      <td>NaN</td>\n",
       "      <td>NaN</td>\n",
       "      <td>21000000.0</td>\n",
       "      <td>0.01</td>\n",
       "      <td>0.0</td>\n",
       "      <td>NaN</td>\n",
       "    </tr>\n",
       "    <tr>\n",
       "      <th>3</th>\n",
       "      <td>1</td>\n",
       "      <td>Armenia</td>\n",
       "      <td>2515</td>\n",
       "      <td>Rye and products</td>\n",
       "      <td>2013</td>\n",
       "      <td>vegetal</td>\n",
       "      <td>1000000.0</td>\n",
       "      <td>NaN</td>\n",
       "      <td>0.00</td>\n",
       "      <td>1000000.0</td>\n",
       "      <td>...</td>\n",
       "      <td>1.0</td>\n",
       "      <td>0.12</td>\n",
       "      <td>0.0</td>\n",
       "      <td>0.0</td>\n",
       "      <td>NaN</td>\n",
       "      <td>NaN</td>\n",
       "      <td>1000000.0</td>\n",
       "      <td>0.02</td>\n",
       "      <td>0.0</td>\n",
       "      <td>0.0</td>\n",
       "    </tr>\n",
       "    <tr>\n",
       "      <th>4</th>\n",
       "      <td>1</td>\n",
       "      <td>Armenia</td>\n",
       "      <td>2516</td>\n",
       "      <td>Oats</td>\n",
       "      <td>2013</td>\n",
       "      <td>vegetal</td>\n",
       "      <td>6000000.0</td>\n",
       "      <td>NaN</td>\n",
       "      <td>0.03</td>\n",
       "      <td>4000000.0</td>\n",
       "      <td>...</td>\n",
       "      <td>2.0</td>\n",
       "      <td>0.37</td>\n",
       "      <td>1000000.0</td>\n",
       "      <td>0.0</td>\n",
       "      <td>NaN</td>\n",
       "      <td>NaN</td>\n",
       "      <td>5000000.0</td>\n",
       "      <td>0.09</td>\n",
       "      <td>0.0</td>\n",
       "      <td>NaN</td>\n",
       "    </tr>\n",
       "  </tbody>\n",
       "</table>\n",
       "<p>5 rows × 21 columns</p>\n",
       "</div>"
      ],
      "text/plain": [
       "   country_code  country  item_code                 item  year   origin  \\\n",
       "0             1  Armenia       2511   Wheat and products  2013  vegetal   \n",
       "1             1  Armenia       2513  Barley and products  2013  vegetal   \n",
       "2             1  Armenia       2514   Maize and products  2013  vegetal   \n",
       "3             1  Armenia       2515     Rye and products  2013  vegetal   \n",
       "4             1  Armenia       2516                 Oats  2013  vegetal   \n",
       "\n",
       "   domestic_supply_quantity  export_quantity  fat_supply_quantity_gcapitaday  \\\n",
       "0               554000000.0        1000000.0                            3.60   \n",
       "1               198000000.0              0.0                            0.00   \n",
       "2               102000000.0              NaN                             NaN   \n",
       "3                 1000000.0              NaN                            0.00   \n",
       "4                 6000000.0              NaN                            0.03   \n",
       "\n",
       "          feed  ...  food_supply_kcalcapitaday  \\\n",
       "0   93000000.0  ...                     1024.0   \n",
       "1  137000000.0  ...                        0.0   \n",
       "2   96000000.0  ...                        0.0   \n",
       "3    1000000.0  ...                        1.0   \n",
       "4    4000000.0  ...                        2.0   \n",
       "\n",
       "   food_supply_quantity_kgcapitayr  import_quantity      losses  other_uses  \\\n",
       "0                           130.60      361000000.0  32000000.0         0.0   \n",
       "1                             0.00        9000000.0  15000000.0  26000000.0   \n",
       "2                             0.03       82000000.0   7000000.0         NaN   \n",
       "3                             0.12              0.0         0.0         NaN   \n",
       "4                             0.37        1000000.0         0.0         NaN   \n",
       "\n",
       "   processing   production  protein_supply_quantity_gcapitaday        seed  \\\n",
       "0  10000000.0  312000000.0                               30.52  30000000.0   \n",
       "1   7000000.0  189000000.0                                0.00  14000000.0   \n",
       "2         NaN   21000000.0                                0.01         0.0   \n",
       "3         NaN    1000000.0                                0.02         0.0   \n",
       "4         NaN    5000000.0                                0.09         0.0   \n",
       "\n",
       "   stock_variation  \n",
       "0     -118000000.0  \n",
       "1              0.0  \n",
       "2              NaN  \n",
       "3              0.0  \n",
       "4              NaN  \n",
       "\n",
       "[5 rows x 21 columns]"
      ]
     },
     "execution_count": 24,
     "metadata": {},
     "output_type": "execute_result"
    }
   ],
   "source": [
    "# Reset the index to have normal columns\n",
    "food_balance = food_balance_wide.reset_index()\n",
    "# delete the useless dataframe\n",
    "del food_balance_df, food_balance_wide\n",
    "# Check the first rows of the dataframe\n",
    "food_balance.head()"
   ]
  },
  {
   "cell_type": "markdown",
   "metadata": {},
   "source": [
    "Looking at the definitions of the elements in the [FAO](http://www.fao.org/faostat/en/#data/FBS)(Definitions and Standards tab), we notice that there are redundant information concerning those elements. Let's indentify the redundancy with a mathematical formula and give and example with the wheat in France.\n"
   ]
  },
  {
   "cell_type": "code",
   "execution_count": 25,
   "metadata": {},
   "outputs": [
    {
     "name": "stdout",
     "output_type": "stream",
     "text": [
      "Formula 1 : Domestic supply = Production + Import Quantity + Stock Variation - Export Quantity \n",
      "Formula 2 : Domestic supply = Food + Feed + Losses + Seed + Processing + Other Uses\n"
     ]
    }
   ],
   "source": [
    "# Create a dataframe with France as country and wheat as item\n",
    "wheat_france = food_balance.query(\"country == 'France' and item == 'Wheat and products'\")\n",
    "# Formulas\n",
    "print(\"Formula 1 : Domestic supply = Production + Import Quantity + Stock Variation - Export Quantity \\n\\\n",
    "Formula 2 : Domestic supply = Food + Feed + Losses + Seed + Processing + Other Uses\")"
   ]
  },
  {
   "cell_type": "code",
   "execution_count": 26,
   "metadata": {},
   "outputs": [],
   "source": [
    "# Apply the formula in the wheat france dataframe\n",
    "term_1 = (wheat_france[:1].production + wheat_france[:1].import_quantity + wheat_france[:1].stock_variation \\\n",
    "         - wheat_france[:1].export_quantity).values[0]\n",
    "\n",
    "term_2 = wheat_france[:1].domestic_supply_quantity.values[0]\n",
    "\n",
    "term_3 = (wheat_france[:1].food + wheat_france[:1].feed + wheat_france[:1].losses + wheat_france[:1].seed + \\\n",
    "         wheat_france[:1].processing + wheat_france[:1].other_uses).values[0]"
   ]
  },
  {
   "cell_type": "code",
   "execution_count": 27,
   "metadata": {},
   "outputs": [],
   "source": [
    "# Check if all the term are equal, no output means it is correct\n",
    "assert term_1 == term_2 == term_3"
   ]
  },
  {
   "cell_type": "code",
   "execution_count": 28,
   "metadata": {},
   "outputs": [
    {
     "name": "stdout",
     "output_type": "stream",
     "text": [
      "For the wheat in France we have : \n",
      "Domestic supply quantity = 20,298,000,000.0 kg \n",
      "Production + Import Quantity + Stock Variation - Export Quantity = 20,298,000,000.0 kg \n",
      "Food + Feed + Losses + Seed + Processing + Other Uses = 20298000000.0 kg\n"
     ]
    }
   ],
   "source": [
    "print(\"For the wheat in France we have : \\n\\\n",
    "Domestic supply quantity = {:,} kg \\n\\\n",
    "Production + Import Quantity + Stock Variation - Export Quantity = {:,} kg \\n\\\n",
    "Food + Feed + Losses + Seed + Processing + Other Uses = {} kg\".format(term_2, term_1, term_3))"
   ]
  },
  {
   "cell_type": "markdown",
   "metadata": {},
   "source": [
    "- **Food Security Indicators**"
   ]
  },
  {
   "cell_type": "code",
   "execution_count": 29,
   "metadata": {},
   "outputs": [
    {
     "name": "stdout",
     "output_type": "stream",
     "text": [
      "<class 'pandas.core.frame.DataFrame'>\n",
      "RangeIndex: 1020 entries, 0 to 1019\n",
      "Data columns (total 15 columns):\n",
      "Domain Code         1020 non-null object\n",
      "Domain              1020 non-null object\n",
      "Area Code           1020 non-null int64\n",
      "Area                1020 non-null object\n",
      "Element Code        1020 non-null int64\n",
      "Element             1020 non-null object\n",
      "Item Code           1020 non-null int64\n",
      "Item                1020 non-null object\n",
      "Year Code           1020 non-null int64\n",
      "Year                1020 non-null object\n",
      "Unit                1020 non-null object\n",
      "Value               605 non-null object\n",
      "Flag                1020 non-null object\n",
      "Flag Description    1020 non-null object\n",
      "Note                0 non-null float64\n",
      "dtypes: float64(1), int64(4), object(10)\n",
      "memory usage: 119.7+ KB\n"
     ]
    }
   ],
   "source": [
    "food_security_indicators.info()"
   ]
  },
  {
   "cell_type": "markdown",
   "metadata": {},
   "source": [
    "- The Value column has 605 non-null rows which means that there are many null values  \n",
    "- There are many useless columns to remove  \n",
    "- We need to change the columns name\n",
    "- The Value must be float number not a string  \n",
    "- The year must be a categorical variable not a string \n",
    "- There is a value <0.1, that must be changed  \n",
    "- Convert the value in million\n",
    "\n",
    "Let us make all those changes."
   ]
  },
  {
   "cell_type": "code",
   "execution_count": 30,
   "metadata": {},
   "outputs": [
    {
     "data": {
      "text/html": [
       "<div>\n",
       "<style scoped>\n",
       "    .dataframe tbody tr th:only-of-type {\n",
       "        vertical-align: middle;\n",
       "    }\n",
       "\n",
       "    .dataframe tbody tr th {\n",
       "        vertical-align: top;\n",
       "    }\n",
       "\n",
       "    .dataframe thead th {\n",
       "        text-align: right;\n",
       "    }\n",
       "</style>\n",
       "<table border=\"1\" class=\"dataframe\">\n",
       "  <thead>\n",
       "    <tr style=\"text-align: right;\">\n",
       "      <th></th>\n",
       "      <th>Domain Code</th>\n",
       "      <th>Domain</th>\n",
       "      <th>Area Code</th>\n",
       "      <th>Area</th>\n",
       "      <th>Element Code</th>\n",
       "      <th>Element</th>\n",
       "      <th>Item Code</th>\n",
       "      <th>Item</th>\n",
       "      <th>Year Code</th>\n",
       "      <th>Year</th>\n",
       "      <th>Unit</th>\n",
       "      <th>Value</th>\n",
       "      <th>Flag</th>\n",
       "      <th>Flag Description</th>\n",
       "      <th>Note</th>\n",
       "    </tr>\n",
       "  </thead>\n",
       "  <tbody>\n",
       "    <tr>\n",
       "      <th>15</th>\n",
       "      <td>FS</td>\n",
       "      <td>Suite of Food Security Indicators</td>\n",
       "      <td>5</td>\n",
       "      <td>American Samoa</td>\n",
       "      <td>6132</td>\n",
       "      <td>Value</td>\n",
       "      <td>210011</td>\n",
       "      <td>Number of people undernourished (million) (3-y...</td>\n",
       "      <td>20122014</td>\n",
       "      <td>2012-2014</td>\n",
       "      <td>millions</td>\n",
       "      <td>NaN</td>\n",
       "      <td>NV</td>\n",
       "      <td>Data not available</td>\n",
       "      <td>NaN</td>\n",
       "    </tr>\n",
       "    <tr>\n",
       "      <th>16</th>\n",
       "      <td>FS</td>\n",
       "      <td>Suite of Food Security Indicators</td>\n",
       "      <td>5</td>\n",
       "      <td>American Samoa</td>\n",
       "      <td>6132</td>\n",
       "      <td>Value</td>\n",
       "      <td>210011</td>\n",
       "      <td>Number of people undernourished (million) (3-y...</td>\n",
       "      <td>20132015</td>\n",
       "      <td>2013-2015</td>\n",
       "      <td>millions</td>\n",
       "      <td>NaN</td>\n",
       "      <td>NV</td>\n",
       "      <td>Data not available</td>\n",
       "      <td>NaN</td>\n",
       "    </tr>\n",
       "    <tr>\n",
       "      <th>17</th>\n",
       "      <td>FS</td>\n",
       "      <td>Suite of Food Security Indicators</td>\n",
       "      <td>5</td>\n",
       "      <td>American Samoa</td>\n",
       "      <td>6132</td>\n",
       "      <td>Value</td>\n",
       "      <td>210011</td>\n",
       "      <td>Number of people undernourished (million) (3-y...</td>\n",
       "      <td>20142016</td>\n",
       "      <td>2014-2016</td>\n",
       "      <td>millions</td>\n",
       "      <td>NaN</td>\n",
       "      <td>NV</td>\n",
       "      <td>Data not available</td>\n",
       "      <td>NaN</td>\n",
       "    </tr>\n",
       "    <tr>\n",
       "      <th>18</th>\n",
       "      <td>FS</td>\n",
       "      <td>Suite of Food Security Indicators</td>\n",
       "      <td>5</td>\n",
       "      <td>American Samoa</td>\n",
       "      <td>6132</td>\n",
       "      <td>Value</td>\n",
       "      <td>210011</td>\n",
       "      <td>Number of people undernourished (million) (3-y...</td>\n",
       "      <td>20152017</td>\n",
       "      <td>2015-2017</td>\n",
       "      <td>millions</td>\n",
       "      <td>NaN</td>\n",
       "      <td>NV</td>\n",
       "      <td>Data not available</td>\n",
       "      <td>NaN</td>\n",
       "    </tr>\n",
       "    <tr>\n",
       "      <th>19</th>\n",
       "      <td>FS</td>\n",
       "      <td>Suite of Food Security Indicators</td>\n",
       "      <td>5</td>\n",
       "      <td>American Samoa</td>\n",
       "      <td>6132</td>\n",
       "      <td>Value</td>\n",
       "      <td>210011</td>\n",
       "      <td>Number of people undernourished (million) (3-y...</td>\n",
       "      <td>20162018</td>\n",
       "      <td>2016-2018</td>\n",
       "      <td>millions</td>\n",
       "      <td>NaN</td>\n",
       "      <td>NV</td>\n",
       "      <td>Data not available</td>\n",
       "      <td>NaN</td>\n",
       "    </tr>\n",
       "  </tbody>\n",
       "</table>\n",
       "</div>"
      ],
      "text/plain": [
       "   Domain Code                             Domain  Area Code            Area  \\\n",
       "15          FS  Suite of Food Security Indicators          5  American Samoa   \n",
       "16          FS  Suite of Food Security Indicators          5  American Samoa   \n",
       "17          FS  Suite of Food Security Indicators          5  American Samoa   \n",
       "18          FS  Suite of Food Security Indicators          5  American Samoa   \n",
       "19          FS  Suite of Food Security Indicators          5  American Samoa   \n",
       "\n",
       "    Element Code Element  Item Code  \\\n",
       "15          6132   Value     210011   \n",
       "16          6132   Value     210011   \n",
       "17          6132   Value     210011   \n",
       "18          6132   Value     210011   \n",
       "19          6132   Value     210011   \n",
       "\n",
       "                                                 Item  Year Code       Year  \\\n",
       "15  Number of people undernourished (million) (3-y...   20122014  2012-2014   \n",
       "16  Number of people undernourished (million) (3-y...   20132015  2013-2015   \n",
       "17  Number of people undernourished (million) (3-y...   20142016  2014-2016   \n",
       "18  Number of people undernourished (million) (3-y...   20152017  2015-2017   \n",
       "19  Number of people undernourished (million) (3-y...   20162018  2016-2018   \n",
       "\n",
       "        Unit Value Flag    Flag Description  Note  \n",
       "15  millions   NaN   NV  Data not available   NaN  \n",
       "16  millions   NaN   NV  Data not available   NaN  \n",
       "17  millions   NaN   NV  Data not available   NaN  \n",
       "18  millions   NaN   NV  Data not available   NaN  \n",
       "19  millions   NaN   NV  Data not available   NaN  "
      ]
     },
     "execution_count": 30,
     "metadata": {},
     "output_type": "execute_result"
    }
   ],
   "source": [
    "food_security_indicators[food_security_indicators.Value.isnull()][:5]"
   ]
  },
  {
   "cell_type": "markdown",
   "metadata": {},
   "source": [
    "All these rows with NaN values are useless. We will remove them. "
   ]
  },
  {
   "cell_type": "code",
   "execution_count": 31,
   "metadata": {},
   "outputs": [],
   "source": [
    "# Remove all NaN rows from the dataframe\n",
    "food_security_indicators = food_security_indicators[food_security_indicators.Value.isnull() == False]"
   ]
  },
  {
   "cell_type": "code",
   "execution_count": 32,
   "metadata": {},
   "outputs": [],
   "source": [
    "# Check that the Value column has no more NaN values, no output means it is correct\n",
    "assert food_security_indicators.Value.isnull().all() == False"
   ]
  },
  {
   "cell_type": "markdown",
   "metadata": {},
   "source": [
    "Now we can change the columns name and keep the columns that we need for the Analysis."
   ]
  },
  {
   "cell_type": "code",
   "execution_count": 33,
   "metadata": {},
   "outputs": [],
   "source": [
    "# Select the columns that we need\n",
    "indicators_df = food_security_indicators.loc[:, [\"Area Code\", \"Area\", \"Year\", \"Value\"]]\n",
    "# Change the columns name\n",
    "indicators_df.columns = [\"country_code\", \"country\", \"year\", \"undernourishment\"]\n",
    "# Turn the year variable into a categorical type\n",
    "category_type = CategoricalDtype(categories = [\"2012-2014\", \"2013-2015\", \"2014-2016\", \"2015-2017\", \"2016-2018\"]\n",
    "                                               ,ordered = True)\n",
    "indicators_df.year = indicators_df.year.astype(category_type)\n",
    "indicators_df.year = indicators_df.year.cat.rename_categories([2013, 2014, 2015, 2016, 2017])"
   ]
  },
  {
   "cell_type": "code",
   "execution_count": 34,
   "metadata": {},
   "outputs": [],
   "source": [
    "# Assert that the data type is correct\n",
    "assert indicators_df.year.dtype == \"category\""
   ]
  },
  {
   "cell_type": "code",
   "execution_count": 35,
   "metadata": {},
   "outputs": [],
   "source": [
    "# Replace the <0.1 value with 0.09 \n",
    "indicators_df.undernourishment = indicators_df.undernourishment.apply(lambda x : x.replace(\"<0.1\", \"0.09\"))"
   ]
  },
  {
   "cell_type": "code",
   "execution_count": 36,
   "metadata": {},
   "outputs": [],
   "source": [
    "# Check if there is no <0.1 value anymore\n",
    "assert indicators_df.loc[indicators_df.undernourishment == \"<0.1\"].undernourishment.any() == False"
   ]
  },
  {
   "cell_type": "code",
   "execution_count": 37,
   "metadata": {},
   "outputs": [],
   "source": [
    "# Change the data type of the value columns from string to float\n",
    "indicators_df.undernourishment = indicators_df.undernourishment.astype(\"float64\")"
   ]
  },
  {
   "cell_type": "code",
   "execution_count": 38,
   "metadata": {},
   "outputs": [],
   "source": [
    "# Assert that the changes occurs\n",
    "assert indicators_df.undernourishment.dtype == \"float64\""
   ]
  },
  {
   "cell_type": "code",
   "execution_count": 39,
   "metadata": {},
   "outputs": [
    {
     "name": "stdout",
     "output_type": "stream",
     "text": [
      "<class 'pandas.core.frame.DataFrame'>\n",
      "Int64Index: 605 entries, 0 to 1019\n",
      "Data columns (total 4 columns):\n",
      "country_code        605 non-null int64\n",
      "country             605 non-null object\n",
      "year                605 non-null category\n",
      "undernourishment    605 non-null float64\n",
      "dtypes: category(1), float64(1), int64(1), object(1)\n",
      "memory usage: 19.7+ KB\n"
     ]
    }
   ],
   "source": [
    "indicators_df.info()"
   ]
  },
  {
   "cell_type": "code",
   "execution_count": 40,
   "metadata": {},
   "outputs": [
    {
     "data": {
      "text/html": [
       "<div>\n",
       "<style scoped>\n",
       "    .dataframe tbody tr th:only-of-type {\n",
       "        vertical-align: middle;\n",
       "    }\n",
       "\n",
       "    .dataframe tbody tr th {\n",
       "        vertical-align: top;\n",
       "    }\n",
       "\n",
       "    .dataframe thead th {\n",
       "        text-align: right;\n",
       "    }\n",
       "</style>\n",
       "<table border=\"1\" class=\"dataframe\">\n",
       "  <thead>\n",
       "    <tr style=\"text-align: right;\">\n",
       "      <th></th>\n",
       "      <th>country_code</th>\n",
       "      <th>country</th>\n",
       "      <th>year</th>\n",
       "      <th>undernourishment</th>\n",
       "    </tr>\n",
       "  </thead>\n",
       "  <tbody>\n",
       "    <tr>\n",
       "      <th>304</th>\n",
       "      <td>60</td>\n",
       "      <td>El Salvador</td>\n",
       "      <td>2017</td>\n",
       "      <td>0.6</td>\n",
       "    </tr>\n",
       "    <tr>\n",
       "      <th>545</th>\n",
       "      <td>129</td>\n",
       "      <td>Madagascar</td>\n",
       "      <td>2013</td>\n",
       "      <td>8.2</td>\n",
       "    </tr>\n",
       "    <tr>\n",
       "      <th>868</th>\n",
       "      <td>38</td>\n",
       "      <td>Sri Lanka</td>\n",
       "      <td>2016</td>\n",
       "      <td>1.9</td>\n",
       "    </tr>\n",
       "  </tbody>\n",
       "</table>\n",
       "</div>"
      ],
      "text/plain": [
       "     country_code      country  year  undernourishment\n",
       "304            60  El Salvador  2017               0.6\n",
       "545           129   Madagascar  2013               8.2\n",
       "868            38    Sri Lanka  2016               1.9"
      ]
     },
     "execution_count": 40,
     "metadata": {},
     "output_type": "execute_result"
    }
   ],
   "source": [
    "indicators_df.sample(3)"
   ]
  },
  {
   "cell_type": "code",
   "execution_count": 41,
   "metadata": {},
   "outputs": [
    {
     "data": {
      "text/html": [
       "<div>\n",
       "<style scoped>\n",
       "    .dataframe tbody tr th:only-of-type {\n",
       "        vertical-align: middle;\n",
       "    }\n",
       "\n",
       "    .dataframe tbody tr th {\n",
       "        vertical-align: top;\n",
       "    }\n",
       "\n",
       "    .dataframe thead th {\n",
       "        text-align: right;\n",
       "    }\n",
       "</style>\n",
       "<table border=\"1\" class=\"dataframe\">\n",
       "  <thead>\n",
       "    <tr style=\"text-align: right;\">\n",
       "      <th></th>\n",
       "      <th>country_code</th>\n",
       "      <th>country</th>\n",
       "      <th>year</th>\n",
       "      <th>undernourishment</th>\n",
       "    </tr>\n",
       "  </thead>\n",
       "  <tbody>\n",
       "    <tr>\n",
       "      <th>0</th>\n",
       "      <td>2</td>\n",
       "      <td>Afghanistan</td>\n",
       "      <td>2013</td>\n",
       "      <td>7900000.0</td>\n",
       "    </tr>\n",
       "    <tr>\n",
       "      <th>1</th>\n",
       "      <td>2</td>\n",
       "      <td>Afghanistan</td>\n",
       "      <td>2014</td>\n",
       "      <td>8800000.0</td>\n",
       "    </tr>\n",
       "  </tbody>\n",
       "</table>\n",
       "</div>"
      ],
      "text/plain": [
       "   country_code      country  year  undernourishment\n",
       "0             2  Afghanistan  2013         7900000.0\n",
       "1             2  Afghanistan  2014         8800000.0"
      ]
     },
     "execution_count": 41,
     "metadata": {},
     "output_type": "execute_result"
    }
   ],
   "source": [
    "# Convert the value variable in million \n",
    "indicators_df.undernourishment = indicators_df.undernourishment * 1000000\n",
    "indicators_df.head(2)"
   ]
  },
  {
   "cell_type": "markdown",
   "metadata": {},
   "source": [
    "- **Population**  \n",
    "\n",
    "There is one flag value. Let see what it is about"
   ]
  },
  {
   "cell_type": "code",
   "execution_count": 42,
   "metadata": {},
   "outputs": [
    {
     "data": {
      "text/html": [
       "<div>\n",
       "<style scoped>\n",
       "    .dataframe tbody tr th:only-of-type {\n",
       "        vertical-align: middle;\n",
       "    }\n",
       "\n",
       "    .dataframe tbody tr th {\n",
       "        vertical-align: top;\n",
       "    }\n",
       "\n",
       "    .dataframe thead th {\n",
       "        text-align: right;\n",
       "    }\n",
       "</style>\n",
       "<table border=\"1\" class=\"dataframe\">\n",
       "  <thead>\n",
       "    <tr style=\"text-align: right;\">\n",
       "      <th></th>\n",
       "      <th>Domain Code</th>\n",
       "      <th>Domain</th>\n",
       "      <th>Country Code</th>\n",
       "      <th>Country</th>\n",
       "      <th>Element Code</th>\n",
       "      <th>Element</th>\n",
       "      <th>Item Code</th>\n",
       "      <th>Item</th>\n",
       "      <th>Year Code</th>\n",
       "      <th>Year</th>\n",
       "      <th>Unit</th>\n",
       "      <th>Value</th>\n",
       "      <th>Flag</th>\n",
       "      <th>Flag Description</th>\n",
       "      <th>population</th>\n",
       "    </tr>\n",
       "  </thead>\n",
       "  <tbody>\n",
       "    <tr>\n",
       "      <th>8621</th>\n",
       "      <td>FBS</td>\n",
       "      <td>Food Balance Sheets</td>\n",
       "      <td>351</td>\n",
       "      <td>China</td>\n",
       "      <td>511</td>\n",
       "      <td>Total Population - Both sexes</td>\n",
       "      <td>2501</td>\n",
       "      <td>Population</td>\n",
       "      <td>2013</td>\n",
       "      <td>2013</td>\n",
       "      <td>1000 persons</td>\n",
       "      <td>1416667.0</td>\n",
       "      <td>A</td>\n",
       "      <td>Aggregate, may include official, semi-official...</td>\n",
       "      <td>1.416667e+09</td>\n",
       "    </tr>\n",
       "  </tbody>\n",
       "</table>\n",
       "</div>"
      ],
      "text/plain": [
       "     Domain Code               Domain  Country Code Country  Element Code  \\\n",
       "8621         FBS  Food Balance Sheets           351   China           511   \n",
       "\n",
       "                            Element  Item Code        Item  Year Code  Year  \\\n",
       "8621  Total Population - Both sexes       2501  Population       2013  2013   \n",
       "\n",
       "              Unit      Value Flag  \\\n",
       "8621  1000 persons  1416667.0    A   \n",
       "\n",
       "                                       Flag Description    population  \n",
       "8621  Aggregate, may include official, semi-official...  1.416667e+09  "
      ]
     },
     "execution_count": 42,
     "metadata": {},
     "output_type": "execute_result"
    }
   ],
   "source": [
    "# Retrieve the Flag for the year 2013\n",
    "population.query(\"Year == 2013 & Flag.isnull() == False\")"
   ]
  },
  {
   "cell_type": "markdown",
   "metadata": {},
   "source": [
    "We see here that The \"China\" entry as country is an aggregate value. Let's check if there are another entry with China."
   ]
  },
  {
   "cell_type": "code",
   "execution_count": 43,
   "metadata": {},
   "outputs": [
    {
     "data": {
      "text/html": [
       "<div>\n",
       "<style scoped>\n",
       "    .dataframe tbody tr th:only-of-type {\n",
       "        vertical-align: middle;\n",
       "    }\n",
       "\n",
       "    .dataframe tbody tr th {\n",
       "        vertical-align: top;\n",
       "    }\n",
       "\n",
       "    .dataframe thead th {\n",
       "        text-align: right;\n",
       "    }\n",
       "</style>\n",
       "<table border=\"1\" class=\"dataframe\">\n",
       "  <thead>\n",
       "    <tr style=\"text-align: right;\">\n",
       "      <th></th>\n",
       "      <th>Country Code</th>\n",
       "      <th>Country</th>\n",
       "      <th>Year</th>\n",
       "      <th>population</th>\n",
       "    </tr>\n",
       "  </thead>\n",
       "  <tbody>\n",
       "    <tr>\n",
       "      <th>1624</th>\n",
       "      <td>96</td>\n",
       "      <td>China, Hong Kong SAR</td>\n",
       "      <td>2013</td>\n",
       "      <td>7.204000e+06</td>\n",
       "    </tr>\n",
       "    <tr>\n",
       "      <th>1677</th>\n",
       "      <td>128</td>\n",
       "      <td>China, Macao SAR</td>\n",
       "      <td>2013</td>\n",
       "      <td>5.660000e+05</td>\n",
       "    </tr>\n",
       "    <tr>\n",
       "      <th>1730</th>\n",
       "      <td>41</td>\n",
       "      <td>China, mainland</td>\n",
       "      <td>2013</td>\n",
       "      <td>1.385567e+09</td>\n",
       "    </tr>\n",
       "    <tr>\n",
       "      <th>1783</th>\n",
       "      <td>214</td>\n",
       "      <td>China, Taiwan Province of</td>\n",
       "      <td>2013</td>\n",
       "      <td>2.333000e+07</td>\n",
       "    </tr>\n",
       "    <tr>\n",
       "      <th>8621</th>\n",
       "      <td>351</td>\n",
       "      <td>China</td>\n",
       "      <td>2013</td>\n",
       "      <td>1.416667e+09</td>\n",
       "    </tr>\n",
       "  </tbody>\n",
       "</table>\n",
       "</div>"
      ],
      "text/plain": [
       "      Country Code                    Country  Year    population\n",
       "1624            96       China, Hong Kong SAR  2013  7.204000e+06\n",
       "1677           128           China, Macao SAR  2013  5.660000e+05\n",
       "1730            41            China, mainland  2013  1.385567e+09\n",
       "1783           214  China, Taiwan Province of  2013  2.333000e+07\n",
       "8621           351                      China  2013  1.416667e+09"
      ]
     },
     "execution_count": 43,
     "metadata": {},
     "output_type": "execute_result"
    }
   ],
   "source": [
    "# Find all the entries with china\n",
    "population_df.query(\"Year == 2013 & Country.str.contains('China')\")"
   ]
  },
  {
   "cell_type": "code",
   "execution_count": 44,
   "metadata": {},
   "outputs": [
    {
     "data": {
      "text/plain": [
       "1416667000.0"
      ]
     },
     "execution_count": 44,
     "metadata": {},
     "output_type": "execute_result"
    }
   ],
   "source": [
    "# Sum the four first values\n",
    "population_df.query(\"Year == 2013 & Country.str.contains('China')\").head(4).population.sum()"
   ]
  },
  {
   "cell_type": "markdown",
   "metadata": {},
   "source": [
    "China, Hong Kong SAR, China, Macao SAR, China, mainland and China, Taiwan Province of are actually four parts of the China country. We can confirm this because the total population of the four parts are equal to the population of the China country.\n",
    "We will remove the China population value from the dataframe during the calculation of the total number of humans on the planet."
   ]
  },
  {
   "cell_type": "code",
   "execution_count": 45,
   "metadata": {},
   "outputs": [],
   "source": [
    "# Remove China from the dataframe\n",
    "population_2013 = population_df.query(\"Year == 2013 & Country != 'China'\")"
   ]
  },
  {
   "cell_type": "code",
   "execution_count": 46,
   "metadata": {},
   "outputs": [
    {
     "name": "stdout",
     "output_type": "stream",
     "text": [
      "The total number of humans on the planet in 2013 is : 6,997,326,000.0\n"
     ]
    }
   ],
   "source": [
    "# Compute the wold population\n",
    "world_population = population_2013.population.sum()\n",
    "print(\"The total number of humans on the planet in 2013 is : {:,}\".format(world_population))"
   ]
  },
  {
   "cell_type": "code",
   "execution_count": 47,
   "metadata": {},
   "outputs": [],
   "source": [
    "# Rename the columns of the dataframe\n",
    "population_2013.columns = [\"country_code\", \"country\", \"year\", \"population\"]"
   ]
  },
  {
   "cell_type": "code",
   "execution_count": 48,
   "metadata": {},
   "outputs": [
    {
     "name": "stdout",
     "output_type": "stream",
     "text": [
      "<class 'pandas.core.frame.DataFrame'>\n",
      "Int64Index: 174 entries, 52 to 8568\n",
      "Data columns (total 4 columns):\n",
      "country_code    174 non-null int64\n",
      "country         174 non-null object\n",
      "year            174 non-null int64\n",
      "population      174 non-null float64\n",
      "dtypes: float64(1), int64(2), object(1)\n",
      "memory usage: 6.8+ KB\n"
     ]
    }
   ],
   "source": [
    "population_2013.info()"
   ]
  },
  {
   "cell_type": "markdown",
   "metadata": {},
   "source": [
    "<a id=new_variables></a>\n",
    "## 4. Computing New Variables To Lead the Analysis \n",
    "\n",
    "All the dataframes are clean, we can compute some new variables for future analysis"
   ]
  },
  {
   "cell_type": "markdown",
   "metadata": {},
   "source": [
    "- **food_supply_kcal(food supply express in kcal)**"
   ]
  },
  {
   "cell_type": "code",
   "execution_count": 49,
   "metadata": {},
   "outputs": [
    {
     "data": {
      "text/plain": [
       "(15605, 22)"
      ]
     },
     "execution_count": 49,
     "metadata": {},
     "output_type": "execute_result"
    }
   ],
   "source": [
    "# Create a temporary dataframe where we join the population and the food_balande dfs together \n",
    "food_balance_full = pd.merge(population_2013, food_balance, how = \"left\", on = [\"country\", \"country_code\", \"year\"])\n",
    "food_balance_full.shape"
   ]
  },
  {
   "cell_type": "code",
   "execution_count": 50,
   "metadata": {
    "scrolled": true
   },
   "outputs": [
    {
     "data": {
      "text/html": [
       "<div>\n",
       "<style scoped>\n",
       "    .dataframe tbody tr th:only-of-type {\n",
       "        vertical-align: middle;\n",
       "    }\n",
       "\n",
       "    .dataframe tbody tr th {\n",
       "        vertical-align: top;\n",
       "    }\n",
       "\n",
       "    .dataframe thead th {\n",
       "        text-align: right;\n",
       "    }\n",
       "</style>\n",
       "<table border=\"1\" class=\"dataframe\">\n",
       "  <thead>\n",
       "    <tr style=\"text-align: right;\">\n",
       "      <th></th>\n",
       "      <th>country_code</th>\n",
       "      <th>country</th>\n",
       "      <th>year</th>\n",
       "      <th>population</th>\n",
       "      <th>item_code</th>\n",
       "      <th>item</th>\n",
       "      <th>origin</th>\n",
       "      <th>domestic_supply_quantity</th>\n",
       "      <th>export_quantity</th>\n",
       "      <th>fat_supply_quantity_gcapitaday</th>\n",
       "      <th>...</th>\n",
       "      <th>food_supply_quantity_kgcapitayr</th>\n",
       "      <th>import_quantity</th>\n",
       "      <th>losses</th>\n",
       "      <th>other_uses</th>\n",
       "      <th>processing</th>\n",
       "      <th>production</th>\n",
       "      <th>protein_supply_quantity_gcapitaday</th>\n",
       "      <th>seed</th>\n",
       "      <th>stock_variation</th>\n",
       "      <th>food_supply_kcal</th>\n",
       "    </tr>\n",
       "  </thead>\n",
       "  <tbody>\n",
       "    <tr>\n",
       "      <th>0</th>\n",
       "      <td>2</td>\n",
       "      <td>Afghanistan</td>\n",
       "      <td>2013</td>\n",
       "      <td>30552000.0</td>\n",
       "      <td>2511</td>\n",
       "      <td>Wheat and products</td>\n",
       "      <td>vegetal</td>\n",
       "      <td>5.992000e+09</td>\n",
       "      <td>NaN</td>\n",
       "      <td>4.69</td>\n",
       "      <td>...</td>\n",
       "      <td>160.23</td>\n",
       "      <td>1.173000e+09</td>\n",
       "      <td>775000000.0</td>\n",
       "      <td>NaN</td>\n",
       "      <td>NaN</td>\n",
       "      <td>5.169000e+09</td>\n",
       "      <td>36.91</td>\n",
       "      <td>322000000.0</td>\n",
       "      <td>-350000000.0</td>\n",
       "      <td>1.526638e+13</td>\n",
       "    </tr>\n",
       "    <tr>\n",
       "      <th>1</th>\n",
       "      <td>2</td>\n",
       "      <td>Afghanistan</td>\n",
       "      <td>2013</td>\n",
       "      <td>30552000.0</td>\n",
       "      <td>2513</td>\n",
       "      <td>Barley and products</td>\n",
       "      <td>vegetal</td>\n",
       "      <td>5.240000e+08</td>\n",
       "      <td>NaN</td>\n",
       "      <td>0.24</td>\n",
       "      <td>...</td>\n",
       "      <td>2.92</td>\n",
       "      <td>1.000000e+07</td>\n",
       "      <td>52000000.0</td>\n",
       "      <td>NaN</td>\n",
       "      <td>NaN</td>\n",
       "      <td>5.140000e+08</td>\n",
       "      <td>0.79</td>\n",
       "      <td>22000000.0</td>\n",
       "      <td>0.0</td>\n",
       "      <td>2.899385e+11</td>\n",
       "    </tr>\n",
       "  </tbody>\n",
       "</table>\n",
       "<p>2 rows × 23 columns</p>\n",
       "</div>"
      ],
      "text/plain": [
       "   country_code      country  year  population  item_code  \\\n",
       "0             2  Afghanistan  2013  30552000.0       2511   \n",
       "1             2  Afghanistan  2013  30552000.0       2513   \n",
       "\n",
       "                  item   origin  domestic_supply_quantity  export_quantity  \\\n",
       "0   Wheat and products  vegetal              5.992000e+09              NaN   \n",
       "1  Barley and products  vegetal              5.240000e+08              NaN   \n",
       "\n",
       "   fat_supply_quantity_gcapitaday  ...  food_supply_quantity_kgcapitayr  \\\n",
       "0                            4.69  ...                           160.23   \n",
       "1                            0.24  ...                             2.92   \n",
       "\n",
       "   import_quantity       losses  other_uses  processing    production  \\\n",
       "0     1.173000e+09  775000000.0         NaN         NaN  5.169000e+09   \n",
       "1     1.000000e+07   52000000.0         NaN         NaN  5.140000e+08   \n",
       "\n",
       "   protein_supply_quantity_gcapitaday         seed  stock_variation  \\\n",
       "0                               36.91  322000000.0     -350000000.0   \n",
       "1                                0.79   22000000.0              0.0   \n",
       "\n",
       "   food_supply_kcal  \n",
       "0      1.526638e+13  \n",
       "1      2.899385e+11  \n",
       "\n",
       "[2 rows x 23 columns]"
      ]
     },
     "execution_count": 50,
     "metadata": {},
     "output_type": "execute_result"
    }
   ],
   "source": [
    "# Compute food_supply_kcal by multiplying by the population of each country and by 365 days\n",
    "food_balance_full[\"food_supply_kcal\"] = food_balance_full.food_supply_kcalcapitaday * food_balance_full.population * 365\n",
    "food_balance_full.head(2)"
   ]
  },
  {
   "cell_type": "markdown",
   "metadata": {},
   "source": [
    "- **food_supply_kgprotein(food supply express in kg protein)**"
   ]
  },
  {
   "cell_type": "code",
   "execution_count": 51,
   "metadata": {},
   "outputs": [
    {
     "data": {
      "text/html": [
       "<div>\n",
       "<style scoped>\n",
       "    .dataframe tbody tr th:only-of-type {\n",
       "        vertical-align: middle;\n",
       "    }\n",
       "\n",
       "    .dataframe tbody tr th {\n",
       "        vertical-align: top;\n",
       "    }\n",
       "\n",
       "    .dataframe thead th {\n",
       "        text-align: right;\n",
       "    }\n",
       "</style>\n",
       "<table border=\"1\" class=\"dataframe\">\n",
       "  <thead>\n",
       "    <tr style=\"text-align: right;\">\n",
       "      <th></th>\n",
       "      <th>country_code</th>\n",
       "      <th>country</th>\n",
       "      <th>year</th>\n",
       "      <th>population</th>\n",
       "      <th>item_code</th>\n",
       "      <th>item</th>\n",
       "      <th>origin</th>\n",
       "      <th>domestic_supply_quantity</th>\n",
       "      <th>export_quantity</th>\n",
       "      <th>fat_supply_quantity_gcapitaday</th>\n",
       "      <th>...</th>\n",
       "      <th>import_quantity</th>\n",
       "      <th>losses</th>\n",
       "      <th>other_uses</th>\n",
       "      <th>processing</th>\n",
       "      <th>production</th>\n",
       "      <th>protein_supply_quantity_gcapitaday</th>\n",
       "      <th>seed</th>\n",
       "      <th>stock_variation</th>\n",
       "      <th>food_supply_kcal</th>\n",
       "      <th>food_supply_kgprotein</th>\n",
       "    </tr>\n",
       "  </thead>\n",
       "  <tbody>\n",
       "    <tr>\n",
       "      <th>0</th>\n",
       "      <td>2</td>\n",
       "      <td>Afghanistan</td>\n",
       "      <td>2013</td>\n",
       "      <td>30552000.0</td>\n",
       "      <td>2511</td>\n",
       "      <td>Wheat and products</td>\n",
       "      <td>vegetal</td>\n",
       "      <td>5.992000e+09</td>\n",
       "      <td>NaN</td>\n",
       "      <td>4.69</td>\n",
       "      <td>...</td>\n",
       "      <td>1.173000e+09</td>\n",
       "      <td>775000000.0</td>\n",
       "      <td>NaN</td>\n",
       "      <td>NaN</td>\n",
       "      <td>5.169000e+09</td>\n",
       "      <td>36.91</td>\n",
       "      <td>322000000.0</td>\n",
       "      <td>-350000000.0</td>\n",
       "      <td>1.526638e+13</td>\n",
       "      <td>411601126.8</td>\n",
       "    </tr>\n",
       "    <tr>\n",
       "      <th>1</th>\n",
       "      <td>2</td>\n",
       "      <td>Afghanistan</td>\n",
       "      <td>2013</td>\n",
       "      <td>30552000.0</td>\n",
       "      <td>2513</td>\n",
       "      <td>Barley and products</td>\n",
       "      <td>vegetal</td>\n",
       "      <td>5.240000e+08</td>\n",
       "      <td>NaN</td>\n",
       "      <td>0.24</td>\n",
       "      <td>...</td>\n",
       "      <td>1.000000e+07</td>\n",
       "      <td>52000000.0</td>\n",
       "      <td>NaN</td>\n",
       "      <td>NaN</td>\n",
       "      <td>5.140000e+08</td>\n",
       "      <td>0.79</td>\n",
       "      <td>22000000.0</td>\n",
       "      <td>0.0</td>\n",
       "      <td>2.899385e+11</td>\n",
       "      <td>8809669.2</td>\n",
       "    </tr>\n",
       "  </tbody>\n",
       "</table>\n",
       "<p>2 rows × 24 columns</p>\n",
       "</div>"
      ],
      "text/plain": [
       "   country_code      country  year  population  item_code  \\\n",
       "0             2  Afghanistan  2013  30552000.0       2511   \n",
       "1             2  Afghanistan  2013  30552000.0       2513   \n",
       "\n",
       "                  item   origin  domestic_supply_quantity  export_quantity  \\\n",
       "0   Wheat and products  vegetal              5.992000e+09              NaN   \n",
       "1  Barley and products  vegetal              5.240000e+08              NaN   \n",
       "\n",
       "   fat_supply_quantity_gcapitaday  ...  import_quantity       losses  \\\n",
       "0                            4.69  ...     1.173000e+09  775000000.0   \n",
       "1                            0.24  ...     1.000000e+07   52000000.0   \n",
       "\n",
       "   other_uses  processing    production  protein_supply_quantity_gcapitaday  \\\n",
       "0         NaN         NaN  5.169000e+09                               36.91   \n",
       "1         NaN         NaN  5.140000e+08                                0.79   \n",
       "\n",
       "          seed  stock_variation  food_supply_kcal  food_supply_kgprotein  \n",
       "0  322000000.0     -350000000.0      1.526638e+13            411601126.8  \n",
       "1   22000000.0              0.0      2.899385e+11              8809669.2  \n",
       "\n",
       "[2 rows x 24 columns]"
      ]
     },
     "execution_count": 51,
     "metadata": {},
     "output_type": "execute_result"
    }
   ],
   "source": [
    "# Compute food_supply_kgprotein, dividing by 1000 to have it in kg then multiplying by 365 for 1 year\n",
    "food_balance_full[\"food_supply_kgprotein\"] = (food_balance_full.protein_supply_quantity_gcapitaday / 1000) * food_balance_full.population * 365\n",
    "food_balance_full.head(2)"
   ]
  },
  {
   "cell_type": "markdown",
   "metadata": {},
   "source": [
    "- **food_supply_kg(food supply express in kg)**"
   ]
  },
  {
   "cell_type": "code",
   "execution_count": 52,
   "metadata": {},
   "outputs": [
    {
     "data": {
      "text/html": [
       "<div>\n",
       "<style scoped>\n",
       "    .dataframe tbody tr th:only-of-type {\n",
       "        vertical-align: middle;\n",
       "    }\n",
       "\n",
       "    .dataframe tbody tr th {\n",
       "        vertical-align: top;\n",
       "    }\n",
       "\n",
       "    .dataframe thead th {\n",
       "        text-align: right;\n",
       "    }\n",
       "</style>\n",
       "<table border=\"1\" class=\"dataframe\">\n",
       "  <thead>\n",
       "    <tr style=\"text-align: right;\">\n",
       "      <th></th>\n",
       "      <th>country_code</th>\n",
       "      <th>country</th>\n",
       "      <th>year</th>\n",
       "      <th>population</th>\n",
       "      <th>item_code</th>\n",
       "      <th>item</th>\n",
       "      <th>origin</th>\n",
       "      <th>domestic_supply_quantity</th>\n",
       "      <th>export_quantity</th>\n",
       "      <th>fat_supply_quantity_gcapitaday</th>\n",
       "      <th>...</th>\n",
       "      <th>losses</th>\n",
       "      <th>other_uses</th>\n",
       "      <th>processing</th>\n",
       "      <th>production</th>\n",
       "      <th>protein_supply_quantity_gcapitaday</th>\n",
       "      <th>seed</th>\n",
       "      <th>stock_variation</th>\n",
       "      <th>food_supply_kcal</th>\n",
       "      <th>food_supply_kgprotein</th>\n",
       "      <th>food_supply_kg</th>\n",
       "    </tr>\n",
       "  </thead>\n",
       "  <tbody>\n",
       "    <tr>\n",
       "      <th>0</th>\n",
       "      <td>2</td>\n",
       "      <td>Afghanistan</td>\n",
       "      <td>2013</td>\n",
       "      <td>30552000.0</td>\n",
       "      <td>2511</td>\n",
       "      <td>Wheat and products</td>\n",
       "      <td>vegetal</td>\n",
       "      <td>5.992000e+09</td>\n",
       "      <td>NaN</td>\n",
       "      <td>4.69</td>\n",
       "      <td>...</td>\n",
       "      <td>775000000.0</td>\n",
       "      <td>NaN</td>\n",
       "      <td>NaN</td>\n",
       "      <td>5.169000e+09</td>\n",
       "      <td>36.91</td>\n",
       "      <td>322000000.0</td>\n",
       "      <td>-350000000.0</td>\n",
       "      <td>1.526638e+13</td>\n",
       "      <td>411601126.8</td>\n",
       "      <td>4.895000e+09</td>\n",
       "    </tr>\n",
       "    <tr>\n",
       "      <th>1</th>\n",
       "      <td>2</td>\n",
       "      <td>Afghanistan</td>\n",
       "      <td>2013</td>\n",
       "      <td>30552000.0</td>\n",
       "      <td>2513</td>\n",
       "      <td>Barley and products</td>\n",
       "      <td>vegetal</td>\n",
       "      <td>5.240000e+08</td>\n",
       "      <td>NaN</td>\n",
       "      <td>0.24</td>\n",
       "      <td>...</td>\n",
       "      <td>52000000.0</td>\n",
       "      <td>NaN</td>\n",
       "      <td>NaN</td>\n",
       "      <td>5.140000e+08</td>\n",
       "      <td>0.79</td>\n",
       "      <td>22000000.0</td>\n",
       "      <td>0.0</td>\n",
       "      <td>2.899385e+11</td>\n",
       "      <td>8809669.2</td>\n",
       "      <td>8.900000e+07</td>\n",
       "    </tr>\n",
       "  </tbody>\n",
       "</table>\n",
       "<p>2 rows × 25 columns</p>\n",
       "</div>"
      ],
      "text/plain": [
       "   country_code      country  year  population  item_code  \\\n",
       "0             2  Afghanistan  2013  30552000.0       2511   \n",
       "1             2  Afghanistan  2013  30552000.0       2513   \n",
       "\n",
       "                  item   origin  domestic_supply_quantity  export_quantity  \\\n",
       "0   Wheat and products  vegetal              5.992000e+09              NaN   \n",
       "1  Barley and products  vegetal              5.240000e+08              NaN   \n",
       "\n",
       "   fat_supply_quantity_gcapitaday  ...       losses  other_uses  processing  \\\n",
       "0                            4.69  ...  775000000.0         NaN         NaN   \n",
       "1                            0.24  ...   52000000.0         NaN         NaN   \n",
       "\n",
       "     production  protein_supply_quantity_gcapitaday         seed  \\\n",
       "0  5.169000e+09                               36.91  322000000.0   \n",
       "1  5.140000e+08                                0.79   22000000.0   \n",
       "\n",
       "   stock_variation  food_supply_kcal  food_supply_kgprotein  food_supply_kg  \n",
       "0     -350000000.0      1.526638e+13            411601126.8    4.895000e+09  \n",
       "1              0.0      2.899385e+11              8809669.2    8.900000e+07  \n",
       "\n",
       "[2 rows x 25 columns]"
      ]
     },
     "execution_count": 52,
     "metadata": {},
     "output_type": "execute_result"
    }
   ],
   "source": [
    "# Compute food_supply_kg just multiplying food by 1 million  \n",
    "food_balance_full[\"food_supply_kg\"] = food_balance_full.food\n",
    "food_balance_full.head(2)"
   ]
  },
  {
   "cell_type": "markdown",
   "metadata": {},
   "source": [
    "- **ratio_kcalkg(energy:weight ratio of each)**  \n",
    "This variable is computed using food_supply_kcal and food_supply_kg"
   ]
  },
  {
   "cell_type": "code",
   "execution_count": 53,
   "metadata": {},
   "outputs": [
    {
     "data": {
      "text/html": [
       "<div>\n",
       "<style scoped>\n",
       "    .dataframe tbody tr th:only-of-type {\n",
       "        vertical-align: middle;\n",
       "    }\n",
       "\n",
       "    .dataframe tbody tr th {\n",
       "        vertical-align: top;\n",
       "    }\n",
       "\n",
       "    .dataframe thead th {\n",
       "        text-align: right;\n",
       "    }\n",
       "</style>\n",
       "<table border=\"1\" class=\"dataframe\">\n",
       "  <thead>\n",
       "    <tr style=\"text-align: right;\">\n",
       "      <th></th>\n",
       "      <th>country_code</th>\n",
       "      <th>country</th>\n",
       "      <th>year</th>\n",
       "      <th>population</th>\n",
       "      <th>item_code</th>\n",
       "      <th>item</th>\n",
       "      <th>origin</th>\n",
       "      <th>domestic_supply_quantity</th>\n",
       "      <th>export_quantity</th>\n",
       "      <th>fat_supply_quantity_gcapitaday</th>\n",
       "      <th>...</th>\n",
       "      <th>other_uses</th>\n",
       "      <th>processing</th>\n",
       "      <th>production</th>\n",
       "      <th>protein_supply_quantity_gcapitaday</th>\n",
       "      <th>seed</th>\n",
       "      <th>stock_variation</th>\n",
       "      <th>food_supply_kcal</th>\n",
       "      <th>food_supply_kgprotein</th>\n",
       "      <th>food_supply_kg</th>\n",
       "      <th>ratio_kcalkg</th>\n",
       "    </tr>\n",
       "  </thead>\n",
       "  <tbody>\n",
       "    <tr>\n",
       "      <th>0</th>\n",
       "      <td>2</td>\n",
       "      <td>Afghanistan</td>\n",
       "      <td>2013</td>\n",
       "      <td>30552000.0</td>\n",
       "      <td>2511</td>\n",
       "      <td>Wheat and products</td>\n",
       "      <td>vegetal</td>\n",
       "      <td>5.992000e+09</td>\n",
       "      <td>NaN</td>\n",
       "      <td>4.69</td>\n",
       "      <td>...</td>\n",
       "      <td>NaN</td>\n",
       "      <td>NaN</td>\n",
       "      <td>5.169000e+09</td>\n",
       "      <td>36.91</td>\n",
       "      <td>322000000.0</td>\n",
       "      <td>-350000000.0</td>\n",
       "      <td>1.526638e+13</td>\n",
       "      <td>411601126.8</td>\n",
       "      <td>4.895000e+09</td>\n",
       "      <td>3118.77</td>\n",
       "    </tr>\n",
       "    <tr>\n",
       "      <th>1</th>\n",
       "      <td>2</td>\n",
       "      <td>Afghanistan</td>\n",
       "      <td>2013</td>\n",
       "      <td>30552000.0</td>\n",
       "      <td>2513</td>\n",
       "      <td>Barley and products</td>\n",
       "      <td>vegetal</td>\n",
       "      <td>5.240000e+08</td>\n",
       "      <td>NaN</td>\n",
       "      <td>0.24</td>\n",
       "      <td>...</td>\n",
       "      <td>NaN</td>\n",
       "      <td>NaN</td>\n",
       "      <td>5.140000e+08</td>\n",
       "      <td>0.79</td>\n",
       "      <td>22000000.0</td>\n",
       "      <td>0.0</td>\n",
       "      <td>2.899385e+11</td>\n",
       "      <td>8809669.2</td>\n",
       "      <td>8.900000e+07</td>\n",
       "      <td>3257.74</td>\n",
       "    </tr>\n",
       "  </tbody>\n",
       "</table>\n",
       "<p>2 rows × 26 columns</p>\n",
       "</div>"
      ],
      "text/plain": [
       "   country_code      country  year  population  item_code  \\\n",
       "0             2  Afghanistan  2013  30552000.0       2511   \n",
       "1             2  Afghanistan  2013  30552000.0       2513   \n",
       "\n",
       "                  item   origin  domestic_supply_quantity  export_quantity  \\\n",
       "0   Wheat and products  vegetal              5.992000e+09              NaN   \n",
       "1  Barley and products  vegetal              5.240000e+08              NaN   \n",
       "\n",
       "   fat_supply_quantity_gcapitaday  ...  other_uses  processing    production  \\\n",
       "0                            4.69  ...         NaN         NaN  5.169000e+09   \n",
       "1                            0.24  ...         NaN         NaN  5.140000e+08   \n",
       "\n",
       "   protein_supply_quantity_gcapitaday         seed  stock_variation  \\\n",
       "0                               36.91  322000000.0     -350000000.0   \n",
       "1                                0.79   22000000.0              0.0   \n",
       "\n",
       "   food_supply_kcal  food_supply_kgprotein  food_supply_kg  ratio_kcalkg  \n",
       "0      1.526638e+13            411601126.8    4.895000e+09       3118.77  \n",
       "1      2.899385e+11              8809669.2    8.900000e+07       3257.74  \n",
       "\n",
       "[2 rows x 26 columns]"
      ]
     },
     "execution_count": 53,
     "metadata": {},
     "output_type": "execute_result"
    }
   ],
   "source": [
    "# Compute ratio_kcalkg (food_supply_kcal / food_supply_kg)  \n",
    "food_balance_full[\"ratio_kcalkg\"] = round(food_balance_full.food_supply_kcal / food_balance_full.food_supply_kg,2)\n",
    "food_balance_full.ratio_kcalkg = food_balance_full.ratio_kcalkg.replace((np.inf, -np.inf), 0)\n",
    "food_balance_full.head(2)"
   ]
  },
  {
   "cell_type": "code",
   "execution_count": 54,
   "metadata": {},
   "outputs": [
    {
     "data": {
      "text/plain": [
       "7210    1422.1\n",
       "Name: ratio_kcalkg, dtype: float64"
      ]
     },
     "execution_count": 54,
     "metadata": {},
     "output_type": "execute_result"
    }
   ],
   "source": [
    "# Check the ratio of an italian egg\n",
    "food_balance_full.query(\"item == 'Eggs' and country == 'Italy'\").ratio_kcalkg"
   ]
  },
  {
   "cell_type": "markdown",
   "metadata": {},
   "source": [
    "- **protein_percentage(pretein percentage of each item)**"
   ]
  },
  {
   "cell_type": "code",
   "execution_count": 55,
   "metadata": {},
   "outputs": [
    {
     "data": {
      "text/html": [
       "<div>\n",
       "<style scoped>\n",
       "    .dataframe tbody tr th:only-of-type {\n",
       "        vertical-align: middle;\n",
       "    }\n",
       "\n",
       "    .dataframe tbody tr th {\n",
       "        vertical-align: top;\n",
       "    }\n",
       "\n",
       "    .dataframe thead th {\n",
       "        text-align: right;\n",
       "    }\n",
       "</style>\n",
       "<table border=\"1\" class=\"dataframe\">\n",
       "  <thead>\n",
       "    <tr style=\"text-align: right;\">\n",
       "      <th></th>\n",
       "      <th>country_code</th>\n",
       "      <th>country</th>\n",
       "      <th>year</th>\n",
       "      <th>population</th>\n",
       "      <th>item_code</th>\n",
       "      <th>item</th>\n",
       "      <th>origin</th>\n",
       "      <th>domestic_supply_quantity</th>\n",
       "      <th>export_quantity</th>\n",
       "      <th>fat_supply_quantity_gcapitaday</th>\n",
       "      <th>...</th>\n",
       "      <th>processing</th>\n",
       "      <th>production</th>\n",
       "      <th>protein_supply_quantity_gcapitaday</th>\n",
       "      <th>seed</th>\n",
       "      <th>stock_variation</th>\n",
       "      <th>food_supply_kcal</th>\n",
       "      <th>food_supply_kgprotein</th>\n",
       "      <th>food_supply_kg</th>\n",
       "      <th>ratio_kcalkg</th>\n",
       "      <th>protein_percentage</th>\n",
       "    </tr>\n",
       "  </thead>\n",
       "  <tbody>\n",
       "    <tr>\n",
       "      <th>0</th>\n",
       "      <td>2</td>\n",
       "      <td>Afghanistan</td>\n",
       "      <td>2013</td>\n",
       "      <td>30552000.0</td>\n",
       "      <td>2511</td>\n",
       "      <td>Wheat and products</td>\n",
       "      <td>vegetal</td>\n",
       "      <td>5.992000e+09</td>\n",
       "      <td>NaN</td>\n",
       "      <td>4.69</td>\n",
       "      <td>...</td>\n",
       "      <td>NaN</td>\n",
       "      <td>5.169000e+09</td>\n",
       "      <td>36.91</td>\n",
       "      <td>322000000.0</td>\n",
       "      <td>-350000000.0</td>\n",
       "      <td>1.526638e+13</td>\n",
       "      <td>411601126.8</td>\n",
       "      <td>4.895000e+09</td>\n",
       "      <td>3118.77</td>\n",
       "      <td>8.4</td>\n",
       "    </tr>\n",
       "    <tr>\n",
       "      <th>1</th>\n",
       "      <td>2</td>\n",
       "      <td>Afghanistan</td>\n",
       "      <td>2013</td>\n",
       "      <td>30552000.0</td>\n",
       "      <td>2513</td>\n",
       "      <td>Barley and products</td>\n",
       "      <td>vegetal</td>\n",
       "      <td>5.240000e+08</td>\n",
       "      <td>NaN</td>\n",
       "      <td>0.24</td>\n",
       "      <td>...</td>\n",
       "      <td>NaN</td>\n",
       "      <td>5.140000e+08</td>\n",
       "      <td>0.79</td>\n",
       "      <td>22000000.0</td>\n",
       "      <td>0.0</td>\n",
       "      <td>2.899385e+11</td>\n",
       "      <td>8809669.2</td>\n",
       "      <td>8.900000e+07</td>\n",
       "      <td>3257.74</td>\n",
       "      <td>9.9</td>\n",
       "    </tr>\n",
       "  </tbody>\n",
       "</table>\n",
       "<p>2 rows × 27 columns</p>\n",
       "</div>"
      ],
      "text/plain": [
       "   country_code      country  year  population  item_code  \\\n",
       "0             2  Afghanistan  2013  30552000.0       2511   \n",
       "1             2  Afghanistan  2013  30552000.0       2513   \n",
       "\n",
       "                  item   origin  domestic_supply_quantity  export_quantity  \\\n",
       "0   Wheat and products  vegetal              5.992000e+09              NaN   \n",
       "1  Barley and products  vegetal              5.240000e+08              NaN   \n",
       "\n",
       "   fat_supply_quantity_gcapitaday  ...  processing    production  \\\n",
       "0                            4.69  ...         NaN  5.169000e+09   \n",
       "1                            0.24  ...         NaN  5.140000e+08   \n",
       "\n",
       "   protein_supply_quantity_gcapitaday         seed  stock_variation  \\\n",
       "0                               36.91  322000000.0     -350000000.0   \n",
       "1                                0.79   22000000.0              0.0   \n",
       "\n",
       "   food_supply_kcal  food_supply_kgprotein  food_supply_kg  ratio_kcalkg  \\\n",
       "0      1.526638e+13            411601126.8    4.895000e+09       3118.77   \n",
       "1      2.899385e+11              8809669.2    8.900000e+07       3257.74   \n",
       "\n",
       "   protein_percentage  \n",
       "0                 8.4  \n",
       "1                 9.9  \n",
       "\n",
       "[2 rows x 27 columns]"
      ]
     },
     "execution_count": 55,
     "metadata": {},
     "output_type": "execute_result"
    }
   ],
   "source": [
    "food_balance_full[\"protein_percentage\"] = round(food_balance_full.food_supply_kgprotein / food_balance_full.food_supply_kg * 100,1)\n",
    "food_balance_full.protein_percentage = food_balance_full.protein_percentage.replace((np.inf, -np.inf), 0)\n",
    "food_balance_full.head(2)"
   ]
  },
  {
   "cell_type": "code",
   "execution_count": 56,
   "metadata": {},
   "outputs": [
    {
     "data": {
      "text/plain": [
       "7210    11.4\n",
       "Name: protein_percentage, dtype: float64"
      ]
     },
     "execution_count": 56,
     "metadata": {},
     "output_type": "execute_result"
    }
   ],
   "source": [
    "food_balance_full.query(\"item == 'Eggs' and country == 'Italy'\").protein_percentage"
   ]
  },
  {
   "cell_type": "markdown",
   "metadata": {},
   "source": [
    "According to [wikipedia](https://en.wikipedia.org/wiki/Egg_as_food#Nutritional_value) 50g of egg provides approximately 70 calories  and 6g of protein.   \n",
    "In italy we have a value of 11.4 percent of protein in one egg which means that in 50g we will have $50 * 11.4 / 100 = 5.7g$ of protein which is almost the same as the value of wikipedia."
   ]
  },
  {
   "cell_type": "markdown",
   "metadata": {},
   "source": [
    "- **dom_sup_kcal(Global domestic supply in kcal)**"
   ]
  },
  {
   "cell_type": "code",
   "execution_count": 57,
   "metadata": {},
   "outputs": [
    {
     "data": {
      "text/html": [
       "<div>\n",
       "<style scoped>\n",
       "    .dataframe tbody tr th:only-of-type {\n",
       "        vertical-align: middle;\n",
       "    }\n",
       "\n",
       "    .dataframe tbody tr th {\n",
       "        vertical-align: top;\n",
       "    }\n",
       "\n",
       "    .dataframe thead th {\n",
       "        text-align: right;\n",
       "    }\n",
       "</style>\n",
       "<table border=\"1\" class=\"dataframe\">\n",
       "  <thead>\n",
       "    <tr style=\"text-align: right;\">\n",
       "      <th></th>\n",
       "      <th>country_code</th>\n",
       "      <th>country</th>\n",
       "      <th>year</th>\n",
       "      <th>population</th>\n",
       "      <th>item_code</th>\n",
       "      <th>item</th>\n",
       "      <th>origin</th>\n",
       "      <th>domestic_supply_quantity</th>\n",
       "      <th>export_quantity</th>\n",
       "      <th>fat_supply_quantity_gcapitaday</th>\n",
       "      <th>...</th>\n",
       "      <th>production</th>\n",
       "      <th>protein_supply_quantity_gcapitaday</th>\n",
       "      <th>seed</th>\n",
       "      <th>stock_variation</th>\n",
       "      <th>food_supply_kcal</th>\n",
       "      <th>food_supply_kgprotein</th>\n",
       "      <th>food_supply_kg</th>\n",
       "      <th>ratio_kcalkg</th>\n",
       "      <th>protein_percentage</th>\n",
       "      <th>dom_sup_kcal</th>\n",
       "    </tr>\n",
       "  </thead>\n",
       "  <tbody>\n",
       "    <tr>\n",
       "      <th>0</th>\n",
       "      <td>2</td>\n",
       "      <td>Afghanistan</td>\n",
       "      <td>2013</td>\n",
       "      <td>30552000.0</td>\n",
       "      <td>2511</td>\n",
       "      <td>Wheat and products</td>\n",
       "      <td>vegetal</td>\n",
       "      <td>5.992000e+09</td>\n",
       "      <td>NaN</td>\n",
       "      <td>4.69</td>\n",
       "      <td>...</td>\n",
       "      <td>5.169000e+09</td>\n",
       "      <td>36.91</td>\n",
       "      <td>322000000.0</td>\n",
       "      <td>-350000000.0</td>\n",
       "      <td>1.526638e+13</td>\n",
       "      <td>411601126.8</td>\n",
       "      <td>4.895000e+09</td>\n",
       "      <td>3118.77</td>\n",
       "      <td>8.4</td>\n",
       "      <td>1.868767e+13</td>\n",
       "    </tr>\n",
       "    <tr>\n",
       "      <th>1</th>\n",
       "      <td>2</td>\n",
       "      <td>Afghanistan</td>\n",
       "      <td>2013</td>\n",
       "      <td>30552000.0</td>\n",
       "      <td>2513</td>\n",
       "      <td>Barley and products</td>\n",
       "      <td>vegetal</td>\n",
       "      <td>5.240000e+08</td>\n",
       "      <td>NaN</td>\n",
       "      <td>0.24</td>\n",
       "      <td>...</td>\n",
       "      <td>5.140000e+08</td>\n",
       "      <td>0.79</td>\n",
       "      <td>22000000.0</td>\n",
       "      <td>0.0</td>\n",
       "      <td>2.899385e+11</td>\n",
       "      <td>8809669.2</td>\n",
       "      <td>8.900000e+07</td>\n",
       "      <td>3257.74</td>\n",
       "      <td>9.9</td>\n",
       "      <td>1.707056e+12</td>\n",
       "    </tr>\n",
       "  </tbody>\n",
       "</table>\n",
       "<p>2 rows × 28 columns</p>\n",
       "</div>"
      ],
      "text/plain": [
       "   country_code      country  year  population  item_code  \\\n",
       "0             2  Afghanistan  2013  30552000.0       2511   \n",
       "1             2  Afghanistan  2013  30552000.0       2513   \n",
       "\n",
       "                  item   origin  domestic_supply_quantity  export_quantity  \\\n",
       "0   Wheat and products  vegetal              5.992000e+09              NaN   \n",
       "1  Barley and products  vegetal              5.240000e+08              NaN   \n",
       "\n",
       "   fat_supply_quantity_gcapitaday  ...    production  \\\n",
       "0                            4.69  ...  5.169000e+09   \n",
       "1                            0.24  ...  5.140000e+08   \n",
       "\n",
       "   protein_supply_quantity_gcapitaday         seed  stock_variation  \\\n",
       "0                               36.91  322000000.0     -350000000.0   \n",
       "1                                0.79   22000000.0              0.0   \n",
       "\n",
       "   food_supply_kcal  food_supply_kgprotein  food_supply_kg  ratio_kcalkg  \\\n",
       "0      1.526638e+13            411601126.8    4.895000e+09       3118.77   \n",
       "1      2.899385e+11              8809669.2    8.900000e+07       3257.74   \n",
       "\n",
       "   protein_percentage  dom_sup_kcal  \n",
       "0                 8.4  1.868767e+13  \n",
       "1                 9.9  1.707056e+12  \n",
       "\n",
       "[2 rows x 28 columns]"
      ]
     },
     "execution_count": 57,
     "metadata": {},
     "output_type": "execute_result"
    }
   ],
   "source": [
    "# Compute dom_sup_kcal \n",
    "food_balance_full[\"dom_sup_kcal\"] = food_balance_full.domestic_supply_quantity * food_balance_full.ratio_kcalkg\n",
    "food_balance_full.head(2)"
   ]
  },
  {
   "cell_type": "markdown",
   "metadata": {},
   "source": [
    "- **dom_sup_kgprot(Global domestic supply in kg of protein)**"
   ]
  },
  {
   "cell_type": "code",
   "execution_count": 58,
   "metadata": {},
   "outputs": [
    {
     "data": {
      "text/html": [
       "<div>\n",
       "<style scoped>\n",
       "    .dataframe tbody tr th:only-of-type {\n",
       "        vertical-align: middle;\n",
       "    }\n",
       "\n",
       "    .dataframe tbody tr th {\n",
       "        vertical-align: top;\n",
       "    }\n",
       "\n",
       "    .dataframe thead th {\n",
       "        text-align: right;\n",
       "    }\n",
       "</style>\n",
       "<table border=\"1\" class=\"dataframe\">\n",
       "  <thead>\n",
       "    <tr style=\"text-align: right;\">\n",
       "      <th></th>\n",
       "      <th>country_code</th>\n",
       "      <th>country</th>\n",
       "      <th>year</th>\n",
       "      <th>population</th>\n",
       "      <th>item_code</th>\n",
       "      <th>item</th>\n",
       "      <th>origin</th>\n",
       "      <th>domestic_supply_quantity</th>\n",
       "      <th>export_quantity</th>\n",
       "      <th>fat_supply_quantity_gcapitaday</th>\n",
       "      <th>...</th>\n",
       "      <th>protein_supply_quantity_gcapitaday</th>\n",
       "      <th>seed</th>\n",
       "      <th>stock_variation</th>\n",
       "      <th>food_supply_kcal</th>\n",
       "      <th>food_supply_kgprotein</th>\n",
       "      <th>food_supply_kg</th>\n",
       "      <th>ratio_kcalkg</th>\n",
       "      <th>protein_percentage</th>\n",
       "      <th>dom_sup_kcal</th>\n",
       "      <th>dom_sup_kgprot</th>\n",
       "    </tr>\n",
       "  </thead>\n",
       "  <tbody>\n",
       "    <tr>\n",
       "      <th>0</th>\n",
       "      <td>2</td>\n",
       "      <td>Afghanistan</td>\n",
       "      <td>2013</td>\n",
       "      <td>30552000.0</td>\n",
       "      <td>2511</td>\n",
       "      <td>Wheat and products</td>\n",
       "      <td>vegetal</td>\n",
       "      <td>5.992000e+09</td>\n",
       "      <td>NaN</td>\n",
       "      <td>4.69</td>\n",
       "      <td>...</td>\n",
       "      <td>36.91</td>\n",
       "      <td>322000000.0</td>\n",
       "      <td>-350000000.0</td>\n",
       "      <td>1.526638e+13</td>\n",
       "      <td>411601126.8</td>\n",
       "      <td>4.895000e+09</td>\n",
       "      <td>3118.77</td>\n",
       "      <td>8.4</td>\n",
       "      <td>1.868767e+13</td>\n",
       "      <td>503328000.0</td>\n",
       "    </tr>\n",
       "    <tr>\n",
       "      <th>1</th>\n",
       "      <td>2</td>\n",
       "      <td>Afghanistan</td>\n",
       "      <td>2013</td>\n",
       "      <td>30552000.0</td>\n",
       "      <td>2513</td>\n",
       "      <td>Barley and products</td>\n",
       "      <td>vegetal</td>\n",
       "      <td>5.240000e+08</td>\n",
       "      <td>NaN</td>\n",
       "      <td>0.24</td>\n",
       "      <td>...</td>\n",
       "      <td>0.79</td>\n",
       "      <td>22000000.0</td>\n",
       "      <td>0.0</td>\n",
       "      <td>2.899385e+11</td>\n",
       "      <td>8809669.2</td>\n",
       "      <td>8.900000e+07</td>\n",
       "      <td>3257.74</td>\n",
       "      <td>9.9</td>\n",
       "      <td>1.707056e+12</td>\n",
       "      <td>51876000.0</td>\n",
       "    </tr>\n",
       "  </tbody>\n",
       "</table>\n",
       "<p>2 rows × 29 columns</p>\n",
       "</div>"
      ],
      "text/plain": [
       "   country_code      country  year  population  item_code  \\\n",
       "0             2  Afghanistan  2013  30552000.0       2511   \n",
       "1             2  Afghanistan  2013  30552000.0       2513   \n",
       "\n",
       "                  item   origin  domestic_supply_quantity  export_quantity  \\\n",
       "0   Wheat and products  vegetal              5.992000e+09              NaN   \n",
       "1  Barley and products  vegetal              5.240000e+08              NaN   \n",
       "\n",
       "   fat_supply_quantity_gcapitaday  ...  protein_supply_quantity_gcapitaday  \\\n",
       "0                            4.69  ...                               36.91   \n",
       "1                            0.24  ...                                0.79   \n",
       "\n",
       "          seed  stock_variation  food_supply_kcal  food_supply_kgprotein  \\\n",
       "0  322000000.0     -350000000.0      1.526638e+13            411601126.8   \n",
       "1   22000000.0              0.0      2.899385e+11              8809669.2   \n",
       "\n",
       "   food_supply_kg  ratio_kcalkg  protein_percentage  dom_sup_kcal  \\\n",
       "0    4.895000e+09       3118.77                 8.4  1.868767e+13   \n",
       "1    8.900000e+07       3257.74                 9.9  1.707056e+12   \n",
       "\n",
       "   dom_sup_kgprot  \n",
       "0     503328000.0  \n",
       "1      51876000.0  \n",
       "\n",
       "[2 rows x 29 columns]"
      ]
     },
     "execution_count": 58,
     "metadata": {},
     "output_type": "execute_result"
    }
   ],
   "source": [
    "# Compute dom_sup_kgprot variable \n",
    "food_balance_full[\"dom_sup_kgprot\"] = food_balance_full.domestic_supply_quantity * food_balance_full.protein_percentage/100\n",
    "food_balance_full.head(2)"
   ]
  },
  {
   "cell_type": "markdown",
   "metadata": {},
   "source": [
    "- **great_import_from_undern_countries (200 highest imports of the 25 most exported items from countries with more than 10% malnourishment)**      \n",
    "The variable must be a boolean(True or False)  \n",
    "    1. Countries with a malnourishment rate of more than 10%"
   ]
  },
  {
   "cell_type": "code",
   "execution_count": 59,
   "metadata": {},
   "outputs": [
    {
     "data": {
      "text/plain": [
       "(76, 6)"
      ]
     },
     "execution_count": 59,
     "metadata": {},
     "output_type": "execute_result"
    }
   ],
   "source": [
    "# Merge indicators_df and population_df toghether\n",
    "ind_pop = indicators_df.merge(population_2013, how = \"right\", on = [\"country_code\", \"country\", \"year\"])\n",
    "# Compute the ratio\n",
    "ind_pop[\"ratio\"] = round(ind_pop.undernourishment / ind_pop.population * 100, 1)\n",
    "# Find the countries with ratio greater than 10% in 2013 \n",
    "ind_pop_10 = ind_pop.query(\"ratio > 10\")\n",
    "ind_pop_10.shape"
   ]
  },
  {
   "cell_type": "code",
   "execution_count": 60,
   "metadata": {},
   "outputs": [
    {
     "data": {
      "text/html": [
       "<div>\n",
       "<style scoped>\n",
       "    .dataframe tbody tr th:only-of-type {\n",
       "        vertical-align: middle;\n",
       "    }\n",
       "\n",
       "    .dataframe tbody tr th {\n",
       "        vertical-align: top;\n",
       "    }\n",
       "\n",
       "    .dataframe thead th {\n",
       "        text-align: right;\n",
       "    }\n",
       "</style>\n",
       "<table border=\"1\" class=\"dataframe\">\n",
       "  <thead>\n",
       "    <tr style=\"text-align: right;\">\n",
       "      <th></th>\n",
       "      <th>country_code</th>\n",
       "      <th>country</th>\n",
       "      <th>year</th>\n",
       "      <th>undernourishment</th>\n",
       "      <th>population</th>\n",
       "      <th>ratio</th>\n",
       "    </tr>\n",
       "  </thead>\n",
       "  <tbody>\n",
       "    <tr>\n",
       "      <th>0</th>\n",
       "      <td>2</td>\n",
       "      <td>Afghanistan</td>\n",
       "      <td>2013</td>\n",
       "      <td>7900000.0</td>\n",
       "      <td>30552000.0</td>\n",
       "      <td>25.9</td>\n",
       "    </tr>\n",
       "    <tr>\n",
       "      <th>3</th>\n",
       "      <td>7</td>\n",
       "      <td>Angola</td>\n",
       "      <td>2013</td>\n",
       "      <td>8100000.0</td>\n",
       "      <td>21472000.0</td>\n",
       "      <td>37.7</td>\n",
       "    </tr>\n",
       "    <tr>\n",
       "      <th>6</th>\n",
       "      <td>16</td>\n",
       "      <td>Bangladesh</td>\n",
       "      <td>2013</td>\n",
       "      <td>26100000.0</td>\n",
       "      <td>156595000.0</td>\n",
       "      <td>16.7</td>\n",
       "    </tr>\n",
       "    <tr>\n",
       "      <th>7</th>\n",
       "      <td>14</td>\n",
       "      <td>Barbados</td>\n",
       "      <td>2013</td>\n",
       "      <td>90000.0</td>\n",
       "      <td>285000.0</td>\n",
       "      <td>31.6</td>\n",
       "    </tr>\n",
       "    <tr>\n",
       "      <th>8</th>\n",
       "      <td>23</td>\n",
       "      <td>Belize</td>\n",
       "      <td>2013</td>\n",
       "      <td>90000.0</td>\n",
       "      <td>332000.0</td>\n",
       "      <td>27.1</td>\n",
       "    </tr>\n",
       "    <tr>\n",
       "      <th>10</th>\n",
       "      <td>19</td>\n",
       "      <td>Bolivia (Plurinational State of)</td>\n",
       "      <td>2013</td>\n",
       "      <td>2200000.0</td>\n",
       "      <td>10671000.0</td>\n",
       "      <td>20.6</td>\n",
       "    </tr>\n",
       "    <tr>\n",
       "      <th>11</th>\n",
       "      <td>20</td>\n",
       "      <td>Botswana</td>\n",
       "      <td>2013</td>\n",
       "      <td>500000.0</td>\n",
       "      <td>2021000.0</td>\n",
       "      <td>24.7</td>\n",
       "    </tr>\n",
       "    <tr>\n",
       "      <th>12</th>\n",
       "      <td>26</td>\n",
       "      <td>Brunei Darussalam</td>\n",
       "      <td>2013</td>\n",
       "      <td>90000.0</td>\n",
       "      <td>418000.0</td>\n",
       "      <td>21.5</td>\n",
       "    </tr>\n",
       "    <tr>\n",
       "      <th>14</th>\n",
       "      <td>233</td>\n",
       "      <td>Burkina Faso</td>\n",
       "      <td>2013</td>\n",
       "      <td>3400000.0</td>\n",
       "      <td>16935000.0</td>\n",
       "      <td>20.1</td>\n",
       "    </tr>\n",
       "    <tr>\n",
       "      <th>15</th>\n",
       "      <td>35</td>\n",
       "      <td>Cabo Verde</td>\n",
       "      <td>2013</td>\n",
       "      <td>90000.0</td>\n",
       "      <td>499000.0</td>\n",
       "      <td>18.0</td>\n",
       "    </tr>\n",
       "    <tr>\n",
       "      <th>...</th>\n",
       "      <td>...</td>\n",
       "      <td>...</td>\n",
       "      <td>...</td>\n",
       "      <td>...</td>\n",
       "      <td>...</td>\n",
       "      <td>...</td>\n",
       "    </tr>\n",
       "    <tr>\n",
       "      <th>102</th>\n",
       "      <td>207</td>\n",
       "      <td>Suriname</td>\n",
       "      <td>2013</td>\n",
       "      <td>90000.0</td>\n",
       "      <td>539000.0</td>\n",
       "      <td>16.7</td>\n",
       "    </tr>\n",
       "    <tr>\n",
       "      <th>104</th>\n",
       "      <td>176</td>\n",
       "      <td>Timor-Leste</td>\n",
       "      <td>2013</td>\n",
       "      <td>300000.0</td>\n",
       "      <td>1133000.0</td>\n",
       "      <td>26.5</td>\n",
       "    </tr>\n",
       "    <tr>\n",
       "      <th>105</th>\n",
       "      <td>217</td>\n",
       "      <td>Togo</td>\n",
       "      <td>2013</td>\n",
       "      <td>1300000.0</td>\n",
       "      <td>6817000.0</td>\n",
       "      <td>19.1</td>\n",
       "    </tr>\n",
       "    <tr>\n",
       "      <th>109</th>\n",
       "      <td>226</td>\n",
       "      <td>Uganda</td>\n",
       "      <td>2013</td>\n",
       "      <td>12600000.0</td>\n",
       "      <td>37579000.0</td>\n",
       "      <td>33.5</td>\n",
       "    </tr>\n",
       "    <tr>\n",
       "      <th>111</th>\n",
       "      <td>215</td>\n",
       "      <td>United Republic of Tanzania</td>\n",
       "      <td>2013</td>\n",
       "      <td>16400000.0</td>\n",
       "      <td>49253000.0</td>\n",
       "      <td>33.3</td>\n",
       "    </tr>\n",
       "    <tr>\n",
       "      <th>113</th>\n",
       "      <td>155</td>\n",
       "      <td>Vanuatu</td>\n",
       "      <td>2013</td>\n",
       "      <td>90000.0</td>\n",
       "      <td>253000.0</td>\n",
       "      <td>35.6</td>\n",
       "    </tr>\n",
       "    <tr>\n",
       "      <th>115</th>\n",
       "      <td>237</td>\n",
       "      <td>Viet Nam</td>\n",
       "      <td>2013</td>\n",
       "      <td>10400000.0</td>\n",
       "      <td>91680000.0</td>\n",
       "      <td>11.3</td>\n",
       "    </tr>\n",
       "    <tr>\n",
       "      <th>116</th>\n",
       "      <td>249</td>\n",
       "      <td>Yemen</td>\n",
       "      <td>2013</td>\n",
       "      <td>7200000.0</td>\n",
       "      <td>24407000.0</td>\n",
       "      <td>29.5</td>\n",
       "    </tr>\n",
       "    <tr>\n",
       "      <th>117</th>\n",
       "      <td>251</td>\n",
       "      <td>Zambia</td>\n",
       "      <td>2013</td>\n",
       "      <td>7000000.0</td>\n",
       "      <td>14539000.0</td>\n",
       "      <td>48.1</td>\n",
       "    </tr>\n",
       "    <tr>\n",
       "      <th>118</th>\n",
       "      <td>181</td>\n",
       "      <td>Zimbabwe</td>\n",
       "      <td>2013</td>\n",
       "      <td>6600000.0</td>\n",
       "      <td>14150000.0</td>\n",
       "      <td>46.6</td>\n",
       "    </tr>\n",
       "  </tbody>\n",
       "</table>\n",
       "<p>76 rows × 6 columns</p>\n",
       "</div>"
      ],
      "text/plain": [
       "     country_code      country  year  undernourishment   population  ratio\n",
       "0               2  Afghanistan  2013         7900000.0   30552000.0   25.9\n",
       "3               7       Angola  2013         8100000.0   21472000.0   37.7\n",
       "6              16   Bangladesh  2013        26100000.0  156595000.0   16.7\n",
       "7              14     Barbados  2013           90000.0     285000.0   31.6\n",
       "8              23       Belize  2013           90000.0     332000.0   27.1\n",
       "..            ...          ...   ...               ...          ...    ...\n",
       "113           155      Vanuatu  2013           90000.0     253000.0   35.6\n",
       "115           237     Viet Nam  2013        10400000.0   91680000.0   11.3\n",
       "116           249        Yemen  2013         7200000.0   24407000.0   29.5\n",
       "117           251       Zambia  2013         7000000.0   14539000.0   48.1\n",
       "118           181     Zimbabwe  2013         6600000.0   14150000.0   46.6\n",
       "\n",
       "[76 rows x 6 columns]"
      ]
     },
     "execution_count": 60,
     "metadata": {},
     "output_type": "execute_result"
    }
   ],
   "source": [
    "ind_pop_10"
   ]
  },
  {
   "cell_type": "markdown",
   "metadata": {},
   "source": [
    "There are 76 countries with a manoulrishment rate of more than 10%."
   ]
  },
  {
   "cell_type": "markdown",
   "metadata": {},
   "source": [
    "    2. 25 most exported items(in terms of quantity) by these countries for any given year.  "
   ]
  },
  {
   "cell_type": "code",
   "execution_count": 61,
   "metadata": {},
   "outputs": [
    {
     "name": "stdout",
     "output_type": "stream",
     "text": [
      "1 - Rice (Milled Equivalent)\n",
      "2 - Cassava and products\n",
      "3 - Wheat and products\n",
      "4 - Maize and products\n",
      "5 - Soyabeans\n",
      "6 - Bananas\n",
      "7 - Milk - Excluding Butter\n",
      "8 - Sugar (Raw Equivalent)\n",
      "9 - Bovine Meat\n",
      "10 - Onions\n",
      "11 - Pineapples and products\n",
      "12 - Beans\n",
      "13 - Coffee and products\n",
      "14 - Freshwater Fish\n",
      "15 - Coconut Oil\n",
      "16 - Nuts and products\n",
      "17 - Cocoa Beans and products\n",
      "18 - Vegetables, Other\n",
      "19 - Fruits, Other\n",
      "20 - Oilcrops Oil, Other\n",
      "21 - Tomatoes and products\n",
      "22 - Coconuts - Incl Copra\n",
      "23 - Alcohol, Non-Food\n",
      "24 - Groundnuts (Shelled Eq)\n",
      "25 - Barley and products\n"
     ]
    }
   ],
   "source": [
    "# Merge ind_pop and food_balance_full together to get the export quantity and items\n",
    "exported_items_25 = ind_pop_10.merge(food_balance_full, how = \"left\"). \\\n",
    "sort_values(by = \"export_quantity\", ascending = False).loc[:,(\"item\")].drop_duplicates()[:25]\n",
    "# Print the 25 items from the highest to the lowest\n",
    "for i, item in enumerate(exported_items_25):\n",
    "    print(\"{} - {}\".format(i+1, item))"
   ]
  },
  {
   "cell_type": "markdown",
   "metadata": {},
   "source": [
    "    3. 200 highest import quantities among the 25 items"
   ]
  },
  {
   "cell_type": "code",
   "execution_count": 62,
   "metadata": {},
   "outputs": [
    {
     "data": {
      "text/plain": [
       "(200, 29)"
      ]
     },
     "execution_count": 62,
     "metadata": {},
     "output_type": "execute_result"
    }
   ],
   "source": [
    "# Select the 200 highest import quantities\n",
    "high_imp_200 = food_balance_full[food_balance_full.item.isin(exported_items_25.tolist())] \\\n",
    ".sort_values(by = \"import_quantity\", ascending = False)[:200]\n",
    "high_imp_200.shape"
   ]
  },
  {
   "cell_type": "markdown",
   "metadata": {},
   "source": [
    "    4. Create great_import_from_undern_countries variable and set it to True for the 200 higest importation quantities"
   ]
  },
  {
   "cell_type": "code",
   "execution_count": 63,
   "metadata": {},
   "outputs": [
    {
     "name": "stdout",
     "output_type": "stream",
     "text": [
      "(200, 30)\n"
     ]
    },
    {
     "data": {
      "text/html": [
       "<div>\n",
       "<style scoped>\n",
       "    .dataframe tbody tr th:only-of-type {\n",
       "        vertical-align: middle;\n",
       "    }\n",
       "\n",
       "    .dataframe tbody tr th {\n",
       "        vertical-align: top;\n",
       "    }\n",
       "\n",
       "    .dataframe thead th {\n",
       "        text-align: right;\n",
       "    }\n",
       "</style>\n",
       "<table border=\"1\" class=\"dataframe\">\n",
       "  <thead>\n",
       "    <tr style=\"text-align: right;\">\n",
       "      <th></th>\n",
       "      <th>country_code</th>\n",
       "      <th>country</th>\n",
       "      <th>year</th>\n",
       "      <th>population</th>\n",
       "      <th>item_code</th>\n",
       "      <th>item</th>\n",
       "      <th>origin</th>\n",
       "      <th>domestic_supply_quantity</th>\n",
       "      <th>export_quantity</th>\n",
       "      <th>fat_supply_quantity_gcapitaday</th>\n",
       "      <th>...</th>\n",
       "      <th>seed</th>\n",
       "      <th>stock_variation</th>\n",
       "      <th>food_supply_kcal</th>\n",
       "      <th>food_supply_kgprotein</th>\n",
       "      <th>food_supply_kg</th>\n",
       "      <th>ratio_kcalkg</th>\n",
       "      <th>protein_percentage</th>\n",
       "      <th>dom_sup_kcal</th>\n",
       "      <th>dom_sup_kgprot</th>\n",
       "      <th>great_import_from_undern_countries</th>\n",
       "    </tr>\n",
       "  </thead>\n",
       "  <tbody>\n",
       "    <tr>\n",
       "      <th>0</th>\n",
       "      <td>2</td>\n",
       "      <td>Afghanistan</td>\n",
       "      <td>2013</td>\n",
       "      <td>30552000.0</td>\n",
       "      <td>2511</td>\n",
       "      <td>Wheat and products</td>\n",
       "      <td>vegetal</td>\n",
       "      <td>5.992000e+09</td>\n",
       "      <td>NaN</td>\n",
       "      <td>4.69</td>\n",
       "      <td>...</td>\n",
       "      <td>322000000.0</td>\n",
       "      <td>-350000000.0</td>\n",
       "      <td>1.526638e+13</td>\n",
       "      <td>411601126.8</td>\n",
       "      <td>4.895000e+09</td>\n",
       "      <td>3118.77</td>\n",
       "      <td>8.4</td>\n",
       "      <td>1.868767e+13</td>\n",
       "      <td>503328000.0</td>\n",
       "      <td>True</td>\n",
       "    </tr>\n",
       "    <tr>\n",
       "      <th>1</th>\n",
       "      <td>2</td>\n",
       "      <td>Afghanistan</td>\n",
       "      <td>2013</td>\n",
       "      <td>30552000.0</td>\n",
       "      <td>2513</td>\n",
       "      <td>Barley and products</td>\n",
       "      <td>vegetal</td>\n",
       "      <td>5.240000e+08</td>\n",
       "      <td>NaN</td>\n",
       "      <td>0.24</td>\n",
       "      <td>...</td>\n",
       "      <td>22000000.0</td>\n",
       "      <td>0.0</td>\n",
       "      <td>2.899385e+11</td>\n",
       "      <td>8809669.2</td>\n",
       "      <td>8.900000e+07</td>\n",
       "      <td>3257.74</td>\n",
       "      <td>9.9</td>\n",
       "      <td>1.707056e+12</td>\n",
       "      <td>51876000.0</td>\n",
       "      <td>False</td>\n",
       "    </tr>\n",
       "  </tbody>\n",
       "</table>\n",
       "<p>2 rows × 30 columns</p>\n",
       "</div>"
      ],
      "text/plain": [
       "   country_code      country  year  population  item_code  \\\n",
       "0             2  Afghanistan  2013  30552000.0       2511   \n",
       "1             2  Afghanistan  2013  30552000.0       2513   \n",
       "\n",
       "                  item   origin  domestic_supply_quantity  export_quantity  \\\n",
       "0   Wheat and products  vegetal              5.992000e+09              NaN   \n",
       "1  Barley and products  vegetal              5.240000e+08              NaN   \n",
       "\n",
       "   fat_supply_quantity_gcapitaday  ...         seed  stock_variation  \\\n",
       "0                            4.69  ...  322000000.0     -350000000.0   \n",
       "1                            0.24  ...   22000000.0              0.0   \n",
       "\n",
       "   food_supply_kcal  food_supply_kgprotein  food_supply_kg  ratio_kcalkg  \\\n",
       "0      1.526638e+13            411601126.8    4.895000e+09       3118.77   \n",
       "1      2.899385e+11              8809669.2    8.900000e+07       3257.74   \n",
       "\n",
       "   protein_percentage  dom_sup_kcal  dom_sup_kgprot  \\\n",
       "0                 8.4  1.868767e+13     503328000.0   \n",
       "1                 9.9  1.707056e+12      51876000.0   \n",
       "\n",
       "   great_import_from_undern_countries  \n",
       "0                                True  \n",
       "1                               False  \n",
       "\n",
       "[2 rows x 30 columns]"
      ]
     },
     "execution_count": 63,
     "metadata": {},
     "output_type": "execute_result"
    }
   ],
   "source": [
    "# If the index of food_balance_full is in high_imp_200 we set the variable to True othewise False\n",
    "food_balance_full[\"great_import_from_undern_countries\"] = food_balance_full.index.isin(high_imp_200.index)\n",
    "# Check if there are just 200 lines with True for the variable\n",
    "print(food_balance_full[food_balance_full.great_import_from_undern_countries == True].shape)\n",
    "food_balance_full.head(2)"
   ]
  },
  {
   "cell_type": "markdown",
   "metadata": {},
   "source": [
    "<a id=\"major_trends\"></a>\n",
    "## 5. Identify Major Trends  \n",
    "### 5.1 Proportion of the global domestic supply considering only plant products  \n",
    "- **Proportion used as food**"
   ]
  },
  {
   "cell_type": "code",
   "execution_count": 64,
   "metadata": {},
   "outputs": [
    {
     "data": {
      "text/plain": [
       "8482244000000.0"
      ]
     },
     "execution_count": 64,
     "metadata": {},
     "output_type": "execute_result"
    }
   ],
   "source": [
    "# Create a dataframe with just vegetal products\n",
    "vegetal_full = food_balance_full.query(\"origin == 'vegetal'\")\n",
    "# Compute the global domestic supply \n",
    "global_domestic_supply = vegetal_full.domestic_supply_quantity.sum()\n",
    "global_domestic_supply"
   ]
  },
  {
   "cell_type": "markdown",
   "metadata": {},
   "source": [
    "In 2013 the global domestic supply is about **8,482,244,000,000** kg"
   ]
  },
  {
   "cell_type": "code",
   "execution_count": 65,
   "metadata": {},
   "outputs": [
    {
     "data": {
      "text/plain": [
       "43.53"
      ]
     },
     "execution_count": 65,
     "metadata": {},
     "output_type": "execute_result"
    }
   ],
   "source": [
    "# Compute the proportion of domestic supply used as food\n",
    "vegetal_food_prop = round(vegetal_full.food_supply_kg.sum() / global_domestic_supply * 100, 2)\n",
    "vegetal_food_prop"
   ]
  },
  {
   "cell_type": "markdown",
   "metadata": {},
   "source": [
    "Just 43.53% of the global domestic food is actually used as food"
   ]
  },
  {
   "cell_type": "markdown",
   "metadata": {},
   "source": [
    "- **Proportion used as feed**"
   ]
  },
  {
   "cell_type": "code",
   "execution_count": 66,
   "metadata": {},
   "outputs": [
    {
     "data": {
      "text/plain": [
       "14.11"
      ]
     },
     "execution_count": 66,
     "metadata": {},
     "output_type": "execute_result"
    }
   ],
   "source": [
    "vegetal_feed_prop = round(vegetal_full.feed.sum() / global_domestic_supply * 100, 2)\n",
    "vegetal_feed_prop"
   ]
  },
  {
   "cell_type": "markdown",
   "metadata": {},
   "source": [
    "- **Proportion used as waste**"
   ]
  },
  {
   "cell_type": "code",
   "execution_count": 67,
   "metadata": {},
   "outputs": [
    {
     "data": {
      "text/plain": [
       "5.07"
      ]
     },
     "execution_count": 67,
     "metadata": {},
     "output_type": "execute_result"
    }
   ],
   "source": [
    "vegetal_waste_prop = round(vegetal_full.losses.sum() / global_domestic_supply * 100, 2)\n",
    "vegetal_waste_prop"
   ]
  },
  {
   "cell_type": "markdown",
   "metadata": {},
   "source": [
    "- **Proportion used as other uses**"
   ]
  },
  {
   "cell_type": "code",
   "execution_count": 68,
   "metadata": {},
   "outputs": [
    {
     "data": {
      "text/plain": [
       "9.65"
      ]
     },
     "execution_count": 68,
     "metadata": {},
     "output_type": "execute_result"
    }
   ],
   "source": [
    "vegetal_other_prop = round(vegetal_full.other_uses.sum() / global_domestic_supply * 100, 2)\n",
    "vegetal_other_prop"
   ]
  },
  {
   "cell_type": "markdown",
   "metadata": {},
   "source": [
    "### 5.2 Number of humans that could be fed with vegetal  \n",
    "We will give the result in term of calories and protein and express it as a percentage of the world's population.\n",
    "It is difficult to know the number of calories we need to survive because it depends on the age, weight, activity level and gender. For long term health most people will need a minimum of 1200 calories per day. \n",
    "Let's take according to the [Dietary Guidelines](https://health.gov/dietaryguidelines/2015/guidelines/appendix-2/) an average of 2400 calories per day per human.  \n",
    "- **Result considering Kcal**  "
   ]
  },
  {
   "cell_type": "code",
   "execution_count": 69,
   "metadata": {},
   "outputs": [
    {
     "data": {
      "text/plain": [
       "116.0"
      ]
     },
     "execution_count": 69,
     "metadata": {},
     "output_type": "execute_result"
    }
   ],
   "source": [
    "# Compute the vegetal global food supply in kcal\n",
    "vegetal_global_supply_kcal = vegetal_full.dom_sup_kcal.sum()\n",
    "# Compute food supply in kcal considering just food and feed proportions\n",
    "vegetal_food_supply_kcal = vegetal_global_supply_kcal * (vegetal_food_prop + vegetal_feed_prop) / 100\n",
    "# Compute the number of humans that could be fed Considering 2400 calories per day\n",
    "vegetal_humans_fed_kcal = vegetal_food_supply_kcal / 2400 /365\n",
    "# Percentage of the world population\n",
    "percentage_fed_kcal = round(vegetal_humans_fed_kcal / world_population * 100)\n",
    "percentage_fed_kcal"
   ]
  },
  {
   "cell_type": "markdown",
   "metadata": {},
   "source": [
    "- **Result considering kgprot**"
   ]
  },
  {
   "cell_type": "code",
   "execution_count": 87,
   "metadata": {},
   "outputs": [
    {
     "data": {
      "text/plain": [
       "117.0"
      ]
     },
     "execution_count": 87,
     "metadata": {},
     "output_type": "execute_result"
    }
   ],
   "source": [
    "# Compute the vegetal global food supply in kprot\n",
    "vegetal_global_supply_kgprot = vegetal_full.dom_sup_kgprot.sum()\n",
    "# Compute food supply in kcal considering just food and feed proportions\n",
    "vegetal_food_supply_kgprot = vegetal_global_supply_kgprot * (vegetal_food_prop + vegetal_feed_prop)\n",
    "# Compute the number of humans that could be fed Considering 56 grams per day\n",
    "vegetal_humans_fed_kgprot = vegetal_food_supply_kgprot / 0.056 / 365\n",
    "# Percentage of the world population\n",
    "percentage_fed_kgprot = round(vegetal_humans_fed_kgprot / world_population)\n",
    "percentage_fed_kgprot"
   ]
  },
  {
   "cell_type": "markdown",
   "metadata": {},
   "source": [
    "With the vegetal global supply including just the food and the feed, about 116% of the population can be fed\n",
    "in term of kcal and kg of protein intake."
   ]
  },
  {
   "cell_type": "markdown",
   "metadata": {},
   "source": [
    "### 5.3 Number of humans that could be fed with the global food supply  \n",
    "We consider food supply as variable and not domestic food supply\n",
    "- **Result in Kcal**\n"
   ]
  },
  {
   "cell_type": "code",
   "execution_count": 71,
   "metadata": {},
   "outputs": [
    {
     "data": {
      "text/plain": [
       "120.0"
      ]
     },
     "execution_count": 71,
     "metadata": {},
     "output_type": "execute_result"
    }
   ],
   "source": [
    "# Compute the total food supply in kcal\n",
    "global_food_supply_kcal = food_balance_full.food_supply_kcal.sum()\n",
    "# Compute number of humans that could be fed considering 2400 kcal per day\n",
    "humans_fed_kcal = global_food_supply_kcal / 2400 / 365\n",
    "# Percentage of humans compared to the world population\n",
    "percentage_humans_fed_kcal = round(humans_fed_kcal / world_population * 100)\n",
    "percentage_humans_fed_kcal"
   ]
  },
  {
   "cell_type": "code",
   "execution_count": 72,
   "metadata": {},
   "outputs": [
    {
     "data": {
      "text/plain": [
       "145.0"
      ]
     },
     "execution_count": 72,
     "metadata": {},
     "output_type": "execute_result"
    }
   ],
   "source": [
    "# Compute the total food supply in kgprot\n",
    "global_food_supply_kgprot = food_balance_full.food_supply_kgprotein.sum()\n",
    "# Compute number of humans that could be fed considering 56 grams of proteins\n",
    "humans_fed_kgprot = global_food_supply_kgprot / 0.056 / 365\n",
    "# Percentage of humans compared to the world population\n",
    "percentage_humans_fed_kgprot = round(humans_fed_kgprot / world_population * 100)\n",
    "percentage_humans_fed_kgprot"
   ]
  },
  {
   "cell_type": "markdown",
   "metadata": {},
   "source": [
    "With the global food supply we can feed about 120% of the population considering the daily calories intake, and about 145% of the population considering the daily kg per protein intake."
   ]
  },
  {
   "cell_type": "markdown",
   "metadata": {},
   "source": [
    "### 5.4 Proportion of the world population considered undernourished"
   ]
  },
  {
   "cell_type": "code",
   "execution_count": 82,
   "metadata": {},
   "outputs": [
    {
     "data": {
      "text/plain": [
       "11.0"
      ]
     },
     "execution_count": 82,
     "metadata": {},
     "output_type": "execute_result"
    }
   ],
   "source": [
    "# Use the ind_pop already created to create a dataframe with just 2013\n",
    "ind_pop_2013 = ind_pop.query(\"year == 2013\")\n",
    "# Total number of humans undernourished\n",
    "global_undern_pop = ind_pop_2013.undernourishment.sum()\n",
    "# Proportion of humans undernourished, considering the world population\n",
    "prop_undern = round(global_undern_pop / world_population * 100)\n",
    "prop_undern"
   ]
  },
  {
   "cell_type": "markdown",
   "metadata": {},
   "source": [
    "13% of the world population is actually undernourished. "
   ]
  },
  {
   "cell_type": "markdown",
   "metadata": {},
   "source": [
    "### 5.5 3 highest exported items\n",
    "- **Considering the other uses to domestic supply quantity ratio**"
   ]
  },
  {
   "cell_type": "code",
   "execution_count": 74,
   "metadata": {},
   "outputs": [
    {
     "data": {
      "text/html": [
       "<div>\n",
       "<style scoped>\n",
       "    .dataframe tbody tr th:only-of-type {\n",
       "        vertical-align: middle;\n",
       "    }\n",
       "\n",
       "    .dataframe tbody tr th {\n",
       "        vertical-align: top;\n",
       "    }\n",
       "\n",
       "    .dataframe thead th {\n",
       "        text-align: right;\n",
       "    }\n",
       "</style>\n",
       "<table border=\"1\" class=\"dataframe\">\n",
       "  <thead>\n",
       "    <tr style=\"text-align: right;\">\n",
       "      <th></th>\n",
       "      <th>country_code</th>\n",
       "      <th>country</th>\n",
       "      <th>year</th>\n",
       "      <th>population</th>\n",
       "      <th>item_code</th>\n",
       "      <th>item</th>\n",
       "      <th>origin</th>\n",
       "      <th>domestic_supply_quantity</th>\n",
       "      <th>export_quantity</th>\n",
       "      <th>fat_supply_quantity_gcapitaday</th>\n",
       "      <th>...</th>\n",
       "      <th>food_supply_kcal</th>\n",
       "      <th>food_supply_kgprotein</th>\n",
       "      <th>food_supply_kg</th>\n",
       "      <th>ratio_kcalkg</th>\n",
       "      <th>protein_percentage</th>\n",
       "      <th>dom_sup_kcal</th>\n",
       "      <th>dom_sup_kgprot</th>\n",
       "      <th>great_import_from_undern_countries</th>\n",
       "      <th>other_supply_ratio</th>\n",
       "      <th>feed_foodfeed_ratio</th>\n",
       "    </tr>\n",
       "  </thead>\n",
       "  <tbody>\n",
       "    <tr>\n",
       "      <th>0</th>\n",
       "      <td>2</td>\n",
       "      <td>Afghanistan</td>\n",
       "      <td>2013</td>\n",
       "      <td>30552000.0</td>\n",
       "      <td>2511</td>\n",
       "      <td>Wheat and products</td>\n",
       "      <td>vegetal</td>\n",
       "      <td>5.992000e+09</td>\n",
       "      <td>NaN</td>\n",
       "      <td>4.69</td>\n",
       "      <td>...</td>\n",
       "      <td>1.526638e+13</td>\n",
       "      <td>411601126.8</td>\n",
       "      <td>4.895000e+09</td>\n",
       "      <td>3118.77</td>\n",
       "      <td>8.4</td>\n",
       "      <td>1.868767e+13</td>\n",
       "      <td>503328000.0</td>\n",
       "      <td>True</td>\n",
       "      <td>NaN</td>\n",
       "      <td>NaN</td>\n",
       "    </tr>\n",
       "    <tr>\n",
       "      <th>1</th>\n",
       "      <td>2</td>\n",
       "      <td>Afghanistan</td>\n",
       "      <td>2013</td>\n",
       "      <td>30552000.0</td>\n",
       "      <td>2513</td>\n",
       "      <td>Barley and products</td>\n",
       "      <td>vegetal</td>\n",
       "      <td>5.240000e+08</td>\n",
       "      <td>NaN</td>\n",
       "      <td>0.24</td>\n",
       "      <td>...</td>\n",
       "      <td>2.899385e+11</td>\n",
       "      <td>8809669.2</td>\n",
       "      <td>8.900000e+07</td>\n",
       "      <td>3257.74</td>\n",
       "      <td>9.9</td>\n",
       "      <td>1.707056e+12</td>\n",
       "      <td>51876000.0</td>\n",
       "      <td>False</td>\n",
       "      <td>NaN</td>\n",
       "      <td>0.801782</td>\n",
       "    </tr>\n",
       "  </tbody>\n",
       "</table>\n",
       "<p>2 rows × 32 columns</p>\n",
       "</div>"
      ],
      "text/plain": [
       "   country_code      country  year  population  item_code  \\\n",
       "0             2  Afghanistan  2013  30552000.0       2511   \n",
       "1             2  Afghanistan  2013  30552000.0       2513   \n",
       "\n",
       "                  item   origin  domestic_supply_quantity  export_quantity  \\\n",
       "0   Wheat and products  vegetal              5.992000e+09              NaN   \n",
       "1  Barley and products  vegetal              5.240000e+08              NaN   \n",
       "\n",
       "   fat_supply_quantity_gcapitaday  ...  food_supply_kcal  \\\n",
       "0                            4.69  ...      1.526638e+13   \n",
       "1                            0.24  ...      2.899385e+11   \n",
       "\n",
       "   food_supply_kgprotein  food_supply_kg  ratio_kcalkg  protein_percentage  \\\n",
       "0            411601126.8    4.895000e+09       3118.77                 8.4   \n",
       "1              8809669.2    8.900000e+07       3257.74                 9.9   \n",
       "\n",
       "   dom_sup_kcal  dom_sup_kgprot  great_import_from_undern_countries  \\\n",
       "0  1.868767e+13     503328000.0                                True   \n",
       "1  1.707056e+12      51876000.0                               False   \n",
       "\n",
       "   other_supply_ratio  feed_foodfeed_ratio  \n",
       "0                 NaN                  NaN  \n",
       "1                 NaN             0.801782  \n",
       "\n",
       "[2 rows x 32 columns]"
      ]
     },
     "execution_count": 74,
     "metadata": {},
     "output_type": "execute_result"
    }
   ],
   "source": [
    "# Compute other uses to domestic supply quantity ratio in food_balance_full\n",
    "food_balance_full[\"other_supply_ratio\"] = food_balance_full.other_uses / food_balance_full.domestic_supply_quantity\n",
    "# Compute feed to food+feed ratio in food_balance_full\n",
    "food_balance_full[\"feed_foodfeed_ratio\"] = food_balance_full.feed / (food_balance_full.feed + food_balance_full.food)\n",
    "food_balance_full.head(2)"
   ]
  },
  {
   "cell_type": "code",
   "execution_count": 75,
   "metadata": {},
   "outputs": [
    {
     "data": {
      "text/plain": [
       "14839    Oilcrops Oil, Other\n",
       "12483      Alcohol, Non-Food\n",
       "3654             Coconut Oil\n",
       "Name: item, dtype: object"
      ]
     },
     "execution_count": 75,
     "metadata": {},
     "output_type": "execute_result"
    }
   ],
   "source": [
    "# Compute the 3 highest exportation considering other_supply_ratio\n",
    "sup_exp_3 =food_balance_full[food_balance_full.item.isin(exported_items_25.tolist())] \\\n",
    "                .sort_values(by = \"other_supply_ratio\", ascending = False).item.drop_duplicates()[:3]\n",
    "sup_exp_3"
   ]
  },
  {
   "cell_type": "code",
   "execution_count": 76,
   "metadata": {},
   "outputs": [
    {
     "data": {
      "text/plain": [
       "5868    Barley and products\n",
       "511      Maize and products\n",
       "4072              Soyabeans\n",
       "Name: item, dtype: object"
      ]
     },
     "execution_count": 76,
     "metadata": {},
     "output_type": "execute_result"
    }
   ],
   "source": [
    "# Compute the 3 highest exportation considering feed_foodfeed_ratio\n",
    "feed_exp_3 = food_balance_full[food_balance_full.item.isin(exported_items_25.tolist())] \\\n",
    "            .sort_values(by = \"feed_foodfeed_ratio\", ascending = False).item.drop_duplicates()[:3]\n",
    "feed_exp_3"
   ]
  },
  {
   "cell_type": "markdown",
   "metadata": {},
   "source": [
    "### 5.6 Proportion of cereals used for feed"
   ]
  },
  {
   "cell_type": "code",
   "execution_count": 77,
   "metadata": {},
   "outputs": [
    {
     "data": {
      "text/plain": [
       "45.91"
      ]
     },
     "execution_count": 77,
     "metadata": {},
     "output_type": "execute_result"
    }
   ],
   "source": [
    "# Retrieve all the cereals items from food_balance_cereals\n",
    "cereals_items = food_balance_cereals.Item.tolist()\n",
    "# Create a dataframe with just cereals from food_balance_full\n",
    "cereals_df = food_balance_full[food_balance_full.item.isin(cereals_items)]\n",
    "# Proportion used for feed\n",
    "feed_cereals_prop = round(cereals_df.feed.sum() / (cereals_df.food.sum() + cereals_df.feed.sum()) * 100, 2)\n",
    "feed_cereals_prop"
   ]
  },
  {
   "cell_type": "markdown",
   "metadata": {},
   "source": [
    "45.91% of cereals are used for feed."
   ]
  },
  {
   "cell_type": "markdown",
   "metadata": {},
   "source": [
    "### 5.7 Tons of cereals that could be release if the US reduce its production of animal products by 10%"
   ]
  },
  {
   "cell_type": "code",
   "execution_count": 78,
   "metadata": {},
   "outputs": [
    {
     "name": "stdout",
     "output_type": "stream",
     "text": [
      "14,009,600.0 tonnes of food can be released if the US reduce its production by 10%, that quantity of food can actually feed 43,920,176.0 people\n"
     ]
    }
   ],
   "source": [
    "# Create a dataframe with just US\n",
    "us_cereals = cereals_df.query(\"country == 'United States of America'\").copy()\n",
    "# Compute 10 percent of total animal feed used for animal products in tonnes\n",
    "us_feed_10 = us_cereals.feed.sum() * 0.1 / 1000\n",
    "# Convert in kcal using ratio_kcalkg\n",
    "us_cereals[\"feed_kcal\"] = us_cereals.feed * us_cereals.ratio_kcalkg\n",
    "# Find the number of people that could be fed\n",
    "fed_humans_number = round(us_cereals.feed_kcal.sum() / 2400 / 365 * 0.1)\n",
    "print(\"{:,} tonnes of food can be released if the US reduce its production by 10%, that quantity of food can actually feed {:,} people\".format(us_feed_10, fed_humans_number))"
   ]
  },
  {
   "cell_type": "markdown",
   "metadata": {},
   "source": [
    "### 5.8 Proportion of cassava exported and undernutrition in Thailand\n",
    "\n",
    "- **Proportion of cassava exported**"
   ]
  },
  {
   "cell_type": "code",
   "execution_count": 79,
   "metadata": {},
   "outputs": [
    {
     "name": "stdout",
     "output_type": "stream",
     "text": [
      "83.0% of cassava is exported in Thailand while 8.4% of the population are undernourished\n"
     ]
    }
   ],
   "source": [
    "# Quantity of cassava exported in Thailand\n",
    "thai_cassava_exp = food_balance_full.query(\"country == 'Thailand' & item == 'Cassava and products'\").export_quantity / 1000\n",
    "# Proportion of Undernutrition in thailand\n",
    "thai_undern = round(ind_pop_2013.query(\"country == 'Thailand'\").ratio.values[0],1)\n",
    "# total production of cassava in thailande\n",
    "thai_cassava_prod = food_balance_full.query(\"country == 'Thailand' & item == 'Cassava and products'\").production / 1000\n",
    "# Proportion of cassava exported\n",
    "prop_cassava_exp = round((thai_cassava_exp / thai_cassava_prod.values).values[0],2)\n",
    "print(\"{}% of cassava is exported in Thailand while {}% of the population are undernourished\".format(prop_cassava_exp*100, thai_undern))"
   ]
  },
  {
   "cell_type": "markdown",
   "metadata": {},
   "source": [
    "## 6 Communicate\n",
    "### 6.1 Undernutrition over time\n",
    "\n"
   ]
  },
  {
   "cell_type": "code",
   "execution_count": 81,
   "metadata": {},
   "outputs": [
    {
     "data": {
      "image/png": "[encoded data removed]",
      "text/plain": [
       "<Figure size 432x288 with 1 Axes>"
      ]
     },
     "metadata": {
      "needs_background": "light"
     },
     "output_type": "display_data"
    }
   ],
   "source": [
    "indicators_df.groupby(\"year\").undernourishment.sum().plot();"
   ]
  },
  {
   "cell_type": "markdown",
   "metadata": {},
   "source": [
    "The undernutrition decreases from 2013 to 2015, then started increasing again from 2015 to 2017."
   ]
  },
  {
   "cell_type": "markdown",
   "metadata": {},
   "source": [
    "### 6.2 Projected population size in 2050"
   ]
  },
  {
   "cell_type": "code",
   "execution_count": null,
   "metadata": {},
   "outputs": [],
   "source": []
  }
 ],
 "metadata": {
  "kernelspec": {
   "display_name": "communicateData",
   "language": "python",
   "name": "communicatedata"
  },
  "language_info": {
   "codemirror_mode": {
    "name": "ipython",
    "version": 3
   },
   "file_extension": ".py",
   "mimetype": "text/x-python",
   "name": "python",
   "nbconvert_exporter": "python",
   "pygments_lexer": "ipython3",
   "version": "3.7.4"
  }
 },
 "nbformat": 4,
 "nbformat_minor": 2
}
