{
 "cells": [
  {
   "cell_type": "markdown",
   "metadata": {},
   "source": [
    "# GLOBAL UNDERNUTRITION STUDY - EXPLORATION  \n",
    "\n",
    "*BY FURAWA*  \n",
    "\n",
    "**Table of Contents**  \n",
    "\n",
    "1. [Data collection](#data_collection)  \n",
    "2. [Data discovery](#data_discovery)  \n",
    "3. [Data cleaning](#data_cleaning)  \n",
    "4. [Computing new variables to lead the analysis](#new_variables)  \n",
    "5. [Identify major trends](#major_trends)  "
   ]
  },
  {
   "cell_type": "code",
   "execution_count": 1,
   "metadata": {},
   "outputs": [],
   "source": [
    "# Import all the needed libraries for the project\n",
    "import numpy as np\n",
    "import pandas as pd\n",
    "import matplotlib.pyplot as plt\n",
    "import seaborn as sns\n",
    "from glob import glob\n",
    "import re\n",
    "from pandas.api.types import CategoricalDtype\n",
    "\n",
    "%matplotlib inline\n",
    "pd.set_option('max_rows', 20)"
   ]
  },
  {
   "cell_type": "markdown",
   "metadata": {},
   "source": [
    "<a id='data_collection'></a>\n",
    "## 1. Data collection  \n",
    "All the data has been downloaded from the [FAO](http://www.fao.org/faostat/en/#data) website.  \n",
    "Let us check the files."
   ]
  },
  {
   "cell_type": "code",
   "execution_count": 2,
   "metadata": {},
   "outputs": [
    {
     "data": {
      "text/plain": [
       "['files/food_balance_cereals.csv',\n",
       " 'files/food_security_indicators.csv',\n",
       " 'files/food_balance_vegetal.csv',\n",
       " 'files/food_balance_animal.csv',\n",
       " 'files/population.csv']"
      ]
     },
     "execution_count": 2,
     "metadata": {},
     "output_type": "execute_result"
    }
   ],
   "source": [
    "# Store the file names in the file_names variable\n",
    "file_names = glob('files/*.csv')\n",
    "# Check the file_names list\n",
    "file_names"
   ]
  },
  {
   "cell_type": "code",
   "execution_count": 3,
   "metadata": {},
   "outputs": [],
   "source": [
    "# Loop into the file_names list\n",
    "for file in file_names:\n",
    "    # Read each file in the file_names list and assign it to a variable retrieved from the file name\n",
    "     exec(re.split('\\. |\\W', file)[1] + \"=  pd.read_csv(file)\")"
   ]
  },
  {
   "cell_type": "code",
   "execution_count": 4,
   "metadata": {},
   "outputs": [
    {
     "data": {
      "text/html": [
       "<div>\n",
       "<style scoped>\n",
       "    .dataframe tbody tr th:only-of-type {\n",
       "        vertical-align: middle;\n",
       "    }\n",
       "\n",
       "    .dataframe tbody tr th {\n",
       "        vertical-align: top;\n",
       "    }\n",
       "\n",
       "    .dataframe thead th {\n",
       "        text-align: right;\n",
       "    }\n",
       "</style>\n",
       "<table border=\"1\" class=\"dataframe\">\n",
       "  <thead>\n",
       "    <tr style=\"text-align: right;\">\n",
       "      <th></th>\n",
       "      <th>Domain Code</th>\n",
       "      <th>Domain</th>\n",
       "      <th>Area Code</th>\n",
       "      <th>Area</th>\n",
       "      <th>Element Code</th>\n",
       "      <th>Element</th>\n",
       "      <th>Item Code</th>\n",
       "      <th>Item</th>\n",
       "      <th>Year Code</th>\n",
       "      <th>Year</th>\n",
       "      <th>Unit</th>\n",
       "      <th>Value</th>\n",
       "      <th>Flag</th>\n",
       "      <th>Flag Description</th>\n",
       "      <th>Note</th>\n",
       "    </tr>\n",
       "  </thead>\n",
       "  <tbody>\n",
       "    <tr>\n",
       "      <th>0</th>\n",
       "      <td>FS</td>\n",
       "      <td>Suite of Food Security Indicators</td>\n",
       "      <td>2</td>\n",
       "      <td>Afghanistan</td>\n",
       "      <td>6132</td>\n",
       "      <td>Value</td>\n",
       "      <td>210011</td>\n",
       "      <td>Number of people undernourished (million) (3-y...</td>\n",
       "      <td>20122014</td>\n",
       "      <td>2012-2014</td>\n",
       "      <td>millions</td>\n",
       "      <td>7.9</td>\n",
       "      <td>F</td>\n",
       "      <td>FAO estimate</td>\n",
       "      <td>NaN</td>\n",
       "    </tr>\n",
       "    <tr>\n",
       "      <th>1</th>\n",
       "      <td>FS</td>\n",
       "      <td>Suite of Food Security Indicators</td>\n",
       "      <td>2</td>\n",
       "      <td>Afghanistan</td>\n",
       "      <td>6132</td>\n",
       "      <td>Value</td>\n",
       "      <td>210011</td>\n",
       "      <td>Number of people undernourished (million) (3-y...</td>\n",
       "      <td>20132015</td>\n",
       "      <td>2013-2015</td>\n",
       "      <td>millions</td>\n",
       "      <td>8.8</td>\n",
       "      <td>F</td>\n",
       "      <td>FAO estimate</td>\n",
       "      <td>NaN</td>\n",
       "    </tr>\n",
       "  </tbody>\n",
       "</table>\n",
       "</div>"
      ],
      "text/plain": [
       "  Domain Code                             Domain  Area Code         Area  \\\n",
       "0          FS  Suite of Food Security Indicators          2  Afghanistan   \n",
       "1          FS  Suite of Food Security Indicators          2  Afghanistan   \n",
       "\n",
       "   Element Code Element  Item Code  \\\n",
       "0          6132   Value     210011   \n",
       "1          6132   Value     210011   \n",
       "\n",
       "                                                Item  Year Code       Year  \\\n",
       "0  Number of people undernourished (million) (3-y...   20122014  2012-2014   \n",
       "1  Number of people undernourished (million) (3-y...   20132015  2013-2015   \n",
       "\n",
       "       Unit Value Flag Flag Description  Note  \n",
       "0  millions   7.9    F     FAO estimate   NaN  \n",
       "1  millions   8.8    F     FAO estimate   NaN  "
      ]
     },
     "execution_count": 4,
     "metadata": {},
     "output_type": "execute_result"
    }
   ],
   "source": [
    "# Check the dataframe info\n",
    "food_security_indicators.head(2)"
   ]
  },
  {
   "cell_type": "code",
   "execution_count": 5,
   "metadata": {},
   "outputs": [
    {
     "data": {
      "text/html": [
       "<div>\n",
       "<style scoped>\n",
       "    .dataframe tbody tr th:only-of-type {\n",
       "        vertical-align: middle;\n",
       "    }\n",
       "\n",
       "    .dataframe tbody tr th {\n",
       "        vertical-align: top;\n",
       "    }\n",
       "\n",
       "    .dataframe thead th {\n",
       "        text-align: right;\n",
       "    }\n",
       "</style>\n",
       "<table border=\"1\" class=\"dataframe\">\n",
       "  <thead>\n",
       "    <tr style=\"text-align: right;\">\n",
       "      <th></th>\n",
       "      <th>Domain Code</th>\n",
       "      <th>Domain</th>\n",
       "      <th>Country Code</th>\n",
       "      <th>Country</th>\n",
       "      <th>Element Code</th>\n",
       "      <th>Element</th>\n",
       "      <th>Item Code</th>\n",
       "      <th>Item</th>\n",
       "      <th>Year Code</th>\n",
       "      <th>Year</th>\n",
       "      <th>Unit</th>\n",
       "      <th>Value</th>\n",
       "      <th>Flag</th>\n",
       "      <th>Flag Description</th>\n",
       "    </tr>\n",
       "  </thead>\n",
       "  <tbody>\n",
       "    <tr>\n",
       "      <th>0</th>\n",
       "      <td>FBS</td>\n",
       "      <td>Food Balance Sheets</td>\n",
       "      <td>2</td>\n",
       "      <td>Afghanistan</td>\n",
       "      <td>5511</td>\n",
       "      <td>Production</td>\n",
       "      <td>2511</td>\n",
       "      <td>Wheat and products</td>\n",
       "      <td>2013</td>\n",
       "      <td>2013</td>\n",
       "      <td>1000 tonnes</td>\n",
       "      <td>5169.0</td>\n",
       "      <td>S</td>\n",
       "      <td>Standardized data</td>\n",
       "    </tr>\n",
       "    <tr>\n",
       "      <th>1</th>\n",
       "      <td>FBS</td>\n",
       "      <td>Food Balance Sheets</td>\n",
       "      <td>2</td>\n",
       "      <td>Afghanistan</td>\n",
       "      <td>5611</td>\n",
       "      <td>Import Quantity</td>\n",
       "      <td>2511</td>\n",
       "      <td>Wheat and products</td>\n",
       "      <td>2013</td>\n",
       "      <td>2013</td>\n",
       "      <td>1000 tonnes</td>\n",
       "      <td>1173.0</td>\n",
       "      <td>S</td>\n",
       "      <td>Standardized data</td>\n",
       "    </tr>\n",
       "  </tbody>\n",
       "</table>\n",
       "</div>"
      ],
      "text/plain": [
       "  Domain Code               Domain  Country Code      Country  Element Code  \\\n",
       "0         FBS  Food Balance Sheets             2  Afghanistan          5511   \n",
       "1         FBS  Food Balance Sheets             2  Afghanistan          5611   \n",
       "\n",
       "           Element  Item Code                Item  Year Code  Year  \\\n",
       "0       Production       2511  Wheat and products       2013  2013   \n",
       "1  Import Quantity       2511  Wheat and products       2013  2013   \n",
       "\n",
       "          Unit   Value Flag   Flag Description  \n",
       "0  1000 tonnes  5169.0    S  Standardized data  \n",
       "1  1000 tonnes  1173.0    S  Standardized data  "
      ]
     },
     "execution_count": 5,
     "metadata": {},
     "output_type": "execute_result"
    }
   ],
   "source": [
    "# Check the dataframe info\n",
    "food_balance_vegetal.head(2)"
   ]
  },
  {
   "cell_type": "code",
   "execution_count": 6,
   "metadata": {},
   "outputs": [
    {
     "data": {
      "text/html": [
       "<div>\n",
       "<style scoped>\n",
       "    .dataframe tbody tr th:only-of-type {\n",
       "        vertical-align: middle;\n",
       "    }\n",
       "\n",
       "    .dataframe tbody tr th {\n",
       "        vertical-align: top;\n",
       "    }\n",
       "\n",
       "    .dataframe thead th {\n",
       "        text-align: right;\n",
       "    }\n",
       "</style>\n",
       "<table border=\"1\" class=\"dataframe\">\n",
       "  <thead>\n",
       "    <tr style=\"text-align: right;\">\n",
       "      <th></th>\n",
       "      <th>Domain Code</th>\n",
       "      <th>Domain</th>\n",
       "      <th>Country Code</th>\n",
       "      <th>Country</th>\n",
       "      <th>Element Code</th>\n",
       "      <th>Element</th>\n",
       "      <th>Item Code</th>\n",
       "      <th>Item</th>\n",
       "      <th>Year Code</th>\n",
       "      <th>Year</th>\n",
       "      <th>Unit</th>\n",
       "      <th>Value</th>\n",
       "      <th>Flag</th>\n",
       "      <th>Flag Description</th>\n",
       "    </tr>\n",
       "  </thead>\n",
       "  <tbody>\n",
       "    <tr>\n",
       "      <th>0</th>\n",
       "      <td>FBS</td>\n",
       "      <td>Food Balance Sheets</td>\n",
       "      <td>2</td>\n",
       "      <td>Afghanistan</td>\n",
       "      <td>5511</td>\n",
       "      <td>Production</td>\n",
       "      <td>2731</td>\n",
       "      <td>Bovine Meat</td>\n",
       "      <td>2013</td>\n",
       "      <td>2013</td>\n",
       "      <td>1000 tonnes</td>\n",
       "      <td>134.0</td>\n",
       "      <td>S</td>\n",
       "      <td>Standardized data</td>\n",
       "    </tr>\n",
       "    <tr>\n",
       "      <th>1</th>\n",
       "      <td>FBS</td>\n",
       "      <td>Food Balance Sheets</td>\n",
       "      <td>2</td>\n",
       "      <td>Afghanistan</td>\n",
       "      <td>5611</td>\n",
       "      <td>Import Quantity</td>\n",
       "      <td>2731</td>\n",
       "      <td>Bovine Meat</td>\n",
       "      <td>2013</td>\n",
       "      <td>2013</td>\n",
       "      <td>1000 tonnes</td>\n",
       "      <td>6.0</td>\n",
       "      <td>S</td>\n",
       "      <td>Standardized data</td>\n",
       "    </tr>\n",
       "  </tbody>\n",
       "</table>\n",
       "</div>"
      ],
      "text/plain": [
       "  Domain Code               Domain  Country Code      Country  Element Code  \\\n",
       "0         FBS  Food Balance Sheets             2  Afghanistan          5511   \n",
       "1         FBS  Food Balance Sheets             2  Afghanistan          5611   \n",
       "\n",
       "           Element  Item Code         Item  Year Code  Year         Unit  \\\n",
       "0       Production       2731  Bovine Meat       2013  2013  1000 tonnes   \n",
       "1  Import Quantity       2731  Bovine Meat       2013  2013  1000 tonnes   \n",
       "\n",
       "   Value Flag   Flag Description  \n",
       "0  134.0    S  Standardized data  \n",
       "1    6.0    S  Standardized data  "
      ]
     },
     "execution_count": 6,
     "metadata": {},
     "output_type": "execute_result"
    }
   ],
   "source": [
    "# Check the dataframe info\n",
    "food_balance_animal.head(2)"
   ]
  },
  {
   "cell_type": "code",
   "execution_count": 7,
   "metadata": {},
   "outputs": [
    {
     "data": {
      "text/html": [
       "<div>\n",
       "<style scoped>\n",
       "    .dataframe tbody tr th:only-of-type {\n",
       "        vertical-align: middle;\n",
       "    }\n",
       "\n",
       "    .dataframe tbody tr th {\n",
       "        vertical-align: top;\n",
       "    }\n",
       "\n",
       "    .dataframe thead th {\n",
       "        text-align: right;\n",
       "    }\n",
       "</style>\n",
       "<table border=\"1\" class=\"dataframe\">\n",
       "  <thead>\n",
       "    <tr style=\"text-align: right;\">\n",
       "      <th></th>\n",
       "      <th>Domain Code</th>\n",
       "      <th>Domain</th>\n",
       "      <th>Country Code</th>\n",
       "      <th>Country</th>\n",
       "      <th>Element Code</th>\n",
       "      <th>Element</th>\n",
       "      <th>Item Code</th>\n",
       "      <th>Item</th>\n",
       "      <th>Year Code</th>\n",
       "      <th>Year</th>\n",
       "      <th>Unit</th>\n",
       "      <th>Value</th>\n",
       "      <th>Flag</th>\n",
       "      <th>Flag Description</th>\n",
       "    </tr>\n",
       "  </thead>\n",
       "  <tbody>\n",
       "    <tr>\n",
       "      <th>0</th>\n",
       "      <td>FBS</td>\n",
       "      <td>Food Balance Sheets</td>\n",
       "      <td>2</td>\n",
       "      <td>Afghanistan</td>\n",
       "      <td>5511</td>\n",
       "      <td>Production</td>\n",
       "      <td>2511</td>\n",
       "      <td>Wheat and products</td>\n",
       "      <td>2013</td>\n",
       "      <td>2013</td>\n",
       "      <td>1000 tonnes</td>\n",
       "      <td>5169.0</td>\n",
       "      <td>S</td>\n",
       "      <td>Standardized data</td>\n",
       "    </tr>\n",
       "    <tr>\n",
       "      <th>1</th>\n",
       "      <td>FBS</td>\n",
       "      <td>Food Balance Sheets</td>\n",
       "      <td>2</td>\n",
       "      <td>Afghanistan</td>\n",
       "      <td>5611</td>\n",
       "      <td>Import Quantity</td>\n",
       "      <td>2511</td>\n",
       "      <td>Wheat and products</td>\n",
       "      <td>2013</td>\n",
       "      <td>2013</td>\n",
       "      <td>1000 tonnes</td>\n",
       "      <td>1173.0</td>\n",
       "      <td>S</td>\n",
       "      <td>Standardized data</td>\n",
       "    </tr>\n",
       "  </tbody>\n",
       "</table>\n",
       "</div>"
      ],
      "text/plain": [
       "  Domain Code               Domain  Country Code      Country  Element Code  \\\n",
       "0         FBS  Food Balance Sheets             2  Afghanistan          5511   \n",
       "1         FBS  Food Balance Sheets             2  Afghanistan          5611   \n",
       "\n",
       "           Element  Item Code                Item  Year Code  Year  \\\n",
       "0       Production       2511  Wheat and products       2013  2013   \n",
       "1  Import Quantity       2511  Wheat and products       2013  2013   \n",
       "\n",
       "          Unit   Value Flag   Flag Description  \n",
       "0  1000 tonnes  5169.0    S  Standardized data  \n",
       "1  1000 tonnes  1173.0    S  Standardized data  "
      ]
     },
     "execution_count": 7,
     "metadata": {},
     "output_type": "execute_result"
    }
   ],
   "source": [
    "# Check the dataframe info\n",
    "food_balance_cereals.head(2)"
   ]
  },
  {
   "cell_type": "code",
   "execution_count": 8,
   "metadata": {},
   "outputs": [
    {
     "data": {
      "text/html": [
       "<div>\n",
       "<style scoped>\n",
       "    .dataframe tbody tr th:only-of-type {\n",
       "        vertical-align: middle;\n",
       "    }\n",
       "\n",
       "    .dataframe tbody tr th {\n",
       "        vertical-align: top;\n",
       "    }\n",
       "\n",
       "    .dataframe thead th {\n",
       "        text-align: right;\n",
       "    }\n",
       "</style>\n",
       "<table border=\"1\" class=\"dataframe\">\n",
       "  <thead>\n",
       "    <tr style=\"text-align: right;\">\n",
       "      <th></th>\n",
       "      <th>Domain Code</th>\n",
       "      <th>Domain</th>\n",
       "      <th>Country Code</th>\n",
       "      <th>Country</th>\n",
       "      <th>Element Code</th>\n",
       "      <th>Element</th>\n",
       "      <th>Item Code</th>\n",
       "      <th>Item</th>\n",
       "      <th>Year Code</th>\n",
       "      <th>Year</th>\n",
       "      <th>Unit</th>\n",
       "      <th>Value</th>\n",
       "      <th>Flag</th>\n",
       "      <th>Flag Description</th>\n",
       "    </tr>\n",
       "  </thead>\n",
       "  <tbody>\n",
       "    <tr>\n",
       "      <th>0</th>\n",
       "      <td>FBS</td>\n",
       "      <td>Food Balance Sheets</td>\n",
       "      <td>2</td>\n",
       "      <td>Afghanistan</td>\n",
       "      <td>511</td>\n",
       "      <td>Total Population - Both sexes</td>\n",
       "      <td>2501</td>\n",
       "      <td>Population</td>\n",
       "      <td>2013</td>\n",
       "      <td>2013</td>\n",
       "      <td>1000 persons</td>\n",
       "      <td>30552</td>\n",
       "      <td>NaN</td>\n",
       "      <td>Official data</td>\n",
       "    </tr>\n",
       "    <tr>\n",
       "      <th>1</th>\n",
       "      <td>FBS</td>\n",
       "      <td>Food Balance Sheets</td>\n",
       "      <td>3</td>\n",
       "      <td>Albania</td>\n",
       "      <td>511</td>\n",
       "      <td>Total Population - Both sexes</td>\n",
       "      <td>2501</td>\n",
       "      <td>Population</td>\n",
       "      <td>2013</td>\n",
       "      <td>2013</td>\n",
       "      <td>1000 persons</td>\n",
       "      <td>3173</td>\n",
       "      <td>NaN</td>\n",
       "      <td>Official data</td>\n",
       "    </tr>\n",
       "  </tbody>\n",
       "</table>\n",
       "</div>"
      ],
      "text/plain": [
       "  Domain Code               Domain  Country Code      Country  Element Code  \\\n",
       "0         FBS  Food Balance Sheets             2  Afghanistan           511   \n",
       "1         FBS  Food Balance Sheets             3      Albania           511   \n",
       "\n",
       "                         Element  Item Code        Item  Year Code  Year  \\\n",
       "0  Total Population - Both sexes       2501  Population       2013  2013   \n",
       "1  Total Population - Both sexes       2501  Population       2013  2013   \n",
       "\n",
       "           Unit  Value Flag Flag Description  \n",
       "0  1000 persons  30552  NaN    Official data  \n",
       "1  1000 persons   3173  NaN    Official data  "
      ]
     },
     "execution_count": 8,
     "metadata": {},
     "output_type": "execute_result"
    }
   ],
   "source": [
    "population.head(2)"
   ]
  },
  {
   "cell_type": "markdown",
   "metadata": {},
   "source": [
    "Except from the food_security_indicators dataframe all the other dataframes have the same 14 columns.  "
   ]
  },
  {
   "cell_type": "markdown",
   "metadata": {},
   "source": [
    "<a id='data_discovery'></a>\n",
    "## 2. Data Discovery"
   ]
  },
  {
   "cell_type": "markdown",
   "metadata": {},
   "source": [
    "Let us check the primary key of each table and test them.  \n",
    "We will create a function to find the primary key.  "
   ]
  },
  {
   "cell_type": "code",
   "execution_count": 9,
   "metadata": {},
   "outputs": [],
   "source": [
    "# Function to find the potential primary keys\n",
    "def check_potential_primary_key(df) -> str:\n",
    "    # Loop in the column list of the specific dataframe\n",
    "    for column_pk in df.keys():\n",
    "        # Remove the duplicated values from each column and check if the size is the same as the df\n",
    "        if len(df) != len(df[column_pk].drop_duplicates()):\n",
    "            # No output if the column is not a primary key\n",
    "           None\n",
    "        else:\n",
    "            # Print all the potential primary keys\n",
    "            print(\"{} could be a primary key!\".format(column_pk))"
   ]
  },
  {
   "cell_type": "markdown",
   "metadata": {},
   "source": [
    "Now we can use the function to find the potential primary keys of each dataframe. "
   ]
  },
  {
   "cell_type": "code",
   "execution_count": 10,
   "metadata": {},
   "outputs": [
    {
     "name": "stdout",
     "output_type": "stream",
     "text": [
      "Country Code could be a primary key!\n",
      "Country could be a primary key!\n",
      "Value could be a primary key!\n"
     ]
    }
   ],
   "source": [
    "# Check the primary key of population dataframe\n",
    "check_potential_primary_key(population)"
   ]
  },
  {
   "cell_type": "markdown",
   "metadata": {},
   "source": [
    "We have 3 potential primary keys for the population dataframe, but the best choice here is the Country Code variable. It won't be a good idea to have the population or country name as primary key as they will be difficult to query."
   ]
  },
  {
   "cell_type": "code",
   "execution_count": 11,
   "metadata": {},
   "outputs": [],
   "source": [
    "# Check the primary key of food balance vegetal\n",
    "check_potential_primary_key(food_balance_vegetal)"
   ]
  },
  {
   "cell_type": "markdown",
   "metadata": {},
   "source": [
    "We have no output, which means there are no potential primary key in this dataframe."
   ]
  },
  {
   "cell_type": "code",
   "execution_count": 12,
   "metadata": {},
   "outputs": [],
   "source": [
    "# Check the primary key of food balance livestock\n",
    "check_potential_primary_key(food_balance_animal)"
   ]
  },
  {
   "cell_type": "markdown",
   "metadata": {},
   "source": [
    "Same here, there are no primary keys in the food balance livestock"
   ]
  },
  {
   "cell_type": "code",
   "execution_count": 13,
   "metadata": {},
   "outputs": [],
   "source": [
    "# Check the primary key of food balance cereals\n",
    "check_potential_primary_key(food_balance_cereals)"
   ]
  },
  {
   "cell_type": "code",
   "execution_count": 14,
   "metadata": {},
   "outputs": [],
   "source": [
    "# Check the primary key of food security indicators\n",
    "check_potential_primary_key(food_security_indicators)"
   ]
  },
  {
   "cell_type": "markdown",
   "metadata": {},
   "source": [
    "Even for the food balance cereals and food security indicators dataframes we have no potential primary keys"
   ]
  },
  {
   "cell_type": "markdown",
   "metadata": {},
   "source": [
    "Let us create column with the total population and remove some useless columns from the population dataframe."
   ]
  },
  {
   "cell_type": "code",
   "execution_count": 15,
   "metadata": {},
   "outputs": [
    {
     "data": {
      "text/html": [
       "<div>\n",
       "<style scoped>\n",
       "    .dataframe tbody tr th:only-of-type {\n",
       "        vertical-align: middle;\n",
       "    }\n",
       "\n",
       "    .dataframe tbody tr th {\n",
       "        vertical-align: top;\n",
       "    }\n",
       "\n",
       "    .dataframe thead th {\n",
       "        text-align: right;\n",
       "    }\n",
       "</style>\n",
       "<table border=\"1\" class=\"dataframe\">\n",
       "  <thead>\n",
       "    <tr style=\"text-align: right;\">\n",
       "      <th></th>\n",
       "      <th>Country Code</th>\n",
       "      <th>Country</th>\n",
       "      <th>population</th>\n",
       "    </tr>\n",
       "  </thead>\n",
       "  <tbody>\n",
       "    <tr>\n",
       "      <th>0</th>\n",
       "      <td>2</td>\n",
       "      <td>Afghanistan</td>\n",
       "      <td>30552000</td>\n",
       "    </tr>\n",
       "    <tr>\n",
       "      <th>1</th>\n",
       "      <td>3</td>\n",
       "      <td>Albania</td>\n",
       "      <td>3173000</td>\n",
       "    </tr>\n",
       "    <tr>\n",
       "      <th>2</th>\n",
       "      <td>4</td>\n",
       "      <td>Algeria</td>\n",
       "      <td>39208000</td>\n",
       "    </tr>\n",
       "    <tr>\n",
       "      <th>3</th>\n",
       "      <td>7</td>\n",
       "      <td>Angola</td>\n",
       "      <td>21472000</td>\n",
       "    </tr>\n",
       "    <tr>\n",
       "      <th>4</th>\n",
       "      <td>8</td>\n",
       "      <td>Antigua and Barbuda</td>\n",
       "      <td>90000</td>\n",
       "    </tr>\n",
       "  </tbody>\n",
       "</table>\n",
       "</div>"
      ],
      "text/plain": [
       "   Country Code              Country  population\n",
       "0             2          Afghanistan    30552000\n",
       "1             3              Albania     3173000\n",
       "2             4              Algeria    39208000\n",
       "3             7               Angola    21472000\n",
       "4             8  Antigua and Barbuda       90000"
      ]
     },
     "execution_count": 15,
     "metadata": {},
     "output_type": "execute_result"
    }
   ],
   "source": [
    "# Create the population column, we retrieve the 1000 in the Unit column and multiply it by the Value column\n",
    "population[\"population\"] = int(population.Unit.str.split(\" \")[0][0]) * population.Value\n",
    "# Remove some useless columns\n",
    "population_df = population.drop(population.columns.difference([\"Country Code\", \"Country\", \"population\"]),\n",
    "                                axis =1)\n",
    "# Check the dataframe\n",
    "population_df.head()"
   ]
  },
  {
   "cell_type": "markdown",
   "metadata": {},
   "source": [
    "Now we can calculate the total numbers of human involved."
   ]
  },
  {
   "cell_type": "code",
   "execution_count": 16,
   "metadata": {},
   "outputs": [
    {
     "name": "stdout",
     "output_type": "stream",
     "text": [
      "The total number of humans on the planet is : 8,413,993,000\n"
     ]
    }
   ],
   "source": [
    "# Calcalute the total number of humans \n",
    "total_population = population_df.population.sum()\n",
    "print(\"The total number of humans on the planet is : {:,}\".format(total_population))"
   ]
  },
  {
   "cell_type": "markdown",
   "metadata": {},
   "source": [
    "This result cannot be correct, mostly if we talk about the 2013 world population. actually in 2019 the world population is around 7.7 billion. There must be an error, we will go deep to check the issue.  "
   ]
  },
  {
   "cell_type": "markdown",
   "metadata": {},
   "source": [
    "<a id='data_cleaning'></a>\n",
    "## 3. Data Cleaning  \n",
    "\n",
    "The dataframes are downloaded and loaded but dirty. There are useless rows and columns, anomalies in the population data must be corrected, the columns names must be changed. Let's do some cleaning.  \n",
    "We start putting all the food balance dataframes in one unique dataframe.  \n",
    "- **Food balance**"
   ]
  },
  {
   "cell_type": "code",
   "execution_count": 17,
   "metadata": {},
   "outputs": [],
   "source": [
    "# Create the origin variable in each balance food dataframe to store the food origin\n",
    "food_balance_animal[\"origin\"] = \"animal\"\n",
    "food_balance_cereals[\"origin\"] = \"cereal\"\n",
    "food_balance_vegetal[\"origin\"] = \"vegetal\""
   ]
  },
  {
   "cell_type": "code",
   "execution_count": 18,
   "metadata": {},
   "outputs": [
    {
     "data": {
      "text/html": [
       "<div>\n",
       "<style scoped>\n",
       "    .dataframe tbody tr th:only-of-type {\n",
       "        vertical-align: middle;\n",
       "    }\n",
       "\n",
       "    .dataframe tbody tr th {\n",
       "        vertical-align: top;\n",
       "    }\n",
       "\n",
       "    .dataframe thead th {\n",
       "        text-align: right;\n",
       "    }\n",
       "</style>\n",
       "<table border=\"1\" class=\"dataframe\">\n",
       "  <thead>\n",
       "    <tr style=\"text-align: right;\">\n",
       "      <th></th>\n",
       "      <th>Domain Code</th>\n",
       "      <th>Domain</th>\n",
       "      <th>Country Code</th>\n",
       "      <th>Country</th>\n",
       "      <th>Element Code</th>\n",
       "      <th>Element</th>\n",
       "      <th>Item Code</th>\n",
       "      <th>Item</th>\n",
       "      <th>Year Code</th>\n",
       "      <th>Year</th>\n",
       "      <th>Unit</th>\n",
       "      <th>Value</th>\n",
       "      <th>Flag</th>\n",
       "      <th>Flag Description</th>\n",
       "      <th>origin</th>\n",
       "    </tr>\n",
       "  </thead>\n",
       "  <tbody>\n",
       "    <tr>\n",
       "      <th>0</th>\n",
       "      <td>FBS</td>\n",
       "      <td>Food Balance Sheets</td>\n",
       "      <td>2</td>\n",
       "      <td>Afghanistan</td>\n",
       "      <td>5511</td>\n",
       "      <td>Production</td>\n",
       "      <td>2731</td>\n",
       "      <td>Bovine Meat</td>\n",
       "      <td>2013</td>\n",
       "      <td>2013</td>\n",
       "      <td>1000 tonnes</td>\n",
       "      <td>134.0</td>\n",
       "      <td>S</td>\n",
       "      <td>Standardized data</td>\n",
       "      <td>animal</td>\n",
       "    </tr>\n",
       "    <tr>\n",
       "      <th>1</th>\n",
       "      <td>FBS</td>\n",
       "      <td>Food Balance Sheets</td>\n",
       "      <td>2</td>\n",
       "      <td>Afghanistan</td>\n",
       "      <td>5611</td>\n",
       "      <td>Import Quantity</td>\n",
       "      <td>2731</td>\n",
       "      <td>Bovine Meat</td>\n",
       "      <td>2013</td>\n",
       "      <td>2013</td>\n",
       "      <td>1000 tonnes</td>\n",
       "      <td>6.0</td>\n",
       "      <td>S</td>\n",
       "      <td>Standardized data</td>\n",
       "      <td>animal</td>\n",
       "    </tr>\n",
       "  </tbody>\n",
       "</table>\n",
       "</div>"
      ],
      "text/plain": [
       "  Domain Code               Domain  Country Code      Country  Element Code  \\\n",
       "0         FBS  Food Balance Sheets             2  Afghanistan          5511   \n",
       "1         FBS  Food Balance Sheets             2  Afghanistan          5611   \n",
       "\n",
       "           Element  Item Code         Item  Year Code  Year         Unit  \\\n",
       "0       Production       2731  Bovine Meat       2013  2013  1000 tonnes   \n",
       "1  Import Quantity       2731  Bovine Meat       2013  2013  1000 tonnes   \n",
       "\n",
       "   Value Flag   Flag Description  origin  \n",
       "0  134.0    S  Standardized data  animal  \n",
       "1    6.0    S  Standardized data  animal  "
      ]
     },
     "execution_count": 18,
     "metadata": {},
     "output_type": "execute_result"
    }
   ],
   "source": [
    "# Append the 3 dataframes in one unique dataframe\n",
    "food_balance_df = food_balance_animal.append(food_balance_vegetal)\n",
    "# Check the first rows\n",
    "food_balance_df.head(2)"
   ]
  },
  {
   "cell_type": "code",
   "execution_count": 19,
   "metadata": {},
   "outputs": [
    {
     "data": {
      "text/html": [
       "<div>\n",
       "<style scoped>\n",
       "    .dataframe tbody tr th:only-of-type {\n",
       "        vertical-align: middle;\n",
       "    }\n",
       "\n",
       "    .dataframe tbody tr th {\n",
       "        vertical-align: top;\n",
       "    }\n",
       "\n",
       "    .dataframe thead th {\n",
       "        text-align: right;\n",
       "    }\n",
       "</style>\n",
       "<table border=\"1\" class=\"dataframe\">\n",
       "  <thead>\n",
       "    <tr style=\"text-align: right;\">\n",
       "      <th></th>\n",
       "      <th>Domain Code</th>\n",
       "      <th>Domain</th>\n",
       "      <th>Country Code</th>\n",
       "      <th>Country</th>\n",
       "      <th>Element Code</th>\n",
       "      <th>Element</th>\n",
       "      <th>Item Code</th>\n",
       "      <th>Item</th>\n",
       "      <th>Year Code</th>\n",
       "      <th>Year</th>\n",
       "      <th>Unit</th>\n",
       "      <th>Value</th>\n",
       "      <th>Flag</th>\n",
       "      <th>Flag Description</th>\n",
       "      <th>origin</th>\n",
       "    </tr>\n",
       "  </thead>\n",
       "  <tbody>\n",
       "    <tr>\n",
       "      <th>104869</th>\n",
       "      <td>FBS</td>\n",
       "      <td>Food Balance Sheets</td>\n",
       "      <td>351</td>\n",
       "      <td>China</td>\n",
       "      <td>674</td>\n",
       "      <td>Protein supply quantity (g/capita/day)</td>\n",
       "      <td>2899</td>\n",
       "      <td>Miscellaneous</td>\n",
       "      <td>2013</td>\n",
       "      <td>2013</td>\n",
       "      <td>g/capita/day</td>\n",
       "      <td>0.01</td>\n",
       "      <td>Fc</td>\n",
       "      <td>Calculated data</td>\n",
       "      <td>vegetal</td>\n",
       "    </tr>\n",
       "    <tr>\n",
       "      <th>104870</th>\n",
       "      <td>FBS</td>\n",
       "      <td>Food Balance Sheets</td>\n",
       "      <td>351</td>\n",
       "      <td>China</td>\n",
       "      <td>684</td>\n",
       "      <td>Fat supply quantity (g/capita/day)</td>\n",
       "      <td>2899</td>\n",
       "      <td>Miscellaneous</td>\n",
       "      <td>2013</td>\n",
       "      <td>2013</td>\n",
       "      <td>g/capita/day</td>\n",
       "      <td>0.00</td>\n",
       "      <td>Fc</td>\n",
       "      <td>Calculated data</td>\n",
       "      <td>vegetal</td>\n",
       "    </tr>\n",
       "  </tbody>\n",
       "</table>\n",
       "</div>"
      ],
      "text/plain": [
       "       Domain Code               Domain  Country Code Country  Element Code  \\\n",
       "104869         FBS  Food Balance Sheets           351   China           674   \n",
       "104870         FBS  Food Balance Sheets           351   China           684   \n",
       "\n",
       "                                       Element  Item Code           Item  \\\n",
       "104869  Protein supply quantity (g/capita/day)       2899  Miscellaneous   \n",
       "104870      Fat supply quantity (g/capita/day)       2899  Miscellaneous   \n",
       "\n",
       "        Year Code  Year          Unit  Value Flag Flag Description   origin  \n",
       "104869       2013  2013  g/capita/day   0.01   Fc  Calculated data  vegetal  \n",
       "104870       2013  2013  g/capita/day   0.00   Fc  Calculated data  vegetal  "
      ]
     },
     "execution_count": 19,
     "metadata": {},
     "output_type": "execute_result"
    }
   ],
   "source": [
    "# Check the last rows\n",
    "food_balance_df.tail(2)"
   ]
  },
  {
   "cell_type": "code",
   "execution_count": 20,
   "metadata": {},
   "outputs": [],
   "source": [
    "# Delete the 3 useless balance food dataframe\n",
    "del food_balance_animal, food_balance_vegetal"
   ]
  },
  {
   "cell_type": "code",
   "execution_count": 21,
   "metadata": {},
   "outputs": [],
   "source": [
    "# Rename the columns\n",
    "food_balance_df.rename(columns = {\"Country Code\":\"country_code\", \"Country\":\"country\", \"Element\":\"element\",\n",
    "                                  \"Item Code\":\"item_code\", \"Item\":\"item\", \"Year\":\"year\",\"Unit\":\"unit\",\n",
    "                                  \"Value\":\"value\"}, inplace = True)"
   ]
  },
  {
   "cell_type": "code",
   "execution_count": 22,
   "metadata": {},
   "outputs": [],
   "source": [
    "# Transform the dataframe from long to wide with pivot_table\n",
    "food_balance_wide = food_balance_df.pivot_table(\n",
    "    # Put as index the Columns that we want to keep in the dataframe\n",
    "    index = [\"country_code\", \"country\", \"item_code\", \"item\", \"year\", \"unit\", \"origin\"],\n",
    "    # Select the columns that we want to transform from long to wide and the values that we sum \n",
    "    columns = [\"element\"], values = [\"value\"], aggfunc = sum)\n",
    "# Renaming the columns \n",
    "food_balance_wide.columns = [\"domestic_supply_quantity\", \"export_quantity\", \"fat_supply_quantity_gcapitaday\",\n",
    "                             \"feed\", \"food\", \"food_supply_kcalcapitaday\", \"food_supply_quantity_kgcapitayr\", \n",
    "                            \"import_quantity\", \"losses\", \"other_uses\", \"processing\", \"production\", \n",
    "                            \"protein_supply_quantity_gcapitaday\", \"seed\", \"stock_variation\"]"
   ]
  },
  {
   "cell_type": "code",
   "execution_count": 23,
   "metadata": {},
   "outputs": [
    {
     "data": {
      "text/html": [
       "<div>\n",
       "<style scoped>\n",
       "    .dataframe tbody tr th:only-of-type {\n",
       "        vertical-align: middle;\n",
       "    }\n",
       "\n",
       "    .dataframe tbody tr th {\n",
       "        vertical-align: top;\n",
       "    }\n",
       "\n",
       "    .dataframe thead th {\n",
       "        text-align: right;\n",
       "    }\n",
       "</style>\n",
       "<table border=\"1\" class=\"dataframe\">\n",
       "  <thead>\n",
       "    <tr style=\"text-align: right;\">\n",
       "      <th></th>\n",
       "      <th>country_code</th>\n",
       "      <th>country</th>\n",
       "      <th>item_code</th>\n",
       "      <th>item</th>\n",
       "      <th>year</th>\n",
       "      <th>unit</th>\n",
       "      <th>origin</th>\n",
       "      <th>domestic_supply_quantity</th>\n",
       "      <th>export_quantity</th>\n",
       "      <th>fat_supply_quantity_gcapitaday</th>\n",
       "      <th>...</th>\n",
       "      <th>food_supply_kcalcapitaday</th>\n",
       "      <th>food_supply_quantity_kgcapitayr</th>\n",
       "      <th>import_quantity</th>\n",
       "      <th>losses</th>\n",
       "      <th>other_uses</th>\n",
       "      <th>processing</th>\n",
       "      <th>production</th>\n",
       "      <th>protein_supply_quantity_gcapitaday</th>\n",
       "      <th>seed</th>\n",
       "      <th>stock_variation</th>\n",
       "    </tr>\n",
       "  </thead>\n",
       "  <tbody>\n",
       "    <tr>\n",
       "      <th>0</th>\n",
       "      <td>1</td>\n",
       "      <td>Armenia</td>\n",
       "      <td>2511</td>\n",
       "      <td>Wheat and products</td>\n",
       "      <td>2013</td>\n",
       "      <td>1000 tonnes</td>\n",
       "      <td>vegetal</td>\n",
       "      <td>554.0</td>\n",
       "      <td>1.0</td>\n",
       "      <td>NaN</td>\n",
       "      <td>...</td>\n",
       "      <td>NaN</td>\n",
       "      <td>NaN</td>\n",
       "      <td>361.0</td>\n",
       "      <td>32.0</td>\n",
       "      <td>0.0</td>\n",
       "      <td>10.0</td>\n",
       "      <td>312.0</td>\n",
       "      <td>NaN</td>\n",
       "      <td>30.0</td>\n",
       "      <td>-118.0</td>\n",
       "    </tr>\n",
       "    <tr>\n",
       "      <th>1</th>\n",
       "      <td>1</td>\n",
       "      <td>Armenia</td>\n",
       "      <td>2511</td>\n",
       "      <td>Wheat and products</td>\n",
       "      <td>2013</td>\n",
       "      <td>g/capita/day</td>\n",
       "      <td>vegetal</td>\n",
       "      <td>NaN</td>\n",
       "      <td>NaN</td>\n",
       "      <td>3.6</td>\n",
       "      <td>...</td>\n",
       "      <td>NaN</td>\n",
       "      <td>NaN</td>\n",
       "      <td>NaN</td>\n",
       "      <td>NaN</td>\n",
       "      <td>NaN</td>\n",
       "      <td>NaN</td>\n",
       "      <td>NaN</td>\n",
       "      <td>30.52</td>\n",
       "      <td>NaN</td>\n",
       "      <td>NaN</td>\n",
       "    </tr>\n",
       "    <tr>\n",
       "      <th>2</th>\n",
       "      <td>1</td>\n",
       "      <td>Armenia</td>\n",
       "      <td>2511</td>\n",
       "      <td>Wheat and products</td>\n",
       "      <td>2013</td>\n",
       "      <td>kcal/capita/day</td>\n",
       "      <td>vegetal</td>\n",
       "      <td>NaN</td>\n",
       "      <td>NaN</td>\n",
       "      <td>NaN</td>\n",
       "      <td>...</td>\n",
       "      <td>1024.0</td>\n",
       "      <td>NaN</td>\n",
       "      <td>NaN</td>\n",
       "      <td>NaN</td>\n",
       "      <td>NaN</td>\n",
       "      <td>NaN</td>\n",
       "      <td>NaN</td>\n",
       "      <td>NaN</td>\n",
       "      <td>NaN</td>\n",
       "      <td>NaN</td>\n",
       "    </tr>\n",
       "    <tr>\n",
       "      <th>3</th>\n",
       "      <td>1</td>\n",
       "      <td>Armenia</td>\n",
       "      <td>2511</td>\n",
       "      <td>Wheat and products</td>\n",
       "      <td>2013</td>\n",
       "      <td>kg</td>\n",
       "      <td>vegetal</td>\n",
       "      <td>NaN</td>\n",
       "      <td>NaN</td>\n",
       "      <td>NaN</td>\n",
       "      <td>...</td>\n",
       "      <td>NaN</td>\n",
       "      <td>130.6</td>\n",
       "      <td>NaN</td>\n",
       "      <td>NaN</td>\n",
       "      <td>NaN</td>\n",
       "      <td>NaN</td>\n",
       "      <td>NaN</td>\n",
       "      <td>NaN</td>\n",
       "      <td>NaN</td>\n",
       "      <td>NaN</td>\n",
       "    </tr>\n",
       "    <tr>\n",
       "      <th>4</th>\n",
       "      <td>1</td>\n",
       "      <td>Armenia</td>\n",
       "      <td>2513</td>\n",
       "      <td>Barley and products</td>\n",
       "      <td>2013</td>\n",
       "      <td>1000 tonnes</td>\n",
       "      <td>vegetal</td>\n",
       "      <td>198.0</td>\n",
       "      <td>0.0</td>\n",
       "      <td>NaN</td>\n",
       "      <td>...</td>\n",
       "      <td>NaN</td>\n",
       "      <td>NaN</td>\n",
       "      <td>9.0</td>\n",
       "      <td>15.0</td>\n",
       "      <td>26.0</td>\n",
       "      <td>7.0</td>\n",
       "      <td>189.0</td>\n",
       "      <td>NaN</td>\n",
       "      <td>14.0</td>\n",
       "      <td>0.0</td>\n",
       "    </tr>\n",
       "  </tbody>\n",
       "</table>\n",
       "<p>5 rows × 22 columns</p>\n",
       "</div>"
      ],
      "text/plain": [
       "   country_code  country  item_code                 item  year  \\\n",
       "0             1  Armenia       2511   Wheat and products  2013   \n",
       "1             1  Armenia       2511   Wheat and products  2013   \n",
       "2             1  Armenia       2511   Wheat and products  2013   \n",
       "3             1  Armenia       2511   Wheat and products  2013   \n",
       "4             1  Armenia       2513  Barley and products  2013   \n",
       "\n",
       "              unit   origin  domestic_supply_quantity  export_quantity  \\\n",
       "0      1000 tonnes  vegetal                     554.0              1.0   \n",
       "1     g/capita/day  vegetal                       NaN              NaN   \n",
       "2  kcal/capita/day  vegetal                       NaN              NaN   \n",
       "3               kg  vegetal                       NaN              NaN   \n",
       "4      1000 tonnes  vegetal                     198.0              0.0   \n",
       "\n",
       "   fat_supply_quantity_gcapitaday  ...  food_supply_kcalcapitaday  \\\n",
       "0                             NaN  ...                        NaN   \n",
       "1                             3.6  ...                        NaN   \n",
       "2                             NaN  ...                     1024.0   \n",
       "3                             NaN  ...                        NaN   \n",
       "4                             NaN  ...                        NaN   \n",
       "\n",
       "   food_supply_quantity_kgcapitayr  import_quantity  losses  other_uses  \\\n",
       "0                              NaN            361.0    32.0         0.0   \n",
       "1                              NaN              NaN     NaN         NaN   \n",
       "2                              NaN              NaN     NaN         NaN   \n",
       "3                            130.6              NaN     NaN         NaN   \n",
       "4                              NaN              9.0    15.0        26.0   \n",
       "\n",
       "   processing  production  protein_supply_quantity_gcapitaday  seed  \\\n",
       "0        10.0       312.0                                 NaN  30.0   \n",
       "1         NaN         NaN                               30.52   NaN   \n",
       "2         NaN         NaN                                 NaN   NaN   \n",
       "3         NaN         NaN                                 NaN   NaN   \n",
       "4         7.0       189.0                                 NaN  14.0   \n",
       "\n",
       "   stock_variation  \n",
       "0           -118.0  \n",
       "1              NaN  \n",
       "2              NaN  \n",
       "3              NaN  \n",
       "4              0.0  \n",
       "\n",
       "[5 rows x 22 columns]"
      ]
     },
     "execution_count": 23,
     "metadata": {},
     "output_type": "execute_result"
    }
   ],
   "source": [
    "# Reset the index to have normal columns\n",
    "food_balance = food_balance_wide.reset_index()\n",
    "# delete the useless dataframe\n",
    "del food_balance_df, food_balance_wide\n",
    "# Check the first rows of the dataframe\n",
    "food_balance.head()"
   ]
  },
  {
   "cell_type": "markdown",
   "metadata": {},
   "source": [
    "Looking at the definitions of the elements in the [FAO](http://www.fao.org/faostat/en/#data/FBS)(Definitions and Standards tab), we notice that there are redundant information concerning those elements. Let's indentify the redundancy with a mathematical formula and give and example with the wheat in France.\n"
   ]
  },
  {
   "cell_type": "code",
   "execution_count": 24,
   "metadata": {},
   "outputs": [
    {
     "name": "stdout",
     "output_type": "stream",
     "text": [
      "Formula 1 : Domestic supply = Production + Import Quantity + Stock Variation - Export Quantity \n",
      "Formula 2 : Domestic supply = Food + Feed + Losses + Seed + Processing + Other Uses\n"
     ]
    }
   ],
   "source": [
    "# Create a dataframe with France as country and wheat as item\n",
    "wheat_france = food_balance.query(\"country == 'France' and item == 'Wheat and products'\")\n",
    "# Formulas\n",
    "print(\"Formula 1 : Domestic supply = Production + Import Quantity + Stock Variation - Export Quantity \\n\\\n",
    "Formula 2 : Domestic supply = Food + Feed + Losses + Seed + Processing + Other Uses\")"
   ]
  },
  {
   "cell_type": "code",
   "execution_count": 25,
   "metadata": {},
   "outputs": [],
   "source": [
    "# Apply the formula in the wheat france dataframe\n",
    "term_1 = (wheat_france[:1].production + wheat_france[:1].import_quantity + wheat_france[:1].stock_variation \\\n",
    "         - wheat_france[:1].export_quantity).values[0]\n",
    "\n",
    "term_2 = wheat_france[:1].domestic_supply_quantity.values[0]\n",
    "\n",
    "term_3 = (wheat_france[:1].food + wheat_france[:1].feed + wheat_france[:1].losses + wheat_france[:1].seed + \\\n",
    "         wheat_france[:1].processing + wheat_france[:1].other_uses).values[0]"
   ]
  },
  {
   "cell_type": "code",
   "execution_count": 26,
   "metadata": {},
   "outputs": [],
   "source": [
    "# Check if all the term are equal, no output means it is correct\n",
    "assert term_1 == term_2 == term_3"
   ]
  },
  {
   "cell_type": "code",
   "execution_count": 27,
   "metadata": {},
   "outputs": [
    {
     "name": "stdout",
     "output_type": "stream",
     "text": [
      "For the wheat in France we have : \n",
      "Domestic supply quantity = 20298.0 ktonnes \n",
      "Production + Import Quantity + Stock Variation - Export Quantity = 20298.0 ktonnes \n",
      "Food + Feed + Losses + Seed + Processing + Other Uses = 20298.0 ktonnes\n"
     ]
    }
   ],
   "source": [
    "print(\"For the wheat in France we have : \\n\\\n",
    "Domestic supply quantity = {} ktonnes \\n\\\n",
    "Production + Import Quantity + Stock Variation - Export Quantity = {} ktonnes \\n\\\n",
    "Food + Feed + Losses + Seed + Processing + Other Uses = {} ktonnes\".format(term_2, term_1, term_3))"
   ]
  },
  {
   "cell_type": "markdown",
   "metadata": {},
   "source": [
    "- **Food Security Indicators**"
   ]
  },
  {
   "cell_type": "code",
   "execution_count": 28,
   "metadata": {},
   "outputs": [
    {
     "name": "stdout",
     "output_type": "stream",
     "text": [
      "<class 'pandas.core.frame.DataFrame'>\n",
      "RangeIndex: 1020 entries, 0 to 1019\n",
      "Data columns (total 15 columns):\n",
      "Domain Code         1020 non-null object\n",
      "Domain              1020 non-null object\n",
      "Area Code           1020 non-null int64\n",
      "Area                1020 non-null object\n",
      "Element Code        1020 non-null int64\n",
      "Element             1020 non-null object\n",
      "Item Code           1020 non-null int64\n",
      "Item                1020 non-null object\n",
      "Year Code           1020 non-null int64\n",
      "Year                1020 non-null object\n",
      "Unit                1020 non-null object\n",
      "Value               605 non-null object\n",
      "Flag                1020 non-null object\n",
      "Flag Description    1020 non-null object\n",
      "Note                0 non-null float64\n",
      "dtypes: float64(1), int64(4), object(10)\n",
      "memory usage: 119.7+ KB\n"
     ]
    }
   ],
   "source": [
    "food_security_indicators.info()"
   ]
  },
  {
   "cell_type": "markdown",
   "metadata": {},
   "source": [
    "- The Value column has 605 non-null rows which means that there are many null values  \n",
    "- There are many useless columns to remove  \n",
    "- We need to change the columns name\n",
    "- The Value must be float number not a string  \n",
    "- The year must be a categorical variable not a string \n",
    "- There is a value <0.1, that must be changed\n",
    "\n",
    "Let us make all those changes."
   ]
  },
  {
   "cell_type": "code",
   "execution_count": 29,
   "metadata": {},
   "outputs": [
    {
     "data": {
      "text/html": [
       "<div>\n",
       "<style scoped>\n",
       "    .dataframe tbody tr th:only-of-type {\n",
       "        vertical-align: middle;\n",
       "    }\n",
       "\n",
       "    .dataframe tbody tr th {\n",
       "        vertical-align: top;\n",
       "    }\n",
       "\n",
       "    .dataframe thead th {\n",
       "        text-align: right;\n",
       "    }\n",
       "</style>\n",
       "<table border=\"1\" class=\"dataframe\">\n",
       "  <thead>\n",
       "    <tr style=\"text-align: right;\">\n",
       "      <th></th>\n",
       "      <th>Domain Code</th>\n",
       "      <th>Domain</th>\n",
       "      <th>Area Code</th>\n",
       "      <th>Area</th>\n",
       "      <th>Element Code</th>\n",
       "      <th>Element</th>\n",
       "      <th>Item Code</th>\n",
       "      <th>Item</th>\n",
       "      <th>Year Code</th>\n",
       "      <th>Year</th>\n",
       "      <th>Unit</th>\n",
       "      <th>Value</th>\n",
       "      <th>Flag</th>\n",
       "      <th>Flag Description</th>\n",
       "      <th>Note</th>\n",
       "    </tr>\n",
       "  </thead>\n",
       "  <tbody>\n",
       "    <tr>\n",
       "      <th>15</th>\n",
       "      <td>FS</td>\n",
       "      <td>Suite of Food Security Indicators</td>\n",
       "      <td>5</td>\n",
       "      <td>American Samoa</td>\n",
       "      <td>6132</td>\n",
       "      <td>Value</td>\n",
       "      <td>210011</td>\n",
       "      <td>Number of people undernourished (million) (3-y...</td>\n",
       "      <td>20122014</td>\n",
       "      <td>2012-2014</td>\n",
       "      <td>millions</td>\n",
       "      <td>NaN</td>\n",
       "      <td>NV</td>\n",
       "      <td>Data not available</td>\n",
       "      <td>NaN</td>\n",
       "    </tr>\n",
       "    <tr>\n",
       "      <th>16</th>\n",
       "      <td>FS</td>\n",
       "      <td>Suite of Food Security Indicators</td>\n",
       "      <td>5</td>\n",
       "      <td>American Samoa</td>\n",
       "      <td>6132</td>\n",
       "      <td>Value</td>\n",
       "      <td>210011</td>\n",
       "      <td>Number of people undernourished (million) (3-y...</td>\n",
       "      <td>20132015</td>\n",
       "      <td>2013-2015</td>\n",
       "      <td>millions</td>\n",
       "      <td>NaN</td>\n",
       "      <td>NV</td>\n",
       "      <td>Data not available</td>\n",
       "      <td>NaN</td>\n",
       "    </tr>\n",
       "    <tr>\n",
       "      <th>17</th>\n",
       "      <td>FS</td>\n",
       "      <td>Suite of Food Security Indicators</td>\n",
       "      <td>5</td>\n",
       "      <td>American Samoa</td>\n",
       "      <td>6132</td>\n",
       "      <td>Value</td>\n",
       "      <td>210011</td>\n",
       "      <td>Number of people undernourished (million) (3-y...</td>\n",
       "      <td>20142016</td>\n",
       "      <td>2014-2016</td>\n",
       "      <td>millions</td>\n",
       "      <td>NaN</td>\n",
       "      <td>NV</td>\n",
       "      <td>Data not available</td>\n",
       "      <td>NaN</td>\n",
       "    </tr>\n",
       "    <tr>\n",
       "      <th>18</th>\n",
       "      <td>FS</td>\n",
       "      <td>Suite of Food Security Indicators</td>\n",
       "      <td>5</td>\n",
       "      <td>American Samoa</td>\n",
       "      <td>6132</td>\n",
       "      <td>Value</td>\n",
       "      <td>210011</td>\n",
       "      <td>Number of people undernourished (million) (3-y...</td>\n",
       "      <td>20152017</td>\n",
       "      <td>2015-2017</td>\n",
       "      <td>millions</td>\n",
       "      <td>NaN</td>\n",
       "      <td>NV</td>\n",
       "      <td>Data not available</td>\n",
       "      <td>NaN</td>\n",
       "    </tr>\n",
       "    <tr>\n",
       "      <th>19</th>\n",
       "      <td>FS</td>\n",
       "      <td>Suite of Food Security Indicators</td>\n",
       "      <td>5</td>\n",
       "      <td>American Samoa</td>\n",
       "      <td>6132</td>\n",
       "      <td>Value</td>\n",
       "      <td>210011</td>\n",
       "      <td>Number of people undernourished (million) (3-y...</td>\n",
       "      <td>20162018</td>\n",
       "      <td>2016-2018</td>\n",
       "      <td>millions</td>\n",
       "      <td>NaN</td>\n",
       "      <td>NV</td>\n",
       "      <td>Data not available</td>\n",
       "      <td>NaN</td>\n",
       "    </tr>\n",
       "  </tbody>\n",
       "</table>\n",
       "</div>"
      ],
      "text/plain": [
       "   Domain Code                             Domain  Area Code            Area  \\\n",
       "15          FS  Suite of Food Security Indicators          5  American Samoa   \n",
       "16          FS  Suite of Food Security Indicators          5  American Samoa   \n",
       "17          FS  Suite of Food Security Indicators          5  American Samoa   \n",
       "18          FS  Suite of Food Security Indicators          5  American Samoa   \n",
       "19          FS  Suite of Food Security Indicators          5  American Samoa   \n",
       "\n",
       "    Element Code Element  Item Code  \\\n",
       "15          6132   Value     210011   \n",
       "16          6132   Value     210011   \n",
       "17          6132   Value     210011   \n",
       "18          6132   Value     210011   \n",
       "19          6132   Value     210011   \n",
       "\n",
       "                                                 Item  Year Code       Year  \\\n",
       "15  Number of people undernourished (million) (3-y...   20122014  2012-2014   \n",
       "16  Number of people undernourished (million) (3-y...   20132015  2013-2015   \n",
       "17  Number of people undernourished (million) (3-y...   20142016  2014-2016   \n",
       "18  Number of people undernourished (million) (3-y...   20152017  2015-2017   \n",
       "19  Number of people undernourished (million) (3-y...   20162018  2016-2018   \n",
       "\n",
       "        Unit Value Flag    Flag Description  Note  \n",
       "15  millions   NaN   NV  Data not available   NaN  \n",
       "16  millions   NaN   NV  Data not available   NaN  \n",
       "17  millions   NaN   NV  Data not available   NaN  \n",
       "18  millions   NaN   NV  Data not available   NaN  \n",
       "19  millions   NaN   NV  Data not available   NaN  "
      ]
     },
     "execution_count": 29,
     "metadata": {},
     "output_type": "execute_result"
    }
   ],
   "source": [
    "food_security_indicators[food_security_indicators.Value.isnull()][:5]"
   ]
  },
  {
   "cell_type": "markdown",
   "metadata": {},
   "source": [
    "All these rows with NaN values are useless. We will remove them. "
   ]
  },
  {
   "cell_type": "code",
   "execution_count": 30,
   "metadata": {},
   "outputs": [],
   "source": [
    "# Remove all NaN rows from the dataframe\n",
    "food_security_indicators = food_security_indicators[food_security_indicators.Value.isnull() == False]"
   ]
  },
  {
   "cell_type": "code",
   "execution_count": 31,
   "metadata": {},
   "outputs": [],
   "source": [
    "# Check that the Value column has no more NaN values, no output means it is correct\n",
    "assert food_security_indicators.Value.isnull().all() == False"
   ]
  },
  {
   "cell_type": "markdown",
   "metadata": {},
   "source": [
    "Now we can change the columns name and keep the columns that we need for the Analysis."
   ]
  },
  {
   "cell_type": "code",
   "execution_count": 74,
   "metadata": {},
   "outputs": [],
   "source": [
    "# Select the columns that we need\n",
    "indicators_df = food_security_indicators.loc[:, [\"Area Code\", \"Area\", \"Year\", \"Value\"]]\n",
    "# Change the columns name\n",
    "indicators_df.columns = [\"country_code\", \"country\", \"year\", \"value\"]\n",
    "# Turn the year variable into a categorical type\n",
    "category_type = CategoricalDtype(categories = [\"2012-2014\", \"2013-2015\", \"2014-2016\", \"2015-2017\", \"2016-2018\"]\n",
    "                                               ,ordered = True)\n",
    "indicators_df.year = indicators_df.year.astype(category_type)\n",
    "indicators_df.year = indicators_df.year.cat.rename_categories([2013, 2014, 2015, 2016, 2017])"
   ]
  },
  {
   "cell_type": "code",
   "execution_count": 75,
   "metadata": {},
   "outputs": [],
   "source": [
    "# Assert that the data type is correct\n",
    "assert indicators_df.year.dtype == \"category\""
   ]
  },
  {
   "cell_type": "code",
   "execution_count": 78,
   "metadata": {},
   "outputs": [],
   "source": [
    "# Replace the <0.1 value with 0.09 \n",
    "indicators_df.value = indicators_df.value.apply(lambda x : x.replace(\"<0.1\", \"0.09\"))"
   ]
  },
  {
   "cell_type": "code",
   "execution_count": 77,
   "metadata": {},
   "outputs": [],
   "source": [
    "# Check if there is no <0.1 value anymore\n",
    "assert indicators_df.loc[indicators_df.value == \"<0.1\"].value.any() == False"
   ]
  },
  {
   "cell_type": "code",
   "execution_count": 79,
   "metadata": {},
   "outputs": [],
   "source": [
    "# Change the data type of the value columns from string to float\n",
    "indicators_df.value = indicators_df.value.astype(\"float64\")"
   ]
  },
  {
   "cell_type": "code",
   "execution_count": 80,
   "metadata": {},
   "outputs": [],
   "source": [
    "# Assert that the changes occurs\n",
    "assert indicators_df.value.dtype == \"float64\""
   ]
  },
  {
   "cell_type": "code",
   "execution_count": 82,
   "metadata": {},
   "outputs": [
    {
     "name": "stdout",
     "output_type": "stream",
     "text": [
      "<class 'pandas.core.frame.DataFrame'>\n",
      "Int64Index: 605 entries, 0 to 1019\n",
      "Data columns (total 4 columns):\n",
      "country_code    605 non-null int64\n",
      "country         605 non-null object\n",
      "year            605 non-null category\n",
      "value           605 non-null float64\n",
      "dtypes: category(1), float64(1), int64(1), object(1)\n",
      "memory usage: 19.7+ KB\n"
     ]
    }
   ],
   "source": [
    "indicators_df.info()"
   ]
  },
  {
   "cell_type": "code",
   "execution_count": 83,
   "metadata": {},
   "outputs": [
    {
     "data": {
      "text/html": [
       "<div>\n",
       "<style scoped>\n",
       "    .dataframe tbody tr th:only-of-type {\n",
       "        vertical-align: middle;\n",
       "    }\n",
       "\n",
       "    .dataframe tbody tr th {\n",
       "        vertical-align: top;\n",
       "    }\n",
       "\n",
       "    .dataframe thead th {\n",
       "        text-align: right;\n",
       "    }\n",
       "</style>\n",
       "<table border=\"1\" class=\"dataframe\">\n",
       "  <thead>\n",
       "    <tr style=\"text-align: right;\">\n",
       "      <th></th>\n",
       "      <th>country_code</th>\n",
       "      <th>country</th>\n",
       "      <th>year</th>\n",
       "      <th>value</th>\n",
       "    </tr>\n",
       "  </thead>\n",
       "  <tbody>\n",
       "    <tr>\n",
       "      <th>28</th>\n",
       "      <td>7</td>\n",
       "      <td>Angola</td>\n",
       "      <td>2016</td>\n",
       "      <td>7.4</td>\n",
       "    </tr>\n",
       "    <tr>\n",
       "      <th>374</th>\n",
       "      <td>81</td>\n",
       "      <td>Ghana</td>\n",
       "      <td>2017</td>\n",
       "      <td>1.6</td>\n",
       "    </tr>\n",
       "    <tr>\n",
       "      <th>873</th>\n",
       "      <td>276</td>\n",
       "      <td>Sudan</td>\n",
       "      <td>2016</td>\n",
       "      <td>7.9</td>\n",
       "    </tr>\n",
       "  </tbody>\n",
       "</table>\n",
       "</div>"
      ],
      "text/plain": [
       "     country_code country  year  value\n",
       "28              7  Angola  2016    7.4\n",
       "374            81   Ghana  2017    1.6\n",
       "873           276   Sudan  2016    7.9"
      ]
     },
     "execution_count": 83,
     "metadata": {},
     "output_type": "execute_result"
    }
   ],
   "source": [
    "indicators_df.sample(3)"
   ]
  },
  {
   "cell_type": "markdown",
   "metadata": {},
   "source": [
    "- **Population**  \n",
    "\n",
    "There is one flag value. Let see what it is about"
   ]
  },
  {
   "cell_type": "code",
   "execution_count": 96,
   "metadata": {},
   "outputs": [
    {
     "data": {
      "text/html": [
       "<div>\n",
       "<style scoped>\n",
       "    .dataframe tbody tr th:only-of-type {\n",
       "        vertical-align: middle;\n",
       "    }\n",
       "\n",
       "    .dataframe tbody tr th {\n",
       "        vertical-align: top;\n",
       "    }\n",
       "\n",
       "    .dataframe thead th {\n",
       "        text-align: right;\n",
       "    }\n",
       "</style>\n",
       "<table border=\"1\" class=\"dataframe\">\n",
       "  <thead>\n",
       "    <tr style=\"text-align: right;\">\n",
       "      <th></th>\n",
       "      <th>Domain Code</th>\n",
       "      <th>Domain</th>\n",
       "      <th>Country Code</th>\n",
       "      <th>Country</th>\n",
       "      <th>Element Code</th>\n",
       "      <th>Element</th>\n",
       "      <th>Item Code</th>\n",
       "      <th>Item</th>\n",
       "      <th>Year Code</th>\n",
       "      <th>Year</th>\n",
       "      <th>Unit</th>\n",
       "      <th>Value</th>\n",
       "      <th>Flag</th>\n",
       "      <th>Flag Description</th>\n",
       "      <th>population</th>\n",
       "    </tr>\n",
       "  </thead>\n",
       "  <tbody>\n",
       "    <tr>\n",
       "      <th>174</th>\n",
       "      <td>FBS</td>\n",
       "      <td>Food Balance Sheets</td>\n",
       "      <td>351</td>\n",
       "      <td>China</td>\n",
       "      <td>511</td>\n",
       "      <td>Total Population - Both sexes</td>\n",
       "      <td>2501</td>\n",
       "      <td>Population</td>\n",
       "      <td>2013</td>\n",
       "      <td>2013</td>\n",
       "      <td>1000 persons</td>\n",
       "      <td>1416667</td>\n",
       "      <td>A</td>\n",
       "      <td>Aggregate, may include official, semi-official...</td>\n",
       "      <td>1416667000</td>\n",
       "    </tr>\n",
       "  </tbody>\n",
       "</table>\n",
       "</div>"
      ],
      "text/plain": [
       "    Domain Code               Domain  Country Code Country  Element Code  \\\n",
       "174         FBS  Food Balance Sheets           351   China           511   \n",
       "\n",
       "                           Element  Item Code        Item  Year Code  Year  \\\n",
       "174  Total Population - Both sexes       2501  Population       2013  2013   \n",
       "\n",
       "             Unit    Value Flag  \\\n",
       "174  1000 persons  1416667    A   \n",
       "\n",
       "                                      Flag Description  population  \n",
       "174  Aggregate, may include official, semi-official...  1416667000  "
      ]
     },
     "execution_count": 96,
     "metadata": {},
     "output_type": "execute_result"
    }
   ],
   "source": [
    "population[population.Flag.isnull() == False]"
   ]
  },
  {
   "cell_type": "markdown",
   "metadata": {},
   "source": [
    "We see here that The \"China\" entry as country is an aggregate value. Let's check if there are another entry with China."
   ]
  },
  {
   "cell_type": "code",
   "execution_count": 101,
   "metadata": {},
   "outputs": [
    {
     "data": {
      "text/html": [
       "<div>\n",
       "<style scoped>\n",
       "    .dataframe tbody tr th:only-of-type {\n",
       "        vertical-align: middle;\n",
       "    }\n",
       "\n",
       "    .dataframe tbody tr th {\n",
       "        vertical-align: top;\n",
       "    }\n",
       "\n",
       "    .dataframe thead th {\n",
       "        text-align: right;\n",
       "    }\n",
       "</style>\n",
       "<table border=\"1\" class=\"dataframe\">\n",
       "  <thead>\n",
       "    <tr style=\"text-align: right;\">\n",
       "      <th></th>\n",
       "      <th>Country Code</th>\n",
       "      <th>Country</th>\n",
       "      <th>population</th>\n",
       "    </tr>\n",
       "  </thead>\n",
       "  <tbody>\n",
       "    <tr>\n",
       "      <th>32</th>\n",
       "      <td>96</td>\n",
       "      <td>China, Hong Kong SAR</td>\n",
       "      <td>7204000</td>\n",
       "    </tr>\n",
       "    <tr>\n",
       "      <th>33</th>\n",
       "      <td>128</td>\n",
       "      <td>China, Macao SAR</td>\n",
       "      <td>566000</td>\n",
       "    </tr>\n",
       "    <tr>\n",
       "      <th>34</th>\n",
       "      <td>41</td>\n",
       "      <td>China, mainland</td>\n",
       "      <td>1385567000</td>\n",
       "    </tr>\n",
       "    <tr>\n",
       "      <th>35</th>\n",
       "      <td>214</td>\n",
       "      <td>China, Taiwan Province of</td>\n",
       "      <td>23330000</td>\n",
       "    </tr>\n",
       "    <tr>\n",
       "      <th>174</th>\n",
       "      <td>351</td>\n",
       "      <td>China</td>\n",
       "      <td>1416667000</td>\n",
       "    </tr>\n",
       "  </tbody>\n",
       "</table>\n",
       "</div>"
      ],
      "text/plain": [
       "     Country Code                    Country  population\n",
       "32             96       China, Hong Kong SAR     7204000\n",
       "33            128           China, Macao SAR      566000\n",
       "34             41            China, mainland  1385567000\n",
       "35            214  China, Taiwan Province of    23330000\n",
       "174           351                      China  1416667000"
      ]
     },
     "execution_count": 101,
     "metadata": {},
     "output_type": "execute_result"
    }
   ],
   "source": [
    "# Find all the entries with china\n",
    "population_df[population_df.Country.str.contains(\"China\")]"
   ]
  },
  {
   "cell_type": "code",
   "execution_count": 103,
   "metadata": {},
   "outputs": [
    {
     "data": {
      "text/plain": [
       "1416667000"
      ]
     },
     "execution_count": 103,
     "metadata": {},
     "output_type": "execute_result"
    }
   ],
   "source": [
    "# Sum the four first values\n",
    "population_df.population[32:36].sum()"
   ]
  },
  {
   "cell_type": "markdown",
   "metadata": {},
   "source": [
    "We can see that China, Hong Kong SAR, China, Macao SAR, China, mainland and China, Taiwan Province of are actually four parts of the China country. We can confirm this because the total population of the four parts are equal to the population of the China country.\n",
    "We will remove the China population value from the dataframe during the calculation of the total number of humans on the planet."
   ]
  },
  {
   "cell_type": "code",
   "execution_count": 107,
   "metadata": {},
   "outputs": [],
   "source": [
    "# Remove China from the dataframe\n",
    "population_df = population_df[population_df.Country != \"China\"]"
   ]
  },
  {
   "cell_type": "code",
   "execution_count": 109,
   "metadata": {},
   "outputs": [
    {
     "name": "stdout",
     "output_type": "stream",
     "text": [
      "The total number of humans on the planet in 2013 is : 6,997,326,000\n"
     ]
    }
   ],
   "source": [
    "# Compute the wold population\n",
    "world_population = population_df.population.sum()\n",
    "print(\"The total number of humans on the planet in 2013 is : {:,}\".format(world_population))"
   ]
  }
 ],
 "metadata": {
  "kernelspec": {
   "display_name": "communicateData",
   "language": "python",
   "name": "communicatedata"
  },
  "language_info": {
   "codemirror_mode": {
    "name": "ipython",
    "version": 3
   },
   "file_extension": ".py",
   "mimetype": "text/x-python",
   "name": "python",
   "nbconvert_exporter": "python",
   "pygments_lexer": "ipython3",
   "version": "3.7.4"
  }
 },
 "nbformat": 4,
 "nbformat_minor": 2
}
