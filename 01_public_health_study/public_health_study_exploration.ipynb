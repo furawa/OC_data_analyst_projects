{
 "cells": [
  {
   "cell_type": "markdown",
   "metadata": {},
   "source": [
    "# GLOBAL UNDERNUTRITION STUDY - EXPLORATION  \n",
    "\n",
    "*BY FURAWA*  \n",
    "\n",
    "**Table of Contents**  \n",
    "\n",
    "1. [Data collection](#data_collection)  \n",
    "2. [Data discovery](#data_discovery)  \n",
    "3. [Data cleaning](#data_cleaning)  \n",
    "4. [Computing new variables to lead the analysis](#new_variables)  \n",
    "5. [Identify major trends](#major_trends)  "
   ]
  },
  {
   "cell_type": "code",
   "execution_count": 1,
   "metadata": {},
   "outputs": [],
   "source": [
    "# Import all the needed libraries for the project\n",
    "import numpy as np\n",
    "import pandas as pd\n",
    "import matplotlib.pyplot as plt\n",
    "import seaborn as sns\n",
    "from glob import glob\n",
    "import re\n",
    "%matplotlib inline\n",
    "pd.set_option('max_rows', 20)"
   ]
  },
  {
   "cell_type": "markdown",
   "metadata": {},
   "source": [
    "<a id='data_collection'></a>\n",
    "## 1. Data collection  \n",
    "All the data has been downloaded from the [FAO](http://www.fao.org/faostat/en/#data) website.  \n",
    "Let us check the files."
   ]
  },
  {
   "cell_type": "code",
   "execution_count": 2,
   "metadata": {},
   "outputs": [
    {
     "data": {
      "text/plain": [
       "['files/food_security_indicators.csv',\n",
       " 'files/commodity_balance_crops.csv',\n",
       " 'files/food_supply_crops.csv',\n",
       " 'files/commodity_balance_livestock.csv',\n",
       " 'files/food_balance_sheet.csv',\n",
       " 'files/food_supply_livestock.csv']"
      ]
     },
     "execution_count": 2,
     "metadata": {},
     "output_type": "execute_result"
    }
   ],
   "source": [
    "file_names = glob('files/*.csv')\n",
    "file_names"
   ]
  },
  {
   "cell_type": "code",
   "execution_count": 8,
   "metadata": {},
   "outputs": [],
   "source": [
    "for file in file_names:\n",
    "    exec(re.split('\\. |\\W', file)[1] + \"=  pd.read_csv(file)\")"
   ]
  },
  {
   "cell_type": "code",
   "execution_count": 18,
   "metadata": {},
   "outputs": [
    {
     "name": "stdout",
     "output_type": "stream",
     "text": [
      "<class 'pandas.core.frame.DataFrame'>\n",
      "RangeIndex: 3173 entries, 0 to 3172\n",
      "Data columns (total 15 columns):\n",
      "Domain Code         3173 non-null object\n",
      "Domain              3173 non-null object\n",
      "Area Code           3173 non-null int64\n",
      "Area                3173 non-null object\n",
      "Element Code        3173 non-null int64\n",
      "Element             3173 non-null object\n",
      "Item Code           3173 non-null int64\n",
      "Item                3173 non-null object\n",
      "Year Code           3173 non-null int64\n",
      "Year                3173 non-null object\n",
      "Unit                3173 non-null object\n",
      "Value               3052 non-null object\n",
      "Flag                3173 non-null object\n",
      "Flag Description    3173 non-null object\n",
      "Note                0 non-null float64\n",
      "dtypes: float64(1), int64(4), object(10)\n",
      "memory usage: 372.0+ KB\n"
     ]
    }
   ],
   "source": [
    "food_security_indicators.info()"
   ]
  },
  {
   "cell_type": "code",
   "execution_count": 19,
   "metadata": {},
   "outputs": [
    {
     "name": "stdout",
     "output_type": "stream",
     "text": [
      "<class 'pandas.core.frame.DataFrame'>\n",
      "RangeIndex: 60628 entries, 0 to 60627\n",
      "Data columns (total 14 columns):\n",
      "Domain Code         60628 non-null object\n",
      "Domain              60628 non-null object\n",
      "Country Code        60628 non-null int64\n",
      "Country             60628 non-null object\n",
      "Element Code        60628 non-null int64\n",
      "Element             60628 non-null object\n",
      "Item Code           60628 non-null int64\n",
      "Item                60628 non-null object\n",
      "Year Code           60628 non-null int64\n",
      "Year                60628 non-null int64\n",
      "Unit                60628 non-null object\n",
      "Value               60628 non-null float64\n",
      "Flag                60628 non-null object\n",
      "Flag Description    60628 non-null object\n",
      "dtypes: float64(1), int64(5), object(8)\n",
      "memory usage: 6.5+ MB\n"
     ]
    }
   ],
   "source": [
    "food_supply_crops.info()"
   ]
  },
  {
   "cell_type": "code",
   "execution_count": 20,
   "metadata": {},
   "outputs": [
    {
     "name": "stdout",
     "output_type": "stream",
     "text": [
      "<class 'pandas.core.frame.DataFrame'>\n",
      "RangeIndex: 25569 entries, 0 to 25568\n",
      "Data columns (total 14 columns):\n",
      "Domain Code         25569 non-null object\n",
      "Domain              25569 non-null object\n",
      "Country Code        25569 non-null int64\n",
      "Country             25569 non-null object\n",
      "Element Code        25569 non-null int64\n",
      "Element             25569 non-null object\n",
      "Item Code           25569 non-null int64\n",
      "Item                25569 non-null object\n",
      "Year Code           25569 non-null int64\n",
      "Year                25569 non-null int64\n",
      "Unit                25569 non-null object\n",
      "Value               25569 non-null float64\n",
      "Flag                25569 non-null object\n",
      "Flag Description    25569 non-null object\n",
      "dtypes: float64(1), int64(5), object(8)\n",
      "memory usage: 2.7+ MB\n"
     ]
    }
   ],
   "source": [
    "food_supply_livestock.info()"
   ]
  },
  {
   "cell_type": "code",
   "execution_count": 22,
   "metadata": {},
   "outputs": [
    {
     "name": "stdout",
     "output_type": "stream",
     "text": [
      "<class 'pandas.core.frame.DataFrame'>\n",
      "RangeIndex: 142212 entries, 0 to 142211\n",
      "Data columns (total 14 columns):\n",
      "Domain Code         142212 non-null object\n",
      "Domain              142212 non-null object\n",
      "Country Code        142212 non-null int64\n",
      "Country             142212 non-null object\n",
      "Element Code        142212 non-null int64\n",
      "Element             142212 non-null object\n",
      "Item Code           142212 non-null int64\n",
      "Item                142212 non-null object\n",
      "Year Code           142212 non-null int64\n",
      "Year                142212 non-null int64\n",
      "Unit                142212 non-null object\n",
      "Value               142212 non-null float64\n",
      "Flag                142038 non-null object\n",
      "Flag Description    142212 non-null object\n",
      "dtypes: float64(1), int64(5), object(8)\n",
      "memory usage: 15.2+ MB\n"
     ]
    }
   ],
   "source": [
    "food_balance_sheet.info()"
   ]
  },
  {
   "cell_type": "code",
   "execution_count": 66,
   "metadata": {},
   "outputs": [
    {
     "data": {
      "text/plain": [
       "array(['Production', 'Import Quantity', 'Export Quantity',\n",
       "       'Domestic supply quantity', 'Losses',\n",
       "       'Food supply quantity (tonnes)', 'Stock Variation', 'Feed', 'Seed',\n",
       "       'Other uses', 'Processing'], dtype=object)"
      ]
     },
     "execution_count": 66,
     "metadata": {},
     "output_type": "execute_result"
    }
   ],
   "source": [
    "commodity_balance_crops.Element.unique()"
   ]
  },
  {
   "cell_type": "code",
   "execution_count": 81,
   "metadata": {},
   "outputs": [
    {
     "data": {
      "text/plain": [
       "2        140087\n",
       "6         35881\n",
       "10        23999\n",
       "13        18482\n",
       "17        46825\n",
       "          ...  \n",
       "30786     23449\n",
       "30794     37446\n",
       "30800     70311\n",
       "30806     15442\n",
       "30812      2990\n",
       "Name: Value, Length: 5287, dtype: int64"
      ]
     },
     "execution_count": 81,
     "metadata": {},
     "output_type": "execute_result"
    }
   ],
   "source": [
    "commodity_balance_livestock[commodity_balance_livestock.Element == \"Domestic supply quantity\"].Value"
   ]
  },
  {
   "cell_type": "code",
   "execution_count": 94,
   "metadata": {},
   "outputs": [
    {
     "name": "stdout",
     "output_type": "stream",
     "text": [
      "[9957]\n",
      "[6087]\n"
     ]
    }
   ],
   "source": [
    "print(commodity_balance_livestock[commodity_balance_livestock.Element == \"Export Quantity\"][:1].Value.values) +|\n",
    "print(commodity_balance_livestock[commodity_balance_livestock.Element == \"Import Quantity\"][:1].Value.values)"
   ]
  }
 ],
 "metadata": {
  "kernelspec": {
   "display_name": "communicateData",
   "language": "python",
   "name": "communicatedata"
  },
  "language_info": {
   "codemirror_mode": {
    "name": "ipython",
    "version": 3
   },
   "file_extension": ".py",
   "mimetype": "text/x-python",
   "name": "python",
   "nbconvert_exporter": "python",
   "pygments_lexer": "ipython3",
   "version": "3.7.4"
  }
 },
 "nbformat": 4,
 "nbformat_minor": 2
}
