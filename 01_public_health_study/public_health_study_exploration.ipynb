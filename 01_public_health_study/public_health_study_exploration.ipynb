{
 "cells": [
  {
   "cell_type": "markdown",
   "metadata": {},
   "source": [
    "# GLOBAL UNDERNUTRITION STUDY - EXPLORATION  \n",
    "\n",
    "*BY FURAWA*  \n",
    "\n",
    "**Table of Contents**  \n",
    "\n",
    "1. [Data collection](#data_collection)  \n",
    "2. [Data discovery](#data_discovery)  \n",
    "3. [Data cleaning](#data_cleaning)  \n",
    "4. [Computing new variables to lead the analysis](#new_variables)  \n",
    "5. [Identify major trends](#major_trends)  "
   ]
  },
  {
   "cell_type": "code",
   "execution_count": 9,
   "metadata": {},
   "outputs": [],
   "source": [
    "# Import all the needed libraries for the project\n",
    "import numpy as np\n",
    "import pandas as pd\n",
    "import matplotlib.pyplot as plt\n",
    "import seaborn as sns\n",
    "from glob import glob\n",
    "import re\n",
    "%matplotlib inline\n",
    "pd.set_option('max_rows', 20)"
   ]
  },
  {
   "cell_type": "markdown",
   "metadata": {},
   "source": [
    "<a id='data_collection'></a>\n",
    "## 1. Data collection  \n",
    "All the data has been downloaded from the [FAO](http://www.fao.org/faostat/en/#data) website.  \n",
    "Let us check the files."
   ]
  },
  {
   "cell_type": "code",
   "execution_count": 10,
   "metadata": {},
   "outputs": [
    {
     "data": {
      "text/plain": [
       "['files/food_balance_cereals.csv',\n",
       " 'files/food_security_indicators.csv',\n",
       " 'files/food_balance_vegetal.csv',\n",
       " 'files/food_balance_animal.csv',\n",
       " 'files/population.csv']"
      ]
     },
     "execution_count": 10,
     "metadata": {},
     "output_type": "execute_result"
    }
   ],
   "source": [
    "# Store the file names in the file_names variable\n",
    "file_names = glob('files/*.csv')\n",
    "# Check the file_names list\n",
    "file_names"
   ]
  },
  {
   "cell_type": "code",
   "execution_count": 11,
   "metadata": {},
   "outputs": [],
   "source": [
    "# Loop into the file_names list\n",
    "for file in file_names:\n",
    "    # Read each file in the file_names list and assign it to a variable retrieved from the file name\n",
    "     exec(re.split('\\. |\\W', file)[1] + \"=  pd.read_csv(file)\")"
   ]
  },
  {
   "cell_type": "code",
   "execution_count": 12,
   "metadata": {},
   "outputs": [
    {
     "name": "stdout",
     "output_type": "stream",
     "text": [
      "<class 'pandas.core.frame.DataFrame'>\n",
      "RangeIndex: 1020 entries, 0 to 1019\n",
      "Data columns (total 15 columns):\n",
      "Domain Code         1020 non-null object\n",
      "Domain              1020 non-null object\n",
      "Area Code           1020 non-null int64\n",
      "Area                1020 non-null object\n",
      "Element Code        1020 non-null int64\n",
      "Element             1020 non-null object\n",
      "Item Code           1020 non-null int64\n",
      "Item                1020 non-null object\n",
      "Year Code           1020 non-null int64\n",
      "Year                1020 non-null object\n",
      "Unit                1020 non-null object\n",
      "Value               605 non-null object\n",
      "Flag                1020 non-null object\n",
      "Flag Description    1020 non-null object\n",
      "Note                0 non-null float64\n",
      "dtypes: float64(1), int64(4), object(10)\n",
      "memory usage: 119.7+ KB\n"
     ]
    }
   ],
   "source": [
    "# Check the dataframe info\n",
    "food_security_indicators.info()"
   ]
  },
  {
   "cell_type": "code",
   "execution_count": 13,
   "metadata": {},
   "outputs": [
    {
     "data": {
      "text/plain": [
       "array(['Production', 'Import Quantity', 'Stock Variation',\n",
       "       'Domestic supply quantity', 'Seed', 'Losses', 'Food',\n",
       "       'Food supply quantity (kg/capita/yr)',\n",
       "       'Food supply (kcal/capita/day)',\n",
       "       'Protein supply quantity (g/capita/day)',\n",
       "       'Fat supply quantity (g/capita/day)', 'Feed', 'Export Quantity',\n",
       "       'Processing', 'Other uses'], dtype=object)"
      ]
     },
     "execution_count": 13,
     "metadata": {},
     "output_type": "execute_result"
    }
   ],
   "source": [
    "# Check the dataframe info\n",
    "food_balance_vegetal.Element.unique()"
   ]
  },
  {
   "cell_type": "code",
   "execution_count": 14,
   "metadata": {},
   "outputs": [
    {
     "data": {
      "text/plain": [
       "array(['Production', 'Import Quantity', 'Domestic supply quantity',\n",
       "       'Food', 'Food supply quantity (kg/capita/yr)',\n",
       "       'Food supply (kcal/capita/day)',\n",
       "       'Protein supply quantity (g/capita/day)',\n",
       "       'Fat supply quantity (g/capita/day)', 'Seed', 'Losses',\n",
       "       'Export Quantity', 'Feed', 'Other uses', 'Stock Variation',\n",
       "       'Processing'], dtype=object)"
      ]
     },
     "execution_count": 14,
     "metadata": {},
     "output_type": "execute_result"
    }
   ],
   "source": [
    "# Check the dataframe info\n",
    "food_balance_animal.Element.unique()"
   ]
  },
  {
   "cell_type": "code",
   "execution_count": 23,
   "metadata": {},
   "outputs": [
    {
     "name": "stdout",
     "output_type": "stream",
     "text": [
      "<class 'pandas.core.frame.DataFrame'>\n",
      "RangeIndex: 16192 entries, 0 to 16191\n",
      "Data columns (total 14 columns):\n",
      "Domain Code         16192 non-null object\n",
      "Domain              16192 non-null object\n",
      "Country Code        16192 non-null int64\n",
      "Country             16192 non-null object\n",
      "Element Code        16192 non-null int64\n",
      "Element             16192 non-null object\n",
      "Item Code           16192 non-null int64\n",
      "Item                16192 non-null object\n",
      "Year Code           16192 non-null int64\n",
      "Year                16192 non-null int64\n",
      "Unit                16192 non-null object\n",
      "Value               16192 non-null float64\n",
      "Flag                16192 non-null object\n",
      "Flag Description    16192 non-null object\n",
      "dtypes: float64(1), int64(5), object(8)\n",
      "memory usage: 1.7+ MB\n"
     ]
    }
   ],
   "source": [
    "# Check the dataframe info\n",
    "food_balance_cereals.info()"
   ]
  },
  {
   "cell_type": "code",
   "execution_count": null,
   "metadata": {},
   "outputs": [],
   "source": [
    "population.head()"
   ]
  },
  {
   "cell_type": "markdown",
   "metadata": {},
   "source": [
    "Except from the food_security_indicators dataframe all the other dataframes have the same 14 columns.  \n",
    "We can remove the Note variable of the food_security_indicators as it has just NaN values."
   ]
  },
  {
   "cell_type": "markdown",
   "metadata": {},
   "source": [
    "<a id='data_discovery'></a>\n",
    "## 2. Data Discovery"
   ]
  },
  {
   "cell_type": "code",
   "execution_count": null,
   "metadata": {},
   "outputs": [],
   "source": [
    "# Check the first few rows of each dataframe\n",
    "food_security_indicators.head(2)"
   ]
  },
  {
   "cell_type": "code",
   "execution_count": null,
   "metadata": {},
   "outputs": [],
   "source": [
    "# Check food balance vegetal\n",
    "food_balance_vegetal.head(2)  "
   ]
  },
  {
   "cell_type": "code",
   "execution_count": null,
   "metadata": {},
   "outputs": [],
   "source": [
    "# Check food balance animal\n",
    "food_balance_animal.head(2)  "
   ]
  },
  {
   "cell_type": "code",
   "execution_count": null,
   "metadata": {},
   "outputs": [],
   "source": [
    "# Check commodity balance livestock\n",
    "food_balance_cereals"
   ]
  },
  {
   "cell_type": "code",
   "execution_count": null,
   "metadata": {},
   "outputs": [],
   "source": [
    "# Check population \n",
    "population"
   ]
  },
  {
   "cell_type": "markdown",
   "metadata": {},
   "source": [
    "Let us check the primary key of each table and test them.  \n",
    "We will create a function to find the primary key.  "
   ]
  },
  {
   "cell_type": "code",
   "execution_count": null,
   "metadata": {},
   "outputs": [],
   "source": [
    "# Function to find the potential primary keys\n",
    "def check_potential_primary_key(df) -> str:\n",
    "    # Loop in the column list of the specific dataframe\n",
    "    for column_pk in df.keys():\n",
    "        # Remove the duplicated values from each column and check if the size is the same as the df\n",
    "        if len(df) != len(df[column_pk].drop_duplicates()):\n",
    "            # No output if the column is not a primary key\n",
    "           None\n",
    "        else:\n",
    "            # Print all the potential primary keys\n",
    "            print(\"{} could be a primary key!\".format(column_pk))"
   ]
  },
  {
   "cell_type": "markdown",
   "metadata": {},
   "source": [
    "Now we can use the function to find the potential primary keys of each dataframe. "
   ]
  },
  {
   "cell_type": "code",
   "execution_count": null,
   "metadata": {},
   "outputs": [],
   "source": [
    "# Check the primary key of population dataframe\n",
    "check_potential_primary_key(population)"
   ]
  },
  {
   "cell_type": "markdown",
   "metadata": {},
   "source": [
    "We have 3 potential primary keys for the population dataframe, but the best choice here is the Country Code variable. It won't be a good idea to have the population or country name as primary key as they will be difficult to query."
   ]
  },
  {
   "cell_type": "code",
   "execution_count": null,
   "metadata": {},
   "outputs": [],
   "source": [
    "# Check the primary key of food balance vegetal\n",
    "check_potential_primary_key(food_balance_vegetal)"
   ]
  },
  {
   "cell_type": "markdown",
   "metadata": {},
   "source": [
    "We have no output, which means there are no potential primary key in this dataframe."
   ]
  },
  {
   "cell_type": "code",
   "execution_count": null,
   "metadata": {},
   "outputs": [],
   "source": [
    "# Check the primary key of food balance livestock\n",
    "check_potential_primary_key(food_balance_animal)"
   ]
  },
  {
   "cell_type": "markdown",
   "metadata": {},
   "source": [
    "Same here, there are no primary keys in the food balance livestock"
   ]
  },
  {
   "cell_type": "code",
   "execution_count": null,
   "metadata": {},
   "outputs": [],
   "source": [
    "# Check the primary key of food balance cereals\n",
    "check_potential_primary_key(food_balance_cereals)"
   ]
  },
  {
   "cell_type": "code",
   "execution_count": null,
   "metadata": {},
   "outputs": [],
   "source": [
    "# Check the primary key of food security indicators\n",
    "check_potential_primary_key(food_security_indicators)"
   ]
  },
  {
   "cell_type": "markdown",
   "metadata": {},
   "source": [
    "Even for the food balance cereals and food security indicators dataframes we have no potential primary keys"
   ]
  },
  {
   "cell_type": "markdown",
   "metadata": {},
   "source": [
    "Let us create column with the total population and remove some useless columns from the population dataframe."
   ]
  },
  {
   "cell_type": "code",
   "execution_count": null,
   "metadata": {},
   "outputs": [],
   "source": [
    "# Create the population column, we retrieve the 1000 in the Unit column and multiply it by the Value column\n",
    "population[\"population\"] = int(population.Unit.str.split(\" \")[0][0]) * population.Value\n",
    "# Remove some useless columns\n",
    "population_df = population.drop(population.columns.difference([\"Country Code\", \"Country\", \"population\"]),\n",
    "                                axis =1)\n",
    "# Check the dataframe\n",
    "population_df.head()"
   ]
  },
  {
   "cell_type": "markdown",
   "metadata": {},
   "source": [
    "Now we can calculate the total numbers of human involved."
   ]
  },
  {
   "cell_type": "code",
   "execution_count": null,
   "metadata": {},
   "outputs": [],
   "source": [
    "# Calcalute the total number of humans \n",
    "total_population = population_df.population.sum()\n",
    "print(\"The total number of humans on the planet is : {:,}\".format(total_population))"
   ]
  },
  {
   "cell_type": "markdown",
   "metadata": {},
   "source": [
    "This result cannot be correct, mostly if we talk about the 2013 world population. actually in 2019 the world population is around 7.7 billion. There must be a mistake, we will go deep to check the issue.  "
   ]
  },
  {
   "cell_type": "markdown",
   "metadata": {},
   "source": [
    "<a id='data_cleaning'></a>\n",
    "## 3. Data Cleaning  \n",
    "\n",
    "The dataframes are downloaded and loaded but dirty. There are useless rows and columns, anomalies in the population data must be corrected, the columns names must be changed. Let's do some cleaning.  \n",
    "We start putting all the food balance dataframes in one unique dataframe.  "
   ]
  },
  {
   "cell_type": "code",
   "execution_count": null,
   "metadata": {},
   "outputs": [],
   "source": [
    "# Create the origin variable in each balance food dataframe to store the food origin\n",
    "food_balance_animal[\"origin\"] = \"animal\"\n",
    "food_balance_cereals[\"origin\"] = \"cereal\"\n",
    "food_balance_vegetal[\"origin\"] = \"vegetal\""
   ]
  },
  {
   "cell_type": "code",
   "execution_count": null,
   "metadata": {},
   "outputs": [],
   "source": [
    "# Append the 3 dataframes in one unique dataframe\n",
    "food_balance_df = food_balance_animal.append([food_balance_vegetal, food_balance_cereals])\n",
    "# Check the first rows\n",
    "food_balance_df.head(2)"
   ]
  },
  {
   "cell_type": "code",
   "execution_count": null,
   "metadata": {},
   "outputs": [],
   "source": [
    "# Check the last rows\n",
    "food_balance_df.tail(2)"
   ]
  },
  {
   "cell_type": "code",
   "execution_count": null,
   "metadata": {},
   "outputs": [],
   "source": [
    "# Delete the 3 useless balance food dataframe\n",
    "del food_balance_animal, food_balance_cereals, food_balance_vegetal"
   ]
  },
  {
   "cell_type": "code",
   "execution_count": null,
   "metadata": {},
   "outputs": [],
   "source": [
    "# Transform the dataframe from long to wide with pivot_table\n",
    "food_balance_wide = food_balance_df.pivot_table(\n",
    "    # Put as index the Columns that we want to keep in the dataframe\n",
    "    index = [\"Country Code\", \"Item Code\", \"Country\", \"Item\", \"Year\", \"origin\"],\n",
    "    # Select the columns that we want to transform from long to wide and the values that we sum \n",
    "    columns = [\"Element\"], values = [\"Value\"], aggfunc = sum)\n",
    "food_balance_wide.head(1)"
   ]
  },
  {
   "cell_type": "code",
   "execution_count": null,
   "metadata": {},
   "outputs": [],
   "source": [
    "# Drop the level of the columns\n",
    "food_balance_wide.columns = food_balance_wide.columns.droplevel(0)"
   ]
  },
  {
   "cell_type": "code",
   "execution_count": null,
   "metadata": {},
   "outputs": [],
   "source": [
    "food_balance_wide.head(1)"
   ]
  },
  {
   "cell_type": "code",
   "execution_count": null,
   "metadata": {},
   "outputs": [],
   "source": [
    "# Reset the indexes and rename the Element as None to remove it as column name of the index\n",
    "food_balance = food_balance_wide.reset_index().rename_axis(None, axis = 1)\n",
    "food_balance.head(1)"
   ]
  },
  {
   "cell_type": "code",
   "execution_count": null,
   "metadata": {},
   "outputs": [],
   "source": [
    "# Check the bottom of the dataframe\n",
    "food_balance.tail(1)"
   ]
  },
  {
   "cell_type": "markdown",
   "metadata": {},
   "source": [
    "The \"World\" value as country is not necessary for the analysis. We will remove it."
   ]
  },
  {
   "cell_type": "code",
   "execution_count": null,
   "metadata": {},
   "outputs": [],
   "source": [
    "# Remove the rows with World as country\n",
    "food_balance = food_balance.drop(food_balance[food_balance.Country == \"World\"].index)"
   ]
  },
  {
   "cell_type": "code",
   "execution_count": null,
   "metadata": {},
   "outputs": [],
   "source": [
    "# Rename the columns\n",
    "food_balance.columns = [\"country_code\", \"item_code\", \"country\", \"item\", \"year\", \"origin\", \n",
    "                       \"domestic_supply_quantity\", \"export_quantity\", \"fat_supply_quantity_gcapitaday\",\n",
    "                       \"feed\", \"food\", \"food_supply_kcalcapitaday\", \"food_supply_quantity_kgcapita_yr\", \n",
    "                       \"import_quantity\", \"losses\", \"other_uses\", \"processing\", \"production\", \n",
    "                       \"protein_supply_quantity_gcapitaday\", \"seed\", \"stock_variation\"]"
   ]
  },
  {
   "cell_type": "code",
   "execution_count": null,
   "metadata": {},
   "outputs": [],
   "source": [
    "# Check the info of the dataframe\n",
    "food_balance"
   ]
  },
  {
   "cell_type": "code",
   "execution_count": null,
   "metadata": {},
   "outputs": [],
   "source": [
    "# Rename the column of population dataframe\n",
    "population_df.columns = [\"country_code\", \"country\", \"population\"]\n",
    "population_df.columns"
   ]
  },
  {
   "cell_type": "code",
   "execution_count": null,
   "metadata": {
    "scrolled": true
   },
   "outputs": [],
   "source": [
    "# Check some statistic of the dataframe\n",
    "population_df.describe()"
   ]
  },
  {
   "cell_type": "code",
   "execution_count": null,
   "metadata": {},
   "outputs": [],
   "source": [
    "# Check the country with population higher than 1 billion\n",
    "population_df[population_df.population > 1000000000]"
   ]
  },
  {
   "cell_type": "markdown",
   "metadata": {},
   "source": [
    "It seems that there are many entries for china. Let us find them all."
   ]
  },
  {
   "cell_type": "code",
   "execution_count": null,
   "metadata": {},
   "outputs": [],
   "source": [
    "# Find all the country begining with China\n",
    "population_df[population_df.country.str.contains(\"China\")]"
   ]
  },
  {
   "cell_type": "code",
   "execution_count": null,
   "metadata": {},
   "outputs": [],
   "source": [
    "# Sum the four first values\n",
    "population_df.population[32:36].sum()"
   ]
  },
  {
   "cell_type": "markdown",
   "metadata": {},
   "source": [
    "We can see that *China, Hong Kong SAR*, *China, Macao SAR*, *China, mainland* and *China, Taiwan Province of* are actually four parts of the China country. We can confirm that because the total population of the four parts are equal to the population of the China country.  \n",
    "We will remove the China population value from the dataframe during the calculation of the total number of humans on the planet."
   ]
  },
  {
   "cell_type": "code",
   "execution_count": null,
   "metadata": {},
   "outputs": [],
   "source": [
    "# Calcute the world population removing the china country population\n",
    "world_population = population_df[population_df.index != 174].population.sum()\n",
    "print(\"The total number of humans on the planet is : {:,}\".format(world_population))"
   ]
  },
  {
   "cell_type": "markdown",
   "metadata": {},
   "source": [
    "This value has more sense and is more consistent with the reality."
   ]
  },
  {
   "cell_type": "code",
   "execution_count": null,
   "metadata": {},
   "outputs": [],
   "source": [
    "# Remove useless columns \n",
    "food_security_indicators.drop(food_security_indicators.iloc[:, [0,1,4,5,6,8,10,12,13,14]],\n",
    "                              axis =1, inplace = True)\n",
    "food_security_indicators.head(2)"
   ]
  },
  {
   "cell_type": "code",
   "execution_count": null,
   "metadata": {},
   "outputs": [],
   "source": [
    "# Rename the columns \n",
    "food_security_indicators.columns = [\"country_code\", \"country\", \"item\", \"year\", \"value\"]"
   ]
  },
  {
   "cell_type": "code",
   "execution_count": null,
   "metadata": {},
   "outputs": [],
   "source": [
    "# Check for the info\n",
    "food_security_indicators.info()"
   ]
  },
  {
   "cell_type": "markdown",
   "metadata": {},
   "source": [
    "Actually value is an object, it must be a float. Let's change it.  \n",
    "Before that we will count and remove all the null values in the value variable.  "
   ]
  },
  {
   "cell_type": "code",
   "execution_count": null,
   "metadata": {},
   "outputs": [],
   "source": [
    "# Count the number of null values in the dataframe\n",
    "food_security_indicators.isnull().sum()"
   ]
  },
  {
   "cell_type": "code",
   "execution_count": null,
   "metadata": {},
   "outputs": [],
   "source": [
    "# Check the rows with null values  \n",
    "food_security_indicators[food_security_indicators.value.isnull()]"
   ]
  },
  {
   "cell_type": "code",
   "execution_count": null,
   "metadata": {},
   "outputs": [],
   "source": [
    "# Remove all the rows with NaN values\n",
    "food_security_indicators.drop(food_security_indicators[food_security_indicators.value.isnull()].index, \n",
    "                             inplace = True)"
   ]
  },
  {
   "cell_type": "code",
   "execution_count": null,
   "metadata": {},
   "outputs": [],
   "source": [
    "# Assert that there are no null value anymore, no output means it is correct\n",
    "assert food_security_indicators.value.isnull().any() == False"
   ]
  },
  {
   "cell_type": "code",
   "execution_count": null,
   "metadata": {},
   "outputs": [],
   "source": [
    "# Check the unique values \n",
    "food_security_indicators.value.unique()"
   ]
  },
  {
   "cell_type": "markdown",
   "metadata": {},
   "source": [
    "The value '<0.1' must be changed. We will change it to the value '0.09' and then change the variable type."
   ]
  },
  {
   "cell_type": "code",
   "execution_count": null,
   "metadata": {},
   "outputs": [],
   "source": [
    "# Change the <0.1 value to 0.09\n",
    "food_security_indicators[food_security_indicators.value == \"<0.1\"] = 0.09"
   ]
  },
  {
   "cell_type": "code",
   "execution_count": null,
   "metadata": {},
   "outputs": [],
   "source": [
    "# Assert there are not <0.1 values anymore \n",
    "assert food_security_indicators[food_security_indicators.value == \"<0.1\"].value.any() == False"
   ]
  },
  {
   "cell_type": "code",
   "execution_count": null,
   "metadata": {},
   "outputs": [],
   "source": [
    "# Turn value variable from string to float \n",
    "food_security_indicators.value = food_security_indicators.value.astype(\"float64\")"
   ]
  },
  {
   "cell_type": "code",
   "execution_count": null,
   "metadata": {},
   "outputs": [],
   "source": [
    "# Assert that the variable is float\n",
    "assert food_security_indicators.value.dtype == \"float64\""
   ]
  },
  {
   "cell_type": "markdown",
   "metadata": {},
   "source": [
    "<a id=\"new_variables\"></a>\n",
    "## 4. Computing New Variables To Lead The Analysis"
   ]
  },
  {
   "cell_type": "markdown",
   "metadata": {},
   "source": [
    "Now that we have all the dataframes clean, let us compute some new variables for future study. \n",
    "- **food_supply_kcal (food supply express in kcal)**"
   ]
  },
  {
   "cell_type": "code",
   "execution_count": null,
   "metadata": {},
   "outputs": [],
   "source": [
    "# Create a temporary dataframe where we join the population and the food_balance dfs together\n",
    "temp = pd.merge(population_df, food_balance[[\"country\", \"food_supply_kcalcapitaday\"]],\n",
    "                # we make an inner join on country\n",
    "                            how = \"left\", on = [\"country\"])"
   ]
  },
  {
   "cell_type": "code",
   "execution_count": null,
   "metadata": {},
   "outputs": [],
   "source": [
    "# Calcutlate the variable by multiplying by the population of each country and by 365 days \n",
    "food_supply_kcal = temp.population * temp.food_supply_kcalcapitaday * 365\n",
    "# Create food_supply_kcal column and assign it the previous variable\n",
    "food_balance[\"food_supply_kcal\"] = food_supply_kcal\n",
    "# del the temp datafram\n",
    "# del temp\n",
    "# Check the result\n",
    "food_balance.head()"
   ]
  },
  {
   "cell_type": "markdown",
   "metadata": {},
   "source": [
    "- **food_supply_kgprotein(food supply expressed in kg of protein)**"
   ]
  },
  {
   "cell_type": "code",
   "execution_count": null,
   "metadata": {},
   "outputs": [],
   "source": [
    "# Compute the new variable multiplying by the population and by 365 days \n",
    "food_balance[\"food_supply_kgprotein\"] = (food_balance.protein_supply_quantity_gcapitaday / 1000) * temp.population * 365\n",
    "# Check some rows at random in the column\n",
    "food_balance.head()"
   ]
  },
  {
   "cell_type": "markdown",
   "metadata": {},
   "source": [
    "- **food_supply_kg (food supply express in kg)**"
   ]
  },
  {
   "cell_type": "code",
   "execution_count": null,
   "metadata": {},
   "outputs": [],
   "source": [
    "# Compute the new variable multiplying by 1 million as the food variable has unit 1000 tonnes\n",
    "food_balance[\"food_supply_kg\"] = food_balance.food * 1000000\n",
    "# Check some random rows\n",
    "food_balance.head()"
   ]
  },
  {
   "cell_type": "markdown",
   "metadata": {},
   "source": [
    "- **ratio_kcalkg (energy:weight ratio of each item expressed in kcal/kg)**  \n",
    "We will compute this variable using food_supply_kcal, food_supply_kg"
   ]
  },
  {
   "cell_type": "code",
   "execution_count": null,
   "metadata": {},
   "outputs": [],
   "source": [
    "# Compute ratio_kcalkg = food_supply_kcal / food_supply_kg \n",
    "food_balance[\"ratio_kcalkg\"] = food_balance.food_supply_kcal / food_balance.food_supply_kg\n",
    "food_balance.ratio_kcalkg = food_balance.ratio_kcalkg.replace([np.inf, -np.inf], 0)\n",
    "food_balance.groupby(\"item\").mean().ratio_kcalkg.sort_values(ascending = False)[:20]"
   ]
  },
  {
   "cell_type": "code",
   "execution_count": null,
   "metadata": {},
   "outputs": [],
   "source": [
    "# Compute the protein percentage \n"
   ]
  }
 ],
 "metadata": {
  "kernelspec": {
   "display_name": "communicateData",
   "language": "python",
   "name": "communicatedata"
  },
  "language_info": {
   "codemirror_mode": {
    "name": "ipython",
    "version": 3
   },
   "file_extension": ".py",
   "mimetype": "text/x-python",
   "name": "python",
   "nbconvert_exporter": "python",
   "pygments_lexer": "ipython3",
   "version": "3.7.4"
  }
 },
 "nbformat": 4,
 "nbformat_minor": 2
}
